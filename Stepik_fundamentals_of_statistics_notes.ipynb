{
  "cells": [
    {
      "cell_type": "markdown",
      "metadata": {
        "id": "W1wSWgwKTd8i",
        "pycharm": {
          "name": "#%% md\n"
        }
      },
      "source": [
        "\n",
        "# Основы статистики\n",
        "\n",
        "#### конспект лекций\n",
        "\n",
        "Автор лекций: ** Анатолий Карпов**\n",
        "\n",
        "Основа конспекта — работа Михаила Курочкина (за что ему огромное спасибо)\n",
        "https://github.com/KlukvaMors/basic_stat/\n",
        "\n",
        "\n",
        "<img src=\"https://github.com/KlukvaMors/basic_stat/blob/main/img/Saint_Karpov.png?raw=1\" width=400>"
      ]
    },
    {
      "cell_type": "markdown",
      "metadata": {
        "id": "yMrBxX0ZTd8m",
        "pycharm": {
          "name": "#%% md\n"
        }
      },
      "source": [
        "## Содержание\n",
        "### Часть 1\n",
        " - [Генеральная совокупность и выборка](#Генеральная-совокупность-и-выборка)\n",
        " - [Типы переменных](#Типы-переменных)\n",
        " - [Описательная статистика](#Описательная-статистика)\n",
        " - [Меры центральной тенденции](#Меры-центральной-тенденции)\n",
        "     - [Мода](#Мода)\n",
        "     - [Медиана](#Медиана)\n",
        "     - [Среднее значение](#Среднее-значение)\n",
        "     - [Примеры](#1.Примеры)\n",
        " - [Меры изменчивости](#Меры-изменчивости)\n",
        "    - [Размах](#Размах)\n",
        "    - [Дисперсия](#Дисперсия)\n",
        "    - [Квартили распределения](#Квартили-распределения)\n",
        "    - [Пример](#2.Пример)\n",
        " - [Нормальное распределение](#Нормальное-распределение)\n",
        "    - [Z-преобразование](#Z-преобразование)\n",
        "    - [Правило 3х-сигм](#Правило-3х-сигм)\n",
        "    - [Примеры](#3.Примеры)\n",
        " - [Центральная предельная теорема](#Центральная-предельная-теорема)\n",
        "    - [Примеры](#4.Примеры)\n",
        " - [Доверительные интервалы для среднего](#Доверительные-интервалы-для-среднего)\n",
        " - [Идея статистического вывода](#Идея-статистического-вывода)\n",
        "     - [Статистическая проверка гипотез](#Статистическая-проверка-гипотез)\n",
        "     - [p-уровень значимости](#p-уровень-значимости)\n",
        " \n"
      ]
    },
    {
      "cell_type": "markdown",
      "metadata": {
        "id": "mWiWaCiDTd8o",
        "pycharm": {
          "name": "#%% md\n"
        }
      },
      "source": [
        "### Часть 2\n",
        " - [T-распределение](#T-распределение)\n",
        "     - [Подробно про нормальное и t-распредление](#Подробно-про-нормальное-и-t-распредление)\n",
        "     - [Примеры](#5.Примеры)\n",
        " - [Сравнение двух средних; t-критерий Стьюдента](#Сравнение-двух-средних.-t-критерий-Стьюдента)\n",
        "     - [Примеры применения t-критерий Стьюдента](#Примеры-применения-t-критерий-Стьюдента)\n",
        "     - [Построение графиков](#6.-Примеры)\n",
        " - [Проверка распределения на нормальность](#Проверка-распределения-на-нормальность)\n",
        "     - [QQ-plot](#QQ-plot)\n",
        "     - [Примеры](#7.Примеры)\n",
        " - [Однофакторный дисперсионный анализ](#Однофакторный-дисперсионный-анализ)\n",
        " - [Множественные сравнения в ANOVA](#Множественные-сравнения-в-ANOVA)\n",
        "     - [почему мы не можем применить t-критерий для более двух выборок](#почему-мы-не-можем-применить-t-критерий-для-более-двух-выборок)\n",
        " - [Многофакторный ANOVA](#Многофакторный-ANOVA)\n",
        " - [](#)\n",
        "  "
      ]
    },
    {
      "cell_type": "markdown",
      "metadata": {
        "id": "bbyZNnLfTd8p",
        "pycharm": {
          "name": "#%% md\n"
        }
      },
      "source": [
        "### Часть 3\n",
        "\n",
        " - [Корреляция](#Корреляция)\n",
        "     - [Ковариация](#Ковариация)\n",
        "     - [Примеры](#Примеры-3.1)\n",
        " - [Регрессия с одной независимой переменной](#Регрессия-с-одной-независимой-переменной)\n",
        " - [Гипотеза о значимости взаимосвязи и коэффициент детерминации](#Гипотеза-о-значимости-взаимосвязи-и-коэффициент-детерминации)\n",
        " - [Условия применения линейной регрессии с одним предиктором](#Условия-применения-линейной-регрессии-с-одним-предиктором)\n",
        " - [Задача предсказания значений зависимой переменной](#Задача-предсказания-значений-зависимой-переменной)\n",
        " - [Регрессионный анализ с несколькими независимыми переменными](#Регрессионный-анализ-с-несколькими-независимыми-переменными)\n",
        "     - [Пример расчёта и визуализации множественной регрессии](#Пример-расчёта-и-визуализации-множественной-регрессии)\n",
        " - [Выбор наилучшей модели](#Выбор-наилучшей-модели)\n",
        " - [Классификация: логистическая регрессия и кластерный анализ](#Классификация:-логистическая-регрессия-и-кластерный-анализ)\n",
        " - [](#)\n",
        " - [](#)\n",
        " - [](#)\n",
        "   \n",
        " \n",
        " \n",
        "\n",
        "[Полезные ссылки](#Полезные-ссылки)"
      ]
    },
    {
      "cell_type": "markdown",
      "metadata": {
        "id": "rym0mX8dTd8p",
        "pycharm": {
          "name": "#%% md\n"
        }
      },
      "source": [
        "# Часть 1"
      ]
    },
    {
      "cell_type": "markdown",
      "metadata": {
        "id": "OPp_oo3bTd8q",
        "pycharm": {
          "name": "#%% md\n"
        }
      },
      "source": [
        "## Генеральная совокупность и выборка\n",
        " - **Генеральная совокупность** (от лат. generis — общий, родовой) — совокупность всех объектов, относительно которых предполагается делать выводы при изучении конкретной задачи. Далее ГС.\n",
        " - **Репрезентативная выборка** – это такая выборка, в которой все основные признаки генеральной совокупности, из которой извлечена данная выборка, представлены приблизительно в той же пропорции или с той же частотой, с которой данный признак выступает в этой генеральной совокупности.\n",
        "\n",
        "### Способы репрезентативной выборки:\n",
        " - **Простая случайная выборка** (simple random sample)\n",
        " - **Стратифицированная выборка** (stratified sample) – разделение ГС на страты (группы, которые обладают каким-либо общим признаком (Наприме, муж. и жен.)) а оттуда уже делается случайная выборка.\n",
        " - **Групповая выборка** (cluster sample) – похожие группы выбираются из выборки и далее делается случайная выборка (Кластер — это уменьшенная версия генеральной совокупности. Например, районы одного города)\n",
        " \n",
        "| групповая выборка                                                                                                                | Стратифицированная выборка                                                                              |\n",
        "|----------------------------------------------------------------------------------------------------------------------------------|---------------------------------------------------------------------------------------------------------|\n",
        "| Выборка формируется только из несколько субпопуляций (кластеров)                                                                 | Выборка формируется из всех субпопуляций (страт)                                                        |\n",
        "| В пределах кластера элементы должны быть разнородны, тогда как поддерживается однородность или схожесть между разными кластерами | В пределах страты элементы должны быть однородны, а между стратами должна быть разнородность (различия) |\n",
        "| Схема выборки нужна только для кластеров, попавших в выборку                                                                     | Должна быть сформирована полная схема выборки для всех стратифицированных субпопуляций                  |\n",
        "| Повышает эффективность выборки, уменьшая стоимость                                                                               | Повышает точность                                                                                       |\n",
        "\n"
      ]
    },
    {
      "cell_type": "markdown",
      "metadata": {
        "id": "6p111r9xTd8q",
        "pycharm": {
          "name": "#%% md\n"
        }
      },
      "source": [
        "## Типы переменных\n",
        "\n",
        " - **Количественные** – измеряемое (например, рост):\n",
        " - **Непрерывные** – переменная принимает любое значение на опр. промежутке;\n",
        " - **Дискретные** – только определенные значения (3.5 ребенка в семье не будет).\n",
        " - **Номинативные** (= качественные) – разделение испытуемых на группы, цифры как маркеры (например: 1 -женщины, 2 – мужчины). Цифры как имена групп, не для расчетов. \n",
        " - **Ранговые** – похоже на номинативные, только возможны сравнения (быстрее/медленнее и т.п.)\n"
      ]
    },
    {
      "cell_type": "markdown",
      "metadata": {
        "id": "tjn6mDApTd8r",
        "pycharm": {
          "name": "#%% md\n"
        }
      },
      "source": [
        "## Описательная статистика\n",
        "### Глоссарий:\n",
        " - **Эмпирические данные** - данные полученные опытным путём.\n",
        "\n",
        " - **Описательная (дескриптивная) статистика** - обработка данных полученных эмпирическим путём и их систематизация, наглядное представление в форме графиков, таблиц, а также их количественное описание посредством основных статистических показателей.\n",
        "\n",
        " - **Распределение вероятностей** - это закон, описывающий область значений случайной величины и вероятность её появления (частоту) в данной области. То есть насколько часто X появляется в данном диапазоне значений.\n",
        "\n",
        " - **Гистограмма частот** - ступенчатая функция показывающая насколько часто вероятно появление величины в указанном диапазоне значений.\n"
      ]
    },
    {
      "cell_type": "markdown",
      "metadata": {
        "id": "Xr3ViOseTd8r",
        "pycharm": {
          "name": "#%% md\n"
        }
      },
      "source": [
        "## Меры центральной тенденции\n",
        "тип описательной статистики\n",
        "### Мода\n",
        "Это значение признака, которое встречается максимально часто. В выборке может быть несколько или одна мода.\n",
        "### Медиана\n",
        "Это значение признака, которое делит упорядочное множество попалам. Если множество содержит чётное количество элементов, то берётся среднее из двух серединных элементов упорядочного множества.\n",
        "### Среднее значение\n",
        "Cумма всех значений измеренного признака делится на количество измеренных значений.\n",
        "\n",
        "#### Свойства среднего значения\n",
        "$$M_{x + c} = \\frac{\\sum_{i=1}^{n}{(x_{i} + c)}}{n} = \\frac{\\sum_{i=1}^{n} x_{i}}{n} + \\frac{\\sum_{i=1}^{n} c}{n} = M_{x} + \\frac{nc}{n} = M_{x} + c$$\n",
        "\n",
        "$$M_{x * c} = \\frac{\\sum_{i=1}^{n}{(x_{i} * c)}}{n} = \\frac{c * \\sum_{i=1}^{n} x_{i}}{n} = c * M_{x}$$\n",
        "\n",
        "$$\\sum_{i=1}^{n} (x_{i} - M_{x}) = nM_{x} - nM_{x} = 0$$\n",
        "\n",
        "### 1.Примеры "
      ]
    },
    {
      "cell_type": "code",
      "execution_count": null,
      "metadata": {
        "id": "-gPuL2CcTd8s",
        "pycharm": {
          "name": "#%%\n"
        }
      },
      "outputs": [],
      "source": [
        "'''Расчёт моды, медианы и среднего с помощью библиотек numpy и scipy'''\n",
        "import numpy as np\n",
        "from scipy import stats\n",
        "sample = np.array([185, 175, 170, 169, 171, 175, 157, 172, 170, 172, 167, 173, 168, 167, 166,\n",
        "              167, 169, 172, 177, 178, 165, 161, 179, 159, 164, 178, 172, 170, 173, 171])\n",
        "# в numpy почему-то нет моды\n",
        "print('mode:', stats.mode(sample))\n",
        "print('median:', np.median(sample))\n",
        "print('mean:', np.mean(sample))"
      ]
    },
    {
      "cell_type": "code",
      "execution_count": null,
      "metadata": {
        "id": "59_XTaI8Td8u",
        "pycharm": {
          "name": "#%%\n"
        }
      },
      "outputs": [],
      "source": [
        "'''Расчёт моды, медианы и среднего с помощью библиотеки pandas'''\n",
        "import pandas as pd\n",
        "sample = pd.Series([185, 175, 170, 169, 171, 175, 157, 172, 170, 172, 167, 173, 168, 167, 166,\n",
        "              167, 169, 172, 177, 178, 165, 161, 179, 159, 164, 178, 172, 170, 173, 171])\n",
        "\n",
        "print('mode:', sample.mode())\n",
        "print('median:', sample.median())\n",
        "print('mean:', sample.mean())"
      ]
    },
    {
      "cell_type": "code",
      "source": [
        "import pandas as pd\n",
        "import numpy as np\n",
        "import random\n",
        "from scipy import stats\n",
        "import matplotlib.pyplot as plt\n",
        "plt.style.use('seaborn')\n",
        "\n",
        "# _1. min and max value, count of observations in sample, frequency, unique values\n",
        "# good material https://www.statology.org/frequency-tables-python/\n",
        "# Input data\n",
        "# data set\n",
        "data_set_1 = [1, 2, 2, 3, 4,  3, 4, 5, 6, 7, 7, 7, 8, 9, 10, 12, 12, 13]\n",
        "# intervals from min to max in range data set\n",
        "bins_data_set_1 = [0, 2, 4, 6, 8, 10, 12, 14]\n",
        "# count of intervals from min to max in range data set\n",
        "count_intervals_1 = 4\n",
        "\n",
        "# Outcome\n",
        "# max value\n",
        "max_value_1 = max(data_set_1)\n",
        "\n",
        "# min value\n",
        "min_value_1 = min(data_set_1)\n",
        "\n",
        "# count of observations in sample\n",
        "cnt_observations_1 = len(data_set_1)\n",
        "\n",
        "# create frequency table with input count intervals\n",
        "frequency_1, intervals_1 = np.histogram(data_set_1, bins=count_intervals_1)\n",
        "data_frame_1 = pd.DataFrame(index=np.linspace(1, count_intervals_1, count_intervals_1), columns=['start', 'end', 'frequency', 'relative frequency'])\n",
        "# assign the intervals\n",
        "data_frame_1['start'] = intervals_1[:-1]\n",
        "data_frame_1['end'] = intervals_1[1:]\n",
        "# assign absolute frequency\n",
        "data_frame_1['frequency'] = frequency_1\n",
        "# assign relative frequency\n",
        "data_frame_1['relative frequency'] = frequency_1 / cnt_observations_1 * 100\n",
        "\n",
        "# create frequency table with input bins\n",
        "frequency_1_1, intervals_1_1 = np.histogram(data_set_1, bins=bins_data_set_1)\n",
        "data_frame_1_1 = pd.DataFrame(index=np.linspace(1, len(bins_data_set_1)-1, len(bins_data_set_1)-1), columns=['start', 'end', 'frequency', 'relative frequency'])\n",
        "# assign the intervals\n",
        "data_frame_1_1['start'] = intervals_1_1[:-1]\n",
        "data_frame_1_1['end'] = intervals_1_1[1:]\n",
        "# assign absolute frequency\n",
        "data_frame_1_1['frequency'] = frequency_1_1\n",
        "# assign relative frequency\n",
        "data_frame_1_1['relative frequency'] = frequency_1_1 / cnt_observations_1 * 100\n",
        "\n",
        "# unique values\n",
        "data_unique_1 = set(data_set_1)\n",
        "\n",
        "# Output result\n",
        "print(f'max_value_1:{max_value_1}, min_value_1:{min_value_1}, cnt_observations_1:{cnt_observations_1}, data_frame_1:{data_frame_1}, data_frame_1_1:{data_frame_1_1}')\n",
        "print('+++++++++++++')"
      ],
      "metadata": {
        "id": "5xL2Z_Geab_T",
        "pycharm": {
          "name": "#%%\n"
        }
      },
      "execution_count": null,
      "outputs": []
    },
    {
      "cell_type": "code",
      "source": [
        "import pandas as pd\n",
        "import numpy as np\n",
        "import random\n",
        "from scipy import stats\n",
        "import matplotlib.pyplot as plt\n",
        "plt.style.use('seaborn')\n",
        "\n",
        "# _2. import data from excel, find unique objects, create frequency bar\n",
        "# Input\n",
        "# import data\n",
        "data_frame_2 = pd.read_excel('/Users/mitya/Documents/Coursera Data for Business/example_data_set_trucks.xlsx')\n",
        "# find columns name\n",
        "data_columns_name = data_frame_2.columns[0]\n",
        "\n",
        "# Outcome\n",
        "# create new frame with group by first columns\n",
        "frequency_data_frame_2 = data_frame_2.groupby([data_columns_name])\n",
        "# create new table with absolute frequency and sort from max to min\n",
        "frequency_data_table_2 = frequency_data_frame_2.value_counts()\n",
        "frequency_data_table_2 = frequency_data_table_2.sort_values(ascending=False)\n",
        "# quick method to get count, mean, standard deviation, minimum value, maximum value and 25%, 50% and 75% percentiles\n",
        "measures_central_tendency = frequency_data_table_2.describe()\n",
        "\n",
        "# create frequency bar, X axis = .keys, Y axis = .values\n",
        "plt.bar(frequency_data_table_2.keys(), frequency_data_table_2.values,  color='blue', ec='black', alpha=0.5)\n",
        "# add labels and modify size\n",
        "plt.ylabel('Absolute Frequency', fontsize=14)\n",
        "plt.xlabel(data_columns_name, fontsize=14)\n",
        "plt.xticks(fontsize=8)\n",
        "plt.yticks(fontsize=14)\n",
        "# add title\n",
        "plt.title('ABSOLUTE FREQUENCY HISTOGRAM', fontsize=16)\n",
        "plt.show()"
      ],
      "metadata": {
        "id": "Ac3zL7s1bBWv",
        "pycharm": {
          "name": "#%%\n"
        }
      },
      "execution_count": null,
      "outputs": []
    },
    {
      "cell_type": "markdown",
      "metadata": {
        "id": "8OwNl4CrTd8v",
        "pycharm": {
          "name": "#%% md\n"
        }
      },
      "source": [
        "## Меры изменчивости\n",
        "### Размах\n",
        "Это разность между максимальным и минимальным значениям выборки. Крайне чувствителен к взбросам.\n",
        "### Дисперсия\n",
        "\n",
        "Это средний квадрат отклонений индивидуальных значений признака от их средней величины\n",
        "\n",
        "#### Для генеральной совокупности\n",
        "$$D = \\frac{\\sum_{i=1}^{n} (x_{i} - M_{x})^2}{n}$$\n",
        "Среднеквадратическое отклонение\n",
        "$$ \\sigma = \\sqrt{D}$$\n",
        "#### Для выборки\n",
        "$$D = \\frac{\\sum_{i=1}^{n} (x_{i} - M_{x})^2}{n-1}$$\n",
        "где 1 это количество степеней свободы\n",
        "Важно отменить, что среднеквадратическое отклонение для выборки обозначают по другому, как **sd** - standart deviation\n",
        "\n",
        "#### Ликбез: Почему именно квадрат, а не модуль или куб?\n",
        " Могу предположить, что линейное отклонение более чувствительно выбросам, квадратичное менее, кубическое — ещё менее чувствительно.\n",
        " Попробовал посчитать для 3-х выборок: [1,2,3,4,5], [1,2,3,4,50] и [1,2,3,4,500]:\n",
        "\n",
        " - Линейное: 2.5, 452.5 и 49502.5\n",
        " - Квадратичное: 1.58, 21.27 и 222.49\n",
        " - Кубическое: 1.36, 7.68, и 36.71\n",
        " \n",
        "Модуль не берут потому, что модуль - не гладкая функция. В нуле у модуля имеется \"излом\" из-за которого у производной происходит разрыв.\n",
        "А очень многие математические теоремы, которые наверняка потребуются дальше, работают только на гладких функциях.\n",
        "\n",
        "Вообще, с не гладкими функциями работать не любят. Там все становится сложнее. Поэтому берется квадрат.\n",
        "[Source](#https://stepik.org/lesson/8076/step/5?discussion=49741&unit=1356)\n",
        "\n",
        "#### Свойства дисперсии\n",
        "\n",
        "$$ D_{x+c} = D_x $$\n",
        "$$ D_{x*c} = D_x+c^2 $$\n",
        "\n",
        "### Квартили распределения\n",
        "**Квартили** - это три точки(значения признака), которые делят **упорядочное** множество данных на 4 равные части.\n",
        "\n",
        "**Box plot** - такой вид диаграммы в удобной форме показывает медиану, нижний и верхний квартили, минимальное и максимальное значение выборки и выбросы.\n",
        "\n",
        "<img src=\"https://github.com/KlukvaMors/basic_stat/blob/main/img/boxplot.png?raw=1\" width=400>\n",
        "\n",
        "Квартили и inter quartile range используют, чтобы оценить наличие выбросов. Алгоритм расчета - посчитали квартили, посчитали разницу между ними, вычислили теоретический максимум и минимум, сравнили с имеющимся и выяснили есть ли у вас выбросы и сколько их. Если много, то нужно анализировать и решать брать ли их в выборку или нет. \n",
        "\n",
        "### 2.Пример\n"
      ]
    },
    {
      "cell_type": "code",
      "execution_count": null,
      "metadata": {
        "id": "eWOr_ADeTd8w",
        "pycharm": {
          "name": "#%%\n"
        }
      },
      "outputs": [],
      "source": [
        "'''Расчитываем размах и стандартное отклонение с помощью numpy'''\n",
        "import numpy as np\n",
        "sample = np.array([185, 175, 170, 169, 171, 175, 157, 172, 170, 172, 167, 173, 168, 167, 166,\n",
        "              167, 169, 172, 177, 178, 165, 161, 179, 159, 164, 178, 172, 170, 173, 171])\n",
        "\n",
        "# The name of the function comes from the acronym for ‘peak to peak’.\n",
        "print(f'Range: {np.ptp(sample)} is equal max - min: {np.max(sample)- np.min(sample)}')\n",
        "\n",
        "# ddof - Delta Degrees of Freedom\n",
        "print(f'Standard deviation: {np.std(sample, ddof=1):.2f}')"
      ]
    },
    {
      "cell_type": "code",
      "source": [
        "# IMPORT LIBRARIES\n",
        "import pandas as pd\n",
        "import numpy as np\n",
        "import random\n",
        "from scipy import stats\n",
        "import matplotlib.pyplot as plt\n",
        "plt.style.use('seaborn')\n",
        "\n",
        "# _3. Measure of Central Tendency and Measure of Dispersion (Variation)\n",
        "# Input\n",
        "# import data\n",
        "data_frame_3 = pd.read_excel('/Users/mitya/Documents/Coursera Data for Business/example_data_set_temperature.xlsx')\n",
        "# find columns name\n",
        "data_columns_name_3 = data_frame_3.columns[2]\n",
        "\n",
        "# Outcome\n",
        "mean_3 = data_frame_3[data_columns_name_3].mean()\n",
        "median_3 = data_frame_3[data_columns_name_3].median()\n",
        "st_deviation_3 = data_frame_3[data_columns_name_3].std()\n",
        "\n",
        "# Output\n",
        "print(f'mean_3:{mean_3}, median_3:{median_3}, st_deviation_3:{st_deviation_3}')"
      ],
      "metadata": {
        "id": "xPlBvN4pbmwc",
        "pycharm": {
          "name": "#%%\n"
        }
      },
      "execution_count": null,
      "outputs": []
    },
    {
      "cell_type": "markdown",
      "metadata": {
        "id": "kDpyQ7rfTd8x",
        "pycharm": {
          "name": "#%% md\n"
        }
      },
      "source": [
        "#### Диаграмма boxplot"
      ]
    },
    {
      "cell_type": "code",
      "execution_count": null,
      "metadata": {
        "id": "Qju0P3FeTd8x",
        "outputId": "eddefe10-7d7d-4cb9-9fb2-e0f0d3cdf701",
        "pycharm": {
          "name": "#%%\n"
        }
      },
      "outputs": [
        {
          "data": {
            "image/png": "[encoded data removed]",
            "text/plain": [
              "<Figure size 432x288 with 1 Axes>"
            ]
          },
          "metadata": {
            "needs_background": "light"
          },
          "output_type": "display_data"
        }
      ],
      "source": [
        "'''с помощью диаграммы boxplot мы можем узнать медиану, 2 и 3 квартиль'''\n",
        "import matplotlib.pyplot as plt\n",
        "\n",
        "\n",
        "plt.boxplot(sample, showfliers=1)\n",
        "plt.show()"
      ]
    },
    {
      "cell_type": "markdown",
      "metadata": {
        "id": "9fOJ_luqTd8y",
        "pycharm": {
          "name": "#%% md\n"
        }
      },
      "source": [
        "## Нормальное распределение\n",
        "**Коротко**\n",
        " - Унимодально\n",
        " - Симметрично\n",
        " - Отклонения наблюдений от среднего подчиняются определённому вероятностному закону\n",
        " \n",
        "**Подробно**\n",
        "\n",
        "Нормальное распределение возникает в результате воздействия множества факторов, вклад каждого из которых очень мал.\n",
        "\n",
        "Для облегчения этого восприятия в 1873 году Фрэнсис Гальтон сделал устройство, которое в последствии назвали Доской Галтона (или квинкункс). Суть простая: сверху по середине подаются шарики, которые при прохождении нескольких уровней (например, 10-ти) на каждом уровне сталкиваются с препятствием, и при каждом столкновении отскакивают либо влево, либо вправо (с равной вероятностью).\n",
        "\n",
        "Как вы догадываетесь, результатом прохождения - это распределение, стремящееся к нормальному!\n",
        "\n",
        "Выглядит это так:\n",
        "\n",
        "<img src=\"https://github.com/KlukvaMors/basic_stat/blob/main/img/%D0%B3%D0%B0%D0%BB%D1%8C%D1%82%D0%BE%D0%BD.gif?raw=1\" width=500>\n",
        "\n",
        "Или в виде кода:"
      ]
    },
    {
      "cell_type": "code",
      "execution_count": null,
      "metadata": {
        "id": "_lk456SSTd8z",
        "outputId": "e7326194-d494-4636-e6f8-ffe65dfcbebf",
        "pycharm": {
          "name": "#%%\n"
        }
      },
      "outputs": [
        {
          "data": {
            "image/png": "[encoded data removed]",
            "text/plain": [
              "<Figure size 432x288 with 1 Axes>"
            ]
          },
          "metadata": {
            "needs_background": "light"
          },
          "output_type": "display_data"
        }
      ],
      "source": [
        "'''Иммитация доски Гальтона в коде'''\n",
        "import seaborn as sns\n",
        "data = dict()\n",
        "# количество шариков\n",
        "N = 10000\n",
        "# количество уровней\n",
        "level = 20\n",
        "for _ in range(N):\n",
        "    index = 0\n",
        "    for _ in range(level):\n",
        "        index += np.random.choice([-1, 1])\n",
        "    data.setdefault(index, 0)\n",
        "    data[index] += 1\n",
        "sns.barplot(x=list(data.keys()), y=list(data.values()));"
      ]
    },
    {
      "cell_type": "code",
      "source": [
        "# IMPORT LIBRARIES\n",
        "import pandas as pd\n",
        "import numpy as np\n",
        "import random\n",
        "from scipy import stats\n",
        "import matplotlib.pyplot as plt\n",
        "plt.style.use('seaborn')\n",
        "\n",
        "# _8. Create simple random sample from population in file, calculate mean, standard deviation, standard error for sample\n",
        "# Input\n",
        "# import data\n",
        "data_frame_8 = pd.read_excel('/Users/mitya/Documents/Coursera Data for Business/example_data_set_population.xlsx')\n",
        "# find columns name\n",
        "column_name_8 = data_frame_8.columns[0]\n",
        "# create list with observation from population\n",
        "population_8 = data_frame_8[column_name_8].tolist()\n",
        "st_deviation_for_population_8 = np.std(population_8)\n",
        "# define sample size\n",
        "sample_size_8 = 35\n",
        "# define count of sample\n",
        "sample_count_8 = 600\n",
        "# create empty table with columns mean, standard deviation, standard error\n",
        "sampling_means_and_st_dev_8 = pd.DataFrame({'Mean': [], 'St. Deviation': [], 'St. Error': []})\n",
        "\n",
        "# Outcome\n",
        "for i in range(sample_count_8):\n",
        "    sample_8 = random.sample(population_8, sample_size_8)\n",
        "    sampling_means_and_st_dev_8.loc[i] = (round(np.mean(sample_8)), round(np.std(sample_8), 5), round(np.std(sample_8)/sample_size_8 ** 0.5, 5))\n",
        "\n",
        "# create frequency table with count mean values (e.g. mean: 65, count: 12), table without name of columns\n",
        "means_frequency_table_8 = sampling_means_and_st_dev_8['Mean'].value_counts(sort=False)\n",
        "\n",
        "average_for_means_8 = np.mean(sampling_means_and_st_dev_8['Mean'])\n",
        "st_dev_for_all_sample_8 = np.std(sampling_means_and_st_dev_8['Mean'])\n",
        "st_error_for_all_sample_8 = st_deviation_for_population_8 / sample_size_8 ** 0.5\n",
        "median_for_all_sample_8 = np.median(sampling_means_and_st_dev_8['Mean'])\n",
        "\n",
        "# Output\n",
        "print(sampling_means_and_st_dev_8['Mean'].describe())\n",
        "print('median:', median_for_all_sample_8)\n",
        "print('standard error:', st_error_for_all_sample_8)\n",
        "# create frequency bar for table without name of columns, X axis = .keys, Y axis = .values\n",
        "plt.bar(means_frequency_table_8.keys(), means_frequency_table_8.values,  color='blue', ec='black', alpha=0.5)\n",
        "# create box plot\n",
        "plt.boxplot(sampling_means_and_st_dev_8['Mean'], vert=False, widths=max(means_frequency_table_8.values) / 5, showmeans=True, manage_ticks=False, autorange=True)\n",
        "\n",
        "plt.axvline(x=average_for_means_8 - st_error_for_all_sample_8 * 3, color='red', linestyle='-.', ymin=0.1, linewidth=0.5)\n",
        "plt.axvline(x=average_for_means_8 + st_error_for_all_sample_8 * 3, color='red', linestyle='-.', ymin=0.1, linewidth=0.5)\n",
        "y_hlines = max(means_frequency_table_8.values) - max(means_frequency_table_8.values) * 0.5\n",
        "xmin_hlines = average_for_means_8 - st_error_for_all_sample_8 * 3\n",
        "xmax_hlines = average_for_means_8 + st_error_for_all_sample_8 * 3\n",
        "plt.hlines(y_hlines, xmin=xmin_hlines, xmax=xmax_hlines,  color='red', linestyle='dotted', linewidth=1)\n",
        "text_x = average_for_means_8\n",
        "text_y = max(means_frequency_table_8.values) - max(means_frequency_table_8.values) * 0.5\n",
        "plt.text(text_x, text_y, '99,7% observations (mean ± 3 standard error)', color='black', va='bottom', ha='center')\n",
        "\n",
        "plt.axvline(x=average_for_means_8 - st_error_for_all_sample_8 * 2, color='blue', linestyle='-.', ymin=0.1, linewidth=0.5)\n",
        "plt.axvline(x=average_for_means_8 + st_error_for_all_sample_8 * 2, color='blue', linestyle='-.', ymin=0.1, linewidth=0.5)\n",
        "y_hlines = max(means_frequency_table_8.values) - max(means_frequency_table_8.values) * 0.3\n",
        "xmin_hlines = average_for_means_8 - st_error_for_all_sample_8 * 2\n",
        "xmax_hlines = average_for_means_8 + st_error_for_all_sample_8 * 2\n",
        "plt.hlines(y_hlines, xmin=xmin_hlines, xmax=xmax_hlines,  color='blue', linestyle='dotted', linewidth=1)\n",
        "text_x = average_for_means_8\n",
        "text_y = max(means_frequency_table_8.values) - max(means_frequency_table_8.values) * 0.3\n",
        "plt.text(text_x, text_y, '95,5% observations (mean ± 2 standard error)', color='black', va='bottom', ha='center')\n",
        "\n",
        "plt.axvline(x=average_for_means_8 - st_error_for_all_sample_8, color='green', linestyle='-.', ymin=0.1, linewidth=0.5)\n",
        "plt.axvline(x=average_for_means_8 + st_error_for_all_sample_8, color='green', linestyle='-.', ymin=0.1, linewidth=0.5)\n",
        "y_hlines = max(means_frequency_table_8.values) - max(means_frequency_table_8.values) * 0.1\n",
        "xmin_hlines = average_for_means_8 - st_error_for_all_sample_8\n",
        "xmax_hlines = average_for_means_8 + st_error_for_all_sample_8\n",
        "plt.hlines(y_hlines, xmin=xmin_hlines, xmax=xmax_hlines,  color='green', linestyle='dotted', linewidth=1)\n",
        "text_x = average_for_means_8\n",
        "text_y = max(means_frequency_table_8.values) - max(means_frequency_table_8.values) * 0.1\n",
        "plt.text(text_x, text_y, '68,0% observations (mean ± 1 standard error)', color='black', va='bottom', ha='center')\n",
        "\n",
        "# add labels and modify size\n",
        "plt.ylabel('Absolute Frequency', fontsize=14)\n",
        "plt.xlabel('Mean', fontsize=14)\n",
        "plt.xticks(fontsize=8)\n",
        "plt.yticks(fontsize=14)\n",
        "# add title\n",
        "plt.title('Mean of sample distribution', fontsize=16)\n",
        "plt.show()"
      ],
      "metadata": {
        "id": "kfZR0TT4dRoj",
        "pycharm": {
          "name": "#%%\n"
        }
      },
      "execution_count": null,
      "outputs": []
    },
    {
      "cell_type": "markdown",
      "metadata": {
        "id": "24neLZaCTd80",
        "pycharm": {
          "name": "#%% md\n"
        }
      },
      "source": [
        "### Z-преобразование\n",
        "\n",
        "Преобразование полученных данных в стандартную Z-шкалу (Z-scores) со средним значением = 0 и дисперсией = 1. Чтобы привести к такому виду из каждого наблюдения нужно отнять среднее значение и разделитьв на стандартное отклонение. \n",
        "\n",
        "$$ Z_{i}=\\frac{x_{i} - \\bar{X}}{sd} $$\n",
        "\n",
        "Иногда нам необходимо рассчитать z - значение только для отдельно взятого наблюдения, чтоб выяснить насколько далеко оно отклоняется от среднего значения в единицах стандартного отклонения.\n",
        "\n",
        "### Правило 3х-сигм\n",
        "\n",
        "<img src=\"https://github.com/KlukvaMors/basic_stat/blob/main/img/3-sigma.svg?raw=1\">\n",
        "\n",
        "\n",
        "### 3.Примеры"
      ]
    },
    {
      "cell_type": "code",
      "execution_count": null,
      "metadata": {
        "id": "7bluW87gTd80",
        "outputId": "ec44ef49-b793-49a7-b361-aa74abaece5e",
        "pycharm": {
          "name": "#%%\n"
        }
      },
      "outputs": [
        {
          "name": "stdout",
          "output_type": "stream",
          "text": [
            "Только у 4.78% людей, IQ>125\n"
          ]
        }
      ],
      "source": [
        "''' Считается, что значение IQ (уровень интеллекта) у людей имеет нормальное распределение\n",
        "со средним значением равным 100 и стандартным отклонением равным 15 (M = 100, sd = 15).\n",
        "Какой приблизительно процент людей обладает IQ > 125?\n",
        "'''\n",
        "\n",
        "from scipy import stats\n",
        "mean = 100\n",
        "std = 15\n",
        "IQ=125\n",
        "# sf - Survival function = (1 - cdf) - Cumulative distribution function\n",
        "print(f\"Только у {(stats.norm(mean, std).sf(IQ))*100:.2f}% людей, IQ>{IQ}\")"
      ]
    },
    {
      "cell_type": "markdown",
      "metadata": {
        "id": "OyQjwJItTd81",
        "pycharm": {
          "name": "#%% md\n"
        }
      },
      "source": [
        "## Центральная предельная теорема\n",
        "\n",
        "Гласит, что множество средних выборок из генеральной совокупности (ГС необязательно иметь нормальное распределние) будут иметь нормальное распределение. Причём средняя этого распределения будет близко к средней генеральной совокупности, а стандарное отклонение этого распределение будет називаться **стандарной ошибкой среднего** (se).\n",
        "\n",
        "Зная стандартное отклонение ГС и размер выборки мы можем рассчитать стандартную ошибку среднего.\n",
        "\n",
        "$$ se = \\frac{\\sigma}{\\sqrt{N}} $$\n",
        "\n",
        "где N - размер выборки. Если размер выборки достаточно большой (>30) и она является репрезативна, то вместо стандарного отклонения ГС мы можем взять стандарное отклонение выборки.\n",
        "\n",
        "$$ se = \\frac{sd}{\\sqrt{N}} $$\n",
        "\n",
        "Стандартная ошибка среднего - это среднеквадратическое отклонение распределения выборочных средних\n",
        "\n",
        "Хорошо про se и sd: https://www.scribbr.com/statistics/standard-error/\n",
        "\n",
        "\n",
        "### 4.Примеры\n",
        "Проверим на практике все эти законы."
      ]
    },
    {
      "cell_type": "code",
      "execution_count": null,
      "metadata": {
        "id": "uEf19XxvTd81",
        "outputId": "0c6db658-93ae-400d-90f7-c975602734e2",
        "colab": {
          "base_uri": "https://localhost:8080/",
          "height": 284
        },
        "pycharm": {
          "name": "#%%\n"
        }
      },
      "outputs": [
        {
          "output_type": "execute_result",
          "data": {
            "text/plain": [
              "<matplotlib.axes._subplots.AxesSubplot at 0x7fa534718e90>"
            ]
          },
          "metadata": {},
          "execution_count": 1
        },
        {
          "output_type": "display_data",
          "data": {
            "text/plain": [
              "<Figure size 432x288 with 1 Axes>"
            ],
            "image/png": "[encoded data removed]"
          },
          "metadata": {
            "needs_background": "light"
          }
        }
      ],
      "source": [
        "import numpy as np\n",
        "import pandas as pd\n",
        "import matplotlib.pyplot as plt\n",
        "import math\n",
        "\n",
        "# значения игральной кости\n",
        "dice = [1, 2, 3, 4, 5, 6]\n",
        "# количество бросков кости\n",
        "count = 6\n",
        "# размер генеральной совокупность\n",
        "sp_size = 10000\n",
        "# sp - Statistical population - генеральная совокупность\n",
        "sp = pd.Series(dtype=np.int64, index=range(sp_size))\n",
        "for i in range(sp_size):\n",
        "    value = 0\n",
        "    for _ in range(count):\n",
        "        value += np.random.choice(dice)\n",
        "    sp[i] = value\n",
        "\n",
        "sp.plot.hist(bins=28)"
      ]
    },
    {
      "cell_type": "code",
      "execution_count": null,
      "metadata": {
        "id": "KBjvmZSZTd82",
        "outputId": "9d2b9be3-22f5-4d4f-b303-76aee10fe57c",
        "colab": {
          "base_uri": "https://localhost:8080/",
          "height": 608
        },
        "pycharm": {
          "name": "#%%\n"
        }
      },
      "outputs": [
        {
          "output_type": "display_data",
          "data": {
            "text/plain": [
              "<Figure size 1152x720 with 12 Axes>"
            ],
            "image/png": "[encoded data removed]"
          },
          "metadata": {
            "needs_background": "light"
          }
        }
      ],
      "source": [
        "# количество выборок\n",
        "samples_count = 10\n",
        "# размер выборки\n",
        "sample_size = 200\n",
        "samples = pd.DataFrame([\n",
        "    [np.random.choice(sp) for _ in range(sample_size)] for __ in range(samples_count)\n",
        "]).T\n",
        "\n",
        "samples.hist(figsize=(16, 10), sharex=0)\n",
        "plt.subplots_adjust(hspace = 0.6)\n"
      ]
    },
    {
      "cell_type": "code",
      "execution_count": null,
      "metadata": {
        "id": "tjkP_smjTd82",
        "outputId": "f79b2a9e-e225-435c-e238-4b40a4b474fc",
        "colab": {
          "base_uri": "https://localhost:8080/"
        },
        "pycharm": {
          "name": "#%%\n"
        }
      },
      "outputs": [
        {
          "output_type": "stream",
          "name": "stdout",
          "text": [
            "сравним среднию ГС и среднию средних выборок 21.0158 21.0885\n",
            "разница: 0.0727000000000011 , стандартная ошибка среднего: 0.3469233825116622\n"
          ]
        }
      ],
      "source": [
        "means = samples.mean()\n",
        "print('сравним среднию ГС и среднию средних выборок', sp.mean(), means.mean())\n",
        "print('разница:', abs(means.mean() - sp.mean()), ', стандартная ошибка среднего:', means.std())"
      ]
    },
    {
      "cell_type": "code",
      "execution_count": null,
      "metadata": {
        "id": "tnIYY16aTd83",
        "outputId": "acabf004-7054-48b9-c5c0-97b6c360087f",
        "colab": {
          "base_uri": "https://localhost:8080/"
        },
        "pycharm": {
          "name": "#%%\n"
        }
      },
      "outputs": [
        {
          "output_type": "stream",
          "name": "stdout",
          "text": [
            "sample mean: 21.245\n",
            "sample SE:  0.32426937589094584\n"
          ]
        }
      ],
      "source": [
        "# возмем произвольную выборку \n",
        "sample = samples[0]\n",
        "print('sample mean:', sample.mean())\n",
        "print('sample SE: ', sample.std()/math.sqrt(sample.size))"
      ]
    },
    {
      "cell_type": "markdown",
      "metadata": {
        "id": "EuhnoWJyTd83",
        "pycharm": {
          "name": "#%% md\n"
        }
      },
      "source": [
        "### PS Важное замечание о ЦПТ номер 2.\n",
        "\n",
        "Пожалую самый сложный момент - это как мы так взяли и заменили стандартное отклонение генеральной совокупности на выборочное. Ну и что с того, что у нас выборка объемом больше 30 наблюдений, что за магическое число такое? \n",
        "\n",
        "Все правильно, никакой магии не происходит. И совсем скоро мы в этом окончательно разберемся. Как только пройдем тему t - распределения во втором модуле. Вот тут я подробно расписал, как же нам нужно рассчитывать стандартную ошибку среднего, если мы не знаем стандартное отклонение в генеральной совокупности."
      ]
    },
    {
      "cell_type": "markdown",
      "metadata": {
        "id": "xA3Ajuu7Td84",
        "pycharm": {
          "name": "#%% md\n"
        }
      },
      "source": [
        "## Доверительные интервалы для среднего\n",
        "\n",
        "Если мы имеем некоторую выборку и ГС, то мы **не можем точно** знать среднюю ГС, зная только среднее выборки. Однако **мы можем сказать, с некоторым процентом уверенности**, в каком интервале лежит средняя ГС. Понятно дело, что для нас лучше, чтобы этот интервал был как можно меньше, как это сделать?"
      ]
    },
    {
      "cell_type": "markdown",
      "metadata": {
        "id": "TV44_eCjTd84",
        "pycharm": {
          "name": "#%% md\n"
        }
      },
      "source": [
        "Мы знаем, средняя средних выборок, стремится к средней ГС, также мы знаем, что стандартная ошибка среднего описывает стандартное отклонение распределения средних выборок. Если мы возьмём случайную выборку $X$ и найдём её среднее $\\bar{X}$, а также вычислим стандартную ошибку $se$, то мы можем вычислить доверительный интевал $[\\bar{X} - 1.96*se; \\bar{X} + 1.96*se]$ который описывает среднюю ГС с некотором интервале с 95% доверия.\n",
        "\n",
        "Загадочное число **1,96** это количество сигм $\\sigma$ в нормальном распределение, необходимые, чтобы охватить **95%** значений в этом распределнии.\n",
        "\n",
        "<img src=\"https://github.com/KlukvaMors/basic_stat/blob/main/img/norm_196.png?raw=1\" width=200>"
      ]
    },
    {
      "cell_type": "markdown",
      "metadata": {
        "id": "U27cb4iFTd84",
        "pycharm": {
          "name": "#%% md\n"
        }
      },
      "source": [
        "### Если мы рассчитали 95% доверительный интервал для среднего значения, это значит:\n",
        "\n",
        " - <font color='crimson'>Среднее значение в генеральной совокупности точно принадлежит рассчитанному доверительному интервалу.</font>\n",
        " - <font color='green'>Мы можем быть на 95% уверены, что среднее значение в генеральной совокупности принадлежит рассчитанному доверительному интервалу.</font>\n",
        " - <font color='green'>Если многократно повторять эксперимент, для каждой выборки рассчитывать свой доверительный интервал, то в 95 % случаев истинное среднее будет находиться внутри доверительного интервала.</font>\n",
        " - <font color='crimson'>Среднее значение в генеральной совокупности точно превышает нижнюю границу 95% доверительного интервала.</font>\n",
        " - <font color='crimson'>Если многократно повторять эксперимент, то 95 % выборочных средних значений будут принадлежать рассчитанному нами доверительному интервалу.</font> да-да, тут просто надо представить это в уме\n",
        " \n",
        " __Если из лекции усвоить разницу между средним ГС и средним выборки, а так же понять, что доверительный интервал строится для выборки, а не для ГС, то ответы в тесте легко определяются.__\n",
        "  "
      ]
    },
    {
      "cell_type": "code",
      "execution_count": null,
      "metadata": {
        "id": "mIRCEVXyTd85",
        "outputId": "57512a0b-4d61-4ca4-db97-57fa4165c548",
        "pycharm": {
          "name": "#%%\n"
        }
      },
      "outputs": [
        {
          "name": "stdout",
          "output_type": "stream",
          "text": [
            "1.96 sigma\n"
          ]
        }
      ],
      "source": [
        "'''Вычисление 1.96 c помощью scipy'''\n",
        "from scipy import stats\n",
        "\n",
        "# 95%\n",
        "p = 0.95\n",
        "# так как у нас двухсторонний интервал, сделаем вычисление\n",
        "alpha = (1-p)/2\n",
        "# isf - Inverse survival function (inverse of sf) \n",
        "print(f'{stats.norm().isf(alpha):.2f} sigma')"
      ]
    },
    {
      "cell_type": "code",
      "execution_count": null,
      "metadata": {
        "id": "2WZdXB8JTd85",
        "outputId": "c2d15f74-9675-4d1b-fcd9-7c1ccb484048",
        "pycharm": {
          "name": "#%%\n"
        }
      },
      "outputs": [
        {
          "name": "stdout",
          "output_type": "stream",
          "text": [
            "[8.71; 11.29]\n"
          ]
        }
      ],
      "source": [
        "'''Рассчитайте 99% доверительный интервал для следующего примера: \n",
        "среднее = 10, стандартное отклонение = 5, размер выборки = 100\n",
        "'''\n",
        "from numpy import sqrt\n",
        "from scipy import stats\n",
        "\n",
        "p = 0.99\n",
        "mean = 10\n",
        "std = 5\n",
        "n = 100\n",
        "\n",
        "se = std/sqrt(n)\n",
        "alpha = (1-p)/2\n",
        "sigma = stats.norm().isf(alpha)\n",
        "сonfidence_interval = mean - sigma*se, mean + sigma*se\n",
        "print('[%.2f; %.2f]' % сonfidence_interval)"
      ]
    },
    {
      "cell_type": "code",
      "source": [
        "# IMPORT LIBRARIES\n",
        "import pandas as pd\n",
        "import numpy as np\n",
        "import random\n",
        "from scipy import stats\n",
        "import matplotlib.pyplot as plt\n",
        "plt.style.use('seaborn')\n",
        "\n",
        "# _4. Z-score and percentile by mean, standard deviation and x\n",
        "# Input\n",
        "# example data\n",
        "mean_4 = 54030\n",
        "st_deviation_4 = 8600\n",
        "x_4 = 65000\n",
        "\n",
        "# Outcome\n",
        "z_score_4 = (x_4 - mean_4) / st_deviation_4\n",
        "percentile_4 = stats.norm(mean_4, st_deviation_4).cdf(x_4)\n",
        "p_value_right_4 = (stats.norm(mean_4, st_deviation_4).sf(x_4))\n",
        "\n",
        "# Output\n",
        "print(f'z_score_4:{z_score_4}, percentile_4:{percentile_4}, p_value_right_4:{p_value_right_4}')\n"
      ],
      "metadata": {
        "id": "O6r4CGzNcJTk",
        "pycharm": {
          "name": "#%%\n"
        }
      },
      "execution_count": null,
      "outputs": []
    },
    {
      "cell_type": "code",
      "source": [
        "# IMPORT LIBRARIES\n",
        "import pandas as pd\n",
        "import numpy as np\n",
        "import random\n",
        "from scipy import stats\n",
        "import matplotlib.pyplot as plt\n",
        "plt.style.use('seaborn')\n",
        "\n",
        "# _5. Z-score and percentile by z-score and percentile\n",
        "# Input\n",
        "# example data\n",
        "z_score_5 = 1.275581395\n",
        "percentile_5 = 0.8989482328784237\n",
        "\n",
        "# Outcome\n",
        "z_score_outcome_5 = stats.norm.ppf(percentile_5)\n",
        "percentile_outcome_5 = stats.norm.cdf(z_score_5)\n",
        "p_value_right_5 = stats.norm.sf(z_score_5)\n",
        "\n",
        "# Output\n",
        "print(f'z_score_outcome_5:{z_score_outcome_5}, percentile_outcome_5:{percentile_outcome_5}, p_value_right_5:{p_value_right_5}')"
      ],
      "metadata": {
        "id": "gkbJFytgcRMG",
        "pycharm": {
          "name": "#%%\n"
        }
      },
      "execution_count": null,
      "outputs": []
    },
    {
      "cell_type": "code",
      "source": [
        "# IMPORT LIBRARIES\n",
        "import pandas as pd\n",
        "import numpy as np\n",
        "import random\n",
        "from scipy import stats\n",
        "import matplotlib.pyplot as plt\n",
        "plt.style.use('seaborn')\n",
        "\n",
        "# _6. Expected value for random variables\n",
        "# Input\n",
        "# import data\n",
        "data_frame_6 = pd.read_excel('/Users/mitya/Documents/Coursera Data for Business/example_data_set_ipad.xlsx')\n",
        "# find columns name\n",
        "column_one_name_6 = data_frame_6.columns[0]\n",
        "column_two_name_6 = data_frame_6.columns[1]\n",
        "\n",
        "# Outcome\n",
        "# calculate total sum for all observed\n",
        "sum_6 = data_frame_6[column_two_name_6].sum()\n",
        "# add probability column in table\n",
        "data_frame_6['Probability'] = data_frame_6[column_two_name_6] / sum_6\n",
        "\n",
        "\n",
        "# calculate expected value\n",
        "def sum_product_excel_function(values, weights):\n",
        "    values = np.asarray(values)\n",
        "    weights = np.asarray(weights)\n",
        "    return (values * weights).sum() / weights.sum()\n",
        "\n",
        "\n",
        "expected_value_6 = sum_product_excel_function(data_frame_6[column_one_name_6], data_frame_6['Probability'])\n",
        "\n",
        "# add (x-mu(expected value))^2 column in table\n",
        "data_frame_6['x-mu^2'] = (data_frame_6[column_one_name_6] - expected_value_6) ** 2\n",
        "# calculate standart deviation\n",
        "st_deviation_6 = sum_product_excel_function(data_frame_6['x-mu^2'], data_frame_6['Probability']) ** 0.5\n",
        "\n",
        "# Output\n",
        "print(f'data_frame_6:{data_frame_6}, sum_6:{sum_6}, expected_value_6:{expected_value_6}, st_deviation_6:{st_deviation_6}')\n"
      ],
      "metadata": {
        "id": "OPmvPoaEcqRG",
        "pycharm": {
          "name": "#%%\n"
        }
      },
      "execution_count": null,
      "outputs": []
    },
    {
      "cell_type": "code",
      "source": [
        "# IMPORT LIBRARIES\n",
        "import pandas as pd\n",
        "import numpy as np\n",
        "import random\n",
        "from scipy import stats\n",
        "import matplotlib.pyplot as plt\n",
        "plt.style.use('seaborn')\n",
        "\n",
        "# _7. Probability between two x values\n",
        "# Input\n",
        "# example data\n",
        "mean_7 = 500\n",
        "st_deviation_7 = 100\n",
        "x_one_7 = 490\n",
        "x_two_7 = 550\n",
        "\n",
        "# Outcome\n",
        "percentile_x_one_7 = stats.norm(mean_7, st_deviation_7).cdf(x_one_7)\n",
        "percentile_x_two_7 = stats.norm(mean_7, st_deviation_7).cdf(x_two_7)\n",
        "probability_7 = percentile_x_two_7 - percentile_x_one_7\n",
        "\n",
        "# Output\n",
        "print(f'probability_7:{probability_7}')"
      ],
      "metadata": {
        "id": "-_kMaZSpctXy",
        "pycharm": {
          "name": "#%%\n"
        }
      },
      "execution_count": null,
      "outputs": []
    },
    {
      "cell_type": "markdown",
      "metadata": {
        "id": "OrKtB_2RTd86",
        "pycharm": {
          "name": "#%% md\n"
        }
      },
      "source": [
        "## Идея статистического вывода\n",
        "### Статистическая проверка гипотез\n",
        "\n",
        "\n",
        "### p-уровень значимости\n",
        "\n",
        "p-уровень значимости - это вероятность получить такие или более выраженные различия при условии, что в генеральной совокупности никаких различий на самом деле нет.\n",
        "\n",
        "<img src=\"https://upload.wikimedia.org/wikipedia/commons/thumb/3/3a/P-value_in_statistical_significance_testing.svg/400px-P-value_in_statistical_significance_testing.svg.png\" width=400>"
      ]
    },
    {
      "cell_type": "markdown",
      "metadata": {
        "id": "0eKYsftFTd86",
        "pycharm": {
          "name": "#%% md\n"
        }
      },
      "source": [
        "<hr>"
      ]
    },
    {
      "cell_type": "markdown",
      "metadata": {
        "id": "5RJUh7OzTd88",
        "pycharm": {
          "name": "#%% md\n"
        }
      },
      "source": [
        "\n",
        "\n",
        "\n",
        "# Часть 2"
      ]
    },
    {
      "cell_type": "markdown",
      "metadata": {
        "id": "1wnP3ruNTd89",
        "pycharm": {
          "name": "#%% md\n"
        }
      },
      "source": [
        "## T-распределение\n",
        "\n",
        "Распределение Стьюдента по сути представляет собой сумму нескольких нормально распределенных случайных величин. Чем больше величин, тем больше верятность, что их сумма будет иметь нормальное распределение. Таким образом, количество суммируемых величин определяет важнейший параметр формы данного распредения - число степеней свободы."
      ]
    },
    {
      "cell_type": "code",
      "execution_count": null,
      "metadata": {
        "id": "XNRqtSj_Td8_",
        "outputId": "6cd21708-3c05-4dfa-9964-2076aaa8fe10",
        "pycharm": {
          "name": "#%%\n"
        }
      },
      "outputs": [
        {
          "data": {
            "image/png": "[encoded data removed]",
            "text/plain": [
              "<Figure size 432x288 with 1 Axes>"
            ]
          },
          "metadata": {
            "needs_background": "light"
          },
          "output_type": "display_data"
        }
      ],
      "source": [
        "'''График снизу показывает, как меняется форма распределения при увеличение количества степеней свободы.\n",
        "А также показывает приближение t-распредееления к нормальному по мере увеличения степеней свободы.'''\n",
        "from scipy.stats import t, norm\n",
        "import numpy as np\n",
        "import matplotlib.pyplot as plt\n",
        "\n",
        "\n",
        "x = np.linspace(-5, 5, 100)\n",
        "y1, y2, y3 = t.pdf(x, df=1), t.pdf(x, df=3), t.pdf(x, df=10)\n",
        "y4 = norm.pdf(x)\n",
        "\n",
        "plt.title('графики t-распредления с разными степенями свободы')\n",
        "plt.plot(x, y1)\n",
        "plt.plot(x, y2)\n",
        "plt.plot(x, y3)\n",
        "plt.plot(x, y4, 'r:')\n",
        "plt.legend(('df=1', 'df=3', 'df=10', 'norm'))\n",
        "plt.show()"
      ]
    },
    {
      "cell_type": "markdown",
      "metadata": {
        "id": "AaMvvygoTd9A",
        "pycharm": {
          "name": "#%% md\n"
        }
      },
      "source": [
        "График плотности распределения Стьюдента, как и нормального распределения, является симметричным и имеет вид колокола, но с более «тяжёлыми» хвостами."
      ]
    },
    {
      "cell_type": "markdown",
      "metadata": {
        "id": "MO5eBtoeTd9B",
        "pycharm": {
          "name": "#%% md\n"
        }
      },
      "source": [
        "### Подробно про нормальное и t-распредление\n",
        "\n",
        "В видео лекциях говорилось, что мы используем t-распределение в ситуации небольшого объема выборки. Необходимо более подробно пояснить, зачем это нужно.\n",
        "\n",
        "Вернемся к предельной центральной теореме, мы уже узнали, что если некий признак в генеральной совокупности распределен **нормально** со средним $\\mu$ и стандартным отклонением $\\sigma$, и мы будем многократно извлекать выборки одинакового размера n, и для каждой выборки рассчитывать, как далеко выборочное среднее $\\bar{X}$ ˉ\n",
        " отклонилось от среднего в генеральной совокупности в единицах стандартной ошибки среднего:\n",
        " \n",
        "\n",
        "$$\\large z = \\frac{\\bar{X} - \\mu}{\\frac{\\sigma}{\\sqrt{n}}}$$\n",
        "\n",
        "то эта величина z будет иметь стандартное нормальное распределение со средним равным нулю и стандартным отклонением равным единице.\n",
        "\n",
        "Обратите внимание, что для расчета стандартной ошибки мы используем именно стандартное отклонение в генеральной совокупности - $\\sigma$. Ранее мы уже обсуждали, что на практике $\\sigma$ нам практически никогда не известна, и для расчета стандартной ошибки мы используем выборочное стандартное отклонение.\n",
        "\n",
        "Так вот, строго говоря в таком случае распределение отклонения выборочного среднего и среднего в генеральной совокупности, деленного на стандартную ошибку, теперь будет описываться именно при помощи t - распределения.\n",
        "\n",
        "$$\\large t = \\frac{\\bar{X} - \\mu}{\\frac{sd}{\\sqrt{n}}}$$\n",
        "\n",
        "\n",
        "таким образом, в случае неизвестной $\\sigma$ мы **всегда будем иметь дело с t-распределением**. На этом этапе вы должны с негодованием спросить меня, почему же мы применяли z-критерий в первом модуле курса, для проверки гипотез, используя выборочное стандартное отклонение?\n",
        "\n",
        "Мы уже знаем, что при довольно большом объеме выборки (обычно в учебниках приводится правило, n > 30) t-распределение совсем близко подбирается к нормальному распределению:\n",
        "\n",
        "Поэтому иногда, для простоты расчетов говорится, что если n > 30, то мы будем использовать свойства нормального распределения для наших целей. Строго говоря, это конечно неправильный подход, который часто критикуют. В до компьютерную эпоху этому было некоторое объяснение, чтобы не рассчитывать для каждого n больше 30 соответствующее критическое значение t - распределения, статистики как бы округляли результат и использовали нормальное распределение для этих целей. Сегодня, конечно, с этим больше никаких проблем нет, и все статистические программы, разумеется, без труда рассчитают все необходимые показатели для t - распределения с любым числом степеней свободы. Действительно при выборках очень большого объема t - распределение практически не будет отличаться от нормального, однако, хоть и очень малые но различия все равно будут.\n",
        "\n",
        "Поэтому, правильнее будет сказать, что мы используем t - распределение не потому что у нас маленькие выборки, а потому что мы не знаем стандартное отклонение в генеральной совокупности. Поэтому в дальнейшем мы всегда будем использовать t - распределение для проверки гипотез, если нам неизвестно стандартное отклонение в генеральной совокупности, необходимое для расчета стандартной ошибки, даже если объем выборки больше 30.\n",
        "\n",
        "### 5.Примеры"
      ]
    },
    {
      "cell_type": "code",
      "execution_count": null,
      "metadata": {
        "id": "yl9hHRjzTd9B",
        "outputId": "8c0729bc-d218-49e8-a28a-6ce76fbbad21",
        "colab": {
          "base_uri": "https://localhost:8080/"
        },
        "pycharm": {
          "name": "#%%\n"
        }
      },
      "outputs": [
        {
          "output_type": "stream",
          "name": "stdout",
          "text": [
            "p = 0.065\n"
          ]
        }
      ],
      "source": [
        "'''На выборке в 15 наблюдений при помощи одновыборочного t-теста\n",
        "проверяется нулевая гипотеза: μ=10 \n",
        "и рассчитанное t-значение равняется -2 (t = -2), то p-уровень значимости  (двусторонний) равен:\n",
        "'''\n",
        "from scipy import stats\n",
        "\n",
        "t = -2\n",
        "n = 15\n",
        "df = n - 1\n",
        "\n",
        "p = 2 * stats.t.sf(abs(t), df)\n",
        "print(f'p = {p:.3f}')"
      ]
    },
    {
      "cell_type": "markdown",
      "metadata": {
        "id": "08jK7Jt_Td9C",
        "pycharm": {
          "name": "#%% md\n"
        }
      },
      "source": [
        "## Сравнение двух средних. t-критерий Стьюдента\n",
        "\n",
        "t-критерий Стьюдента — общее название для статистических тестов, в которых статистика критерия имеет распределение Стьюдента. Наиболее часто t-критерии применяются для проверки равенства средних значений в двух выборках. Нулевая гипотеза предполагает, что средние равны (отрицание этого предположения называют гипотезой сдвига). Для применения данного критерия необходимо, чтобы исходные данные имели нормальное распределение. \n",
        "\n",
        "$$ t = \\frac{\\bar{X_1} - \\bar{X_2}}{se}$$\n",
        "\n",
        "$$ se = \\sqrt{\\frac{sd_1^2}{n_1} + \\frac{sd_2^2}{n_2}} $$\n",
        "\n",
        "Откуда берётся такая формула $se$?:\n",
        "\n",
        "$$ (se_1)^2 = (\\frac{sd_1}{\\sqrt{n_1}})^2 = \\frac{sd_1^2}{n_1} $$\n",
        " \n",
        "То есть:\n",
        "\n",
        "$$ se = \\sqrt{\\frac{sd_1^2}{n_1} + \\frac{sd_2^2}{n_2}} = \\sqrt{se_1^2 + se_2^2} $$\n",
        "\n",
        "причем ответ на вопрос, почему верно это равенство, кроется в свойстве дисперсии: дисперсия суммы независимых случайных величин равна сумме их дисперсий. а отклонение - это корень из дисперсии. отсюда ваша последняя формула"
      ]
    },
    {
      "cell_type": "markdown",
      "metadata": {
        "id": "KQIrBf3KTd9C",
        "pycharm": {
          "name": "#%% md\n"
        }
      },
      "source": [
        "### Примеры применения t-критерий Стьюдента\n",
        "**Пример 1.** Первая выборка — это пациенты, которых лечили препаратом А. Вторая выборка — пациенты, которых лечили препаратом Б. Значения в выборках — это некоторая характеристика эффективности лечения (уровень метаболита в крови, температура через три дня после начала лечения, срок выздоровления, число койко-дней, и т.д.) Требуется выяснить, имеется ли значимое различие эффективности препаратов А и Б, или различия являются чисто случайными и объясняются «естественной» дисперсией выбранной характеристики.\n",
        "\n",
        "**Пример 2.** Первая выборка — это значения некоторой характеристики состояния пациентов, записанные до лечения. Вторая выборка — это значения той же характеристики состояния тех же пациентов, записанные после лечения. Объёмы обеих выборок обязаны совпадать; более того, порядок элементов (в данном случае пациентов) в выборках также обязан совпадать. Такие выборки называются связными. Требуется выяснить, имеется ли значимое отличие в состоянии пациентов до и после лечения, или различия чисто случайны.\n",
        "\n",
        "**Пример 3.** Первая выборка — это поля, обработанные агротехническим методом А. Вторая выборка — поля, обработанные агротехническим методом Б. Значения в выборках — это урожайность. Требуется выяснить, является ли один из методов эффективнее другого, или различия урожайности обусловлены случайными факторами.\n",
        "\n",
        "**Пример 4.** Первая выборка — это дни, когда в супермаркете проходила промо-акция типа А (красные ценники со скидкой). Вторая выборка — дни промо-акции типа Б (каждая пятая пачка бесплатно). Значения в выборках — это показатель эффективности промо-акции (объём продаж, либо выручка в рублях). Требуется выяснить, какой из типов промо-акции более эффективен.\n",
        "\n",
        "### 6. Примеры"
      ]
    },
    {
      "cell_type": "code",
      "execution_count": null,
      "metadata": {
        "id": "CZCPvRIzTd9D",
        "outputId": "dcfc53b2-1703-43c9-a30f-fac73e60c0bc",
        "pycharm": {
          "name": "#%%\n"
        }
      },
      "outputs": [
        {
          "data": {
            "text/html": [
              "<div>\n",
              "<style scoped>\n",
              "    .dataframe tbody tr th:only-of-type {\n",
              "        vertical-align: middle;\n",
              "    }\n",
              "\n",
              "    .dataframe tbody tr th {\n",
              "        vertical-align: top;\n",
              "    }\n",
              "\n",
              "    .dataframe thead th {\n",
              "        text-align: right;\n",
              "    }\n",
              "</style>\n",
              "<table border=\"1\" class=\"dataframe\">\n",
              "  <thead>\n",
              "    <tr style=\"text-align: right;\">\n",
              "      <th></th>\n",
              "      <th>Mx</th>\n",
              "      <th>SD</th>\n",
              "      <th>N</th>\n",
              "      <th>SE</th>\n",
              "      <th>interval</th>\n",
              "    </tr>\n",
              "  </thead>\n",
              "  <tbody>\n",
              "    <tr>\n",
              "      <th>Выборка1</th>\n",
              "      <td>100.815</td>\n",
              "      <td>10.246503</td>\n",
              "      <td>20.0</td>\n",
              "      <td>2.291188</td>\n",
              "      <td>4.545754</td>\n",
              "    </tr>\n",
              "    <tr>\n",
              "      <th>Выборка2</th>\n",
              "      <td>75.735</td>\n",
              "      <td>15.458102</td>\n",
              "      <td>20.0</td>\n",
              "      <td>3.456537</td>\n",
              "      <td>6.886174</td>\n",
              "    </tr>\n",
              "  </tbody>\n",
              "</table>\n",
              "</div>"
            ],
            "text/plain": [
              "               Mx         SD     N        SE  interval\n",
              "Выборка1  100.815  10.246503  20.0  2.291188  4.545754\n",
              "Выборка2   75.735  15.458102  20.0  3.456537  6.886174"
            ]
          },
          "execution_count": 15,
          "metadata": {},
          "output_type": "execute_result"
        }
      ],
      "source": [
        "import pandas as pd\n",
        "from scipy.stats import t\n",
        "import matplotlib.pyplot as plt\n",
        "import numpy as np\n",
        "\n",
        "array1 = np.array([84.7, 105.0, 98.9, 97.9, 108.7, 81.3, 99.4, 89.4, 93.0,\n",
        "                   119.3, 99.2, 99.4, 97.1, 112.4, 99.8, 94.7, 114.0, 95.1, 115.5, 111.5])\n",
        "array2 = np.array([57.2, 68.6, 104.4, 95.1, 89.9, 70.8, 83.5, 60.1, 75.7,\n",
        "                   102.0, 69.0, 79.6, 68.9, 98.6, 76.0, 74.8, 56.0, 55.6, 69.4, 59.5])\n",
        "\n",
        "# считаем количество элементов, среднее, стандартное отклонение и стандартную ошибку\n",
        "df = pd.DataFrame({'Выборка1':array1, 'Выборка2':array2}).agg(['mean','std','count','sem']).transpose()\n",
        "df.columns = ['Mx','SD','N','SE']\n",
        "\n",
        "# рассчитываем 95% интервал отклонения среднего\n",
        "p = 0.95\n",
        "K = t.ppf((1 + p)/2, df['Mx']-1)\n",
        "df['interval'] = K * df['SE']"
      ]
    },
    {
      "cell_type": "code",
      "source": [
        "from scipy import stats\n",
        "\n",
        "# _9. Student's T-test, T-value\n",
        "# Input data\n",
        "mean_for_sample_one_9 = 45\n",
        "mean_for_sample_two_9 = 34\n",
        "st_dev_for_sample_one_9 = 9\n",
        "st_dev_for_sample_two_9 = 10\n",
        "first_sample_size_9 = 100\n",
        "second_sample_size_9 = 100\n",
        "\n",
        "# Outcome\n",
        "st_error_for_sample_one_9 = st_dev_for_sample_one_9 / first_sample_size_9 ** 0.5\n",
        "st_error_for_sample_two_9 = st_dev_for_sample_two_9 / second_sample_size_9 ** 0.5\n",
        "st_error_for_div_9 = (st_error_for_sample_one_9 ** 2 + st_error_for_sample_two_9 ** 2) ** 0.5\n",
        "t_value_9 = (mean_for_sample_one_9 - mean_for_sample_two_9) / st_error_for_div_9\n",
        "# second param is  degree of freedom\n",
        "p_value_9 = stats.t.sf(t_value_9, first_sample_size_9 + second_sample_size_9 - 2)\n",
        "\n",
        "\n",
        "# Output\n",
        "print('st_error_for_sample_one_9:', st_error_for_sample_one_9)\n",
        "print('st_error_for_sample_two_9:', st_error_for_sample_two_9)\n",
        "print('st_error_for_div_9:', st_error_for_div_9)\n",
        "print('t_value:', t_value_9)\n",
        "print('p_value_9:', p_value_9)\n"
      ],
      "metadata": {
        "id": "at8mqyBJiXtN",
        "pycharm": {
          "name": "#%%\n"
        }
      },
      "execution_count": null,
      "outputs": []
    },
    {
      "cell_type": "code",
      "execution_count": null,
      "metadata": {
        "id": "ZkJcRIDOTd9E",
        "outputId": "b2a15629-c645-4efc-d7ca-b306f4c5a678",
        "pycharm": {
          "name": "#%%\n"
        }
      },
      "outputs": [
        {
          "data": {
            "image/png": "[encoded data removed]",
            "text/plain": [
              "<Figure size 1008x648 with 2 Axes>"
            ]
          },
          "metadata": {
            "needs_background": "light"
          },
          "output_type": "display_data"
        }
      ],
      "source": [
        "\n",
        "\n",
        "#строим графики, boxplot из изначальных данных array1, array2,  доверительные интервалы из датафрейма df\n",
        "fig, (ax1, ax2) = plt.subplots(nrows=1, ncols=2, figsize=(14, 9))\n",
        "\n",
        "# график boxplot\n",
        "bplot1 = ax1.boxplot([array1, array2],\n",
        "                     vert=True,  # создаем вертикальные боксы\n",
        "                     patch_artist=True, # для красоты заполним цветом боксы квантилей\n",
        "                     labels=['Выборка1', 'Выборка2']) # используется для задания значений выборок в случае с boxplot\n",
        "\n",
        "# график доверительных интервалов\n",
        "bplot2 = ax2.errorbar(x=df.index, y=df['Mx'], yerr=df['interval'],\\\n",
        "                      color=\"black\", capsize=3, marker=\"s\", markersize=4, mfc=\"red\", mec=\"black\", fmt ='o')\n",
        "\n",
        "# раскрасим boxplot  \n",
        "colors = ['pink', 'lightgreen']\n",
        "for patch, color in zip(bplot1['boxes'], colors):\n",
        "    patch.set_facecolor(color)\n",
        "    \n",
        "# добавим общие для каждого из графиков данные\n",
        "for ax in [ax1, ax2]:\n",
        "    ax.yaxis.grid(True)\n",
        "    ax.set_title('Температура плавления ДНК двух типов')\n",
        "    ax.set_xlabel('Сравнение двух выборок')\n",
        "    ax.set_ylabel('Температура F')\n",
        "    \n",
        "plt.show()"
      ]
    },
    {
      "cell_type": "markdown",
      "metadata": {
        "id": "9eu5eaz5Td9F",
        "pycharm": {
          "name": "#%% md\n"
        }
      },
      "source": [
        "### Задача \n",
        "\n",
        "Рассчитайте доверительный интервал основываясь на знании t - распределения для среднего значения температуры плавления ДНК у первого вида:\n",
        "\n",
        "$$ \\bar{X}=89,9\\quad sd=11,3\\quad n=20 $$"
      ]
    },
    {
      "cell_type": "code",
      "execution_count": null,
      "metadata": {
        "id": "V9rR1RRNTd9F",
        "outputId": "4689f515-d7a0-4ef7-be0f-d56b2ca4b182",
        "pycharm": {
          "name": "#%%\n"
        }
      },
      "outputs": [
        {
          "name": "stdout",
          "output_type": "stream",
          "text": [
            "[84.61; 95.19]\n"
          ]
        }
      ],
      "source": [
        "from scipy import stats\n",
        "from math import sqrt\n",
        "\n",
        "mean = 89.9\n",
        "sd = 11.3\n",
        "n = 20\n",
        "# степень свободы\n",
        "df = n - 1\n",
        "# 95% доверительный интервал\n",
        "p = 0.95\n",
        "alpha = 1-p\n",
        "# стандартная ошибка\n",
        "se = sd/sqrt(n)\n",
        "\n",
        "# ppf - Percent point function\n",
        "# делим на два, так как по умолчанию функция считает для одного конца, а нам надо для двух\n",
        "t_value = stats.t(df).ppf(1-(alpha/2))\n",
        "\n",
        "# доверительный интервал \n",
        "сonfidence_interval = (mean-t_value*se, mean+t_value*se)\n",
        "print('[%.2f; %.2f]' % сonfidence_interval)"
      ]
    },
    {
      "cell_type": "markdown",
      "metadata": {
        "id": "fGmaHCFfTd9G",
        "pycharm": {
          "name": "#%% md\n"
        }
      },
      "source": [
        "Первые премии Оскар за лучшую мужскую и женскую роль были вручены в 1929. Данные гистограммы демонстрируют распределение возраста победителей с 1929 по 2014 год (100 мужчин, 100 женщин). Используя t - критерий проверьте, можно ли считать наблюдаемые различия в возрасте между лучшими актрисами и актерами  статистически достоверными.\n",
        "\n",
        "Средний возраст мужчин равен 45, sd = 9.\n",
        "\n",
        "Средний возраст женщин равен 34, sd = 10.\n",
        "\n",
        "<img src=\"https://github.com/KlukvaMors/basic_stat/blob/main/img/oscar.png?raw=1\" width=500>"
      ]
    },
    {
      "cell_type": "code",
      "execution_count": null,
      "metadata": {
        "id": "yeCcRqumTd9G",
        "outputId": "793f8c3f-878c-4a02-a878-939ed0d7ecfb",
        "pycharm": {
          "name": "#%%\n"
        }
      },
      "outputs": [
        {
          "name": "stdout",
          "output_type": "stream",
          "text": [
            "p=5.328933875539173e-13\n",
            "Мы можем отклонить нулевую гипотезу\n"
          ]
        }
      ],
      "source": [
        "from scipy.stats import t\n",
        "from numpy import sqrt\n",
        "\n",
        "mean_m, mean_f = 45, 34\n",
        "sd_m, sd_f = 9, 10\n",
        "N = 100\n",
        "\n",
        "se = sqrt((sd_m ** 2)/N + (sd_f ** 2)/N)\n",
        "t_value = (mean_m - mean_f)/se\n",
        "\n",
        "p = t.sf(t_value, N-2)\n",
        "print(f'p={p}')\n",
        "if p >= 0.05:\n",
        "    print('Мы НЕ можем отклонить нулевую гипотезу')\n",
        "else:\n",
        "    print('Мы можем отклонить нулевую гипотезу')"
      ]
    },
    {
      "cell_type": "markdown",
      "metadata": {
        "id": "gzDQrUxmTd9H",
        "pycharm": {
          "name": "#%% md\n"
        }
      },
      "source": [
        "## Проверка распределения на нормальность\n",
        "\n",
        "### QQ-plot\n",
        "\n",
        "Как интерпритировать QQ-plot\n",
        "- Когда Skewness (перекос гистограммы) направо, т.е в положительнуж сторону, то на QQ-plot получается \"веселый смайлик\"\n",
        "- Когда Skewness (переко гистограммы) влево, т.е. в негативную сторону, то на QQ-plot получается \"грустный смайлик\" - сс: Alexandr P1\n",
        "- Когда Tailedness (хвосты гистогарммы) толстые, то QQ-plot напоминает букву S, левый хвост вверх, правый вниз\n",
        "- Когда Tailedness (хвосты гистогарммы) тонкие, то хвосты QQ-plot изгибаются в обратную сторону, левый хвост вниз, правый вверх\n",
        "\n",
        "\n",
        "### 7.Примеры\n"
      ]
    },
    {
      "cell_type": "code",
      "execution_count": null,
      "metadata": {
        "id": "k6r8lgHiTd9H",
        "outputId": "c72c4c77-d863-4627-d360-c098c9b1070c",
        "colab": {
          "base_uri": "https://localhost:8080/",
          "height": 431
        },
        "pycharm": {
          "name": "#%%\n"
        }
      },
      "outputs": [
        {
          "output_type": "display_data",
          "data": {
            "text/plain": [
              "<Figure size 864x432 with 2 Axes>"
            ],
            "image/png": "[encoded data removed]"
          },
          "metadata": {
            "needs_background": "light"
          }
        }
      ],
      "source": [
        "import numpy as np \n",
        "import scipy.stats as stats\n",
        "import matplotlib.pyplot as plt\n",
        "\n",
        "plt.rcParams['figure.figsize'] = [12, 6]\n",
        "\n",
        "mu, sigma = 10, 4\n",
        "n = 1000 # с ростом числа точек в распределении qq-plot стремится к прямой\n",
        "sequence = np.random.normal(mu, sigma, n)\n",
        "\n",
        "\n",
        "fig, (ax1, ax2) = plt.subplots(1, 2)\n",
        "fig.suptitle('QQ Plot', fontsize=18)\n",
        "\n",
        "# Q-Q Plot graph\n",
        "stats.probplot(sequence, dist=\"norm\", plot=ax1)\n",
        "ax1.set_title(\"Normal Q-Q Plot\")\n",
        "\n",
        "# normal distribution histogram + distribution\n",
        "count, bins, _ = ax2.hist(sequence, 25, density=True)\n",
        "p_x = 1/(sigma * np.sqrt(2 * np.pi)) * np.exp( - (bins - mu)**2 / (2 * sigma**2) )\n",
        "ax2.plot(bins, p_x, color='r')\n",
        " \n",
        "\n",
        "plt.show()"
      ]
    },
    {
      "cell_type": "markdown",
      "source": [
        "# U-критерий Манна-Уитни\n",
        "К большому сожалению, поскольку формула t-критерия включает в себя средние значения, то этот критерий будет давать неадекватные результаты при наличии котиков и песиков аномальных размеров (т. е. выбросов). \n",
        "\n",
        "Чтобы этого избежать, вы можете либо исключить эти выбросы из анализа, либо воспользоваться непараметрическим U-критерием Манна-Уитни . Этот критерий, кстати, используется и в тех ситуациях, когда точные значения элементов в выборке нам не известны.\n",
        "Чтобы рассчитать критерий Манна-Уитни, необходимо выстроить все элементы в один ряд, от самого мелкого к самому крупному, и назначить им ранги. Самому большому элементу достанется первый ранг, а самому маленькому – последний.\n",
        "\n",
        "После этого мы снова делим их на две выборки и считаем суммы рангов отдельно для первой и для второй. Общая логика такова: чем сильнее будут различаться эти суммы, тем больше различаются выборки\n",
        "\n",
        "### Пример\n",
        "<img src='https://raw.githubusercontent.com/betelgeus/fundamentals_of_statistics_notes/main/img/Снимок%20экрана%202022-09-07%20в%2014.40.05.png' width='400px'>"
      ],
      "metadata": {
        "id": "rc5daLdmvCcU",
        "pycharm": {
          "name": "#%% md\n"
        }
      }
    },
    {
      "cell_type": "markdown",
      "metadata": {
        "id": "IAqbiaz9Td9H",
        "pycharm": {
          "name": "#%% md\n"
        }
      },
      "source": [
        "## Однофакторный дисперсионный анализ (One-Way ANOVA)\n",
        "\n",
        "Рассмотренный ранее **t-критерий Стьюдента** (равно как и его непараметрические аналоги) предназначен для сравнения исключительно **двух совокупностей**. В таком случае мы можем применять однофакторный дисперсионный анализ.  Та переменная, которая будет разделять наших испытуемых или наблюдения на группы (номинативная переменная с нескольким градациями) называется **независимой переменной**. А та количественная переменная, по степени выраженности которой мы сравниваем группы, называется **зависимая переменная**. \n",
        "\n",
        "**Термины**\n",
        "\n",
        "SST — total summ of square, общая сумма квадратов\n",
        "\n",
        "SSB — sum of square between groups, сумма квадратов между группами (выборками)\n",
        "\n",
        "SSW — sum of square within groups, сумма квадратов внутри групп (выборок)\n",
        "\n",
        "MS — mean square, средний квадрат, отношение суммы квадратов к числу их степеней свободы \n",
        "\n",
        "MSE — mean squared error, среднеквадратическая ошибка\n",
        "\n",
        "\n",
        "$$ SS_{total} = \\sum_{j=1}^{p}{\\sum_{i=1}^{n_j}{(x_{ij} - \\bar{x})^2}} = SS_{between} + SS_{within} $$\n",
        "$$ SS_{between} = \\sum_{j=1}^{p}{n_j{(\\bar{x}_j - \\bar{x})^2}} $$\n",
        "$$ SS_{within} = \\sum_{j=1}^{p}{\\sum_{i=1}^{n_j}{(x_{ij} - \\bar{x}_j)^2}} $$\n",
        "\n",
        "### Пример\n",
        "<img src='https://raw.githubusercontent.com/betelgeus/fundamentals_of_statistics_notes/fcc90a9eb085eb8948b3287a8152b9452ba3340b/img/Снимок%20экрана%202022-09-07%20в%2014.16.35.png' with='600px'/>\n",
        "\n",
        "**Интересное наблюдение**\n",
        "- Если основной вклад в SST делает SSB, то мы можем сделать вывод, что значимые различия наблюдаются между группами\n",
        "- Если основной вклад в SST делает SSW, то мы можем сделать вывод, что значимы различия внутри групп\n",
        "\n",
        "Когда мы делим значение межгрупповой суммы квадратов на соответствующее число степеней свободы (число групп минус один), мы тем самым усредняем полученный показатель. Усредненное значение межгрупповой суммы квадратов называется межгрупповым средним квадратом  \n",
        "\n",
        "$$ MS_{between} = \\frac{SSB}{DF_{between}}$$\n",
        "\n",
        "$$df_{between} = m - 1$$\n",
        "где m это количество групп\n",
        "\n",
        "\n",
        "Отношение внутригрупповой суммы квадратов к соответствующему числу степеней свободы (число всех наблюдений минус число групп) — это внутригрупповой средний квадрат \n",
        "\n",
        "$$ MS_{within} = \\frac{SSW}{DF_{within}}$$\n",
        "\n",
        "$$df_{within} = N - m$$\n",
        "где N это количество всех элементов во всех выборках \n",
        "\n",
        "Поэтому формула F-значения (F-отношение) часто записывается:\n",
        "\n",
        "$$F = \\frac{MS_{between}}{MS_{within}}$$\n",
        "\n",
        "\n",
        "**F-критерий равенства дисперсий Фишера**\n",
        "$$F_{Фишера} = \\frac{σ_{большая}^2}{σ_{меньшая}^2}$$\n",
        "помогает найти ответ насколько различаются между собой разнообразие первой выборки и второй выборки "
      ]
    },
    {
      "cell_type": "code",
      "execution_count": null,
      "metadata": {
        "id": "niJOLoXwTd9I",
        "outputId": "4a2797c1-ff7a-42f9-b8c4-3b8f33a1b002",
        "pycharm": {
          "name": "#%%\n"
        }
      },
      "outputs": [
        {
          "name": "stdout",
          "output_type": "stream",
          "text": [
            "Нулевая гипотеза: a=b=c\n",
            "Альтернативная гипотеза: !(a=b=c)\n",
            "Результат:\n",
            "отклоняем нулевую гипотезу\n"
          ]
        },
        {
          "data": {
            "image/png": "[encoded data removed]",
            "text/plain": [
              "<Figure size 864x432 with 1 Axes>"
            ]
          },
          "metadata": {
            "needs_background": "light"
          },
          "output_type": "display_data"
        }
      ],
      "source": [
        "from scipy import stats\n",
        "import pandas as pd\n",
        "\n",
        "# Выборки которые надо сравнить\n",
        "data = pd.DataFrame({\n",
        "           'a': [3, 1, 2],\n",
        "           'b': [5, 3, 4],\n",
        "           'c': [7, 6, 5]\n",
        "          })\n",
        "data.boxplot()\n",
        "print('Нулевая гипотеза:', '='.join(data))\n",
        "print('Альтернативная гипотеза:', f'!({\"=\".join(data)})')\n",
        "# общая средняя\n",
        "grand_mean = data.values.flatten().mean()\n",
        "# отклонение групповых средний от общей средней\n",
        "ssb = sum(data[group].size * (group_mean - grand_mean)**2  for group, group_mean in data.mean().items())\n",
        "# отклонения значений в внутри группы от средней группы\n",
        "ssw = sum(sum((x - group_mean)**2 for x in data[group]) for group, group_mean in data.mean().items())\n",
        "\n",
        "groups = data.shape[1]\n",
        "dfb = groups - 1\n",
        "dfw = data.size - groups\n",
        "# межгрупповой средний квадрат  \n",
        "mssb = ssb/dfb\n",
        "# внутригрупповой средний квадрат\n",
        "mssw = ssw/dfw\n",
        "\n",
        "f_value = mssb/mssw\n",
        "\n",
        "p = stats.f.sf(f_value, dfb, dfw)\n",
        "print('Результат:')\n",
        "if p < 0.05:\n",
        "    print('отклоняем нулевую гипотезу')\n",
        "else:\n",
        "    print('НЕ отклоняем нулевую гипотезу')"
      ]
    },
    {
      "cell_type": "markdown",
      "source": [
        "# Распределение Фишера\n",
        "Теоретическое распределение F-значения в дисперсионном анализе не является нормальным, а подчиняется распределению Фишера (F distribution). \n",
        "\n",
        "Форма распределения зависит от числа степеней свободы (то есть от количества групп и общего числа наблюдений). \n",
        "\n",
        "F-значение всегда является положительным, поэтому, в отличие от t-критерия, мы рассчитываем вероятность отклонения только в правую сторону. \n"
      ],
      "metadata": {
        "id": "A0aOwgdnxxdm",
        "pycharm": {
          "name": "#%% md\n"
        }
      }
    },
    {
      "cell_type": "markdown",
      "source": [
        "\n",
        "### Задача\n",
        "Допустим, что при сравнении четырех групп между собой (по 5 наблюдений в каждой группе) вы получили F = 3.5. Чему будет равен p-value? Подтверждена ли 0 гипотеза?\n",
        "\n",
        "**Решение**\n",
        "\n",
        "Предположим, что верна нулевая гипотеза H0 и, что все четыре выборки (по пять наблюдений в каждой) взяты из одной генеральной совокупности. \n",
        "\n",
        "Нам нужно оценить в скольких случаях из множества экспериментов по извлечению случайным образом 4 групп по 5 значений в каждой - мы будем получать такое F-значение (такое соотношение различий между группами и внутри групп - SSB/SSB).\n",
        "\n",
        "Число степеней свободы (dfSSB) для межгрупповой суммы квадратов (SSB) у нас будет равно \"количество групп - 1\" = 4 - 1 = 3. \n",
        "\n",
        "Число степеней свободы (dfSSW) для суммы квадратов внутри групп (SSW) у нас будет равно \"количество групп * (количество элементов в каждой группе-1)\" или \"общее количество наблюдений - количество групп\" = 4 * (5-1) = 16.\n",
        "\n",
        "Задав эти значения (dfSSB -> df-1 и dfSSW -> df-2) в калькуляторе (определив форму F-кривой) и полученное F-значение (a), получим вероятность получить такое значение при многократных повторениях эксперимента (p-value):\n",
        "\n",
        "<img src='https://raw.githubusercontent.com/betelgeus/fundamentals_of_statistics_notes/main/img/Снимок%20экрана%202022-09-07%20в%2014.55.19.png' width='600px'/>\n",
        "\n",
        "p-value менее 5%, отклоняем H0."
      ],
      "metadata": {
        "id": "nKQwcjivzKHX",
        "pycharm": {
          "name": "#%% md\n"
        }
      }
    },
    {
      "cell_type": "markdown",
      "metadata": {
        "id": "WC-VlwJoTd9I",
        "pycharm": {
          "name": "#%% md\n"
        }
      },
      "source": [
        "## Множественные сравнения в ANOVA\n",
        "\n",
        "В отличие от t-критерия, позволяет сравнивать средние значения трёх и более групп. Разработан Р. Фишером для анализа результатов экспериментальных исследований. В литературе также встречается обозначение **ANOVA** (от англ. **AN**alysis **O**f **VA**riance) - дисперсионный анализ\n",
        "\n",
        "**Почему мы не можем применить t-критерий для более двух выборок применяя его попарно к каждой выбрке?**\n",
        "\n",
        "Чтобы выяснить это, сделаем эксперемент:"
      ]
    },
    {
      "cell_type": "code",
      "execution_count": null,
      "metadata": {
        "id": "HpUgWDNuTd9I",
        "pycharm": {
          "name": "#%%\n"
        }
      },
      "outputs": [],
      "source": [
        "import numpy as np\n",
        "from numpy import random\n",
        "import matplotlib.pyplot as plt\n",
        "from scipy.stats import t\n",
        "\n",
        "\n",
        "def pair_t(samples, alpha):\n",
        "    '''Парный t-критерий, если все выборки равны, возвращает True'''\n",
        "    n_samples = samples.shape[0]\n",
        "    # https://ru.wikipedia.org/wiki/Сочетание    \n",
        "    n_combinations = n_samples*(n_samples - 1)//2\n",
        "    result = np.zeros(n_combinations, dtype=bool)\n",
        "    k = 0\n",
        "    for i in range(n_samples):\n",
        "        for j in range(i+1, n_samples):\n",
        "            N = samples[i].size\n",
        "            std_err = np.sqrt((samples[i].std()**2)/N + (samples[j].std()**2)/N)\n",
        "            t_value = (samples[i].mean() + samples[j].mean())/std_err\n",
        "            p = t.sf(t_value, N-2)\n",
        "            result[k] = p >= alpha\n",
        "            k += 1\n",
        "    return np.all(result)"
      ]
    },
    {
      "cell_type": "code",
      "execution_count": null,
      "metadata": {
        "id": "4VeJjHeiTd9J",
        "pycharm": {
          "name": "#%%\n"
        }
      },
      "outputs": [],
      "source": [
        "def pair_t_test(repeat, n_samples, sample_size, ax, alpha=0.05):\n",
        "    '''\n",
        "    функция показывает, сколько у нас будет ложных результатов, при парном сравнение множества выборок\n",
        "    с помощью t-критерия\n",
        "    \n",
        "    repeat, n_samples, sample_size = количество повторов, количество выборок в каждом повторе, размер выборки\n",
        "    \n",
        "    ax - для рисования\n",
        "    alpha = (1 - (p-уровень значимости))\n",
        "    '''\n",
        "    result = np.zeros(repeat, dtype=bool)\n",
        "    for i in range(repeat):\n",
        "        samples = random.randn(n_samples, sample_size)\n",
        "        result[i] = pair_t(samples, alpha)\n",
        "    \n",
        "    unique, counts = np.unique(result, return_counts=True)\n",
        "    percentage = counts/result.size\n",
        "    ax.pie(percentage, normalize=False, labels=unique, autopct='%.0f%%')"
      ]
    },
    {
      "cell_type": "code",
      "execution_count": null,
      "metadata": {
        "id": "5DLfL6CGTd9J",
        "outputId": "e1830ad0-65bb-4a24-8716-5e65f954b7fa",
        "pycharm": {
          "name": "#%%\n"
        }
      },
      "outputs": [
        {
          "data": {
            "image/png": "[encoded data removed]",
            "text/plain": [
              "<Figure size 1440x288 with 4 Axes>"
            ]
          },
          "metadata": {},
          "output_type": "display_data"
        }
      ],
      "source": [
        "fig, axs = plt.subplots(ncols=4, figsize=(20, 4))\n",
        "n_samples = [2, 4, 8, 16]\n",
        "fig.suptitle('Процент ошибок при попарном сравнение выборок t-критерием')\n",
        "\n",
        "for n, ax in zip(n_samples, axs):\n",
        "    pair_t_test(1000, n, 100, ax)\n",
        "    ax.set_title(f'{n} samples')\n",
        "    "
      ]
    },
    {
      "cell_type": "markdown",
      "metadata": {
        "id": "_6goKw5dTd9K",
        "pycharm": {
          "name": "#%% md\n"
        }
      },
      "source": [
        "Как мы и ожидаем, степень ошибки равна **5%**, при сравнение **двух выборок** из одной ГС с помощью t-критерия с p-уровнем значимости **95%**. Если мы возмём **4** выборки, и сравним их попарно, то ошибка возрастёт в **4** раза до **20%**. При **8** выборок, наша ошибка возрасла почти в **9** раз до **46%**. **16** выборок дают увеличение ошибки до **80%** ( в 16 раз), что совершенно неприемлемо."
      ]
    },
    {
      "cell_type": "markdown",
      "source": [
        "### Формула расчета количества парных сравнений выборок\n",
        "\n",
        "$$k = \\frac{M * (M - 1)}{2}$$\n",
        "где M количество выборок"
      ],
      "metadata": {
        "id": "ew-dVl3mTXai",
        "pycharm": {
          "name": "#%% md\n"
        }
      }
    },
    {
      "cell_type": "markdown",
      "source": [
        "### Поправка Бонферрони\n",
        "\n",
        "$$\\frac {0,05}{k}$$\n",
        "где k — количество парных сравнений, 0,05 — p-value\n",
        "\n"
      ],
      "metadata": {
        "id": "5XM1sHr2Ul_s",
        "pycharm": {
          "name": "#%% md\n"
        }
      }
    },
    {
      "cell_type": "code",
      "execution_count": null,
      "metadata": {
        "id": "QkrZhp5QTd9K",
        "outputId": "2db006fe-552a-4055-c7e4-cbb881032467",
        "pycharm": {
          "name": "#%%\n"
        }
      },
      "outputs": [
        {
          "data": {
            "image/png": "[encoded data removed]",
            "text/plain": [
              "<Figure size 1440x288 with 4 Axes>"
            ]
          },
          "metadata": {},
          "output_type": "display_data"
        }
      ],
      "source": [
        "fig, axs = plt.subplots(ncols=4, figsize=(20, 4))\n",
        "n_samples = [2, 4, 8, 16]\n",
        "fig.suptitle('Процент ошибок при попарном сравнение выборок t-критерием с корректировкой уровня значимости')\n",
        "\n",
        "for n, ax in zip(n_samples, axs):\n",
        "    alpha = 0.05/((n*(n-1))/2)\n",
        "    pair_t_test(1000, n, 100, ax, alpha)\n",
        "    ax.set_title(f'{n} samples')"
      ]
    },
    {
      "cell_type": "markdown",
      "metadata": {
        "id": "lQlDrtNoTd9K",
        "pycharm": {
          "name": "#%% md\n"
        }
      },
      "source": [
        "Поправка Бонферрони критикуется за ее черезмерную консервативность, которая значительно снижает шанс найти реальные значимые различия \n",
        "\n",
        "Однако в данном случае эта будет архконсервативная корректировка, которая имеет меньше вероятность найти реальные значения. По сути мы **уменьшаем шанс получить ошибку I рода, но увеличиваем шанс на ошибку II рода**.\n",
        "\n",
        "### Ошибки первого и второго рода\n",
        "\n",
        "Оши́бка пе́рвого ро́да (α-ошибка, ложноположительное заключение) — ситуация, когда отвергнута верная нулевая гипотеза (об отсутствии связи между явлениями или искомого эффекта).\n",
        "\n",
        "Оши́бка второ́го ро́да (β-ошибка, ложноотрицательное заключение) — ситуация, когда принята неверная нулевая гипотеза.\n",
        "\n",
        "<img src='https://github.com/KlukvaMors/basic_stat/blob/main/img/error_types.jpeg?raw=1'/>"
      ]
    },
    {
      "cell_type": "markdown",
      "source": [
        "### Критерий Тьюки\n",
        "Критерий Тьюки используется для проверки нулевой гипотезы H0:μB=μA против альтернативной гипотезы HA:μB≠μA, где индексы A и B обозначают любые две сравниваемые группы. При наличии m групп всего возможно выполнить: \n",
        "$$\\frac{m * (m-1)}{2} $$\n",
        "попарных сравнений.\n",
        "\n",
        "Первый шаг заключается в упорядочивании всех имеющихся групповых средних значений по возрастанию (от 1 до m). Далее выполняют попарные сравнения этих средних так, что сначала сравнивают наибольшее среднее с наименьшим, т.е. \n",
        "m-ое с 1-ым, затем m-ое со 2-ым, 3-м, и т.д. вплоть до (m−1)-го. \n",
        "\n",
        "Затем предпоследнее среднее, (m−1)-ое, тем же образом сравнивают с 1-ым, 2-ым, и т.д. до (m−2)-го. Эти сравнения продолжаются до тех пор, пока не будут перебраны все пары.\n",
        "\n",
        "Указанные сравнения выполняются при помощи критерия Тьюки, который представляет собой модифицированный критерий Стьюдента:\n",
        "$$q = \\frac{\\bar{x}_{B}-\\bar{x}_{A}}{SE} $$\n",
        "\n",
        "Отличие от критерия Стьюдента заключается в том, как рассчитывается стандартная ошибка \n",
        "$$SE = \\sqrt{\\frac{MS_{within}}{n}}$$, где MSwithin рассчитываемая в ходе дисперсионного анализа внутригрупповая дисперсия, n количество наблюдений в выборке. \n",
        "\n",
        "Приведенная формула для критерия Тьюки верна для случаев, когда все сравниваемые группы содержат одинаковое число наблюдений, n. Если сравниваемые группы неодинаковы по размеру, стандартная ошибка будет рассчитываться следующим образом:\n",
        "$$SE = \\sqrt{\\frac{MS_{within}}{2}(\\frac{1}{n_{B}}+ \\frac{1}{n_{A}})}$$\n",
        "\n",
        "Благодаря тому обстоятельству, что в приведенные выше формулы стандартной ошибки входит внутригрупповая дисперсия MSwithin, обеспечивается контроль над групповой вероятностью ошибки первого рода. Именно это делает критерий Тьюки подходящим критерием для выполнения большого числа попарных сравнений групповых средних.\n",
        "\n",
        "Проверяемые нулевые гипотезы принимают или отвергают либо путем сравнения получаемых значений критерия q с определенным критическим значением для выбранного уровня значимости, либо рассчитывая соответствующие Р-значения. \n"
      ],
      "metadata": {
        "id": "ra_akTOAYcR_",
        "pycharm": {
          "name": "#%% md\n"
        }
      }
    },
    {
      "cell_type": "markdown",
      "source": [
        "### Пример\n",
        "<img src='https://raw.githubusercontent.com/betelgeus/fundamentals_of_statistics_notes/main/img/Снимок%20экрана%202022-09-07%20в%2018.22.04.png' width='800 px'>"
      ],
      "metadata": {
        "id": "boYZ_HQ1jH1n",
        "pycharm": {
          "name": "#%% md\n"
        }
      }
    },
    {
      "cell_type": "code",
      "source": [
        "from scipy import stats\n",
        "import itertools\n",
        "import math\n",
        "import pandas as pd\n",
        "import numpy as np\n",
        "from scipy.stats import studentized_range\n",
        "\n",
        "URL = 'https://stepik.org/media/attachments/lesson/8083/genetherapy.csv'\n",
        "data = pd.read_csv(URL)\n",
        "\n",
        "def ssdev( xs ):\n",
        "    mu = xs.mean() \n",
        "    square_deviation = lambda x : (x - mu) ** 2 \n",
        "    return sum( map(square_deviation, xs) )\n",
        "\n",
        "\n",
        "SSW = sum(data.groupby('Therapy').apply(lambda g: ssdev(np.array(g)))) \n",
        "# Out: 1302.2666666666669\n",
        "\n",
        "dfSSW = len(data.expr) - len(data.Therapy.unique()) # Out: 56\n",
        "MSw = SSW/dfSSW # Out: 186.90555556\n",
        "SE = math.sqrt(MSw/15) #Out: 1.2451174509525864\n",
        "\n",
        "combinations = list(itertools.combinations(data.Therapy.unique(), 2))\n",
        "#Out: [('A', 'B'), ('A', 'C'), ('A', 'D'), ('B', 'C'), ('B', 'D'), ('C', 'D')]\n",
        "\n",
        "n_group = len(data.Therapy.unique()) #Out: 4\n",
        "dfSSW = len(data.expr) - len(data.Therapy.unique()) #Out:56\n",
        "\n",
        "\n",
        "alpha = 0.05\n",
        "q_crit = studentized_range.ppf(1-alpha, n_group, dfSSW) # Out: 3.7446781868177195\n",
        "\n",
        "df = pd.DataFrame(columns=[f'{first} - {second}' for first, second in combinations], \n",
        "                 index=['q','meandiff','p-adj','lower','upper'])\n",
        "\n",
        "means = data.groupby('Therapy').mean().T\n",
        "\n",
        "for first, second in combinations:\n",
        "    key = f'{first} - {second}'\n",
        "    first_second_mean = [means[first].expr, means[second].expr]\n",
        "    _q = (max(first_second_mean) - min(first_second_mean))/SE\n",
        "    _meandiff = (means[second].expr - means[first].expr)\n",
        "    df[key]['q'] = _q\n",
        "    df[key]['meandiff'] = _meandiff\n",
        "    df[key]['p-adj'] = 1-studentized_range.cdf(_q, n_group, dfSSW)\n",
        "    df[key]['upper'] = _meandiff+ q_crit*SE\n",
        "    df[key]['lower'] = _meandiff- q_crit*SE\n",
        "\n",
        "df.T"
      ],
      "metadata": {
        "colab": {
          "base_uri": "https://localhost:8080/",
          "height": 235
        },
        "id": "JEe5nURih5Ri",
        "outputId": "421e3cc7-bc6a-4794-eaa3-5da8fd34d7a1",
        "pycharm": {
          "name": "#%%\n"
        }
      },
      "execution_count": null,
      "outputs": [
        {
          "output_type": "execute_result",
          "data": {
            "text/plain": [
              "              q  meandiff     p-adj      lower     upper\n",
              "A - B  0.749595 -0.933333   0.95142  -5.595897  3.729231\n",
              "A - C  4.283398 -5.333333  0.018886  -9.995897 -0.670769\n",
              "A - D  5.943214      -7.4  0.000542 -12.062564 -2.737436\n",
              "B - C  3.533803      -4.4  0.071041  -9.062564  0.262564\n",
              "B - D   5.19362 -6.466667  0.002944 -11.129231 -1.804103\n",
              "C - D  1.659817 -2.066667  0.645794  -6.729231  2.595897"
            ],
            "text/html": [
              "\n",
              "  <div id=\"df-e4098bcd-4eb7-4490-860a-a8ef146f1f7c\">\n",
              "    <div class=\"colab-df-container\">\n",
              "      <div>\n",
              "<style scoped>\n",
              "    .dataframe tbody tr th:only-of-type {\n",
              "        vertical-align: middle;\n",
              "    }\n",
              "\n",
              "    .dataframe tbody tr th {\n",
              "        vertical-align: top;\n",
              "    }\n",
              "\n",
              "    .dataframe thead th {\n",
              "        text-align: right;\n",
              "    }\n",
              "</style>\n",
              "<table border=\"1\" class=\"dataframe\">\n",
              "  <thead>\n",
              "    <tr style=\"text-align: right;\">\n",
              "      <th></th>\n",
              "      <th>q</th>\n",
              "      <th>meandiff</th>\n",
              "      <th>p-adj</th>\n",
              "      <th>lower</th>\n",
              "      <th>upper</th>\n",
              "    </tr>\n",
              "  </thead>\n",
              "  <tbody>\n",
              "    <tr>\n",
              "      <th>A - B</th>\n",
              "      <td>0.749595</td>\n",
              "      <td>-0.933333</td>\n",
              "      <td>0.95142</td>\n",
              "      <td>-5.595897</td>\n",
              "      <td>3.729231</td>\n",
              "    </tr>\n",
              "    <tr>\n",
              "      <th>A - C</th>\n",
              "      <td>4.283398</td>\n",
              "      <td>-5.333333</td>\n",
              "      <td>0.018886</td>\n",
              "      <td>-9.995897</td>\n",
              "      <td>-0.670769</td>\n",
              "    </tr>\n",
              "    <tr>\n",
              "      <th>A - D</th>\n",
              "      <td>5.943214</td>\n",
              "      <td>-7.4</td>\n",
              "      <td>0.000542</td>\n",
              "      <td>-12.062564</td>\n",
              "      <td>-2.737436</td>\n",
              "    </tr>\n",
              "    <tr>\n",
              "      <th>B - C</th>\n",
              "      <td>3.533803</td>\n",
              "      <td>-4.4</td>\n",
              "      <td>0.071041</td>\n",
              "      <td>-9.062564</td>\n",
              "      <td>0.262564</td>\n",
              "    </tr>\n",
              "    <tr>\n",
              "      <th>B - D</th>\n",
              "      <td>5.19362</td>\n",
              "      <td>-6.466667</td>\n",
              "      <td>0.002944</td>\n",
              "      <td>-11.129231</td>\n",
              "      <td>-1.804103</td>\n",
              "    </tr>\n",
              "    <tr>\n",
              "      <th>C - D</th>\n",
              "      <td>1.659817</td>\n",
              "      <td>-2.066667</td>\n",
              "      <td>0.645794</td>\n",
              "      <td>-6.729231</td>\n",
              "      <td>2.595897</td>\n",
              "    </tr>\n",
              "  </tbody>\n",
              "</table>\n",
              "</div>\n",
              "      <button class=\"colab-df-convert\" onclick=\"convertToInteractive('df-e4098bcd-4eb7-4490-860a-a8ef146f1f7c')\"\n",
              "              title=\"Convert this dataframe to an interactive table.\"\n",
              "              style=\"display:none;\">\n",
              "        \n",
              "  <svg xmlns=\"http://www.w3.org/2000/svg\" height=\"24px\"viewBox=\"0 0 24 24\"\n",
              "       width=\"24px\">\n",
              "    <path d=\"M0 0h24v24H0V0z\" fill=\"none\"/>\n",
              "    <path d=\"M18.56 5.44l.94 2.06.94-2.06 2.06-.94-2.06-.94-.94-2.06-.94 2.06-2.06.94zm-11 1L8.5 8.5l.94-2.06 2.06-.94-2.06-.94L8.5 2.5l-.94 2.06-2.06.94zm10 10l.94 2.06.94-2.06 2.06-.94-2.06-.94-.94-2.06-.94 2.06-2.06.94z\"/><path d=\"M17.41 7.96l-1.37-1.37c-.4-.4-.92-.59-1.43-.59-.52 0-1.04.2-1.43.59L10.3 9.45l-7.72 7.72c-.78.78-.78 2.05 0 2.83L4 21.41c.39.39.9.59 1.41.59.51 0 1.02-.2 1.41-.59l7.78-7.78 2.81-2.81c.8-.78.8-2.07 0-2.86zM5.41 20L4 18.59l7.72-7.72 1.47 1.35L5.41 20z\"/>\n",
              "  </svg>\n",
              "      </button>\n",
              "      \n",
              "  <style>\n",
              "    .colab-df-container {\n",
              "      display:flex;\n",
              "      flex-wrap:wrap;\n",
              "      gap: 12px;\n",
              "    }\n",
              "\n",
              "    .colab-df-convert {\n",
              "      background-color: #E8F0FE;\n",
              "      border: none;\n",
              "      border-radius: 50%;\n",
              "      cursor: pointer;\n",
              "      display: none;\n",
              "      fill: #1967D2;\n",
              "      height: 32px;\n",
              "      padding: 0 0 0 0;\n",
              "      width: 32px;\n",
              "    }\n",
              "\n",
              "    .colab-df-convert:hover {\n",
              "      background-color: #E2EBFA;\n",
              "      box-shadow: 0px 1px 2px rgba(60, 64, 67, 0.3), 0px 1px 3px 1px rgba(60, 64, 67, 0.15);\n",
              "      fill: #174EA6;\n",
              "    }\n",
              "\n",
              "    [theme=dark] .colab-df-convert {\n",
              "      background-color: #3B4455;\n",
              "      fill: #D2E3FC;\n",
              "    }\n",
              "\n",
              "    [theme=dark] .colab-df-convert:hover {\n",
              "      background-color: #434B5C;\n",
              "      box-shadow: 0px 1px 3px 1px rgba(0, 0, 0, 0.15);\n",
              "      filter: drop-shadow(0px 1px 2px rgba(0, 0, 0, 0.3));\n",
              "      fill: #FFFFFF;\n",
              "    }\n",
              "  </style>\n",
              "\n",
              "      <script>\n",
              "        const buttonEl =\n",
              "          document.querySelector('#df-e4098bcd-4eb7-4490-860a-a8ef146f1f7c button.colab-df-convert');\n",
              "        buttonEl.style.display =\n",
              "          google.colab.kernel.accessAllowed ? 'block' : 'none';\n",
              "\n",
              "        async function convertToInteractive(key) {\n",
              "          const element = document.querySelector('#df-e4098bcd-4eb7-4490-860a-a8ef146f1f7c');\n",
              "          const dataTable =\n",
              "            await google.colab.kernel.invokeFunction('convertToInteractive',\n",
              "                                                     [key], {});\n",
              "          if (!dataTable) return;\n",
              "\n",
              "          const docLinkHtml = 'Like what you see? Visit the ' +\n",
              "            '<a target=\"_blank\" href=https://colab.research.google.com/notebooks/data_table.ipynb>data table notebook</a>'\n",
              "            + ' to learn more about interactive tables.';\n",
              "          element.innerHTML = '';\n",
              "          dataTable['output_type'] = 'display_data';\n",
              "          await google.colab.output.renderOutput(dataTable, element);\n",
              "          const docLink = document.createElement('div');\n",
              "          docLink.innerHTML = docLinkHtml;\n",
              "          element.appendChild(docLink);\n",
              "        }\n",
              "      </script>\n",
              "    </div>\n",
              "  </div>\n",
              "  "
            ]
          },
          "metadata": {},
          "execution_count": 1
        }
      ]
    },
    {
      "cell_type": "markdown",
      "metadata": {
        "id": "i6lExSc-Td9K",
        "pycharm": {
          "name": "#%% md\n"
        }
      },
      "source": [
        "## Многофакторный ANOVA\n",
        "**Простыми словами на примере котиков, песиков и слоников**\n",
        "\n",
        "На размер животного может влиять несколько факторовов, например: вид и питание.При этом на котиков, песиков и слоников фактор питания может влиять по-разному. Так, мясная диета будет очень нравиться котикам и песикам, в то время как слоники от нее загрустят и будут голодать.\n",
        "\n",
        "Чтобы разобраться во всех этих влияниях, статистики пользуются многофакторным дисперсионным анализом. Простейший из них – двухфакторный – разбивает дисперсию на четыре части. Первая отвечает за влияние вида на размер, вторая – за влияние диеты, третья – за взаимодействие этих факторов.\n",
        "\n",
        "Проверяем мы три нулевые гипотезы.\n",
        "1. Биологический вид не связан с размером. \n",
        "2. Диета не связана с размером.\n",
        "3. Диета действует на всех животных одинаково.\n",
        "\n",
        "<img src=\"https://raw.githubusercontent.com/betelgeus/fundamentals_of_statistics_notes/main/img/Снимок%20экрана%202022-09-08%20в%2011.01.39.png\" width=\"400px\">\n",
        "\n",
        "Для интерпретации результатов двухфакторного дисперсионного анализа легче всего воспользоваться графиком выше. Он отражает и средние значения, и дисперсию, и влияние каждого фактора, и их взаимодействие.\n",
        "В частности из этого графика мы можем сделать следующие выводы.\n",
        "1. В среднем самые большие животные – слоники, а самые маленькие – котики.\n",
        "2. Диета по-разному влияет на животных в зависимости от вида. Котики, будучи облигатными хищниками, лучше растут при мясной диете, слоники – наоборот, а вот песикам по большому счету все равно, что есть.\n",
        "3. Если не учитывать влияние вида, то разные формы диеты не влияют на средний размер животных.\n",
        "Если бы такое влияние существовало, то и котики, и песики, и слоники вырастали бы больше при употреблении мяса, чем при употреблении капусты.\n",
        "Дисперсионные анализы для трех и более факторов строятся подобным образом: мы проверяем влияние каждого фактора, а также все возможные взаимодействия между ними.\n",
        "\n"
      ]
    },
    {
      "cell_type": "markdown",
      "source": [
        "### Примеры с курса\n",
        "\n",
        "<img src=\"https://raw.githubusercontent.com/betelgeus/fundamentals_of_statistics_notes/main/img/Снимок%20экрана%202022-09-09%20в%2022.14.54.png\" width=\"600px\"/>\n",
        "\n",
        "<img src=\"https://raw.githubusercontent.com/betelgeus/fundamentals_of_statistics_notes/main/img/Снимок%20экрана%202022-09-09%20в%2022.15.16.png\" width=\"600px\"/>"
      ],
      "metadata": {
        "id": "TDLnXxjIrEHS",
        "pycharm": {
          "name": "#%% md\n"
        }
      }
    },
    {
      "cell_type": "markdown",
      "source": [
        "### Важные нюансы\n",
        "- Дисперсионный анализ очень чувствителен к выбросам поэтому крайне важно следить за гомогенностью (однородностью) дисперсии\n",
        "- Дисперсионный анализ также чувствителен к ненормальности распределения. Перед анализом данных необходимо проверить распределение на нормальность (QQ plot)\n",
        "- Если есть выбросы и данные распределяются ненормально, то лучше использовать непараметрическими способами анализа. Например, H-критерием Краскела-Уоллеса.\n",
        "- Один фактор может значительно влиять на другой фактор "
      ],
      "metadata": {
        "id": "9usV8KMbsNb2",
        "pycharm": {
          "name": "#%% md\n"
        }
      }
    },
    {
      "cell_type": "code",
      "source": [
        "# Full version: https://github.com/betelgeus/fundamentals_of_statistics_notes/blob/2da3cc9d8a3c5ed5afcc48114d13f242c1c69f8a/Two_factor_dispersion.py\n",
        "import pandas as pd\n",
        "import numpy as np\n",
        "import matplotlib.pyplot as plt\n",
        "import scipy.stats as stats\n",
        "import seaborn as sns\n",
        "import statsmodels.api as sm\n",
        "from statsmodels.formula.api import ols\n",
        "\n",
        "url = 'https://raw.githubusercontent.com/betelgeus/fundamentals_of_statistics_notes/main/data/atherosclerosis.csv'\n",
        "df = pd.read_csv(url, header=None, sep=',')\n",
        "\n",
        "df.columns = df.iloc[0]\n",
        "df_cleaned = df.iloc[pd.RangeIndex(len(df)).drop(0)]\n",
        "df_cleaned.expr = pd.to_numeric(df_cleaned['expr'], errors='coerce')\n",
        "for i in range(len(df_cleaned)):\n",
        "    if df_cleaned.iat[i, 1] == '1':\n",
        "        df_cleaned.iat[i, 1] = 'Young'\n",
        "        if df_cleaned.iat[i, 2] == 'D1':\n",
        "            df_cleaned.iat[i, 2] = 'Low'\n",
        "        elif df_cleaned.iat[i, 2] == 'D2':\n",
        "            df_cleaned.iat[i, 2] = 'High'\n",
        "    elif df_cleaned.iat[i, 1] == '2':\n",
        "        df_cleaned.iat[i, 1] = 'Old'\n",
        "        if df_cleaned.iat[i, 2] == 'D1':\n",
        "            df_cleaned.iat[i, 2] = 'Low'\n",
        "        elif df_cleaned.iat[i, 2] == 'D2':\n",
        "            df_cleaned.iat[i, 2] = 'High'\n",
        "\n",
        "sns.set()\n",
        "sns.pointplot(data=df_cleaned, x='dose', y='expr', hue='age', dodge=True, capsize=.1, errwidth=1, palette='colorblind')\n",
        "plt.show()\n",
        "\n",
        "expr_lm = ols('expr ~ age+dose', data=df_cleaned).fit()\n",
        "table_1 = sm.stats.anova_lm(expr_lm, type=2)\n",
        "print(table_1)\n",
        "\n",
        "expr_lm = ols('expr ~ age*dose', data=df_cleaned).fit()\n",
        "table_2 = sm.stats.anova_lm(expr_lm, type=2)\n",
        "print(table_2)"
      ],
      "metadata": {
        "id": "HPOtduVMp7j3",
        "outputId": "9cbb1934-5b31-4344-b0c6-31d8143f9f0d",
        "colab": {
          "base_uri": "https://localhost:8080/",
          "height": 543
        },
        "pycharm": {
          "name": "#%%\n"
        }
      },
      "execution_count": null,
      "outputs": [
        {
          "output_type": "stream",
          "name": "stderr",
          "text": [
            "/usr/local/lib/python3.7/dist-packages/pandas/core/generic.py:5516: SettingWithCopyWarning: \n",
            "A value is trying to be set on a copy of a slice from a DataFrame.\n",
            "Try using .loc[row_indexer,col_indexer] = value instead\n",
            "\n",
            "See the caveats in the documentation: https://pandas.pydata.org/pandas-docs/stable/user_guide/indexing.html#returning-a-view-versus-a-copy\n",
            "  self[name] = value\n"
          ]
        },
        {
          "output_type": "display_data",
          "data": {
            "text/plain": [
              "<Figure size 432x288 with 1 Axes>"
            ],
            "image/png": "[encoded data removed]"
          },
          "metadata": {}
        },
        {
          "output_type": "stream",
          "name": "stdout",
          "text": [
            "            df       sum_sq     mean_sq         F    PR(>F)\n",
            "age        1.0   197.452754  197.452754  7.569592  0.007804\n",
            "dose       1.0    16.912241   16.912241  0.648351  0.423830\n",
            "Residual  61.0  1591.184501   26.084992       NaN       NaN\n",
            "            df       sum_sq     mean_sq         F    PR(>F)\n",
            "age        1.0   197.452754  197.452754  7.449841  0.008313\n",
            "dose       1.0    16.912241   16.912241  0.638094  0.427552\n",
            "age:dose   1.0     0.927077    0.927077  0.034978  0.852272\n",
            "Residual  60.0  1590.257424   26.504290       NaN       NaN\n"
          ]
        }
      ]
    },
    {
      "cell_type": "markdown",
      "metadata": {
        "id": "bq2-3ryjTd9L",
        "pycharm": {
          "name": "#%% md\n"
        }
      },
      "source": [
        "<hr>"
      ]
    },
    {
      "cell_type": "markdown",
      "metadata": {
        "id": "uyGyL2CVTd9L",
        "pycharm": {
          "name": "#%% md\n"
        }
      },
      "source": [
        "# Часть 3"
      ]
    },
    {
      "cell_type": "markdown",
      "metadata": {
        "id": "Yc7cWMg3Td9L",
        "pycharm": {
          "name": "#%% md\n"
        }
      },
      "source": [
        "## Корреляция\n",
        "\n",
        "### Ковариация \n",
        "\n",
        "(ко - совместная, вариация - изменчивость). Мера **линейной** зависимости двух случайных величин.\n",
        "\n",
        "Если ковариация положительна, то с ростом значений одной случайной величины, значения второй имеют тенденцию возрастать, а если знак отрицательный — то убывать.\n",
        "\n",
        "$$ cov(X, Y) = \\frac{\\sum{(x_i - \\bar{x})(y_i - \\bar{x})}}{N - 1} $$\n",
        "где N - количество случайных величин, а единица - количество степеней свободы.\n",
        "\n",
        "Однако только по **абсолютному** значению ковариации **нельзя судить** о том, **насколько сильно величины взаимосвязаны**, так как масштаб ковариации зависит от их дисперсий. Значение ковариации можно нормировать, поделив её на произведение среднеквадратических отклонений (квадратных корней из дисперсий) случайных величин. Полученная величина называется коэффициентом корреляции Пирсона, который всегда находится в интервале от −1 до 1:"
      ]
    },
    {
      "cell_type": "markdown",
      "metadata": {
        "id": "NiPhxoRETd9L",
        "pycharm": {
          "name": "#%% md\n"
        }
      },
      "source": [
        "\n",
        "$$ r(x, y) = \\frac{cov(x, y)}{\\sigma_x\\sigma_y}$$"
      ]
    },
    {
      "cell_type": "markdown",
      "metadata": {
        "id": "AKaazfldTd9L",
        "pycharm": {
          "name": "#%% md\n"
        }
      },
      "source": [
        "### Подробнее про формулу корреляции\n",
        "\n",
        "Давайте остановимся на формуле коэффициента корреляции, которую мы получили:\n",
        "$$ r(x, y) = \\frac{cov(x, y)}{\\sigma_x\\sigma_y}$$\n",
        "запишем формулу чуть подробнее и выполним возможные преобразования:\n",
        "\n",
        "$$ r(x, y) = \\frac{\\sum{(x_i - \\bar{x})(y_i - \\bar{y})}}{(N - 1)\\sqrt{\\sum{\\frac{(x_i - \\bar{x})^2}{N-1}}}\\sqrt{\\sum{\\frac{(y_i - \\bar{y})^2}{N-1}}}} $$\n",
        "\n",
        "теперь вынесем 1/ (N - 1) из под корней \n",
        "\n",
        "$$ r(x, y) = \\frac{\\sum{(x_i - \\bar{x})(y_i - \\bar{y})}}{(N - 1)\\frac{1}{(N-1)}\\sqrt{\\sum{(x_i - \\bar{x})^2}}\\sqrt{\\sum{(y_i - \\bar{y})^2}}} $$\n",
        "\n",
        "и сократим (N - 1)\n",
        "\n",
        "$$ r(x, y) = \\frac{\\sum{(x_i - \\bar{x})(y_i - \\bar{y})}}{\\sqrt{\\sum{(x_i - \\bar{x})^2}}\\sqrt{\\sum{(y_i - \\bar{y})^2}}} $$\n",
        "\n",
        "таким образом, мы сократили N - 1 в знаменателе и получили финальную формулу для коэффициента корреляции, которую вы часто сможете встретить в учебниках:\n",
        "\n",
        "$$ r(x, y) = \\frac{\\sum{(x_i - \\bar{x})(y_i - \\bar{y})}}{\\sqrt{\\sum{(x_i - \\bar{x})^2}\\sum{(y_i - \\bar{y})^2}}} $$"
      ]
    },
    {
      "cell_type": "markdown",
      "metadata": {
        "id": "zrba30GmTd9M",
        "pycharm": {
          "name": "#%% md\n"
        }
      },
      "source": [
        "### Примеры 3.1"
      ]
    },
    {
      "cell_type": "code",
      "execution_count": null,
      "metadata": {
        "id": "UlvX8RoCTd9M",
        "pycharm": {
          "name": "#%%\n"
        }
      },
      "outputs": [],
      "source": [
        "'''Демонстрация работы ковариации и корреляции'''\n",
        "import numpy as np\n",
        "import random as r\n",
        "\n",
        "def cov(x, y):\n",
        "    assert x.size == y.size\n",
        "    return ((x - x.mean()) * (y - y.mean())).sum()/(x.size - 1)\n",
        "\n",
        "def cor(x, y):\n",
        "    return cov(x, y)/(np.std(x, ddof=1)*np.std(y, ddof=1))\n",
        "\n",
        "# функция имитирущая случаные факторы\n",
        "# р - настолько существенным будет случайный фактор\n",
        "def randomize(arr, p):\n",
        "    alpha = np.max(arr) - np.min(arr)\n",
        "    res = np.zeros(arr.shape)\n",
        "    for i, v in enumerate(arr):\n",
        "        sign = 1 if r.choice([True, False]) else -1\n",
        "        res[i] = v + sign*alpha*r.random()*p\n",
        "    return res"
      ]
    },
    {
      "cell_type": "code",
      "execution_count": null,
      "metadata": {
        "id": "FKtYHB3UTd9M",
        "pycharm": {
          "name": "#%%\n"
        }
      },
      "outputs": [],
      "source": [
        "np.random.seed(0)\n",
        "# mean = 1.5, stddev = 2.5\n",
        "x = 2.5 * np.random.randn(500) + 1.5\n",
        "# generate 100 residual terms\n",
        "res = 0.5 * np.random.randn(500)\n",
        "# Actual values of Y\n",
        "y = 1 + 0.3 * x + res\n",
        "y1 = randomize(y, 0.5)\n",
        "y2 = randomize(y, 2)"
      ]
    },
    {
      "cell_type": "code",
      "execution_count": null,
      "metadata": {
        "id": "VdyDM3HdTd9M",
        "outputId": "01c00e97-ba17-4b23-f140-b41c54e5e8a3",
        "colab": {
          "base_uri": "https://localhost:8080/",
          "height": 227
        },
        "pycharm": {
          "name": "#%%\n"
        }
      },
      "outputs": [
        {
          "output_type": "display_data",
          "data": {
            "text/plain": [
              "<Figure size 1152x216 with 3 Axes>"
            ],
            "image/png": "[encoded data removed]"
          },
          "metadata": {
            "needs_background": "light"
          }
        }
      ],
      "source": [
        "import matplotlib.pyplot as plt\n",
        "\n",
        "fig, (ax1, ax2, ax3) = plt.subplots(1, 3, figsize=(16, 3))\n",
        "ax1.scatter(x, y)\n",
        "ax2.scatter(x, y1)\n",
        "ax3.scatter(x, y2)\n",
        "ax1.set_title('высокая корреляция')\n",
        "ax2.set_title('средняя корреляция')\n",
        "ax3.set_title('низкая корреляция')\n",
        "plt.show()"
      ]
    },
    {
      "cell_type": "code",
      "execution_count": null,
      "metadata": {
        "id": "wE5gTq25Td9N",
        "outputId": "95a2ba9d-02b3-48f6-c16e-d5044ec2ca4f",
        "pycharm": {
          "name": "#%%\n"
        }
      },
      "outputs": [
        {
          "name": "stdout",
          "output_type": "stream",
          "text": [
            "\n",
            "cov1: 75.61\n",
            "cov2: 77.81\n",
            "cov3: 86.23\n",
            "\n",
            "cor1: 0.98\n",
            "cor2: 0.75\n",
            "cor3: 0.51\n",
            "\n"
          ]
        }
      ],
      "source": [
        "print(f'''\n",
        "cov1: {cov(x, y):.2f}\n",
        "cov2: {cov(x, y1):.2f}\n",
        "cov3: {cov(x, y2):.2f}\n",
        "\n",
        "cor1: {cor(x, y):.2f}\n",
        "cor2: {cor(x, y1):.2f}\n",
        "cor3: {cor(x, y2):.2f}\n",
        "''')"
      ]
    },
    {
      "cell_type": "markdown",
      "source": [
        "## Условия применения\n",
        "<img src='https://raw.githubusercontent.com/betelgeus/fundamentals_of_statistics_notes/main/img/Снимок%20экрана%202022-09-26%20в%2014.41.32.png' width='600px'/>\n",
        "\n",
        "\n",
        "**Если есть значительные выбросы**\n",
        "\n",
        "Используют нелинейный непараметрический коэффициент корреляции Спирмена\n",
        "$$ r_s = 1 - \\frac{6 \\sum_i d_i^2}{N(N^2 -1 )}$$\n",
        "где, d — разница рангов X и Y; N — количество парных наблюдений (наблюдение это точка на графике, X и Y)  "
      ],
      "metadata": {
        "id": "TqiVb2rwd58f",
        "pycharm": {
          "name": "#%% md\n"
        }
      }
    },
    {
      "cell_type": "markdown",
      "metadata": {
        "id": "ZlKbOOu-Td9N",
        "pycharm": {
          "name": "#%% md\n"
        }
      },
      "source": [
        "## Регрессия с одной независимой переменной\n",
        "\n",
        "В этой и следующих главах мы научимся работать  с **одномерным регрессионным анализом**, который позволяет проверять гипотезы о взаимосвязи одной  количественной зависимой переменной и нескольких независимых.\n",
        "\n",
        "Сначала мы познакомимся с самым простым вариантом -  простой **линейной регрессией**, при помощи которой можно исследовать взаимосвязь двух переменных. Затем перейдем к множественной регрессии с несколькими независимыми переменными.\n",
        "\n",
        "Линейная регрессия (англ. Linear regression) — используемая в статистике регрессионная модель зависимости одной (объясняемой, зависимой) переменной $y$ от другой или нескольких других переменных (факторов, регрессоров, независимых переменных или предикторов) $x$ с **линейной функцией зависимости**.\n",
        "\n",
        "В общем виде функция линейной регрессии выглядит как:\n",
        "\n",
        "$$ y = b_0 + b_1x $$\n",
        "$b_0$ - (intercept) значение точки пересечения линии с осью Y \n",
        "\n",
        "$b_1$ - (slope) задаёт наклон и направление линии регрессии\n",
        "\n",
        "\n",
        "Строят регрессионную прямую методом наименьших квадратов (МНК)\n",
        "\n",
        "МНК (метод наименьших квадратов) - это способ нахождения оптимальных параметров линейной регресссии ($b_0$,  $b_1$), таких, что сумма квадратов ошибок (остатков) была минимальная.\n",
        "Остаток — это разница между значением реальной точки на графике и значением, которое предсказывает регрессионная прямая.  \n",
        "$$e_1 = y_1 - \\hat{y}$$\n",
        "$$\\sum e_i ^ 2$$\n",
        "где, e — остаток, y1 — реальное значение, ^y - прогноз\n",
        "\n",
        "Формула расчета оптимальных значений b1 и b0 для наилучшей регрессионной прямой:\n",
        "$$ b_1 = \\frac{sd_y}{sd_x}r_{xy} $$\n",
        "$$ b_0 = \\bar{Y} - b_1\\bar{X} $$\n",
        "\n"
      ]
    },
    {
      "cell_type": "markdown",
      "source": [
        "# Примеры"
      ],
      "metadata": {
        "id": "bycqsxS3DI62",
        "pycharm": {
          "name": "#%% md\n"
        }
      }
    },
    {
      "cell_type": "code",
      "execution_count": null,
      "metadata": {
        "id": "bqabpsGETd9N",
        "outputId": "7f29f126-7779-41a9-af13-59647cfbee08",
        "colab": {
          "base_uri": "https://localhost:8080/",
          "height": 227
        },
        "pycharm": {
          "name": "#%%\n"
        }
      },
      "outputs": [
        {
          "output_type": "display_data",
          "data": {
            "text/plain": [
              "<Figure size 1152x216 with 3 Axes>"
            ],
            "image/png": "[encoded data removed]"
          },
          "metadata": {
            "needs_background": "light"
          }
        }
      ],
      "source": [
        "# Демонстрация метода наименьших квадратов\n",
        "fig, (ax1, ax2, ax3) = plt.subplots(1, 3, figsize=(16, 3))\n",
        "b1 = y.std()/x.std()*cor(x, y)\n",
        "b0 = y.mean() - b1*x.mean()\n",
        "f = lambda x: b0 + b1*x\n",
        "y_pred = f(x)\n",
        "ax1.scatter(x, y)\n",
        "ax1.set_title('Высокая корреляция')\n",
        "ax1.plot(x, y_pred, color='r')\n",
        "b1 = y1.std()/x.std()*cor(x, y1)\n",
        "b0 = y1.mean() - b1*x.mean()\n",
        "f = lambda x: b0 + b1*x\n",
        "y_pred = f(x)\n",
        "ax2.scatter(x, y1)\n",
        "ax2.set_title('Средняя корреляция')\n",
        "ax2.plot(x, y_pred, color='r')\n",
        "b1 = y2.std()/x.std()*cor(x, y2)\n",
        "b0 = y2.mean() - b1*x.mean()\n",
        "f = lambda x: b0 + b1*x\n",
        "y_pred = f(x)\n",
        "ax3.scatter(x, y2)\n",
        "ax3.set_title('Низкая корреляция')\n",
        "ax3.plot(x, y_pred, color='r')\n",
        "plt.show()"
      ]
    },
    {
      "cell_type": "markdown",
      "metadata": {
        "id": "24UyZyIWTd9O",
        "pycharm": {
          "name": "#%% md\n"
        }
      },
      "source": [
        "## Гипотеза о значимости взаимосвязи\n",
        "b1 вычисляется по формуле:\n",
        "$$ b_1 = \\frac{sd_y}{sd_x}r_{xy} $$\n",
        ", где r это коэффициент корреляции.\n",
        "Соответственно, если взаимосвязи между переменными нет, то мы b1 = 0. Сформулируем гипотезы:\n",
        "- H0: b1 = 0\n",
        "- HA: b1 ≠ 0\n",
        "\n",
        "Делая выборки из генеральной совокупности, b1 должны нормально распределиться около нуля при верной H0.   \n",
        "\n",
        "\n",
        "## Коэффициент детерминации\n",
        "\n",
        "Коэффициент детерминации (R-квадрат) — это доля дисперсии зависимой переменной, объясняемая регрессионной моделью. Он показывает в какой степени дисперсия зависимой переменной обусловлена влиянием другой переменной. Коэффициент детерминации равен квадрату коррелиции, принимает значение [0, 1]. \n",
        "$$R^2 =1 - \\frac{SSres}{SStotal}$$\n",
        ", где SSres — это сумма квадратов остатков (ошибок), SStotal — это сумма квадратов отклонения от среднего. Если регрессионная модель плохо описывает зависимость X и Y и(или) такой зависимости нет, то R ~ 0. Напротив, при максимальной зависимости R ~ 1.\n",
        "\n",
        "<img src=\"https://raw.githubusercontent.com/betelgeus/fundamentals_of_statistics_notes/main/img/Снимок%20экрана%202022-09-26%20в%2016.21.46.png\" width=\"1000px\"/>\n",
        "\n"
      ]
    },
    {
      "cell_type": "markdown",
      "metadata": {
        "id": "cT0DeGxETd9O",
        "pycharm": {
          "name": "#%% md\n"
        }
      },
      "source": [
        "## Условия применения линейной регрессии с одним предиктором\n",
        "- линейная взаимосвязь X и Y\n",
        "- нормальное распределение остатков\n",
        "- гомоскедастичность — постоянная изменчивость остатков на всех уровнях независимой переменной"
      ]
    },
    {
      "cell_type": "markdown",
      "source": [
        "# Примеры"
      ],
      "metadata": {
        "id": "iTVVvAwuC8x2",
        "pycharm": {
          "name": "#%% md\n"
        }
      }
    },
    {
      "cell_type": "code",
      "source": [
        "import pandas as pd\n",
        "import seaborn as sns\n",
        "from statsmodels.formula.api import ols\n",
        "\n",
        "\n",
        "# Диагностика простых линейных регрессионных моделей.\n",
        "# Создаем датафреймы с данными из массивов координат x и y, y1, y2.\n",
        "# Обрати внимание на синтаксис: 'x': pd.Series(x)\n",
        "dataframe = pd.DataFrame({'x': pd.Series(x), 'y': pd.Series(y)})\n",
        "dataframe1 = pd.DataFrame({'x': pd.Series(x), 'y': pd.Series(y1)})\n",
        "dataframe2 = pd.DataFrame({'x': pd.Series(x), 'y': pd.Series(y2)})\n",
        "# Создаем модель по методу наименьших квадратов (OLS — ordinary least squares)\n",
        "# Синтаксис ols(формула, data=источник данных)\n",
        "ols_model = ols('y ~ x', data=dataframe).fit()\n",
        "ols_model1 = ols('y ~ x', data=dataframe1).fit()\n",
        "ols_model2 = ols('y ~ x', data=dataframe2).fit()\n",
        "\n",
        "# Residuals vs Fitted Plot\n",
        "# Предсказанные значения моделью\n",
        "model_fitted_y = ols_model.fittedvalues\n",
        "model_fitted_y1 = ols_model1.fittedvalues\n",
        "model_fitted_y2 = ols_model2.fittedvalues\n",
        "\n",
        "# Графики\n",
        "figure1, axes = plt.subplots(1, 3, figsize=(16,3))\n",
        "plot1 = sns.residplot(x=model_fitted_y, y='y', data=dataframe, lowess=True, scatter_kws={'alpha': 0.5},\n",
        "                     line_kws={'color': 'red', 'lw': 1, 'alpha': 0.8}, ax=axes[0])\n",
        "plot2 = sns.residplot(x=model_fitted_y1, y='y', data=dataframe1, lowess=True, scatter_kws={'alpha': 0.5},\n",
        "                     line_kws={'color': 'red', 'lw': 1, 'alpha': 0.8},  ax=axes[1])\n",
        "plot3 = sns.residplot(x=model_fitted_y2, y='y', data=dataframe2, lowess=True, scatter_kws={'alpha': 0.5},\n",
        "                     line_kws={'color': 'red', 'lw': 1, 'alpha': 0.8},  ax=axes[2])\n",
        "plot1.set_title('Высокая корреляция')\n",
        "plot1.set_xlabel('Fitted values')\n",
        "plot1.set_ylabel('Residuals')\n",
        "plot2.set_title('Средняя корреляция')\n",
        "plot2.set_xlabel('Fitted values')\n",
        "plot2.set_ylabel('Residuals')\n",
        "plot3.set_title('Низкая корреляция')\n",
        "plot3.set_xlabel('Fitted values')\n",
        "plot3.set_ylabel('Residuals')\n",
        "plt.show()"
      ],
      "metadata": {
        "id": "PqBpTEKZCOG5",
        "outputId": "125a62af-d3bd-4ff7-a96f-bc142c1cc2f3",
        "colab": {
          "base_uri": "https://localhost:8080/",
          "height": 241
        },
        "pycharm": {
          "name": "#%%\n"
        }
      },
      "execution_count": null,
      "outputs": [
        {
          "output_type": "display_data",
          "data": {
            "text/plain": [
              "<Figure size 1152x216 with 3 Axes>"
            ],
            "image/png": "[encoded data removed]"
          },
          "metadata": {
            "needs_background": "light"
          }
        }
      ]
    },
    {
      "cell_type": "code",
      "source": [
        "import statsmodels.api as sm\n",
        "\n",
        "\n",
        "# Histogram of residuals and Normal Q-Q Plot of residuals\n",
        "# Проверяем нормальность распределения остатков\n",
        "# Добавляем в таблицы предсказанные моделью значения и разницу между предсказанным и фактом\n",
        "dataframe['fitted_y'] = model_fitted_y\n",
        "dataframe['residuals'] = dataframe['y'] - dataframe['fitted_y']\n",
        "dataframe1['fitted_y'] = model_fitted_y1\n",
        "dataframe1['residuals'] = dataframe1['y'] - dataframe1['fitted_y']\n",
        "dataframe2['fitted_y'] = model_fitted_y2\n",
        "dataframe2['residuals'] = dataframe2['y'] - dataframe2['fitted_y']\n",
        "\n",
        "figure, axes = plt.subplots(2, 3, figsize=(16,8))\n",
        "dataframe['residuals'].hist(ax=axes[0, 0])\n",
        "dataframe1['residuals'].hist(ax=axes[0, 1])\n",
        "dataframe2['residuals'].hist(ax=axes[0, 2])\n",
        "sm.qqplot(dataframe['residuals'],line='s', ax=axes[1, 0])\n",
        "sm.qqplot(dataframe1['residuals'], line='s', ax=axes[1, 1])\n",
        "sm.qqplot(dataframe2['residuals'], line='s', ax=axes[1, 2])\n",
        "plt.show()"
      ],
      "metadata": {
        "id": "Xh64Zj4LCt4P",
        "outputId": "1b3a1580-c140-475b-8dfa-7a0decd68974",
        "colab": {
          "base_uri": "https://localhost:8080/",
          "height": 497
        },
        "pycharm": {
          "name": "#%%\n"
        }
      },
      "execution_count": null,
      "outputs": [
        {
          "output_type": "display_data",
          "data": {
            "text/plain": [
              "<Figure size 1152x576 with 6 Axes>"
            ],
            "image/png": "[encoded data removed]"
          },
          "metadata": {
            "needs_background": "light"
          }
        }
      ]
    },
    {
      "cell_type": "markdown",
      "metadata": {
        "id": "tiIoczeUTd9O",
        "pycharm": {
          "name": "#%% md\n"
        }
      },
      "source": [
        "## Применение регрессионного анализа и интерпретация результатов"
      ]
    },
    {
      "cell_type": "code",
      "execution_count": null,
      "metadata": {
        "id": "hAdULPGgTd9O",
        "outputId": "4bf8c3eb-f75e-4a65-959c-26badc1d7b99",
        "pycharm": {
          "name": "#%%\n"
        }
      },
      "outputs": [
        {
          "data": {
            "text/html": [
              "<div>\n",
              "<style scoped>\n",
              "    .dataframe tbody tr th:only-of-type {\n",
              "        vertical-align: middle;\n",
              "    }\n",
              "\n",
              "    .dataframe tbody tr th {\n",
              "        vertical-align: top;\n",
              "    }\n",
              "\n",
              "    .dataframe thead th {\n",
              "        text-align: right;\n",
              "    }\n",
              "</style>\n",
              "<table border=\"1\" class=\"dataframe\">\n",
              "  <thead>\n",
              "    <tr style=\"text-align: right;\">\n",
              "      <th></th>\n",
              "      <th>state</th>\n",
              "      <th>metro_res</th>\n",
              "      <th>white</th>\n",
              "      <th>hs_grad</th>\n",
              "      <th>poverty</th>\n",
              "      <th>female_house</th>\n",
              "    </tr>\n",
              "  </thead>\n",
              "  <tbody>\n",
              "    <tr>\n",
              "      <th>0</th>\n",
              "      <td>Alabama</td>\n",
              "      <td>55.4</td>\n",
              "      <td>71.3</td>\n",
              "      <td>79.9</td>\n",
              "      <td>14.6</td>\n",
              "      <td>14.2</td>\n",
              "    </tr>\n",
              "    <tr>\n",
              "      <th>1</th>\n",
              "      <td>Alaska</td>\n",
              "      <td>65.6</td>\n",
              "      <td>70.8</td>\n",
              "      <td>90.6</td>\n",
              "      <td>8.3</td>\n",
              "      <td>10.8</td>\n",
              "    </tr>\n",
              "    <tr>\n",
              "      <th>2</th>\n",
              "      <td>Arizona</td>\n",
              "      <td>88.2</td>\n",
              "      <td>87.7</td>\n",
              "      <td>83.8</td>\n",
              "      <td>13.3</td>\n",
              "      <td>11.1</td>\n",
              "    </tr>\n",
              "    <tr>\n",
              "      <th>3</th>\n",
              "      <td>Arkansas</td>\n",
              "      <td>52.5</td>\n",
              "      <td>81.0</td>\n",
              "      <td>80.9</td>\n",
              "      <td>18.0</td>\n",
              "      <td>12.1</td>\n",
              "    </tr>\n",
              "    <tr>\n",
              "      <th>4</th>\n",
              "      <td>California</td>\n",
              "      <td>94.4</td>\n",
              "      <td>77.5</td>\n",
              "      <td>81.1</td>\n",
              "      <td>12.8</td>\n",
              "      <td>12.6</td>\n",
              "    </tr>\n",
              "  </tbody>\n",
              "</table>\n",
              "</div>"
            ],
            "text/plain": [
              "        state  metro_res  white  hs_grad  poverty  female_house\n",
              "0     Alabama       55.4   71.3     79.9     14.6          14.2\n",
              "1      Alaska       65.6   70.8     90.6      8.3          10.8\n",
              "2     Arizona       88.2   87.7     83.8     13.3          11.1\n",
              "3    Arkansas       52.5   81.0     80.9     18.0          12.1\n",
              "4  California       94.4   77.5     81.1     12.8          12.6"
            ]
          },
          "execution_count": 30,
          "metadata": {},
          "output_type": "execute_result"
        }
      ],
      "source": [
        "''''''\n",
        "import pandas as pd\n",
        "import seaborn as sns\n",
        "import matplotlib.pyplot as plt\n",
        "import numpy as np\n",
        "\n",
        "df = pd.read_csv('data/states.csv')\n",
        "df.head()"
      ]
    },
    {
      "cell_type": "markdown",
      "metadata": {
        "id": "x47nsf1pTd9O",
        "pycharm": {
          "name": "#%% md\n"
        }
      },
      "source": [
        "Есть данные по штатам с различными значениями:\n",
        " - **metro_res** - процент населения живущие в столице\n",
        " - **white** - процент белого населения\n",
        " - **hs_grad** - процент людей со образованием\n",
        " - **poverty** - уровень бедности\n",
        " - **female_house** - процент домов, где есть домохозяйки \n",
        " \n",
        "Исследуем связь уровня образования и бедности, где бедность будет ЗП, а уровень образования НП.\n",
        "\n",
        "Первое, что нам необходимо сделать, это построить линейную модель, которая наилучшим образом будет описывать наши данные.\n",
        "\n",
        "$$ \\hat{y} = b_0 + b_1x $$\n",
        "\n",
        "Далле, построив нашу модель, нам надо узнать, насколько хорошо наша объясняет ЗП, для этого найдём коэфицент детерминации $R^2$\n",
        "\n",
        "Проверим нулевую гипотезу:\n",
        "$$ b_1 = 0 : H0$$\n",
        "\n",
        "Третья наша задача, это задача предсказания, по данным НП мы хотим предсказать ЗП."
      ]
    },
    {
      "cell_type": "code",
      "execution_count": null,
      "metadata": {
        "id": "m9a3G3qBTd9P",
        "outputId": "f670066c-0b4e-426c-c2d1-326d1df6b790",
        "pycharm": {
          "name": "#%%\n"
        }
      },
      "outputs": [
        {
          "data": {
            "text/plain": [
              "<seaborn.axisgrid.JointGrid at 0x1c37eb775e0>"
            ]
          },
          "execution_count": 31,
          "metadata": {},
          "output_type": "execute_result"
        },
        {
          "data": {
            "image/png": "[encoded data removed]",
            "text/plain": [
              "<Figure size 432x432 with 3 Axes>"
            ]
          },
          "metadata": {
            "needs_background": "light"
          },
          "output_type": "display_data"
        }
      ],
      "source": [
        "sns.jointplot(x='hs_grad', y='poverty', data=df, kind='reg', color='m')"
      ]
    },
    {
      "cell_type": "code",
      "execution_count": null,
      "metadata": {
        "id": "Q3hEu_3YTd9P",
        "outputId": "616d2810-1f46-4163-f1e2-81a874f22201",
        "pycharm": {
          "name": "#%%\n"
        }
      },
      "outputs": [
        {
          "data": {
            "text/html": [
              "<div>\n",
              "<style scoped>\n",
              "    .dataframe tbody tr th:only-of-type {\n",
              "        vertical-align: middle;\n",
              "    }\n",
              "\n",
              "    .dataframe tbody tr th {\n",
              "        vertical-align: top;\n",
              "    }\n",
              "\n",
              "    .dataframe thead th {\n",
              "        text-align: right;\n",
              "    }\n",
              "</style>\n",
              "<table border=\"1\" class=\"dataframe\">\n",
              "  <thead>\n",
              "    <tr style=\"text-align: right;\">\n",
              "      <th></th>\n",
              "      <th>count</th>\n",
              "      <th>mean</th>\n",
              "      <th>std</th>\n",
              "      <th>min</th>\n",
              "      <th>25%</th>\n",
              "      <th>50%</th>\n",
              "      <th>75%</th>\n",
              "      <th>max</th>\n",
              "    </tr>\n",
              "  </thead>\n",
              "  <tbody>\n",
              "    <tr>\n",
              "      <th>metro_res</th>\n",
              "      <td>51.0</td>\n",
              "      <td>72.249020</td>\n",
              "      <td>15.275894</td>\n",
              "      <td>38.2</td>\n",
              "      <td>60.80</td>\n",
              "      <td>71.6</td>\n",
              "      <td>86.80</td>\n",
              "      <td>100.0</td>\n",
              "    </tr>\n",
              "    <tr>\n",
              "      <th>white</th>\n",
              "      <td>51.0</td>\n",
              "      <td>81.719608</td>\n",
              "      <td>13.897223</td>\n",
              "      <td>25.9</td>\n",
              "      <td>76.80</td>\n",
              "      <td>85.4</td>\n",
              "      <td>90.25</td>\n",
              "      <td>97.1</td>\n",
              "    </tr>\n",
              "    <tr>\n",
              "      <th>hs_grad</th>\n",
              "      <td>51.0</td>\n",
              "      <td>86.011765</td>\n",
              "      <td>3.725998</td>\n",
              "      <td>77.2</td>\n",
              "      <td>83.30</td>\n",
              "      <td>86.9</td>\n",
              "      <td>88.70</td>\n",
              "      <td>92.1</td>\n",
              "    </tr>\n",
              "    <tr>\n",
              "      <th>poverty</th>\n",
              "      <td>51.0</td>\n",
              "      <td>11.349020</td>\n",
              "      <td>3.099185</td>\n",
              "      <td>5.6</td>\n",
              "      <td>9.25</td>\n",
              "      <td>10.6</td>\n",
              "      <td>13.40</td>\n",
              "      <td>18.0</td>\n",
              "    </tr>\n",
              "    <tr>\n",
              "      <th>female_house</th>\n",
              "      <td>51.0</td>\n",
              "      <td>11.633333</td>\n",
              "      <td>2.356155</td>\n",
              "      <td>7.8</td>\n",
              "      <td>9.55</td>\n",
              "      <td>11.8</td>\n",
              "      <td>12.65</td>\n",
              "      <td>18.9</td>\n",
              "    </tr>\n",
              "  </tbody>\n",
              "</table>\n",
              "</div>"
            ],
            "text/plain": [
              "              count       mean        std   min    25%   50%    75%    max\n",
              "metro_res      51.0  72.249020  15.275894  38.2  60.80  71.6  86.80  100.0\n",
              "white          51.0  81.719608  13.897223  25.9  76.80  85.4  90.25   97.1\n",
              "hs_grad        51.0  86.011765   3.725998  77.2  83.30  86.9  88.70   92.1\n",
              "poverty        51.0  11.349020   3.099185   5.6   9.25  10.6  13.40   18.0\n",
              "female_house   51.0  11.633333   2.356155   7.8   9.55  11.8  12.65   18.9"
            ]
          },
          "execution_count": 32,
          "metadata": {},
          "output_type": "execute_result"
        }
      ],
      "source": [
        "df_descr = df.describe().transpose()\n",
        "df_descr"
      ]
    },
    {
      "cell_type": "code",
      "execution_count": null,
      "metadata": {
        "id": "aTsb-5MiTd9P",
        "outputId": "4e6d0026-707d-4e8d-e5c8-82eab6852e53",
        "pycharm": {
          "name": "#%%\n"
        }
      },
      "outputs": [
        {
          "data": {
            "image/png": "[encoded data removed]",
            "text/plain": [
              "<Figure size 864x432 with 1 Axes>"
            ]
          },
          "metadata": {
            "needs_background": "light"
          },
          "output_type": "display_data"
        }
      ],
      "source": [
        "'''Построим модель'''\n",
        "from scipy.stats import linregress\n",
        "\n",
        "slope, intercept, r, p, std_err =  linregress(df['hs_grad'], df['poverty'])\n",
        "\n",
        "x = np.linspace(75, 100)\n",
        "\n",
        "reg = lambda x: intercept + slope*x\n",
        "plt.scatter(x='hs_grad', y='poverty', data=df, label='data')\n",
        "plt.xlabel('hs_grad %')\n",
        "plt.ylabel('poverty %')\n",
        "plt.title('Linear Regression')\n",
        "plt.plot(x, reg(x), color='r', label='fitted line')\n",
        "plt.legend()\n",
        "plt.show()"
      ]
    },
    {
      "cell_type": "code",
      "execution_count": null,
      "metadata": {
        "id": "tnRXjxr-Td9Q",
        "outputId": "0b111a14-484c-4574-aa72-94f7567c5927",
        "pycharm": {
          "name": "#%%\n"
        }
      },
      "outputs": [
        {
          "name": "stdout",
          "output_type": "stream",
          "text": [
            "\n",
            "slope = -0.62\n",
            "intercept = 64.78\n",
            "r = -0.75\n",
            "r squared = 0.56\n",
            "p = 0.00000\n",
            "std_err = 0.079\n",
            "\n"
          ]
        }
      ],
      "source": [
        "print(f'''\n",
        "slope = {slope:.2f}\n",
        "intercept = {intercept:.2f}\n",
        "r = {r:.2f}\n",
        "r squared = {(r ** 2):.2f}\n",
        "p = {p:.5f}\n",
        "std_err = {std_err:.3f}\n",
        "''')"
      ]
    },
    {
      "cell_type": "markdown",
      "metadata": {
        "id": "MWavRAn3Td9Q",
        "pycharm": {
          "name": "#%% md\n"
        }
      },
      "source": [
        "## Задача предсказания значений зависимой переменной"
      ]
    },
    {
      "cell_type": "markdown",
      "metadata": {
        "id": "Mov-ld82Td9Q",
        "pycharm": {
          "name": "#%% md\n"
        }
      },
      "source": [
        "## Регрессионный анализ с несколькими независимыми переменными\n",
        "\n",
        "### Множественная регрессия (Multiple Regression)\n",
        "\n",
        "Множественная регрессия позволяет исследовать влияние сразу нескольких независимых переменных на одну зависиммую.\n",
        "\n",
        "#### Требования к данным\n",
        "\n",
        "- линейная зависимость переменных\n",
        "- нормальное распредление остатков\n",
        "- гетероскедастичность данных (неоднородность наблюдений, выражающуюся в неодинаковой (непостоянной) дисперсии случайной ошибки)\n",
        "- проверка на мультиколлинеарность (наличие сильной корреляции между независимыми переменными)\n",
        "- нормальное распределение переменных (желательно)"
      ]
    },
    {
      "cell_type": "markdown",
      "metadata": {
        "id": "ofywjAPlTd9R",
        "pycharm": {
          "name": "#%% md\n"
        }
      },
      "source": [
        "### Пример расчёта и визуализации множественной регрессии"
      ]
    },
    {
      "cell_type": "code",
      "execution_count": null,
      "metadata": {
        "id": "1VH0L2HqTd9R",
        "outputId": "ab7587bb-e79a-405e-9d9f-6553c57522fa",
        "colab": {
          "base_uri": "https://localhost:8080/",
          "height": 542
        },
        "pycharm": {
          "name": "#%%\n"
        }
      },
      "outputs": [
        {
          "output_type": "display_data",
          "data": {
            "text/html": [
              "<html>\n",
              "<head><meta charset=\"utf-8\" /></head>\n",
              "<body>\n",
              "    <div>            <script src=\"https://cdnjs.cloudflare.com/ajax/libs/mathjax/2.7.5/MathJax.js?config=TeX-AMS-MML_SVG\"></script><script type=\"text/javascript\">if (window.MathJax) {MathJax.Hub.Config({SVG: {font: \"STIX-Web\"}});}</script>                <script type=\"text/javascript\">window.PlotlyConfig = {MathJaxConfig: 'local'};</script>\n",
              "        <script src=\"https://cdn.plot.ly/plotly-2.8.3.min.js\"></script>                <div id=\"426858c0-e08c-4aa4-b78d-baaa6442045d\" class=\"plotly-graph-div\" style=\"height:525px; width:100%;\"></div>            <script type=\"text/javascript\">                                    window.PLOTLYENV=window.PLOTLYENV || {};                                    if (document.getElementById(\"426858c0-e08c-4aa4-b78d-baaa6442045d\")) {                    Plotly.newPlot(                        \"426858c0-e08c-4aa4-b78d-baaa6442045d\",                        [{\"hovertemplate\":\"poverty_pred=False<br>white=%{x}<br>hs_grad=%{y}<br>poverty=%{z}<extra></extra>\",\"legendgroup\":\"False\",\"marker\":{\"color\":\"red\",\"symbol\":\"circle\",\"size\":3},\"mode\":\"markers\",\"name\":\"False\",\"scene\":\"scene\",\"showlegend\":true,\"x\":[71.3,70.8,77.5,90.2,85.4,76.3,80.6,67.5,25.9,79.5,88.9,94.9,89.3,65.6,87.2,81.5,90.2,85.3,84.1,96.3,77.3,74.1,85.4,86.4,89.2,67.7,80.8,83.6,73.9,90.1],\"y\":[79.9,90.6,81.1,88.7,87.5,88.7,84.7,85.1,88.5,85.9,86.4,89.7,88.6,87.6,87.1,87.6,91.6,88.3,85.6,92.1,86.2,81.4,87.2,86.0,81.0,80.8,81.0,77.2,87.8,88.6],\"z\":[14.6,8.3,12.8,9.4,7.8,8.1,12.1,12.1,10.6,11.2,8.7,8.3,9.4,7.3,9.6,10.3,6.5,9.6,8.3,5.6,7.8,13.1,10.1,9.2,10.3,13.5,14.2,15.3,8.7,8.6],\"type\":\"scatter3d\"},{\"hovertemplate\":\"poverty_pred=True<br>white=%{x}<br>hs_grad=%{y}<br>poverty=%{z}<extra></extra>\",\"legendgroup\":\"True\",\"marker\":{\"color\":\"green\",\"symbol\":\"circle\",\"size\":3},\"mode\":\"markers\",\"name\":\"True\",\"scene\":\"scene\",\"showlegend\":true,\"x\":[87.7,81.0,36.2,95.5,90.3,64.2,97.1,61.2,90.9,92.1,84.9,73.6,92.5,78.4,90.8,88.8,93.6,96.9,85.5,95.0,94.7],\"y\":[83.8,80.9,86.0,88.2,82.8,79.8,86.6,81.2,90.1,90.8,81.7,84.2,89.7,85.7,86.9,88.7,89.4,88.9,89.1,78.7,90.9],\"z\":[13.3,18.0,16.8,11.8,13.1,17.0,11.3,17.6,13.7,9.5,17.8,14.0,11.9,14.7,11.2,10.2,9.3,9.9,10.8,16.0,9.5],\"type\":\"scatter3d\"},{\"name\":\"prediction\",\"opacity\":0.8,\"x\":[23.9,24.9,25.9,26.9,27.9,28.9,29.9,30.9,31.9,32.9,33.9,34.9,35.9,36.9,37.9,38.9,39.9,40.9,41.9,42.9,43.9,44.9,45.9,46.9,47.9,48.9,49.9,50.9,51.9,52.9,53.9,54.9,55.9,56.9,57.9,58.9,59.9,60.9,61.9,62.9,63.9,64.9,65.9,66.9,67.9,68.9,69.9,70.9,71.9,72.9,73.9,74.9,75.9,76.9,77.9,78.9,79.9,80.9,81.9,82.9,83.9,84.9,85.9,86.9,87.9,88.9,89.9,90.9,91.9,92.9,93.9,94.9,95.9,96.9,97.9,98.9],\"y\":[75.2,76.2,77.2,78.2,79.2,80.2,81.2,82.2,83.2,84.2,85.2,86.2,87.2,88.2,89.2,90.2,91.2,92.2,93.2],\"z\":[[19.55476439249697,19.523876261227066,19.492988129957155,19.462099998687243,19.43121186741734,19.400323736147428,19.369435604877516,19.338547473607605,19.3076593423377,19.27677121106779,19.245883079797878,19.214994948527973,19.184106817258062,19.15321868598815,19.122330554718246,19.091442423448335,19.060554292178423,19.02966616090852,18.998778029638608,18.967889898368696,18.937001767098792,18.90611363582888,18.87522550455897,18.844337373289065,18.813449242019153,18.782561110749242,18.751672979479338,18.720784848209426,18.689896716939515,18.659008585669604,18.6281204543997,18.597232323129788,18.566344191859876,18.535456060589972,18.50456792932006,18.47367979805015,18.442791666780245,18.411903535510334,18.381015404240422,18.350127272970518,18.319239141700606,18.288351010430695,18.257462879160784,18.22657474789088,18.195686616620968,18.164798485351056,18.133910354081152,18.10302222281124,18.07213409154133,18.041245960271425,18.010357829001514,17.979469697731602,17.948581566461698,17.917693435191786,17.886805303921875,17.85591717265197,17.82502904138206,17.794140910112148,17.763252778842244,17.732364647572332,17.70147651630242,17.670588385032516,17.639700253762605,17.608812122492694,17.57792399122279,17.547035859952878,17.516147728682967,17.485259597413055,17.45437146614315,17.42348333487324,17.392595203603328,17.361707072333424,17.330818941063512,17.2999308097936,17.269042678523697,17.238154547253785],[18.960984808658317,18.930096677388413,18.8992085461185,18.86832041484859,18.837432283578686,18.806544152308774,18.775656021038863,18.74476788976895,18.713879758499047,18.682991627229136,18.652103495959224,18.62121536468932,18.59032723341941,18.559439102149497,18.528550970879593,18.49766283960968,18.46677470833977,18.435886577069866,18.404998445799954,18.374110314530043,18.34322218326014,18.312334051990227,18.281445920720316,18.25055778945041,18.2196696581805,18.18878152691059,18.157893395640684,18.127005264370773,18.09611713310086,18.06522900183095,18.034340870561046,18.003452739291134,17.972564608021223,17.94167647675132,17.910788345481407,17.879900214211496,17.84901208294159,17.81812395167168,17.78723582040177,17.756347689131864,17.725459557861953,17.69457142659204,17.66368329532213,17.632795164052226,17.601907032782314,17.571018901512403,17.5401307702425,17.509242638972587,17.478354507702676,17.44746637643277,17.41657824516286,17.38569011389295,17.354801982623044,17.323913851353133,17.29302572008322,17.262137588813317,17.231249457543406,17.200361326273494,17.16947319500359,17.13858506373368,17.107696932463767,17.076808801193863,17.04592066992395,17.01503253865404,16.984144407384136,16.953256276114224,16.922368144844313,16.8914800135744,16.860591882304497,16.829703751034586,16.798815619764675,16.76792748849477,16.73703935722486,16.706151225954947,16.675263094685043,16.64437496341513],[18.367205224819656,18.336317093549752,18.30542896227984,18.27454083100993,18.243652699740025,18.212764568470114,18.181876437200202,18.15098830593029,18.120100174660386,18.089212043390475,18.058323912120564,18.02743578085066,17.996547649580748,17.965659518310837,17.934771387040932,17.90388325577102,17.87299512450111,17.842106993231205,17.811218861961294,17.780330730691382,17.749442599421478,17.718554468151567,17.687666336881655,17.65677820561175,17.62589007434184,17.595001943071928,17.564113811802017,17.533225680532112,17.5023375492622,17.47144941799229,17.440561286722385,17.409673155452474,17.378785024182562,17.347896892912658,17.317008761642747,17.286120630372835,17.25523249910293,17.22434436783302,17.193456236563108,17.162568105293204,17.131679974023292,17.10079184275338,17.069903711483477,17.039015580213565,17.008127448943654,16.97723931767375,16.946351186403838,16.915463055133927,16.884574923864015,16.85368679259411,16.8227986613242,16.791910530054288,16.761022398784384,16.730134267514472,16.69924613624456,16.668358004974657,16.637469873704745,16.606581742434834,16.57569361116493,16.544805479895018,16.513917348625107,16.483029217355202,16.45214108608529,16.42125295481538,16.390364823545468,16.359476692275564,16.328588561005652,16.29770042973574,16.266812298465837,16.235924167195925,16.205036035926014,16.17414790465611,16.143259773386198,16.112371642116287,16.081483510846383,16.05059537957647],[17.773425640980996,17.74253750971109,17.71164937844118,17.68076124717127,17.649873115901364,17.618984984631453,17.58809685336154,17.55720872209163,17.526320590821726,17.495432459551814,17.464544328281903,17.433656197012,17.402768065742087,17.371879934472176,17.34099180320227,17.31010367193236,17.27921554066245,17.248327409392544,17.217439278122633,17.18655114685272,17.155663015582817,17.124774884312906,17.093886753042995,17.06299862177309,17.03211049050318,17.001222359233267,16.970334227963363,16.93944609669345,16.90855796542354,16.87766983415363,16.846781702883725,16.815893571613813,16.7850054403439,16.754117309073997,16.723229177804086,16.692341046534175,16.66145291526427,16.63056478399436,16.599676652724447,16.568788521454543,16.53790039018463,16.50701225891472,16.47612412764481,16.445235996374905,16.414347865104993,16.383459733835082,16.352571602565177,16.321683471295266,16.290795340025355,16.25990720875545,16.22901907748554,16.198130946215628,16.167242814945723,16.136354683675812,16.1054665524059,16.074578421135996,16.043690289866085,16.012802158596173,15.981914027326269,15.951025896056358,15.920137764786446,15.889249633516542,15.85836150224663,15.827473370976719,15.796585239706815,15.765697108436903,15.734808977166992,15.70392084589708,15.673032714627176,15.642144583357265,15.611256452087353,15.580368320817449,15.549480189547538,15.518592058277626,15.487703927007722,15.45681579573781],[17.179646057142335,17.14875792587243,17.11786979460252,17.086981663332608,17.056093532062704,17.025205400792792,16.99431726952288,16.96342913825297,16.932541006983065,16.901652875713154,16.870764744443242,16.839876613173338,16.808988481903427,16.778100350633515,16.74721221936361,16.7163240880937,16.685435956823788,16.654547825553884,16.623659694283972,16.59277156301406,16.561883431744157,16.530995300474245,16.500107169204334,16.46921903793443,16.43833090666452,16.407442775394607,16.376554644124695,16.34566651285479,16.31477838158488,16.28389025031497,16.253002119045064,16.222113987775153,16.19122585650524,16.160337725235337,16.129449593965425,16.098561462695514,16.06767333142561,16.0367852001557,16.005897068885787,15.975008937615883,15.944120806345971,15.91323267507606,15.882344543806155,15.851456412536244,15.820568281266333,15.789680149996428,15.758792018726517,15.727903887456606,15.697015756186694,15.66612762491679,15.635239493646878,15.604351362376967,15.573463231107063,15.542575099837151,15.51168696856724,15.480798837297336,15.449910706027424,15.419022574757513,15.388134443487608,15.357246312217697,15.326358180947786,15.295470049677881,15.26458191840797,15.233693787138058,15.202805655868147,15.171917524598243,15.141029393328331,15.11014126205842,15.079253130788516,15.048364999518604,15.017476868248693,14.986588736978788,14.955700605708877,14.924812474438966,14.893924343169061,14.86303621189915],[16.585866473303675,16.55497834203377,16.52409021076386,16.493202079493948,16.462313948224043,16.431425816954132,16.40053768568422,16.36964955441431,16.338761423144405,16.307873291874493,16.276985160604582,16.246097029334678,16.215208898064766,16.184320766794855,16.15343263552495,16.12254450425504,16.091656372985128,16.060768241715223,16.029880110445312,15.9989919791754,15.968103847905496,15.937215716635585,15.906327585365673,15.875439454095769,15.844551322825858,15.813663191555946,15.782775060286042,15.75188692901613,15.720998797746219,15.690110666476308,15.659222535206403,15.628334403936492,15.59744627266658,15.566558141396676,15.535670010126765,15.504781878856853,15.47389374758695,15.443005616317038,15.412117485047126,15.381229353777222,15.35034122250731,15.3194530912374,15.288564959967488,15.257676828697583,15.226788697427672,15.19590056615776,15.165012434887856,15.134124303617945,15.103236172348034,15.07234804107813,15.041459909808218,15.010571778538306,14.979683647268402,14.94879551599849,14.91790738472858,14.887019253458675,14.856131122188764,14.825242990918852,14.794354859648948,14.763466728379036,14.732578597109125,14.70169046583922,14.67080233456931,14.639914203299398,14.609026072029494,14.578137940759582,14.54724980948967,14.51636167821976,14.485473546949855,14.454585415679944,14.423697284410032,14.392809153140128,14.361921021870216,14.331032890600305,14.3001447593304,14.26925662806049],[15.992086889465014,15.96119875819511,15.930310626925198,15.899422495655287,15.868534364385383,15.837646233115471,15.80675810184556,15.775869970575648,15.744981839305744,15.714093708035833,15.683205576765921,15.652317445496017,15.621429314226106,15.590541182956194,15.55965305168629,15.528764920416378,15.497876789146467,15.466988657876563,15.436100526606651,15.40521239533674,15.374324264066836,15.343436132796924,15.312548001527013,15.281659870257108,15.250771738987197,15.219883607717286,15.188995476447374,15.15810734517747,15.127219213907559,15.096331082637647,15.065442951367743,15.034554820097831,15.00366668882792,14.972778557558016,14.941890426288104,14.911002295018193,14.880114163748289,14.849226032478377,14.818337901208466,14.787449769938561,14.75656163866865,14.725673507398739,14.694785376128834,14.663897244858923,14.633009113589011,14.602120982319107,14.571232851049196,14.540344719779284,14.509456588509373,14.478568457239469,14.447680325969557,14.416792194699646,14.385904063429741,14.35501593215983,14.324127800889919,14.293239669620014,14.262351538350103,14.231463407080192,14.200575275810287,14.169687144540376,14.138799013270464,14.10791088200056,14.077022750730649,14.046134619460737,14.015246488190826,13.984358356920922,13.95347022565101,13.922582094381099,13.891693963111194,13.860805831841283,13.829917700571372,13.799029569301467,13.768141438031556,13.737253306761644,13.70636517549174,13.675477044221829],[15.398307305626354,15.36741917435645,15.336531043086538,15.305642911816626,15.274754780546722,15.24386664927681,15.2129785180069,15.182090386736988,15.151202255467084,15.120314124197172,15.08942599292726,15.058537861657356,15.027649730387445,14.996761599117534,14.96587346784763,14.934985336577718,14.904097205307806,14.873209074037902,14.84232094276799,14.81143281149808,14.780544680228175,14.749656548958264,14.718768417688352,14.687880286418448,14.656992155148536,14.626104023878625,14.59521589260872,14.56432776133881,14.533439630068898,14.502551498798987,14.471663367529082,14.44077523625917,14.40988710498926,14.378998973719355,14.348110842449444,14.317222711179532,14.286334579909628,14.255446448639717,14.224558317369805,14.1936701860999,14.16278205482999,14.131893923560078,14.101005792290167,14.070117661020262,14.03922952975035,14.00834139848044,13.977453267210535,13.946565135940624,13.915677004670712,13.884788873400808,13.853900742130897,13.823012610860985,13.792124479591081,13.76123634832117,13.730348217051258,13.699460085781354,13.668571954511442,13.637683823241531,13.606795691971627,13.575907560701715,13.545019429431804,13.5141312981619,13.483243166891988,13.452355035622077,13.421466904352172,13.390578773082261,13.35969064181235,13.328802510542438,13.297914379272534,13.267026248002622,13.236138116732711,13.205249985462807,13.174361854192895,13.143473722922984,13.11258559165308,13.081697460383168],[14.804527721787693,14.773639590517789,14.742751459247877,14.711863327977966,14.680975196708062,14.65008706543815,14.619198934168239,14.588310802898327,14.557422671628423,14.526534540358512,14.4956464090886,14.464758277818696,14.433870146548784,14.402982015278873,14.372093884008969,14.341205752739057,14.310317621469146,14.279429490199242,14.24854135892933,14.217653227659419,14.186765096389514,14.155876965119603,14.124988833849692,14.094100702579787,14.063212571309876,14.032324440039964,14.001436308770053,13.970548177500149,13.939660046230237,13.908771914960326,13.877883783690422,13.84699565242051,13.816107521150599,13.785219389880695,13.754331258610783,13.723443127340872,13.692554996070967,13.661666864801056,13.630778733531145,13.59989060226124,13.569002470991329,13.538114339721417,13.507226208451513,13.476338077181602,13.44544994591169,13.414561814641786,13.383673683371875,13.352785552101963,13.321897420832052,13.291009289562147,13.260121158292236,13.229233027022325,13.19834489575242,13.167456764482509,13.136568633212597,13.105680501942693,13.074792370672782,13.04390423940287,13.013016108132966,12.982127976863055,12.951239845593143,12.920351714323239,12.889463583053328,12.858575451783416,12.827687320513505,12.7967991892436,12.765911057973689,12.735022926703778,12.704134795433873,12.673246664163962,12.64235853289405,12.611470401624146,12.580582270354235,12.549694139084323,12.518806007814419,12.487917876544508],[14.210748137949032,14.179860006679128,14.148971875409217,14.118083744139305,14.087195612869401,14.05630748159949,14.025419350329578,13.994531219059667,13.963643087789762,13.932754956519851,13.90186682524994,13.870978693980035,13.840090562710124,13.809202431440212,13.778314300170308,13.747426168900397,13.716538037630485,13.685649906360581,13.65476177509067,13.623873643820758,13.592985512550854,13.562097381280942,13.531209250011031,13.500321118741127,13.469432987471215,13.438544856201304,13.4076567249314,13.376768593661488,13.345880462391577,13.314992331121665,13.284104199851761,13.25321606858185,13.222327937311938,13.191439806042034,13.160551674772123,13.129663543502211,13.098775412232307,13.067887280962395,13.036999149692484,13.00611101842258,12.975222887152668,12.944334755882757,12.913446624612845,12.882558493342941,12.85167036207303,12.820782230803118,12.789894099533214,12.759005968263303,12.728117836993391,12.697229705723487,12.666341574453575,12.635453443183664,12.60456531191376,12.573677180643848,12.542789049373937,12.511900918104033,12.481012786834121,12.45012465556421,12.419236524294305,12.388348393024394,12.357460261754483,12.326572130484578,12.295683999214667,12.264795867944756,12.233907736674851,12.20301960540494,12.172131474135028,12.141243342865117,12.110355211595213,12.079467080325301,12.04857894905539,12.017690817785486,11.986802686515574,11.955914555245663,11.925026423975758,11.894138292705847],[13.616968554110372,13.586080422840467,13.555192291570556,13.524304160300645,13.49341602903074,13.462527897760829,13.431639766490918,13.400751635221006,13.369863503951102,13.33897537268119,13.308087241411279,13.277199110141375,13.246310978871463,13.215422847601552,13.184534716331648,13.153646585061736,13.122758453791825,13.09187032252192,13.060982191252009,13.030094059982098,12.999205928712193,12.968317797442282,12.93742966617237,12.906541534902466,12.875653403632555,12.844765272362643,12.813877141092732,12.782989009822828,12.752100878552916,12.721212747283005,12.6903246160131,12.659436484743189,12.628548353473278,12.597660222203373,12.566772090933462,12.53588395966355,12.504995828393646,12.474107697123735,12.443219565853823,12.412331434583919,12.381443303314008,12.350555172044096,12.319667040774192,12.28877890950428,12.25789077823437,12.227002646964465,12.196114515694553,12.165226384424642,12.13433825315473,12.103450121884826,12.072561990614915,12.041673859345003,12.0107857280751,11.979897596805188,11.949009465535276,11.918121334265372,11.88723320299546,11.85634507172555,11.825456940455645,11.794568809185733,11.763680677915822,11.732792546645918,11.701904415376006,11.671016284106095,11.640128152836184,11.60924002156628,11.578351890296368,11.547463759026456,11.516575627756552,11.48568749648664,11.45479936521673,11.423911233946825,11.393023102676914,11.362134971407002,11.331246840137098,11.300358708867186],[13.023188970271711,12.992300839001807,12.961412707731895,12.930524576461984,12.89963644519208,12.868748313922168,12.837860182652257,12.806972051382346,12.776083920112441,12.74519578884253,12.714307657572618,12.683419526302714,12.652531395032803,12.621643263762891,12.590755132492987,12.559867001223076,12.528978869953164,12.49809073868326,12.467202607413348,12.436314476143437,12.405426344873533,12.374538213603621,12.34365008233371,12.312761951063806,12.281873819793894,12.250985688523983,12.220097557254078,12.189209425984167,12.158321294714256,12.127433163444344,12.09654503217444,12.065656900904528,12.034768769634617,12.003880638364713,11.972992507094801,11.94210437582489,11.911216244554986,11.880328113285074,11.849439982015163,11.818551850745258,11.787663719475347,11.756775588205436,11.725887456935524,11.69499932566562,11.664111194395709,11.633223063125797,11.602334931855893,11.571446800585981,11.54055866931607,11.509670538046166,11.478782406776254,11.447894275506343,11.417006144236439,11.386118012966527,11.355229881696616,11.324341750426711,11.2934536191568,11.262565487886889,11.231677356616984,11.200789225347073,11.169901094077161,11.139012962807257,11.108124831537346,11.077236700267434,11.04634856899753,11.015460437727619,10.984572306457707,10.953684175187796,10.922796043917891,10.89190791264798,10.861019781378069,10.830131650108164,10.799243518838253,10.768355387568342,10.737467256298437,10.706579125028526],[12.42940938643305,12.398521255163146,12.367633123893235,12.336744992623323,12.30585686135342,12.274968730083508,12.244080598813596,12.213192467543685,12.18230433627378,12.15141620500387,12.120528073733958,12.089639942464053,12.058751811194142,12.02786367992423,11.996975548654326,11.966087417384415,11.935199286114504,11.9043111548446,11.873423023574688,11.842534892304776,11.811646761034872,11.78075862976496,11.74987049849505,11.718982367225145,11.688094235955234,11.657206104685322,11.62631797341541,11.595429842145506,11.564541710875595,11.533653579605684,11.50276544833578,11.471877317065868,11.440989185795956,11.410101054526052,11.37921292325614,11.34832479198623,11.317436660716325,11.286548529446414,11.255660398176502,11.224772266906598,11.193884135636686,11.162996004366775,11.13210787309687,11.10121974182696,11.070331610557048,11.039443479287144,11.008555348017232,10.97766721674732,10.94677908547741,10.915890954207505,10.885002822937594,10.854114691667682,10.823226560397778,10.792338429127867,10.761450297857955,10.73056216658805,10.69967403531814,10.668785904048228,10.637897772778324,10.607009641508412,10.576121510238501,10.545233378968597,10.514345247698685,10.483457116428774,10.452568985158862,10.421680853888958,10.390792722619047,10.359904591349135,10.329016460079231,10.29812832880932,10.267240197539408,10.236352066269504,10.205463934999592,10.174575803729681,10.143687672459777,10.112799541189865],[11.83562980259439,11.804741671324486,11.773853540054574,11.742965408784663,11.712077277514759,11.681189146244847,11.650301014974936,11.619412883705024,11.58852475243512,11.557636621165209,11.526748489895297,11.495860358625393,11.464972227355481,11.43408409608557,11.403195964815666,11.372307833545754,11.341419702275843,11.310531571005939,11.279643439736027,11.248755308466116,11.217867177196212,11.1869790459263,11.156090914656389,11.125202783386484,11.094314652116573,11.063426520846662,11.032538389576757,11.001650258306846,10.970762127036934,10.939873995767023,10.908985864497119,10.878097733227207,10.847209601957296,10.816321470687392,10.78543333941748,10.754545208147569,10.723657076877664,10.692768945607753,10.661880814337842,10.630992683067937,10.600104551798026,10.569216420528114,10.538328289258203,10.507440157988299,10.476552026718387,10.445663895448476,10.414775764178572,10.38388763290866,10.352999501638749,10.322111370368845,10.291223239098933,10.260335107829022,10.229446976559117,10.198558845289206,10.167670714019295,10.13678258274939,10.105894451479479,10.075006320209567,10.044118188939663,10.013230057669752,9.98234192639984,9.951453795129936,9.920565663860025,9.889677532590113,9.858789401320209,9.827901270050297,9.797013138780386,9.766125007510475,9.73523687624057,9.704348744970659,9.673460613700748,9.642572482430843,9.611684351160932,9.58079621989102,9.549908088621116,9.519019957351205],[11.24185021875573,11.210962087485825,11.180073956215914,11.149185824946002,11.118297693676098,11.087409562406187,11.056521431136275,11.025633299866364,10.99474516859646,10.963857037326548,10.932968906056637,10.902080774786732,10.871192643516821,10.84030451224691,10.809416380977005,10.778528249707094,10.747640118437182,10.716751987167278,10.685863855897367,10.654975724627455,10.624087593357551,10.59319946208764,10.562311330817728,10.531423199547824,10.500535068277912,10.469646937008001,10.43875880573809,10.407870674468185,10.376982543198274,10.346094411928362,10.315206280658458,10.284318149388547,10.253430018118635,10.222541886848731,10.19165375557882,10.160765624308908,10.129877493039004,10.098989361769092,10.068101230499181,10.037213099229277,10.006324967959365,9.975436836689454,9.94454870541955,9.913660574149638,9.882772442879727,9.851884311609822,9.820996180339911,9.79010804907,9.759219917800088,9.728331786530184,9.697443655260273,9.666555523990361,9.635667392720457,9.604779261450545,9.573891130180634,9.54300299891073,9.512114867640818,9.481226736370907,9.450338605101003,9.419450473831091,9.38856234256118,9.357674211291275,9.326786080021364,9.295897948751453,9.265009817481541,9.234121686211637,9.203233554941725,9.172345423671814,9.14145729240191,9.110569161131998,9.079681029862087,9.048792898592183,9.017904767322271,8.98701663605236,8.956128504782455,8.925240373512544],[10.648070634917069,10.617182503647165,10.586294372377253,10.555406241107342,10.524518109837437,10.493629978567526,10.462741847297615,10.431853716027703,10.400965584757799,10.370077453487887,10.339189322217976,10.308301190948072,10.27741305967816,10.246524928408249,10.215636797138345,10.184748665868433,10.153860534598522,10.122972403328617,10.092084272058706,10.061196140788795,10.03030800951889,9.999419878248979,9.968531746979068,9.937643615709163,9.906755484439252,9.87586735316934,9.844979221899436,9.814091090629525,9.783202959359613,9.752314828089702,9.721426696819798,9.690538565549886,9.659650434279975,9.62876230301007,9.597874171740159,9.566986040470248,9.536097909200343,9.505209777930432,9.47432164666052,9.443433515390616,9.412545384120705,9.381657252850793,9.350769121580882,9.319880990310978,9.288992859041066,9.258104727771155,9.22721659650125,9.196328465231339,9.165440333961428,9.134552202691523,9.103664071421612,9.0727759401517,9.041887808881796,9.010999677611885,8.980111546341973,8.949223415072069,8.918335283802158,8.887447152532246,8.856559021262342,8.82567088999243,8.79478275872252,8.763894627452615,8.733006496182703,8.702118364912792,8.671230233642888,8.640342102372976,8.609453971103065,8.578565839833153,8.54767770856325,8.516789577293338,8.485901446023426,8.455013314753522,8.42412518348361,8.3932370522137,8.362348920943795,8.331460789673883],[10.054291051078408,10.023402919808504,9.992514788538593,9.961626657268681,9.930738525998777,9.899850394728865,9.868962263458954,9.838074132189043,9.807186000919138,9.776297869649227,9.745409738379315,9.714521607109411,9.6836334758395,9.652745344569588,9.621857213299684,9.590969082029773,9.560080950759861,9.529192819489957,9.498304688220045,9.467416556950134,9.43652842568023,9.405640294410318,9.374752163140407,9.343864031870503,9.312975900600591,9.28208776933068,9.251199638060768,9.220311506790864,9.189423375520953,9.158535244251041,9.127647112981137,9.096758981711226,9.065870850441314,9.03498271917141,9.004094587901498,8.973206456631587,8.942318325361683,8.911430194091771,8.88054206282186,8.849653931551956,8.818765800282044,8.787877669012133,8.756989537742228,8.726101406472317,8.695213275202406,8.664325143932501,8.63343701266259,8.602548881392678,8.571660750122767,8.540772618852863,8.509884487582951,8.47899635631304,8.448108225043136,8.417220093773224,8.386331962503313,8.355443831233409,8.324555699963497,8.293667568693586,8.262779437423681,8.23189130615377,8.201003174883859,8.170115043613954,8.139226912344043,8.108338781074131,8.07745064980422,8.046562518534316,8.015674387264404,7.984786255994493,7.953898124724589,7.923009993454677,7.892121862184766,7.861233730914861,7.83034559964495,7.799457468375039,7.768569337105134,7.737681205835223],[9.460511467239755,9.42962333596985,9.398735204699939,9.367847073430028,9.336958942160123,9.306070810890212,9.2751826796203,9.244294548350389,9.213406417080485,9.182518285810573,9.151630154540662,9.120742023270758,9.089853892000846,9.058965760730935,9.02807762946103,8.99718949819112,8.966301366921208,8.935413235651303,8.904525104381392,8.87363697311148,8.842748841841576,8.811860710571665,8.780972579301753,8.75008444803185,8.719196316761938,8.688308185492026,8.657420054222115,8.62653192295221,8.5956437916823,8.564755660412388,8.533867529142483,8.502979397872572,8.47209126660266,8.441203135332756,8.410315004062845,8.379426872792934,8.34853874152303,8.317650610253118,8.286762478983206,8.255874347713302,8.22498621644339,8.19409808517348,8.163209953903575,8.132321822633664,8.101433691363752,8.070545560093848,8.039657428823936,8.008769297554025,7.977881166284114,7.946993035014209,7.916104903744298,7.8852167724743865,7.854328641204482,7.823440509934571,7.792552378664659,7.761664247394755,7.730776116124844,7.699887984854932,7.668999853585028,7.6381117223151165,7.607223591045205,7.576335459775301,7.545447328505389,7.514559197235478,7.4836710659655665,7.452782934695662,7.421894803425751,7.391006672155839,7.360118540885935,7.329230409616024,7.298342278346112,7.267454147076208,7.2365660158062965,7.205677884536385,7.174789753266481,7.143901621996569],[8.866731883401094,8.83584375213119,8.804955620861278,8.774067489591367,8.743179358321463,8.712291227051551,8.68140309578164,8.650514964511729,8.619626833241824,8.588738701971913,8.557850570702001,8.526962439432097,8.496074308162186,8.465186176892274,8.43429804562237,8.403409914352459,8.372521783082547,8.341633651812643,8.310745520542731,8.27985738927282,8.248969258002916,8.218081126733004,8.187192995463093,8.156304864193189,8.125416732923277,8.094528601653366,8.063640470383461,8.03275233911355,8.001864207843639,7.970976076573727,7.940087945303823,7.9091998140339115,7.878311682764,7.847423551494096,7.816535420224184,7.785647288954273,7.754759157684369,7.723871026414457,7.692982895144546,7.6620947638746415,7.63120663260473,7.600318501334819,7.569430370064907,7.538542238795003,7.5076541075250915,7.47676597625518,7.445877844985276,7.414989713715364,7.384101582445453,7.353213451175549,7.322325319905637,7.291437188635726,7.260549057365822,7.22966092609591,7.198772794825999,7.167884663556094,7.136996532286183,7.106108401016272,7.075220269746367,7.044332138476456,7.0134440072065445,6.98255587593664,6.951667744666729,6.920779613396817,6.889891482126913,6.859003350857002,6.82811521958709,6.797227088317179,6.7663389570472745,6.735450825777363,6.704562694507452,6.673674563237547,6.642786431967636,6.6118983006977246,6.58101016942782,6.550122038157909]],\"type\":\"surface\"}],                        {\"template\":{\"data\":{\"bar\":[{\"error_x\":{\"color\":\"#2a3f5f\"},\"error_y\":{\"color\":\"#2a3f5f\"},\"marker\":{\"line\":{\"color\":\"#E5ECF6\",\"width\":0.5},\"pattern\":{\"fillmode\":\"overlay\",\"size\":10,\"solidity\":0.2}},\"type\":\"bar\"}],\"barpolar\":[{\"marker\":{\"line\":{\"color\":\"#E5ECF6\",\"width\":0.5},\"pattern\":{\"fillmode\":\"overlay\",\"size\":10,\"solidity\":0.2}},\"type\":\"barpolar\"}],\"carpet\":[{\"aaxis\":{\"endlinecolor\":\"#2a3f5f\",\"gridcolor\":\"white\",\"linecolor\":\"white\",\"minorgridcolor\":\"white\",\"startlinecolor\":\"#2a3f5f\"},\"baxis\":{\"endlinecolor\":\"#2a3f5f\",\"gridcolor\":\"white\",\"linecolor\":\"white\",\"minorgridcolor\":\"white\",\"startlinecolor\":\"#2a3f5f\"},\"type\":\"carpet\"}],\"choropleth\":[{\"colorbar\":{\"outlinewidth\":0,\"ticks\":\"\"},\"type\":\"choropleth\"}],\"contour\":[{\"colorbar\":{\"outlinewidth\":0,\"ticks\":\"\"},\"colorscale\":[[0.0,\"#0d0887\"],[0.1111111111111111,\"#46039f\"],[0.2222222222222222,\"#7201a8\"],[0.3333333333333333,\"#9c179e\"],[0.4444444444444444,\"#bd3786\"],[0.5555555555555556,\"#d8576b\"],[0.6666666666666666,\"#ed7953\"],[0.7777777777777778,\"#fb9f3a\"],[0.8888888888888888,\"#fdca26\"],[1.0,\"#f0f921\"]],\"type\":\"contour\"}],\"contourcarpet\":[{\"colorbar\":{\"outlinewidth\":0,\"ticks\":\"\"},\"type\":\"contourcarpet\"}],\"heatmap\":[{\"colorbar\":{\"outlinewidth\":0,\"ticks\":\"\"},\"colorscale\":[[0.0,\"#0d0887\"],[0.1111111111111111,\"#46039f\"],[0.2222222222222222,\"#7201a8\"],[0.3333333333333333,\"#9c179e\"],[0.4444444444444444,\"#bd3786\"],[0.5555555555555556,\"#d8576b\"],[0.6666666666666666,\"#ed7953\"],[0.7777777777777778,\"#fb9f3a\"],[0.8888888888888888,\"#fdca26\"],[1.0,\"#f0f921\"]],\"type\":\"heatmap\"}],\"heatmapgl\":[{\"colorbar\":{\"outlinewidth\":0,\"ticks\":\"\"},\"colorscale\":[[0.0,\"#0d0887\"],[0.1111111111111111,\"#46039f\"],[0.2222222222222222,\"#7201a8\"],[0.3333333333333333,\"#9c179e\"],[0.4444444444444444,\"#bd3786\"],[0.5555555555555556,\"#d8576b\"],[0.6666666666666666,\"#ed7953\"],[0.7777777777777778,\"#fb9f3a\"],[0.8888888888888888,\"#fdca26\"],[1.0,\"#f0f921\"]],\"type\":\"heatmapgl\"}],\"histogram\":[{\"marker\":{\"pattern\":{\"fillmode\":\"overlay\",\"size\":10,\"solidity\":0.2}},\"type\":\"histogram\"}],\"histogram2d\":[{\"colorbar\":{\"outlinewidth\":0,\"ticks\":\"\"},\"colorscale\":[[0.0,\"#0d0887\"],[0.1111111111111111,\"#46039f\"],[0.2222222222222222,\"#7201a8\"],[0.3333333333333333,\"#9c179e\"],[0.4444444444444444,\"#bd3786\"],[0.5555555555555556,\"#d8576b\"],[0.6666666666666666,\"#ed7953\"],[0.7777777777777778,\"#fb9f3a\"],[0.8888888888888888,\"#fdca26\"],[1.0,\"#f0f921\"]],\"type\":\"histogram2d\"}],\"histogram2dcontour\":[{\"colorbar\":{\"outlinewidth\":0,\"ticks\":\"\"},\"colorscale\":[[0.0,\"#0d0887\"],[0.1111111111111111,\"#46039f\"],[0.2222222222222222,\"#7201a8\"],[0.3333333333333333,\"#9c179e\"],[0.4444444444444444,\"#bd3786\"],[0.5555555555555556,\"#d8576b\"],[0.6666666666666666,\"#ed7953\"],[0.7777777777777778,\"#fb9f3a\"],[0.8888888888888888,\"#fdca26\"],[1.0,\"#f0f921\"]],\"type\":\"histogram2dcontour\"}],\"mesh3d\":[{\"colorbar\":{\"outlinewidth\":0,\"ticks\":\"\"},\"type\":\"mesh3d\"}],\"parcoords\":[{\"line\":{\"colorbar\":{\"outlinewidth\":0,\"ticks\":\"\"}},\"type\":\"parcoords\"}],\"pie\":[{\"automargin\":true,\"type\":\"pie\"}],\"scatter\":[{\"marker\":{\"colorbar\":{\"outlinewidth\":0,\"ticks\":\"\"}},\"type\":\"scatter\"}],\"scatter3d\":[{\"line\":{\"colorbar\":{\"outlinewidth\":0,\"ticks\":\"\"}},\"marker\":{\"colorbar\":{\"outlinewidth\":0,\"ticks\":\"\"}},\"type\":\"scatter3d\"}],\"scattercarpet\":[{\"marker\":{\"colorbar\":{\"outlinewidth\":0,\"ticks\":\"\"}},\"type\":\"scattercarpet\"}],\"scattergeo\":[{\"marker\":{\"colorbar\":{\"outlinewidth\":0,\"ticks\":\"\"}},\"type\":\"scattergeo\"}],\"scattergl\":[{\"marker\":{\"colorbar\":{\"outlinewidth\":0,\"ticks\":\"\"}},\"type\":\"scattergl\"}],\"scattermapbox\":[{\"marker\":{\"colorbar\":{\"outlinewidth\":0,\"ticks\":\"\"}},\"type\":\"scattermapbox\"}],\"scatterpolar\":[{\"marker\":{\"colorbar\":{\"outlinewidth\":0,\"ticks\":\"\"}},\"type\":\"scatterpolar\"}],\"scatterpolargl\":[{\"marker\":{\"colorbar\":{\"outlinewidth\":0,\"ticks\":\"\"}},\"type\":\"scatterpolargl\"}],\"scatterternary\":[{\"marker\":{\"colorbar\":{\"outlinewidth\":0,\"ticks\":\"\"}},\"type\":\"scatterternary\"}],\"surface\":[{\"colorbar\":{\"outlinewidth\":0,\"ticks\":\"\"},\"colorscale\":[[0.0,\"#0d0887\"],[0.1111111111111111,\"#46039f\"],[0.2222222222222222,\"#7201a8\"],[0.3333333333333333,\"#9c179e\"],[0.4444444444444444,\"#bd3786\"],[0.5555555555555556,\"#d8576b\"],[0.6666666666666666,\"#ed7953\"],[0.7777777777777778,\"#fb9f3a\"],[0.8888888888888888,\"#fdca26\"],[1.0,\"#f0f921\"]],\"type\":\"surface\"}],\"table\":[{\"cells\":{\"fill\":{\"color\":\"#EBF0F8\"},\"line\":{\"color\":\"white\"}},\"header\":{\"fill\":{\"color\":\"#C8D4E3\"},\"line\":{\"color\":\"white\"}},\"type\":\"table\"}]},\"layout\":{\"annotationdefaults\":{\"arrowcolor\":\"#2a3f5f\",\"arrowhead\":0,\"arrowwidth\":1},\"autotypenumbers\":\"strict\",\"coloraxis\":{\"colorbar\":{\"outlinewidth\":0,\"ticks\":\"\"}},\"colorscale\":{\"diverging\":[[0,\"#8e0152\"],[0.1,\"#c51b7d\"],[0.2,\"#de77ae\"],[0.3,\"#f1b6da\"],[0.4,\"#fde0ef\"],[0.5,\"#f7f7f7\"],[0.6,\"#e6f5d0\"],[0.7,\"#b8e186\"],[0.8,\"#7fbc41\"],[0.9,\"#4d9221\"],[1,\"#276419\"]],\"sequential\":[[0.0,\"#0d0887\"],[0.1111111111111111,\"#46039f\"],[0.2222222222222222,\"#7201a8\"],[0.3333333333333333,\"#9c179e\"],[0.4444444444444444,\"#bd3786\"],[0.5555555555555556,\"#d8576b\"],[0.6666666666666666,\"#ed7953\"],[0.7777777777777778,\"#fb9f3a\"],[0.8888888888888888,\"#fdca26\"],[1.0,\"#f0f921\"]],\"sequentialminus\":[[0.0,\"#0d0887\"],[0.1111111111111111,\"#46039f\"],[0.2222222222222222,\"#7201a8\"],[0.3333333333333333,\"#9c179e\"],[0.4444444444444444,\"#bd3786\"],[0.5555555555555556,\"#d8576b\"],[0.6666666666666666,\"#ed7953\"],[0.7777777777777778,\"#fb9f3a\"],[0.8888888888888888,\"#fdca26\"],[1.0,\"#f0f921\"]]},\"colorway\":[\"#636efa\",\"#EF553B\",\"#00cc96\",\"#ab63fa\",\"#FFA15A\",\"#19d3f3\",\"#FF6692\",\"#B6E880\",\"#FF97FF\",\"#FECB52\"],\"font\":{\"color\":\"#2a3f5f\"},\"geo\":{\"bgcolor\":\"white\",\"lakecolor\":\"white\",\"landcolor\":\"#E5ECF6\",\"showlakes\":true,\"showland\":true,\"subunitcolor\":\"white\"},\"hoverlabel\":{\"align\":\"left\"},\"hovermode\":\"closest\",\"mapbox\":{\"style\":\"light\"},\"paper_bgcolor\":\"white\",\"plot_bgcolor\":\"#E5ECF6\",\"polar\":{\"angularaxis\":{\"gridcolor\":\"white\",\"linecolor\":\"white\",\"ticks\":\"\"},\"bgcolor\":\"#E5ECF6\",\"radialaxis\":{\"gridcolor\":\"white\",\"linecolor\":\"white\",\"ticks\":\"\"}},\"scene\":{\"xaxis\":{\"backgroundcolor\":\"#E5ECF6\",\"gridcolor\":\"white\",\"gridwidth\":2,\"linecolor\":\"white\",\"showbackground\":true,\"ticks\":\"\",\"zerolinecolor\":\"white\"},\"yaxis\":{\"backgroundcolor\":\"#E5ECF6\",\"gridcolor\":\"white\",\"gridwidth\":2,\"linecolor\":\"white\",\"showbackground\":true,\"ticks\":\"\",\"zerolinecolor\":\"white\"},\"zaxis\":{\"backgroundcolor\":\"#E5ECF6\",\"gridcolor\":\"white\",\"gridwidth\":2,\"linecolor\":\"white\",\"showbackground\":true,\"ticks\":\"\",\"zerolinecolor\":\"white\"}},\"shapedefaults\":{\"line\":{\"color\":\"#2a3f5f\"}},\"ternary\":{\"aaxis\":{\"gridcolor\":\"white\",\"linecolor\":\"white\",\"ticks\":\"\"},\"baxis\":{\"gridcolor\":\"white\",\"linecolor\":\"white\",\"ticks\":\"\"},\"bgcolor\":\"#E5ECF6\",\"caxis\":{\"gridcolor\":\"white\",\"linecolor\":\"white\",\"ticks\":\"\"}},\"title\":{\"x\":0.05},\"xaxis\":{\"automargin\":true,\"gridcolor\":\"white\",\"linecolor\":\"white\",\"ticks\":\"\",\"title\":{\"standoff\":15},\"zerolinecolor\":\"white\",\"zerolinewidth\":2},\"yaxis\":{\"automargin\":true,\"gridcolor\":\"white\",\"linecolor\":\"white\",\"ticks\":\"\",\"title\":{\"standoff\":15},\"zerolinecolor\":\"white\",\"zerolinewidth\":2}}},\"scene\":{\"domain\":{\"x\":[0.0,1.0],\"y\":[0.0,1.0]},\"xaxis\":{\"title\":{\"text\":\"white\"}},\"yaxis\":{\"title\":{\"text\":\"hs_grad\"}},\"zaxis\":{\"title\":{\"text\":\"poverty\"}}},\"legend\":{\"title\":{\"text\":\"poverty_pred\"},\"tracegroupgap\":0},\"title\":{\"text\":\"\\u0437\\u0430\\u0432\\u0438\\u0441\\u0438\\u043e\\u0441\\u0442\\u044c \\u043f\\u0440\\u043e\\u0446\\u0435\\u043d\\u0442\\u0430 \\u0431\\u0435\\u043b\\u043e\\u0433\\u043e \\u043d\\u0430\\u0441\\u0435\\u043b\\u0435\\u043d\\u0438\\u044f \\u0438 \\u0443\\u0440\\u043e\\u0432\\u043d\\u044f \\u043e\\u0431\\u0440\\u0430\\u0437\\u043e\\u0432\\u0430\\u043d\\u0438\\u044f \\u043d\\u0430 \\u0431\\u0435\\u0434\\u043d\\u043e\\u0441\\u0442\\u044c \\u043d\\u0430\\u0441\\u0435\\u043b\\u0435\\u043d\\u0438\\u044f\"}},                        {\"responsive\": true}                    ).then(function(){\n",
              "                            \n",
              "var gd = document.getElementById('426858c0-e08c-4aa4-b78d-baaa6442045d');\n",
              "var x = new MutationObserver(function (mutations, observer) {{\n",
              "        var display = window.getComputedStyle(gd).display;\n",
              "        if (!display || display === 'none') {{\n",
              "            console.log([gd, 'removed!']);\n",
              "            Plotly.purge(gd);\n",
              "            observer.disconnect();\n",
              "        }}\n",
              "}});\n",
              "\n",
              "// Listen for the removal of the full notebook cells\n",
              "var notebookContainer = gd.closest('#notebook-container');\n",
              "if (notebookContainer) {{\n",
              "    x.observe(notebookContainer, {childList: true});\n",
              "}}\n",
              "\n",
              "// Listen for the clearing of the current output cell\n",
              "var outputEl = gd.closest('.output');\n",
              "if (outputEl) {{\n",
              "    x.observe(outputEl, {childList: true});\n",
              "}}\n",
              "\n",
              "                        })                };                            </script>        </div>\n",
              "</body>\n",
              "</html>"
            ]
          },
          "metadata": {}
        }
      ],
      "source": [
        "import pandas as pd\n",
        "import plotly.express as px\n",
        "import plotly.graph_objects as go\n",
        "import numpy as np\n",
        "import statsmodels.formula.api as smf\n",
        "\n",
        "df = pd.read_csv('http://d396qusza40orc.cloudfront.net/statistics/lec_resources/states.csv')\n",
        "\n",
        "# Построим плоскость предсказания\n",
        "lm = smf.ols(formula='poverty ~ white + hs_grad', data=df).fit()\n",
        "mesh_size = 1.0\n",
        "margin = 2.0\n",
        "x_min, x_max = df.white.min()- margin, df.white.max() + margin\n",
        "y_min, y_max = df.hs_grad.min()- margin, df.hs_grad.max() + margin\n",
        "z_pred = lambda x, y: lm.params.white * x  + lm.params.hs_grad * y + lm.params.Intercept\n",
        "x_range = np.arange(x_min, x_max, mesh_size)\n",
        "y_range = np.arange(y_min, y_max, mesh_size)\n",
        "z_range = np.array([[z_pred(x, y) for x in x_range] for y in y_range])\n",
        "\n",
        "# какие значения выше предсказания, а какие ниже\n",
        "df['poverty_pred'] = np.array([poverty >= z_pred(df.white[i], df.hs_grad[i]) for i, poverty in df.poverty.items()])\n",
        "\n",
        "# составим график\n",
        "fig = px.scatter_3d(df, x='white', y='hs_grad', z='poverty',\n",
        "                    color='poverty_pred', color_discrete_sequence=['red', 'green'],\n",
        "                   title='зависиость процента белого населения и уровня образования на бедность населения')\n",
        "fig.update_traces(marker=dict(size=3))\n",
        "fig.add_traces(go.Surface(x=x_range,y=y_range, z=z_range, name='prediction', opacity=0.8))\n",
        "fig.show()\n"
      ]
    },
    {
      "cell_type": "markdown",
      "metadata": {
        "id": "7oD1iU5cTd9R",
        "pycharm": {
          "name": "#%% md\n"
        }
      },
      "source": [
        "** сверху должен быть объёмный график, но если его не видно, запустите этот код у себя на компе"
      ]
    },
    {
      "cell_type": "code",
      "source": [
        "import pandas as pd\n",
        "import statsmodels.api as sm\n",
        "\n",
        "data = pd.read_csv('http://d396qusza40orc.cloudfront.net/statistics/lec_resources/states.csv')\n",
        "'''\n",
        "metro_res - процент населения живущие в столице\n",
        "white - процент белого населения\n",
        "hs_grad - процент людей со образованием\n",
        "poverty - уровень бедности\n",
        "female_house - процент домов, где есть домохозяйки\n",
        "'''\n",
        "\n",
        "# независимая переменная\n",
        "x = data['poverty']\n",
        "# зависимые переменные\n",
        "y = sm.add_constant(data[['metro_res', 'white', 'hs_grad', 'female_house']])\n",
        "# обучение модели\n",
        "model = sm.OLS(x, y).fit()\n",
        "# вывод результатов\n",
        "model.summary()\n",
        "\n",
        "# Интерпретация результатов: https://habr.com/ru/post/681218/\n",
        "# Коротко: \n",
        "# Чем больше t (по модулю), тем больше влияние. \n",
        "# Чем меньше P, тем выше вероятность, что есть зависимость (отвергаем H0)\n",
        "# coef с отрицательным значением говорит об обратной зависимости. \n",
        "# Например, чем выше образование, тем ниже уровень бедности"
      ],
      "metadata": {
        "id": "fwNX8RqtS5JT",
        "outputId": "db25811a-e2b3-4d5c-9771-bef4bd84bb03",
        "colab": {
          "base_uri": "https://localhost:8080/",
          "height": 609
        },
        "pycharm": {
          "name": "#%%\n"
        }
      },
      "execution_count": null,
      "outputs": [
        {
          "output_type": "stream",
          "name": "stderr",
          "text": [
            "/usr/local/lib/python3.7/dist-packages/statsmodels/tsa/tsatools.py:142: FutureWarning:\n",
            "\n",
            "In a future version of pandas all arguments of concat except for the argument 'objs' will be keyword-only\n",
            "\n"
          ]
        },
        {
          "output_type": "execute_result",
          "data": {
            "text/plain": [
              "<class 'statsmodels.iolib.summary.Summary'>\n",
              "\"\"\"\n",
              "                            OLS Regression Results                            \n",
              "==============================================================================\n",
              "Dep. Variable:                poverty   R-squared:                       0.642\n",
              "Model:                            OLS   Adj. R-squared:                  0.610\n",
              "Method:                 Least Squares   F-statistic:                     20.58\n",
              "Date:                Tue, 27 Sep 2022   Prob (F-statistic):           8.88e-10\n",
              "Time:                        14:22:17   Log-Likelihood:                -103.39\n",
              "No. Observations:                  51   AIC:                             216.8\n",
              "Df Residuals:                      46   BIC:                             226.4\n",
              "Df Model:                           4                                         \n",
              "Covariance Type:            nonrobust                                         \n",
              "================================================================================\n",
              "                   coef    std err          t      P>|t|      [0.025      0.975]\n",
              "--------------------------------------------------------------------------------\n",
              "const           66.4765     12.590      5.280      0.000      41.134      91.819\n",
              "metro_res       -0.0563      0.020     -2.881      0.006      -0.096      -0.017\n",
              "white           -0.0481      0.033     -1.456      0.152      -0.115       0.018\n",
              "hs_grad         -0.5547      0.105     -5.288      0.000      -0.766      -0.344\n",
              "female_house     0.0505      0.243      0.208      0.836      -0.439       0.540\n",
              "==============================================================================\n",
              "Omnibus:                        3.254   Durbin-Watson:                   1.891\n",
              "Prob(Omnibus):                  0.197   Jarque-Bera (JB):                3.043\n",
              "Skew:                           0.585   Prob(JB):                        0.218\n",
              "Kurtosis:                       2.750   Cond. No.                     6.50e+03\n",
              "==============================================================================\n",
              "\n",
              "Notes:\n",
              "[1] Standard Errors assume that the covariance matrix of the errors is correctly specified.\n",
              "[2] The condition number is large, 6.5e+03. This might indicate that there are\n",
              "strong multicollinearity or other numerical problems.\n",
              "\"\"\""
            ],
            "text/html": [
              "<table class=\"simpletable\">\n",
              "<caption>OLS Regression Results</caption>\n",
              "<tr>\n",
              "  <th>Dep. Variable:</th>         <td>poverty</td>     <th>  R-squared:         </th> <td>   0.642</td>\n",
              "</tr>\n",
              "<tr>\n",
              "  <th>Model:</th>                   <td>OLS</td>       <th>  Adj. R-squared:    </th> <td>   0.610</td>\n",
              "</tr>\n",
              "<tr>\n",
              "  <th>Method:</th>             <td>Least Squares</td>  <th>  F-statistic:       </th> <td>   20.58</td>\n",
              "</tr>\n",
              "<tr>\n",
              "  <th>Date:</th>             <td>Tue, 27 Sep 2022</td> <th>  Prob (F-statistic):</th> <td>8.88e-10</td>\n",
              "</tr>\n",
              "<tr>\n",
              "  <th>Time:</th>                 <td>14:22:17</td>     <th>  Log-Likelihood:    </th> <td> -103.39</td>\n",
              "</tr>\n",
              "<tr>\n",
              "  <th>No. Observations:</th>      <td>    51</td>      <th>  AIC:               </th> <td>   216.8</td>\n",
              "</tr>\n",
              "<tr>\n",
              "  <th>Df Residuals:</th>          <td>    46</td>      <th>  BIC:               </th> <td>   226.4</td>\n",
              "</tr>\n",
              "<tr>\n",
              "  <th>Df Model:</th>              <td>     4</td>      <th>                     </th>     <td> </td>   \n",
              "</tr>\n",
              "<tr>\n",
              "  <th>Covariance Type:</th>      <td>nonrobust</td>    <th>                     </th>     <td> </td>   \n",
              "</tr>\n",
              "</table>\n",
              "<table class=\"simpletable\">\n",
              "<tr>\n",
              "        <td></td>          <th>coef</th>     <th>std err</th>      <th>t</th>      <th>P>|t|</th>  <th>[0.025</th>    <th>0.975]</th>  \n",
              "</tr>\n",
              "<tr>\n",
              "  <th>const</th>        <td>   66.4765</td> <td>   12.590</td> <td>    5.280</td> <td> 0.000</td> <td>   41.134</td> <td>   91.819</td>\n",
              "</tr>\n",
              "<tr>\n",
              "  <th>metro_res</th>    <td>   -0.0563</td> <td>    0.020</td> <td>   -2.881</td> <td> 0.006</td> <td>   -0.096</td> <td>   -0.017</td>\n",
              "</tr>\n",
              "<tr>\n",
              "  <th>white</th>        <td>   -0.0481</td> <td>    0.033</td> <td>   -1.456</td> <td> 0.152</td> <td>   -0.115</td> <td>    0.018</td>\n",
              "</tr>\n",
              "<tr>\n",
              "  <th>hs_grad</th>      <td>   -0.5547</td> <td>    0.105</td> <td>   -5.288</td> <td> 0.000</td> <td>   -0.766</td> <td>   -0.344</td>\n",
              "</tr>\n",
              "<tr>\n",
              "  <th>female_house</th> <td>    0.0505</td> <td>    0.243</td> <td>    0.208</td> <td> 0.836</td> <td>   -0.439</td> <td>    0.540</td>\n",
              "</tr>\n",
              "</table>\n",
              "<table class=\"simpletable\">\n",
              "<tr>\n",
              "  <th>Omnibus:</th>       <td> 3.254</td> <th>  Durbin-Watson:     </th> <td>   1.891</td>\n",
              "</tr>\n",
              "<tr>\n",
              "  <th>Prob(Omnibus):</th> <td> 0.197</td> <th>  Jarque-Bera (JB):  </th> <td>   3.043</td>\n",
              "</tr>\n",
              "<tr>\n",
              "  <th>Skew:</th>          <td> 0.585</td> <th>  Prob(JB):          </th> <td>   0.218</td>\n",
              "</tr>\n",
              "<tr>\n",
              "  <th>Kurtosis:</th>      <td> 2.750</td> <th>  Cond. No.          </th> <td>6.50e+03</td>\n",
              "</tr>\n",
              "</table><br/><br/>Notes:<br/>[1] Standard Errors assume that the covariance matrix of the errors is correctly specified.<br/>[2] The condition number is large, 6.5e+03. This might indicate that there are<br/>strong multicollinearity or other numerical problems."
            ]
          },
          "metadata": {},
          "execution_count": 20
        }
      ]
    },
    {
      "cell_type": "markdown",
      "metadata": {
        "id": "VlH36X5YTd9S",
        "pycharm": {
          "name": "#%% md\n"
        }
      },
      "source": [
        "##  Выбор наилучшей модели\n",
        "<img src=\"https://raw.githubusercontent.com/betelgeus/fundamentals_of_statistics_notes/main/img/Снимок%20экрана%202022-09-28%20в%2011.19.55.png\" width=\"1000px\"/>\n",
        "\n",
        "<img src=\"https://raw.githubusercontent.com/betelgeus/fundamentals_of_statistics_notes/main/img/Снимок%20экрана%202022-09-28%20в%2011.20.06.png\" width=\"1000px\"/>\n",
        "\n",
        "<img src=\"https://raw.githubusercontent.com/betelgeus/fundamentals_of_statistics_notes/main/img/Снимок%20экрана%202022-09-28%20в%2011.20.31.png\" width=\"1000px\"/>\n"
      ]
    },
    {
      "cell_type": "markdown",
      "source": [
        "## Пример"
      ],
      "metadata": {
        "id": "X6NHGlH1Mq0n",
        "pycharm": {
          "name": "#%% md\n"
        }
      }
    },
    {
      "cell_type": "code",
      "source": [
        "import pandas as pd\n",
        "import statsmodels.formula.api as smf\n",
        "\n",
        "data = pd.read_csv('http://d396qusza40orc.cloudfront.net/statistics/lec_resources/states.csv')\n",
        "'''\n",
        "metro_res - процент населения живущие в столице\n",
        "white - процент белого населения\n",
        "hs_grad - процент людей со образованием\n",
        "poverty - уровень бедности\n",
        "female_house - процент домов, где есть домохозяйки\n",
        "'''\n",
        "\n",
        "model = smf.ols('poverty ~ metro_res + white + hs_grad', data=data).fit()\n",
        "model.summary()"
      ],
      "metadata": {
        "id": "7rYzFlTnMqPh",
        "outputId": "efa60cb0-4ba2-41ff-ae69-8d317353090e",
        "colab": {
          "base_uri": "https://localhost:8080/",
          "height": 574
        },
        "pycharm": {
          "name": "#%%\n"
        }
      },
      "execution_count": null,
      "outputs": [
        {
          "data": {
            "text/plain": "<class 'statsmodels.iolib.summary.Summary'>\n\"\"\"\n                            OLS Regression Results                            \n==============================================================================\nDep. Variable:                poverty   R-squared:                       0.641\nModel:                            OLS   Adj. R-squared:                  0.618\nMethod:                 Least Squares   F-statistic:                     28.00\nDate:                Wed, 28 Sep 2022   Prob (F-statistic):           1.55e-10\nTime:                        13:18:48   Log-Likelihood:                -103.41\nNo. Observations:                  51   AIC:                             214.8\nDf Residuals:                      47   BIC:                             222.5\nDf Model:                           3                                         \nCovariance Type:            nonrobust                                         \n==============================================================================\n                 coef    std err          t      P>|t|      [0.025      0.975]\n------------------------------------------------------------------------------\nIntercept     68.7220      6.389     10.756      0.000      55.869      81.575\nmetro_res     -0.0555      0.019     -2.926      0.005      -0.094      -0.017\nwhite         -0.0533      0.021     -2.483      0.017      -0.097      -0.010\nhs_grad       -0.5697      0.075     -7.569      0.000      -0.721      -0.418\n==============================================================================\nOmnibus:                        3.479   Durbin-Watson:                   1.900\nProb(Omnibus):                  0.176   Jarque-Bera (JB):                3.230\nSkew:                           0.607   Prob(JB):                        0.199\nKurtosis:                       2.787   Cond. No.                     3.32e+03\n==============================================================================\n\nNotes:\n[1] Standard Errors assume that the covariance matrix of the errors is correctly specified.\n[2] The condition number is large, 3.32e+03. This might indicate that there are\nstrong multicollinearity or other numerical problems.\n\"\"\"",
            "text/html": "<table class=\"simpletable\">\n<caption>OLS Regression Results</caption>\n<tr>\n  <th>Dep. Variable:</th>         <td>poverty</td>     <th>  R-squared:         </th> <td>   0.641</td>\n</tr>\n<tr>\n  <th>Model:</th>                   <td>OLS</td>       <th>  Adj. R-squared:    </th> <td>   0.618</td>\n</tr>\n<tr>\n  <th>Method:</th>             <td>Least Squares</td>  <th>  F-statistic:       </th> <td>   28.00</td>\n</tr>\n<tr>\n  <th>Date:</th>             <td>Wed, 28 Sep 2022</td> <th>  Prob (F-statistic):</th> <td>1.55e-10</td>\n</tr>\n<tr>\n  <th>Time:</th>                 <td>13:18:48</td>     <th>  Log-Likelihood:    </th> <td> -103.41</td>\n</tr>\n<tr>\n  <th>No. Observations:</th>      <td>    51</td>      <th>  AIC:               </th> <td>   214.8</td>\n</tr>\n<tr>\n  <th>Df Residuals:</th>          <td>    47</td>      <th>  BIC:               </th> <td>   222.5</td>\n</tr>\n<tr>\n  <th>Df Model:</th>              <td>     3</td>      <th>                     </th>     <td> </td>   \n</tr>\n<tr>\n  <th>Covariance Type:</th>      <td>nonrobust</td>    <th>                     </th>     <td> </td>   \n</tr>\n</table>\n<table class=\"simpletable\">\n<tr>\n      <td></td>         <th>coef</th>     <th>std err</th>      <th>t</th>      <th>P>|t|</th>  <th>[0.025</th>    <th>0.975]</th>  \n</tr>\n<tr>\n  <th>Intercept</th> <td>   68.7220</td> <td>    6.389</td> <td>   10.756</td> <td> 0.000</td> <td>   55.869</td> <td>   81.575</td>\n</tr>\n<tr>\n  <th>metro_res</th> <td>   -0.0555</td> <td>    0.019</td> <td>   -2.926</td> <td> 0.005</td> <td>   -0.094</td> <td>   -0.017</td>\n</tr>\n<tr>\n  <th>white</th>     <td>   -0.0533</td> <td>    0.021</td> <td>   -2.483</td> <td> 0.017</td> <td>   -0.097</td> <td>   -0.010</td>\n</tr>\n<tr>\n  <th>hs_grad</th>   <td>   -0.5697</td> <td>    0.075</td> <td>   -7.569</td> <td> 0.000</td> <td>   -0.721</td> <td>   -0.418</td>\n</tr>\n</table>\n<table class=\"simpletable\">\n<tr>\n  <th>Omnibus:</th>       <td> 3.479</td> <th>  Durbin-Watson:     </th> <td>   1.900</td>\n</tr>\n<tr>\n  <th>Prob(Omnibus):</th> <td> 0.176</td> <th>  Jarque-Bera (JB):  </th> <td>   3.230</td>\n</tr>\n<tr>\n  <th>Skew:</th>          <td> 0.607</td> <th>  Prob(JB):          </th> <td>   0.199</td>\n</tr>\n<tr>\n  <th>Kurtosis:</th>      <td> 2.787</td> <th>  Cond. No.          </th> <td>3.32e+03</td>\n</tr>\n</table><br/><br/>Notes:<br/>[1] Standard Errors assume that the covariance matrix of the errors is correctly specified.<br/>[2] The condition number is large, 3.32e+03. This might indicate that there are<br/>strong multicollinearity or other numerical problems."
          },
          "execution_count": 4,
          "metadata": {},
          "output_type": "execute_result"
        }
      ]
    },
    {
      "cell_type": "code",
      "source": [
        "import seaborn as sns\n",
        "\n",
        "sns.heatmap(data.corr(), vmax=1, vmin=-1, center=0, cmap='seismic',\n",
        "          square=True, linewidths=.5, annot=True, fmt=\".2f\")\n",
        "data.corr()"
      ],
      "metadata": {
        "id": "GiSenHeYOQbx",
        "outputId": "cfbec3e0-aad7-47b7-bf9a-566d0fdfb638",
        "colab": {
          "base_uri": "https://localhost:8080/",
          "height": 516
        },
        "pycharm": {
          "name": "#%%\n"
        }
      },
      "execution_count": null,
      "outputs": [
        {
          "data": {
            "text/plain": "              metro_res     white   hs_grad   poverty  female_house\nmetro_res      1.000000 -0.342442  0.018110 -0.204235      0.300062\nwhite         -0.342442  1.000000  0.238156 -0.308520     -0.751394\nhs_grad        0.018110  0.238156  1.000000 -0.746858     -0.611867\npoverty       -0.204235 -0.308520 -0.746858  1.000000      0.525397\nfemale_house   0.300062 -0.751394 -0.611867  0.525397      1.000000",
            "text/html": "<div>\n<style scoped>\n    .dataframe tbody tr th:only-of-type {\n        vertical-align: middle;\n    }\n\n    .dataframe tbody tr th {\n        vertical-align: top;\n    }\n\n    .dataframe thead th {\n        text-align: right;\n    }\n</style>\n<table border=\"1\" class=\"dataframe\">\n  <thead>\n    <tr style=\"text-align: right;\">\n      <th></th>\n      <th>metro_res</th>\n      <th>white</th>\n      <th>hs_grad</th>\n      <th>poverty</th>\n      <th>female_house</th>\n    </tr>\n  </thead>\n  <tbody>\n    <tr>\n      <th>metro_res</th>\n      <td>1.000000</td>\n      <td>-0.342442</td>\n      <td>0.018110</td>\n      <td>-0.204235</td>\n      <td>0.300062</td>\n    </tr>\n    <tr>\n      <th>white</th>\n      <td>-0.342442</td>\n      <td>1.000000</td>\n      <td>0.238156</td>\n      <td>-0.308520</td>\n      <td>-0.751394</td>\n    </tr>\n    <tr>\n      <th>hs_grad</th>\n      <td>0.018110</td>\n      <td>0.238156</td>\n      <td>1.000000</td>\n      <td>-0.746858</td>\n      <td>-0.611867</td>\n    </tr>\n    <tr>\n      <th>poverty</th>\n      <td>-0.204235</td>\n      <td>-0.308520</td>\n      <td>-0.746858</td>\n      <td>1.000000</td>\n      <td>0.525397</td>\n    </tr>\n    <tr>\n      <th>female_house</th>\n      <td>0.300062</td>\n      <td>-0.751394</td>\n      <td>-0.611867</td>\n      <td>0.525397</td>\n      <td>1.000000</td>\n    </tr>\n  </tbody>\n</table>\n</div>"
          },
          "execution_count": 3,
          "metadata": {},
          "output_type": "execute_result"
        },
        {
          "data": {
            "text/plain": "<Figure size 640x480 with 2 Axes>",
            "image/png": "[encoded data removed]"
          },
          "metadata": {},
          "output_type": "display_data"
        }
      ]
    },
    {
      "cell_type": "markdown",
      "metadata": {
        "id": "XSK482SaTd9S",
        "pycharm": {
          "name": "#%% md\n"
        }
      },
      "source": [
        "## Классификация: логистическая регрессия и кластерный анализ"
      ]
    },
    {
      "cell_type": "markdown",
      "metadata": {
        "id": "-RBlGfbxTd9S",
        "pycharm": {
          "name": "#%% md\n"
        }
      },
      "source": [
        "\n",
        "# Полезные ссылки\n",
        "\n",
        "- https://gallery.shinyapps.io/dist_calc/\n",
        "    - сайт где можно визуализировать различные распределения и вести подсчёты"
      ]
    }
  ],
  "metadata": {
    "kernelspec": {
      "display_name": "Python 3",
      "language": "python",
      "name": "python3"
    },
    "language_info": {
      "codemirror_mode": {
        "name": "ipython",
        "version": 3
      },
      "file_extension": ".py",
      "mimetype": "text/x-python",
      "name": "python",
      "nbconvert_exporter": "python",
      "pygments_lexer": "ipython3",
      "version": "3.8.5"
    },
    "colab": {
      "provenance": []
    }
  },
  "nbformat": 4,
  "nbformat_minor": 0
}