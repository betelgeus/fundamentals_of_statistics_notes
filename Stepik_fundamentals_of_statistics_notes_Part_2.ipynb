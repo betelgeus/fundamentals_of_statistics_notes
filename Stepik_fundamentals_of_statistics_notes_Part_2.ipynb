{
  "cells": [
    {
      "cell_type": "markdown",
      "metadata": {
        "id": "view-in-github",
        "colab_type": "text"
      },
      "source": [
        "<a href=\"https://colab.research.google.com/github/betelgeus/fundamentals_of_statistics_notes/blob/main/Stepik_fundamentals_of_statistics_notes_Part_2.ipynb\" target=\"_parent\"><img src=\"https://colab.research.google.com/assets/colab-badge.svg\" alt=\"Open In Colab\"/></a>"
      ]
    },
    {
      "cell_type": "markdown",
      "metadata": {
        "id": "8V-YRPA1_1jM"
      },
      "source": [
        "# Основы статистики. Часть II\n",
        "\n",
        "#### конспект лекций\n",
        "\n",
        "Автор лекций: **Анатолий Карпов**\n",
        "\n",
        "\n",
        "\n"
      ]
    },
    {
      "cell_type": "markdown",
      "metadata": {
        "id": "RVTccp-u_1jR"
      },
      "source": [
        "<hr>\n",
        "\n",
        "## Содержание\n"
      ]
    },
    {
      "cell_type": "markdown",
      "metadata": {
        "id": "A3DQJ3G1_1jS"
      },
      "source": [
        "### Часть 1 Анализ номинативных данных\n",
        "\n",
        " - [Расстояние Пирсона](#Расстояние-Пирсона)\n",
        " - [Распределение Хи-квадрат Пирсона](#Распределение-Хи-квадрат-Пирсона)\n",
        " - [Расчет p-уровня значимости](#Расчет-p-уровня-значимости)\n",
        " - [Анализ таблиц сопряженности](#Анализ-таблиц-сопряженности)\n",
        " - [Точный критерий Фишера](#Точный-критерий-Фишера)\n"
      ]
    },
    {
      "cell_type": "markdown",
      "metadata": {
        "id": "tonL9gyp_1jT"
      },
      "source": [
        "### Часть 2 Логистическая регрессия и непараметрические методы \n",
        "\n",
        " - [Номинативная зависимая переменная](#Номинативная-зависимая-переменная)\n",
        " - [Модель без предикторов. Intercept only model](#Модель-без-предикторов.-Intercept-only-model)\n",
        " - [Модель с одним номинативным предиктором](#Модель-с-одним-номинативным-предиктором)\n",
        " - [Модель с двумя номинативными предикторами](#Модель-с-двумя-номинативными-предикторами)\n",
        " - [Взаимодействие номинативных предикторов](#Взаимодействие-номинативных-предикторов)\n",
        " - [Когда нужно использовать непараметрические методы и почему?](#Когда-нужно-использовать-непараметрические-методы-и-почему?)\n",
        " - [Непараметрические методы. Продолжение.](#Непараметрические-методы.-Продолжение.)"
      ]
    },
    {
      "cell_type": "markdown",
      "metadata": {
        "id": "TH4DLlaR_1jT"
      },
      "source": [
        "### Часть 3 Кластерный анализ и метод главных компонент\n",
        "\n",
        " - [Кластерный анализ методом **k-средних**](#Кластерный-анализ-методом-k-средних)\n",
        " - [Может ли кластерный анализ \"ошибаться\"?](#Может-ли-кластерный-анализ-ошибаться?)\n",
        " - [Как определить оптимальное число кластеров?](#Как-определить-оптимальное-число-кластеров?)\n",
        " - [~**Иерархическая кластеризация**~](#Иерархическая-кластеризация)\n",
        " - [~Введение в метод анализа главных компонент~](#Введение-в-метод-анализа-главных-компонент)"
      ]
    },
    {
      "cell_type": "code",
      "execution_count": null,
      "metadata": {
        "id": "LxIlrf40_1jU"
      },
      "outputs": [],
      "source": [
        "import warnings\n",
        "warnings.filterwarnings('ignore')"
      ]
    },
    {
      "cell_type": "markdown",
      "metadata": {
        "id": "CCzEMw3I_1jW"
      },
      "source": [
        "<hr>\n",
        "\n",
        "# Часть 1 Анализ номинативных данных"
      ]
    },
    {
      "cell_type": "markdown",
      "metadata": {
        "id": "CK_0T14c_1jW"
      },
      "source": [
        "## Расстояние Пирсона\n",
        "<img src=\"https://raw.githubusercontent.com/betelgeus/fundamentals_of_statistics_notes/main/img/Снимок%20экрана%202022-09-28%20в%2017.06.04.png\" width=\"1000px\"/>"
      ]
    },
    {
      "cell_type": "markdown",
      "source": [
        "## Пример\n",
        "Предположим, что в результате подбрасывания монетки шанс получить решку и орла должен быть 50/50. \n",
        "\n",
        "Сверим наше предположение с эмпирическими данными. Создадим генератор подбрасывания монетки, где 0 это орел, а 1 это решка. \n",
        "1. Подбросим монетку 60 раз\n",
        "2. Посмотрим, как результат отклонился от ожидаемого значение. Для этого воспользуемся формулой расчета расстояния Пирсона\n",
        "3. Повторим эксперимент 10 000 раз\n",
        "4. Посмотрим на распределение отклонения на гистограмме"
      ],
      "metadata": {
        "id": "-I6iA9WKWcVI"
      }
    },
    {
      "cell_type": "code",
      "source": [
        "import random as random\n",
        "import pandas as pd\n",
        "\n",
        "\n",
        "coin = []\n",
        "trial = 60\n",
        "expect = trial / 2\n",
        "for _ in range(10000):\n",
        "  coin.append(sum([random.randrange(0,  2) for _ in range(trial)]))\n",
        "coin = pd.Series(coin)\n",
        "coin = (coin - expect) ** 2 / expect +  ((trial - coin) - expect) ** 2 / expect\n",
        "coin.hist()"
      ],
      "metadata": {
        "colab": {
          "base_uri": "https://localhost:8080/",
          "height": 282
        },
        "id": "15o46I8BGehw",
        "outputId": "0d27f753-e750-4f48-b56a-44b2f74f5784"
      },
      "execution_count": 37,
      "outputs": [
        {
          "output_type": "execute_result",
          "data": {
            "text/plain": [
              "<matplotlib.axes._subplots.AxesSubplot at 0x7f95ea5f3310>"
            ]
          },
          "metadata": {},
          "execution_count": 37
        },
        {
          "output_type": "display_data",
          "data": {
            "text/plain": [
              "<Figure size 432x288 with 1 Axes>"
            ],
            "image/png": "[encoded data removed]"
          },
          "metadata": {
            "needs_background": "light"
          }
        }
      ]
    },
    {
      "cell_type": "markdown",
      "metadata": {
        "id": "-4uwVgTd_1jX"
      },
      "source": [
        "## Распределение Хи-квадрат Пирсона\n",
        "\n",
        "Распределе́ние $ \\chi^2 $ (хи-квадра́т) с $k$ степеня́ми свободы — это распределение суммы квадратов $k$ независимых **стандартных нормальных случайных величин**.\n"
      ]
    },
    {
      "cell_type": "code",
      "execution_count": 45,
      "metadata": {
        "id": "Li350jw-_1jX",
        "outputId": "2ee46327-5c9e-4af8-b2c8-ce47b71aa993",
        "colab": {
          "base_uri": "https://localhost:8080/",
          "height": 499
        }
      },
      "outputs": [
        {
          "output_type": "display_data",
          "data": {
            "text/plain": [
              "<Figure size 864x576 with 1 Axes>"
            ],
            "image/png": "[encoded data removed]"
          },
          "metadata": {
            "needs_background": "light"
          }
        }
      ],
      "source": [
        "from scipy.stats import chi2\n",
        "import numpy as np\n",
        "import matplotlib.pyplot as plt\n",
        "plt.rcParams[\"figure.figsize\"] = (12,8)\n",
        "\n",
        "x = np.linspace(0, 10, 300)\n",
        "# степень свободы\n",
        "df_set = {1, 2 , 3, 5, 7, 10}\n",
        "\n",
        "for df in df_set:\n",
        "    y = chi2.pdf(x, df=df)\n",
        "    plt.plot(x, y, label=f'df={df}')\n",
        "\n",
        "plt.title('графики хи-квадрат распределения с различными степенями свобод')\n",
        "plt.legend()\n",
        "plt.show()"
      ]
    },
    {
      "cell_type": "markdown",
      "metadata": {
        "id": "DYzukeLk_1jY"
      },
      "source": [
        "## Расчет p-уровня значимости"
      ]
    },
    {
      "cell_type": "code",
      "execution_count": null,
      "metadata": {
        "id": "--FIjVw5_1jZ",
        "outputId": "b5640a08-f9a7-4874-f85a-3c3e82aa5eb2"
      },
      "outputs": [
        {
          "data": {
            "image/png": "[encoded data removed]",
            "text/plain": [
              "<Figure size 1440x1512 with 6 Axes>"
            ]
          },
          "metadata": {
            "needs_background": "light"
          },
          "output_type": "display_data"
        }
      ],
      "source": [
        "from scipy.stats import chi2\n",
        "import numpy as np\n",
        "import matplotlib.pyplot as plt\n",
        "\n",
        "plt.rcParams[\"figure.figsize\"] = (20, 21)\n",
        "\n",
        "p = 0.95\n",
        "x1 = np.linspace(0, 10, 300)\n",
        "x2 = np.linspace(0, 20, 300)\n",
        "\n",
        "fig, axs = plt.subplots(nrows=3, ncols=2)\n",
        "axs =  axs.flat\n",
        "\n",
        "for i, df in enumerate(df_set):\n",
        "    chi_value = chi2.isf(1-p, df=df)\n",
        "    y = chi2.pdf(x, df=df)\n",
        "    x = x1 if df <= 4 else x2\n",
        "    \n",
        "    axs[i].set_title(f'Хи-квадрат степень свободы {df}')\n",
        "    axs[i].plot(x, y, color='k')\n",
        "    left_x, right_x = x <= chi_value, x >= chi_value\n",
        "    axs[i].fill_between(x[left_x], y[left_x], color='yellow')\n",
        "    axs[i].fill_between(x[right_x], y[right_x], color='blue')\n",
        "\n",
        "\n",
        "fig.suptitle('Расчёт для каждого распределения хи-квадрат 95% p-уровня значимости')\n",
        "plt.show()"
      ]
    },
    {
      "cell_type": "markdown",
      "metadata": {
        "id": "PtcNyVF__1ja"
      },
      "source": [
        "### Примеры.1.4\n",
        "Какая доля наблюдений лежит в диапазоне от 2 до 4 у распределения хи-квадрат с двумя степенями свободы?"
      ]
    },
    {
      "cell_type": "code",
      "source": [
        "from scipy.stats import chi2\n",
        "\n",
        "# рассчитаем значение P value для Хи-квадрат равный 2\n",
        "p_val_2 = 1 - chi2.cdf(2, df=2)\n",
        "# рассчитаем значение P value для Хи-квадрат равный 4\n",
        "p_val_4 = 1 - chi2.cdf(4, df=2)\n",
        "# разница между 1 и 2 значением будет равна доле наблюдений\n",
        "print(f'Доля наблюдений: {(p_val_2 - p_val_4)*100:.1f}%')"
      ],
      "metadata": {
        "colab": {
          "base_uri": "https://localhost:8080/"
        },
        "id": "n-rDclJoiubT",
        "outputId": "67a31604-8ce8-47cf-b548-9ab5d7a02819"
      },
      "execution_count": 2,
      "outputs": [
        {
          "output_type": "stream",
          "name": "stdout",
          "text": [
            "Доля наблюдений: 23.3%\n"
          ]
        }
      ]
    },
    {
      "cell_type": "code",
      "execution_count": null,
      "metadata": {
        "id": "l8o3TlHg_1ja",
        "outputId": "aa1b7bbc-b10a-4cf0-b72f-560404d5f0e2"
      },
      "outputs": [
        {
          "name": "stdout",
          "output_type": "stream",
          "text": [
            "0.2325\n"
          ]
        }
      ],
      "source": [
        "from scipy.stats import chi2\n",
        "\n",
        "print(f'{chi2.cdf(4, df=2) - chi2.cdf(2, df=2):.4f}')"
      ]
    },
    {
      "cell_type": "markdown",
      "metadata": {
        "id": "7iICOIiM_1jb"
      },
      "source": [
        "Теперь рассчитаем p-уровень значимости для нашего примера с игральной костью. Напомню, что мы получили следующие значения наблюдаемых частот (от единички до шестерки):\n",
        "\n",
        "10, 10, 10, 5, 10, 15\n",
        "\n",
        "Проверьте нулевую гипотезу о том, что эмпирическое распределение частот не отличается от равномерного. В поле для ответа введите получившийся p-уровень значимости. "
      ]
    },
    {
      "cell_type": "code",
      "source": [
        "from scipy.stats import chisquare\n",
        "\n",
        "\n",
        "# Создадим два массива. Первый с эмпирическими данными, второй с ожидаемыми значениями\n",
        "f_obs = [10, 10, 10, 5, 10, 15]\n",
        "f_exp = [10, 10, 10, 10, 10, 10]\n",
        "chi2, p_val = chisquare(f_obs, f_exp)\n",
        "print('Chi-square:', chi2)\n",
        "print('P-value:', round(p_val, 3))"
      ],
      "metadata": {
        "colab": {
          "base_uri": "https://localhost:8080/"
        },
        "id": "y4IZOuyrlccO",
        "outputId": "b181435e-449b-4d51-8b72-fffdcba62a68"
      },
      "execution_count": 3,
      "outputs": [
        {
          "output_type": "stream",
          "name": "stdout",
          "text": [
            "Chi-square: 5.0\n",
            "P-value: 0.416\n"
          ]
        }
      ]
    },
    {
      "cell_type": "code",
      "execution_count": 12,
      "metadata": {
        "id": "kZfyAq-0_1jc",
        "outputId": "eb95e343-5f5b-4248-e40e-48c70fb77dd4",
        "colab": {
          "base_uri": "https://localhost:8080/"
        }
      },
      "outputs": [
        {
          "output_type": "stream",
          "name": "stdout",
          "text": [
            "0.4159\n"
          ]
        }
      ],
      "source": [
        "from scipy.stats import chi2\n",
        "import numpy as np\n",
        "\n",
        "observed = np.array([10, 10, 10, 5, 10, 15])\n",
        "\n",
        "def chi_value(observed):\n",
        "    # e - expected\n",
        "    e = np.mean(observed)\n",
        "    return sum([((o - e)**2)/e for o in observed])\n",
        "\n",
        "p = chi2.sf(chi_value(observed), df=(observed.size-1))\n",
        "print(f'{p:.4f}')"
      ]
    },
    {
      "cell_type": "markdown",
      "source": [
        "Вернемся к нашему примеру с политическими партиями! Проверьте гипотезу о том, что в ГС нет никаких различий в предпочтениях трех партий. Введите в поле для ответа получившееся значение статистики хи-квадрат с точностью хотя бы до одной цифры после запятой.\n",
        "\n",
        "Партия А: 10 избирателей\n",
        "Партия Б: 30 избирателей\n",
        "Партия В: 50 избирателей"
      ],
      "metadata": {
        "id": "3OipDzh7msg4"
      }
    },
    {
      "cell_type": "code",
      "source": [
        "from scipy.stats import chisquare\n",
        "\n",
        "f_obs = [10, 30, 50]\n",
        "chi2, _ = chisquare(f_obs)\n",
        "print('Chi square:', round(chi2, 1))"
      ],
      "metadata": {
        "colab": {
          "base_uri": "https://localhost:8080/"
        },
        "id": "7K4Z2__TmvVn",
        "outputId": "cdc62958-fb04-46b6-b7e0-cfc0e75e55a7"
      },
      "execution_count": 5,
      "outputs": [
        {
          "output_type": "stream",
          "name": "stdout",
          "text": [
            "Chi square: 26.7\n"
          ]
        }
      ]
    },
    {
      "cell_type": "markdown",
      "metadata": {
        "id": "Ot_BLy9F_1jc"
      },
      "source": [
        "Недавно я пришел на лекцию в Институт биоинформатики и обнаружил, что в группе различное число студентов женского и мужского пола: 15 юношей и 9 девушек. Возможно, кого-то это и могло бы оставить равнодушным, а я вот сразу взял лист бумаги и ручку, чтобы проверить гипотезу о том, что распределение частот девушек и юношей не отличается от равномерного в генеральной совокупности биоинформатиков!\n",
        "\n",
        "Давайте сверим наши результаты. Введите в поле для ответа получившийся у вас p-уровень значимости."
      ]
    },
    {
      "cell_type": "code",
      "source": [
        "from scipy.stats import chisquare\n",
        "\n",
        "f_obs = [9, 15]\n",
        "p_val = chisquare(f_obs)[1]\n",
        "print('P-value:', round(p_val, 3))"
      ],
      "metadata": {
        "colab": {
          "base_uri": "https://localhost:8080/"
        },
        "id": "UQvlxqq8npHd",
        "outputId": "2b045f14-9793-4fd8-df84-133adab4523c"
      },
      "execution_count": 6,
      "outputs": [
        {
          "output_type": "stream",
          "name": "stdout",
          "text": [
            "P-value: 0.221\n"
          ]
        }
      ]
    },
    {
      "cell_type": "code",
      "execution_count": 15,
      "metadata": {
        "id": "RzLGfVtv_1jd",
        "outputId": "e5caa3eb-1848-477f-bffc-e89047bb6e44",
        "colab": {
          "base_uri": "https://localhost:8080/"
        }
      },
      "outputs": [
        {
          "output_type": "stream",
          "name": "stdout",
          "text": [
            "0.2207\n"
          ]
        }
      ],
      "source": [
        "from scipy.stats import chi2\n",
        "import numpy as np\n",
        "\n",
        "observed = np.array([15, 9])\n",
        "p = chi2.sf(chi_value(observed), df=observed.size-1)\n",
        "print(f'{p:.4f}')"
      ]
    },
    {
      "cell_type": "markdown",
      "metadata": {
        "id": "NXmImiK0_1je"
      },
      "source": [
        "В 2013 году Эдвард Сноуден передал СМИ секретную информацию АНБ, касающуюся слежки американских спецслужб за информационными коммуникациями между гражданами. Однако ﻿его поступок вызвал неоднозначную реакцию в обществе. Исследовательский центр USA TODAY провел опрос 1500 граждан США с целью выяснить, воспринимают ли они поступок Сноудена как положительный или отрицательный. 53% опрошенных респондентов оценили разоблачение положительно.\n",
        "\n",
        "При помощи теста хи-квадрат проверьте нулевую гипотезу о том, что в генеральной совокупности распределение отношения к поступку Сноудена является равномерным, то есть 50 на 50."
      ]
    },
    {
      "cell_type": "code",
      "source": [
        "from scipy.stats import chisquare\n",
        "\n",
        "positive = 1500 * .53\n",
        "negative = 1500 * .47\n",
        "f_obs = [positive, negative]\n",
        "p_val = chisquare(f_obs)[1]\n",
        "if p_val < 0.05:\n",
        "    print('Отвергаем нулевую гипотезу о том, что в генеральной совокупности распределение отношения к поступку Сноудена является равномерным.')\n",
        "    print('P-value:', round(p_val, 4))\n",
        "else:\n",
        "    print('Принимаем нулевую гипотезу о том, что в генеральной совокупности распределение отношения к поступку Сноудена является равномерным.')\n",
        "    print('P-value:', round(p_val, 4))"
      ],
      "metadata": {
        "colab": {
          "base_uri": "https://localhost:8080/"
        },
        "id": "I1IGs55Ppi4A",
        "outputId": "c8120ee1-5b93-475d-9178-993cebfda9cc"
      },
      "execution_count": 16,
      "outputs": [
        {
          "output_type": "stream",
          "name": "stdout",
          "text": [
            "Отвергаем нулевую гипотезу о том, что в генеральной совокупности распределение отношения к поступку Сноудена является равномерным.\n",
            "P-value: 0.0201\n"
          ]
        }
      ]
    },
    {
      "cell_type": "code",
      "execution_count": null,
      "metadata": {
        "id": "4fuK2opN_1je",
        "outputId": "c0227b2f-15bd-4e75-cc07-b1b414c1c310"
      },
      "outputs": [
        {
          "name": "stdout",
          "output_type": "stream",
          "text": [
            "0.0201\n"
          ]
        }
      ],
      "source": [
        "n=1500\n",
        "observed = np.array([0.53*n, 0.47*n], dtype='int32')\n",
        "p = chi2.sf(chi_value(observed), df=observed.size-1)\n",
        "print(f'{p:.4f}')"
      ]
    },
    {
      "cell_type": "markdown",
      "metadata": {
        "id": "6fPW0sMT_1jf"
      },
      "source": [
        "## Анализ таблиц сопряженности\n",
        "<img src=\"https://raw.githubusercontent.com/betelgeus/fundamentals_of_statistics_notes/main/img/Снимок%20экрана%202022-09-29%20в%2013.11.02.png\" width=\"600px\"/>\n",
        "\n",
        "<img src=\"https://raw.githubusercontent.com/betelgeus/fundamentals_of_statistics_notes/main/img/Снимок%20экрана%202022-09-29%20в%2013.11.16.png\" width=\"600px\"/>"
      ]
    },
    {
      "cell_type": "markdown",
      "source": [
        "## Примеры\n",
        "В таблице представлены результаты эксперимента, направленного на проверку гипотезы о взаимосвязи двух номинативных переменных с двумя градациями. Рассчитайте ожидаемые частоты для проверки нулевой гипотезы о независимости двух переменных X и Y.\n",
        "<table>\n",
        "<tr>\n",
        "</td>\n",
        "<td></td>\n",
        "<td>1-ая грд. ф-ра. Y</td>\n",
        "<td>2-ая грд. ф-ра. Y</td>\n",
        "<td>Всего</td>\n",
        "<tr>\n",
        "<td>1-ая грд. ф-ра. X</td>\n",
        "<td>10</td>\n",
        "<td>6</td>\n",
        "<td>16</td>\n",
        "</td>\n",
        "<tr>\n",
        "<td>2-ая грд. ф-ра. X</td>\n",
        "<td>5</td>\n",
        "<td>15</td>\n",
        "<td>20</td>\n",
        "</td>\n",
        "<tr>\n",
        "<td>Всего</td>\n",
        "<td>15</td>\n",
        "<td>21</td>\n",
        "<td></td>\n",
        "</tr>\n",
        "</table>\n",
        "В поле для ответа напишите максимальное значение из четырех ожидаемых частот."
      ],
      "metadata": {
        "id": "56LEL6nDv0TN"
      }
    },
    {
      "cell_type": "code",
      "source": [
        "import pandas as pd"
      ],
      "metadata": {
        "id": "LMNVTnvC-ic8"
      },
      "execution_count": 19,
      "outputs": []
    },
    {
      "cell_type": "code",
      "source": [
        "# Создадим таблицу\n",
        "data_frame = pd.DataFrame([[10, 6], [5, 15]], index=['1-ая грд. ф-ра. X', '2-ая грд. ф-ра. X'], columns=['1-ая грд. ф-ра. Y', '2-ая грд. ф-ра. Y'])\n",
        "print(data_frame)"
      ],
      "metadata": {
        "colab": {
          "base_uri": "https://localhost:8080/"
        },
        "id": "C3heF50--tDS",
        "outputId": "6d127aea-1539-4faf-95dd-a9bb19c6970f"
      },
      "execution_count": 20,
      "outputs": [
        {
          "output_type": "stream",
          "name": "stdout",
          "text": [
            "                   1-ая грд. ф-ра. Y  2-ая грд. ф-ра. Y\n",
            "1-ая грд. ф-ра. X                 10                  6\n",
            "2-ая грд. ф-ра. X                  5                 15\n"
          ]
        }
      ]
    },
    {
      "cell_type": "code",
      "source": [
        "# Добавим в таблицу сумму по строкам\n",
        "data_frame['Total'] = data_frame.sum(axis=1)\n",
        "# Добавим в таблицу сумму по столбцам\n",
        "data_frame.loc[\"Total\"] = data_frame.sum()\n",
        "print(data_frame)"
      ],
      "metadata": {
        "colab": {
          "base_uri": "https://localhost:8080/"
        },
        "id": "EufRqIPU-vaX",
        "outputId": "1f9acdbb-9039-4394-dc5a-c5fd30cb8fe1"
      },
      "execution_count": 21,
      "outputs": [
        {
          "output_type": "stream",
          "name": "stdout",
          "text": [
            "                   1-ая грд. ф-ра. Y  2-ая грд. ф-ра. Y  Total\n",
            "1-ая грд. ф-ра. X                 10                  6     16\n",
            "2-ая грд. ф-ра. X                  5                 15     20\n",
            "Total                             15                 21     36\n"
          ]
        }
      ]
    },
    {
      "cell_type": "code",
      "source": [
        "# Создадим пустую таблицу с ожидаемыми значениями. Еще можно так: np.zeros(np.shape(data_frame)), но не будет заголовков\n",
        "data_frame_exp = pd.DataFrame([[0, 0], [0, 0]],  index=['1-ая грд. ф-ра. X', '2-ая грд. ф-ра. X'], columns=['1-ая грд. ф-ра. Y', '2-ая грд. ф-ра. Y'])\n",
        "# 1-ым циклом переберем индексы колонок\n",
        "# 2-ом циклом переберем индексы строк\n",
        "# Для каждой ячейки в таблице с ожидаемыми значениями посчитаем значение по формуле сумма по признаку Y * сумма по признаку X / кол-во наблюдений\n",
        "for i in range(len(data_frame) - 1):\n",
        "    for j in range(len(data_frame) - 1):\n",
        "        data_frame_exp.iat[i, j] = data_frame.loc['Total'][j] * data_frame.iloc[i]['Total'] / data_frame.loc['Total']['Total']\n",
        "print(data_frame_exp)"
      ],
      "metadata": {
        "colab": {
          "base_uri": "https://localhost:8080/"
        },
        "id": "MF5x6hWa-zEU",
        "outputId": "5aea6db5-8db5-486f-f60f-80a028c8ced4"
      },
      "execution_count": 22,
      "outputs": [
        {
          "output_type": "stream",
          "name": "stdout",
          "text": [
            "                   1-ая грд. ф-ра. Y  2-ая грд. ф-ра. Y\n",
            "1-ая грд. ф-ра. X           6.666667           9.333333\n",
            "2-ая грд. ф-ра. X           8.333333          11.666667\n"
          ]
        }
      ]
    },
    {
      "cell_type": "code",
      "source": [
        "# Преобразуем таблицу в двумерный массив. Найдем в массиве максимальное число.\n",
        "print(data_frame_exp.to_numpy().max())"
      ],
      "metadata": {
        "colab": {
          "base_uri": "https://localhost:8080/"
        },
        "id": "ddFTrxr6-2nh",
        "outputId": "757601a2-a48d-4806-d3e8-4cc021afc00f"
      },
      "execution_count": 23,
      "outputs": [
        {
          "output_type": "stream",
          "name": "stdout",
          "text": [
            "11.666666666666666\n"
          ]
        }
      ]
    },
    {
      "cell_type": "code",
      "source": [
        "from scipy.stats import chi2_contingency\n",
        "\n",
        "\n",
        "f_obs = [[10, 6], [5, 15]]\n",
        "chi2, p_val, df, f_exp = chi2_contingency(f_obs)\n",
        "print('chi2:', chi2)\n",
        "print('p_val:', p_val)\n",
        "print('df:', df)\n",
        "print('f_exp:', f_exp)\n",
        "print(f_exp.max())"
      ],
      "metadata": {
        "colab": {
          "base_uri": "https://localhost:8080/"
        },
        "id": "nloEEeoEAh4C",
        "outputId": "c0e5ea66-330e-4a22-e0a0-f36137abce49"
      },
      "execution_count": 24,
      "outputs": [
        {
          "output_type": "stream",
          "name": "stdout",
          "text": [
            "chi2: 3.715714285714286\n",
            "p_val: 0.053902557169387154\n",
            "df: 1\n",
            "f_exp: [[ 6.66666667  9.33333333]\n",
            " [ 8.33333333 11.66666667]]\n",
            "11.666666666666666\n"
          ]
        }
      ]
    },
    {
      "cell_type": "markdown",
      "source": [
        "**Важно!**\n",
        "\n",
        "Обрати внимание, что степень свободы равна 1. Хотя у нас 4 группы, соответственно должна была быть равна 3.\n",
        "Степень сводобы равна 1 потому, что зная всего 1 значение в ячейке и суммы по признакам X и Y мы можем рассчитать значения в остальных ячейках. Поэтому мы не можем сказать, что они независимы. "
      ],
      "metadata": {
        "id": "sPRvwgELCGpz"
      }
    },
    {
      "cell_type": "markdown",
      "source": [
        "<img src=\"https://raw.githubusercontent.com/betelgeus/fundamentals_of_statistics_notes/main/img/Снимок%20экрана%202022-09-29%20в%2014.42.45.png\" width=\"800px\"/>\n",
        "\n",
        "\n",
        "\n",
        "\n",
        "\n"
      ],
      "metadata": {
        "id": "6pVXaIA9URtt"
      }
    },
    {
      "cell_type": "markdown",
      "source": [
        "<img src=\"https://raw.githubusercontent.com/betelgeus/fundamentals_of_statistics_notes/main/img/Снимок%20экрана%202022-09-29%20в%2015.51.55.png\" width=\"800px\"/>\n"
      ],
      "metadata": {
        "id": "MPSvtAjeU4S4"
      }
    },
    {
      "cell_type": "markdown",
      "source": [
        "#Пример\n",
        "\n",
        "<img src=\"https://raw.githubusercontent.com/betelgeus/fundamentals_of_statistics_notes/main/img/Снимок%20экрана%202022-09-29%20в%2015.53.05.png\" width=\"400px\"/>\n",
        "\n",
        "\n"
      ],
      "metadata": {
        "id": "8FN_z5abU5YX"
      }
    },
    {
      "cell_type": "code",
      "source": [
        "import pandas as pd\n",
        "import matplotlib.pyplot as plt\n",
        "from statsmodels.graphics.mosaicplot import mosaic\n",
        "from scipy.stats import chi2_contingency\n",
        "\n",
        "tab = pd.DataFrame({'Есть тромбоз': [18, 6], 'Нет тромбоза': [7, 13]}, index=('Плацебо', 'Аспирин'))\n",
        "chi2, p_val, df, f_exp = chi2_contingency(tab.to_numpy())\n",
        "mosaic(tab.stack())\n",
        "plt.show()\n",
        "\n",
        "print(tab)\n",
        "print(pd.DataFrame(f_exp).T)"
      ],
      "metadata": {
        "colab": {
          "base_uri": "https://localhost:8080/",
          "height": 371
        },
        "id": "VhIb4zteZRtJ",
        "outputId": "3a5cb2a4-5727-4dbc-cb8f-111edad519eb"
      },
      "execution_count": 27,
      "outputs": [
        {
          "output_type": "display_data",
          "data": {
            "text/plain": [
              "<Figure size 432x288 with 3 Axes>"
            ],
            "image/png": "[encoded data removed]"
          },
          "metadata": {
            "needs_background": "light"
          }
        },
        {
          "output_type": "stream",
          "name": "stdout",
          "text": [
            "         Есть тромбоз  Нет тромбоза\n",
            "Плацебо            18             7\n",
            "Аспирин             6            13\n",
            "           0          1\n",
            "0  13.636364  10.363636\n",
            "1  11.363636   8.636364\n"
          ]
        }
      ]
    },
    {
      "cell_type": "markdown",
      "source": [
        "**Итого**\n",
        "- размер прямоугольников  соответствует количеству наблюдений.\n",
        "- цвет прямоугольников - величине значимости отклонения ожидаемых и наблюдаемых частот в этой ячейке  (только для R).\n",
        "- если значения стандартизированных остатков больше 3х, можно считать, что в этой ячейке зафиксированы значимые отклонения (только для R)."
      ],
      "metadata": {
        "id": "9BFFpXY6eFtJ"
      }
    },
    {
      "cell_type": "markdown",
      "metadata": {
        "id": "5ihY44Tq_1jf"
      },
      "source": [
        "## Точный критерий Фишера\n",
        "\n",
        "**Важно!** Если хотя бы в одной ячейке ожидаемое явление меньше 5, то для анализа должен использоваться точный критерий Фишера!\n",
        "\n",
        "<img src=\"https://raw.githubusercontent.com/betelgeus/fundamentals_of_statistics_notes/main/img/Снимок%20экрана%202022-09-29%20в%2017.09.10.png\" width=\"800px\"/>\n",
        "\n",
        "<img src=\"https://raw.githubusercontent.com/betelgeus/fundamentals_of_statistics_notes/main/img/Снимок%20экрана%202022-09-29%20в%2017.08.08.png\" width=\"1000px\"/>"
      ]
    },
    {
      "cell_type": "code",
      "source": [
        "from scipy.stats import fisher_exact\n",
        "f_obs = [[1, 3], [3, 1]]\n",
        "\n",
        "# odds_ratio - отношение шансов\n",
        "odds_ratio, p_val = fisher_exact(f_obs)\n",
        "print('odds_ratio: ', odds_ratio)\n",
        "print('p_val: ', p_val)  "
      ],
      "metadata": {
        "colab": {
          "base_uri": "https://localhost:8080/"
        },
        "id": "F_L_WJPn13HA",
        "outputId": "29e43637-1ed1-42ca-9fa3-d92d45bc59ca"
      },
      "execution_count": 28,
      "outputs": [
        {
          "output_type": "stream",
          "name": "stdout",
          "text": [
            "odds_ratio:  0.1111111111111111\n",
            "p_val:  0.48571428571428527\n"
          ]
        }
      ]
    },
    {
      "cell_type": "markdown",
      "source": [
        "# Практические задачи"
      ],
      "metadata": {
        "id": "saVb5pr85tk4"
      }
    },
    {
      "cell_type": "markdown",
      "source": [
        "Напишите функцию smart_test, которая получает на вход dataframe с двумя номинативными переменными с произвольным числом градаций.\n",
        "\n",
        "Функция должна проверять гипотезу о независимости этих двух переменных при помощи критерия хи - квадрат или точного критерия Фишера.\n",
        "\n",
        "Если хотя бы в одной ячейке таблицы сопряженности двух переменных меньше 5 наблюдений, функция должна рассчитывать точный критерий Фишера и\n",
        "возвращать вектор из одного элемента: получившегося p - уровня значимости.\n",
        "\n",
        "Если наблюдений достаточно для расчета хи-квадрат (во всех ячейках больше либо равно 5 наблюдений), тогда функция должна применять критерий\n",
        "хи-квадрат и возвращать вектор из трех элементов: значение хи-квадрат, число степеней свободы, p-уровня значимости."
      ],
      "metadata": {
        "id": "KsPYJSKAwuAI"
      }
    },
    {
      "cell_type": "code",
      "source": [
        "import pandas as pd\n",
        "from scipy.stats import fisher_exact\n",
        "from scipy.stats import chi2_contingency\n",
        "\n",
        "\n",
        "def smart_test(data_frame):\n",
        "    if data_frame.to_numpy().min() < 5:\n",
        "        _, p_val = fisher_exact(data_frame)\n",
        "        return p_val\n",
        "    else:\n",
        "        chi2, p_val, df, _ = chi2_contingency(data_frame)\n",
        "        return chi2, df, p_val\n",
        "\n",
        "\n",
        "table = pd.DataFrame({'1': [8, 2], '2':[6, 4]})\n",
        "print(smart_test(table))"
      ],
      "metadata": {
        "colab": {
          "base_uri": "https://localhost:8080/"
        },
        "id": "a4NhfVm_5yGm",
        "outputId": "c5174a65-9c16-4d0e-fc6e-8c7dc23caeaf"
      },
      "execution_count": 29,
      "outputs": [
        {
          "output_type": "stream",
          "name": "stdout",
          "text": [
            "0.6284829721362221\n"
          ]
        }
      ]
    },
    {
      "cell_type": "code",
      "source": [
        "# Решение с расчетом точного критерия Фишера для таблиц более 2x2 (более двух градаций)\n",
        "import numpy as np\n",
        "from scipy.stats import chi2_contingency\n",
        "import rpy2.robjects.numpy2ri\n",
        "from rpy2.robjects.packages import importr\n",
        "rpy2.robjects.numpy2ri.activate()\n",
        "stats = importr('stats')\n"
      ],
      "metadata": {
        "id": "YeRqgLAV8ys6"
      },
      "execution_count": 30,
      "outputs": []
    },
    {
      "cell_type": "code",
      "source": [
        "# Не забудь запустить предыдущую ячейку\n",
        "data = np.array(np.random.randint(4,10,size=(2,5)))\n",
        "print(data)\n",
        "\n",
        "\n",
        "def smart_test (data):\n",
        "    if data.min()<5:\n",
        "        res = stats.fisher_test(data)\n",
        "        return ('p-value: {}'.format(res[0][0]))\n",
        "    else:\n",
        "        kf, p_val, df, arr = chi2_contingency(data)\n",
        "        return (kf, df, p_val)\n",
        "\n",
        "\n",
        "print(smart_test(data))"
      ],
      "metadata": {
        "colab": {
          "base_uri": "https://localhost:8080/"
        },
        "id": "9uM8GWee82R_",
        "outputId": "8049132d-df5e-46e2-8554-ea7dc2c3e002"
      },
      "execution_count": 36,
      "outputs": [
        {
          "output_type": "stream",
          "name": "stdout",
          "text": [
            "[[4 4 5 8 7]\n",
            " [8 4 7 8 8]]\n",
            "p-value: 0.9263867105653227\n"
          ]
        }
      ]
    },
    {
      "cell_type": "markdown",
      "source": [
        "Почувствуй себя биоинформатиком!  Вся наследственная информация в живых организмах хранится внутри молекулы ДНК. Эта молекула состоит из последовательности четырех \"букв\" — ﻿A, T, G и C. \n",
        "\n",
        "Напишите функцию most_significant, которая получает на вход dataframe с произвольным количеством переменных, где каждая переменная это нуклеотидная последовательность. \n",
        "\n",
        "Cкачайте тестовый набор данных (смотри ниже), чтобы познакомиться с их структурой, на которых будет тестироваться ваша функция. Рассмотрим пример, всего-лишь с несколькими наблюдениями, чтобы прояснить суть задачи:\n",
        "\n",
        "```\n",
        " V1 V2 V3\n",
        "1  A  A  C\n",
        "2  G  G  A\n",
        "3  C  C  C\n",
        "4  T  T  A\n",
        "5  G  T  T\n",
        "6  T  A  G\n",
        "```\n",
        "В этом примере три последовательности  V1 , V2, V3. \n",
        "Для каждой переменной мы можем проверить нулевую гипотезу о том, что все нуклеотиды (A, T, G, C) встречаются равновероятно внутри этой последовательности. Однако, возможно, что в некоторых последовательностях распределение частоты встречаемости каждого нуклеотида отличается от равномерного.\n",
        "\n",
        "Функция должна возвращать вектор с ﻿названием переменной (или переменных), в которой был получен минимальный p - уровень значимости при проверке гипотезы о равномерном распределении нуклеотидов при помощи критерия хи - квадрат."
      ],
      "metadata": {
        "id": "U9lmSA8mwhbz"
      }
    },
    {
      "cell_type": "code",
      "source": [
        "import numpy as np\n",
        "import pandas as pd\n",
        "from scipy.stats import chisquare"
      ],
      "metadata": {
        "id": "IUYxSXHRw2Kk"
      },
      "execution_count": 1,
      "outputs": []
    },
    {
      "cell_type": "code",
      "source": [
        "data = pd.DataFrame([np.random.binomial(3, 0.5, np.random.randint(5, 15)) for _ in range(np.random.randint(2, 20))])\n",
        "data.index = ['v' + str(i + 1) for i in range(len(data))]\n",
        "\n",
        "p_val_result, number = 1, 0\n",
        "for i in range(len(data)):\n",
        "    p_val = chisquare(data.iloc[i])[1]\n",
        "    if p_val < p_val_result:\n",
        "        p_val_result = p_val\n",
        "        number = i\n",
        "\n",
        "print(p_val_result)\n",
        "print(data.index[number])"
      ],
      "metadata": {
        "colab": {
          "base_uri": "https://localhost:8080/"
        },
        "id": "H0GV15q_xBsa",
        "outputId": "4f6ada16-b94d-4198-961b-b762c7588ad7"
      },
      "execution_count": 3,
      "outputs": [
        {
          "output_type": "stream",
          "name": "stdout",
          "text": [
            "0.9697553905034445\n",
            "v7\n"
          ]
        }
      ]
    },
    {
      "cell_type": "code",
      "source": [
        "df = pd.read_csv('https://stepic.org/media/attachments/course/524/test_data.csv')\n",
        "\n",
        "\n",
        "def most_significant(data):\n",
        "    p_val_res, name = 1, ''\n",
        "    # enumerate позволяет получить индекс и значение элемента. Например, 0 и v1\n",
        "    for _, col in enumerate(data.columns):\n",
        "        # value_counts считаем количество значений, возвращает таблицу с названием значения и кол-вом.\n",
        "        counts = data[col].value_counts()\n",
        "        p_val = chisquare(counts)[1]\n",
        "        if p_val < p_val_res:\n",
        "            p_val_res = p_val\n",
        "            name = col\n",
        "    return (p_val_res, name)\n",
        "\n",
        "\n",
        "print(most_significant(df))"
      ],
      "metadata": {
        "colab": {
          "base_uri": "https://localhost:8080/"
        },
        "id": "FGAnflGUxOpB",
        "outputId": "14765d39-7852-4da0-f34a-6b09ba93cf45"
      },
      "execution_count": 4,
      "outputs": [
        {
          "output_type": "stream",
          "name": "stdout",
          "text": [
            "(0.2762263279405305, 'V3')\n"
          ]
        }
      ]
    },
    {
      "cell_type": "code",
      "source": [
        "# Генератор\n",
        "# random.choice случайным способом выбирает из значений 'A', 'T', 'G', 'C', size — количество элементов,\n",
        "# p — вероятность того, что выпадет значение.\n",
        "# for _ in range(np.random.randint(2, 20)) цикл создает последовательности в кол-ве от 2 до 20 в случайном порядке\n",
        "df = pd.DataFrame([np.random.choice(['A', 'T', 'G', 'C'], size=np.random.randint(20, 50), p=[0.23, 0.27, 0.25, 0.25])\n",
        "                   for _ in range(np.random.randint(2, 20))])\n",
        "df.index = ['v' + str(i + 1) for i in range(len(df))]\n",
        "\n",
        "\n",
        "def most_significant(data):\n",
        "    p_val_res, name = 1, ''\n",
        "    # iterrows позволяет получить название и значения строки в таблице.\n",
        "    for row_name, row_data in df.iterrows():\n",
        "        counts = data.loc[row_name].value_counts()\n",
        "        p_val = chisquare(counts)[1]\n",
        "        if p_val < p_val_res:\n",
        "            p_val_res = p_val\n",
        "            name = row_name\n",
        "    return (p_val_res, name)\n",
        "\n",
        "\n",
        "print(most_significant(df))"
      ],
      "metadata": {
        "colab": {
          "base_uri": "https://localhost:8080/"
        },
        "id": "-fCw3Q-2xT1Q",
        "outputId": "be40b78e-9a84-47e5-d858-83be0ae7f24c"
      },
      "execution_count": 5,
      "outputs": [
        {
          "output_type": "stream",
          "name": "stdout",
          "text": [
            "(0.23945112055144263, 'v1')\n"
          ]
        }
      ]
    },
    {
      "cell_type": "markdown",
      "source": [
        "В лекциях я говорил, что иногда возникает необходимость перекодировать количественную переменную в номинативную. Однако зачастую мы можем создавать новую номинативную переменную, комбинируя значения нескольких количественных переменных. \n",
        "\n",
        "Создайте новую переменную important_cases - фактор с двумя градациями (\"No\" и \"Yes\"). Переменная должна принимать значение Yes, если для данного цветка значения хотя бы трех количественных переменных выше среднего. В противном случае переменная important_cases  будет принимать значение No.\n",
        "\n",
        "Формат ответа: в поле для ответа напишите скрипт, который создает новую переменную - фактор в данных iris.\n"
      ],
      "metadata": {
        "id": "u7Wq84Xn9njN"
      }
    },
    {
      "cell_type": "code",
      "source": [
        "import numpy as np\n",
        "import pandas as pd\n",
        "from sklearn.datasets import load_iris"
      ],
      "metadata": {
        "id": "WpePAW6A93wB"
      },
      "execution_count": 6,
      "outputs": []
    },
    {
      "cell_type": "code",
      "source": [
        "iris = load_iris()\n",
        "\n",
        "table = pd.DataFrame(data=iris.data, columns=iris.feature_names)\n",
        "important_cases = np.array([])\n",
        "table.mean()\n",
        "\n",
        "for _, row_data in table.iterrows():\n",
        "    cnt = 0\n",
        "    if row_data[0] > table.mean()[0]:\n",
        "        cnt += 1\n",
        "    if row_data[1] > table.mean()[1]:\n",
        "        cnt += 1\n",
        "    if row_data[2] > table.mean()[2]:\n",
        "        cnt += 1\n",
        "    if row_data[3] > table.mean()[3]:\n",
        "        cnt += 1\n",
        "    if cnt >= 3:\n",
        "        important_cases = np.append(important_cases, 'Yes')\n",
        "    else:\n",
        "        important_cases = np.append(important_cases, 'No')\n",
        "\n",
        "\n",
        "unique, counts = np.unique(important_cases, return_counts=True)\n",
        "frequencies = np.asarray((unique, counts)).T\n",
        "print(frequencies)"
      ],
      "metadata": {
        "colab": {
          "base_uri": "https://localhost:8080/"
        },
        "id": "Rp0-FYSb967i",
        "outputId": "940d6c40-c8ae-4d37-e363-985912d08b3c"
      },
      "execution_count": 7,
      "outputs": [
        {
          "output_type": "stream",
          "name": "stdout",
          "text": [
            "[['No' '81']\n",
            " ['Yes' '69']]\n"
          ]
        }
      ]
    },
    {
      "cell_type": "markdown",
      "source": [
        "Обобщим предыдущую задачу! Напишем функцию get_important_cases, которая принимает на вход dataframe с произвольным числом количественных переменных (гарантируется хотя бы две переменные). Функция должна возвращать dataframe с новой переменной - фактором important_cases.\n",
        "\n",
        "Переменная  important_cases принимает значение Yes, если для данного наблюдения больше половины количественных переменных имеют значения больше среднего. В противном случае переменная important_cases принимает значение No.\n",
        "\n",
        "Переменная  important_cases - фактор с двумя уровнями 0 - \"No\", 1  - \"Yes\".  То есть даже если в каком-то из тестов все наблюдения получили значения \"No\", фактор должен иметь две градации. "
      ],
      "metadata": {
        "id": "W5GWF432Oipi"
      }
    },
    {
      "cell_type": "code",
      "source": [
        "import pandas as pd\n",
        "from sklearn import datasets\n",
        "iris = datasets.load_iris()\n",
        "table = pd.DataFrame(data=iris.data, columns=iris.feature_names)"
      ],
      "metadata": {
        "id": "YiNptk7DOjho"
      },
      "execution_count": 8,
      "outputs": []
    },
    {
      "cell_type": "code",
      "source": [
        "def get_important_cases(df):\n",
        "    # shape возвращает размер таблицы, кол-во строк, кол-во колонок. df.shape[1] вернет количество колонок\n",
        "    half_var = df.shape[1] / 2\n",
        "    # Функция создает таблицу comparisons. Логика работы:\n",
        "    # Значения в таблице df построчно сравниваются со средним по колонке.\n",
        "    # Если больше, то True, иначе False\n",
        "    # sum суммирует кол-во True, сумма записывается в ячейку\n",
        "    comparisons = (df > df.mean()).sum(axis=1)\n",
        "    # Добавляем в таблицу колонку 'important_cases', заполняем по умолчанию No\n",
        "    df['important_cases'] = 'No'\n",
        "    # Построчно сравниваем кол-во в comparisons с кол-вом в half_var\n",
        "    # Если больше, то в колонке \"important_cases\" проставляем значение \"Yes\"\n",
        "    df.loc[comparisons > half_var, \"important_cases\"] = \"Yes\"\n",
        "    return df\n",
        "\n",
        "\n",
        "print(get_important_cases(table))"
      ],
      "metadata": {
        "colab": {
          "base_uri": "https://localhost:8080/"
        },
        "id": "Z7ts3QMzOmzk",
        "outputId": "07001ba5-cf6e-4414-ebd9-2a4c325c0c82"
      },
      "execution_count": 9,
      "outputs": [
        {
          "output_type": "stream",
          "name": "stdout",
          "text": [
            "     sepal length (cm)  sepal width (cm)  petal length (cm)  petal width (cm)  \\\n",
            "0                  5.1               3.5                1.4               0.2   \n",
            "1                  4.9               3.0                1.4               0.2   \n",
            "2                  4.7               3.2                1.3               0.2   \n",
            "3                  4.6               3.1                1.5               0.2   \n",
            "4                  5.0               3.6                1.4               0.2   \n",
            "..                 ...               ...                ...               ...   \n",
            "145                6.7               3.0                5.2               2.3   \n",
            "146                6.3               2.5                5.0               1.9   \n",
            "147                6.5               3.0                5.2               2.0   \n",
            "148                6.2               3.4                5.4               2.3   \n",
            "149                5.9               3.0                5.1               1.8   \n",
            "\n",
            "    important_cases  \n",
            "0                No  \n",
            "1                No  \n",
            "2                No  \n",
            "3                No  \n",
            "4                No  \n",
            "..              ...  \n",
            "145             Yes  \n",
            "146             Yes  \n",
            "147             Yes  \n",
            "148             Yes  \n",
            "149             Yes  \n",
            "\n",
            "[150 rows x 5 columns]\n"
          ]
        }
      ]
    },
    {
      "cell_type": "code",
      "source": [
        "# Пошаговый пример. Отличие в промежуточной таблице comparisons\n",
        "comparisons = (table > table.mean())\n",
        "print(comparisons)\n",
        "comparisons['sum'] = comparisons.sum(axis=1)\n",
        "print(comparisons)"
      ],
      "metadata": {
        "id": "rh3WaCugOrhW"
      },
      "execution_count": null,
      "outputs": []
    },
    {
      "cell_type": "markdown",
      "source": [
        "В R мы без труда можем рассчитать среднее и медиану вектора, а вот встроенной функции для расчета моды — наиболее часто встречаемого значения — в R нет! А мода так бы пригодилась нам при анализе номинативных данных! При этом функция mode в R существует, но выполняет абсолютно другую задачу (если хотите узнать, какую именно, ознакомьтесь со справкой: наберите в консоли ?mode).\n",
        "\n",
        "Напишите функцию stat_mode, которая получает на вход вектор из чисел произвольной длины и возвращает числовой вектор с наиболее часто встречаемым значением. Если наиболее часто встречаемых значений несколько, функция должна возвращать несколько значений моды  в виде числового вектора. \n",
        "\n"
      ],
      "metadata": {
        "id": "4sAe2oUUWgvy"
      }
    },
    {
      "cell_type": "code",
      "source": [
        "import numpy as np\n",
        "import pandas as pd\n",
        "\n",
        "pd.DataFrame(np.array([1, 2, 2, 3, 4, 4, 4, 2])).mode()"
      ],
      "metadata": {
        "colab": {
          "base_uri": "https://localhost:8080/",
          "height": 111
        },
        "id": "N_anPnh4Whav",
        "outputId": "6207d856-97b0-41fb-c1e3-9e65aa1b6064"
      },
      "execution_count": 12,
      "outputs": [
        {
          "output_type": "execute_result",
          "data": {
            "text/plain": [
              "   0\n",
              "0  2\n",
              "1  4"
            ],
            "text/html": [
              "\n",
              "  <div id=\"df-c2d7d8e5-b8cf-4fd4-ad27-615bebfe9b46\">\n",
              "    <div class=\"colab-df-container\">\n",
              "      <div>\n",
              "<style scoped>\n",
              "    .dataframe tbody tr th:only-of-type {\n",
              "        vertical-align: middle;\n",
              "    }\n",
              "\n",
              "    .dataframe tbody tr th {\n",
              "        vertical-align: top;\n",
              "    }\n",
              "\n",
              "    .dataframe thead th {\n",
              "        text-align: right;\n",
              "    }\n",
              "</style>\n",
              "<table border=\"1\" class=\"dataframe\">\n",
              "  <thead>\n",
              "    <tr style=\"text-align: right;\">\n",
              "      <th></th>\n",
              "      <th>0</th>\n",
              "    </tr>\n",
              "  </thead>\n",
              "  <tbody>\n",
              "    <tr>\n",
              "      <th>0</th>\n",
              "      <td>2</td>\n",
              "    </tr>\n",
              "    <tr>\n",
              "      <th>1</th>\n",
              "      <td>4</td>\n",
              "    </tr>\n",
              "  </tbody>\n",
              "</table>\n",
              "</div>\n",
              "      <button class=\"colab-df-convert\" onclick=\"convertToInteractive('df-c2d7d8e5-b8cf-4fd4-ad27-615bebfe9b46')\"\n",
              "              title=\"Convert this dataframe to an interactive table.\"\n",
              "              style=\"display:none;\">\n",
              "        \n",
              "  <svg xmlns=\"http://www.w3.org/2000/svg\" height=\"24px\"viewBox=\"0 0 24 24\"\n",
              "       width=\"24px\">\n",
              "    <path d=\"M0 0h24v24H0V0z\" fill=\"none\"/>\n",
              "    <path d=\"M18.56 5.44l.94 2.06.94-2.06 2.06-.94-2.06-.94-.94-2.06-.94 2.06-2.06.94zm-11 1L8.5 8.5l.94-2.06 2.06-.94-2.06-.94L8.5 2.5l-.94 2.06-2.06.94zm10 10l.94 2.06.94-2.06 2.06-.94-2.06-.94-.94-2.06-.94 2.06-2.06.94z\"/><path d=\"M17.41 7.96l-1.37-1.37c-.4-.4-.92-.59-1.43-.59-.52 0-1.04.2-1.43.59L10.3 9.45l-7.72 7.72c-.78.78-.78 2.05 0 2.83L4 21.41c.39.39.9.59 1.41.59.51 0 1.02-.2 1.41-.59l7.78-7.78 2.81-2.81c.8-.78.8-2.07 0-2.86zM5.41 20L4 18.59l7.72-7.72 1.47 1.35L5.41 20z\"/>\n",
              "  </svg>\n",
              "      </button>\n",
              "      \n",
              "  <style>\n",
              "    .colab-df-container {\n",
              "      display:flex;\n",
              "      flex-wrap:wrap;\n",
              "      gap: 12px;\n",
              "    }\n",
              "\n",
              "    .colab-df-convert {\n",
              "      background-color: #E8F0FE;\n",
              "      border: none;\n",
              "      border-radius: 50%;\n",
              "      cursor: pointer;\n",
              "      display: none;\n",
              "      fill: #1967D2;\n",
              "      height: 32px;\n",
              "      padding: 0 0 0 0;\n",
              "      width: 32px;\n",
              "    }\n",
              "\n",
              "    .colab-df-convert:hover {\n",
              "      background-color: #E2EBFA;\n",
              "      box-shadow: 0px 1px 2px rgba(60, 64, 67, 0.3), 0px 1px 3px 1px rgba(60, 64, 67, 0.15);\n",
              "      fill: #174EA6;\n",
              "    }\n",
              "\n",
              "    [theme=dark] .colab-df-convert {\n",
              "      background-color: #3B4455;\n",
              "      fill: #D2E3FC;\n",
              "    }\n",
              "\n",
              "    [theme=dark] .colab-df-convert:hover {\n",
              "      background-color: #434B5C;\n",
              "      box-shadow: 0px 1px 3px 1px rgba(0, 0, 0, 0.15);\n",
              "      filter: drop-shadow(0px 1px 2px rgba(0, 0, 0, 0.3));\n",
              "      fill: #FFFFFF;\n",
              "    }\n",
              "  </style>\n",
              "\n",
              "      <script>\n",
              "        const buttonEl =\n",
              "          document.querySelector('#df-c2d7d8e5-b8cf-4fd4-ad27-615bebfe9b46 button.colab-df-convert');\n",
              "        buttonEl.style.display =\n",
              "          google.colab.kernel.accessAllowed ? 'block' : 'none';\n",
              "\n",
              "        async function convertToInteractive(key) {\n",
              "          const element = document.querySelector('#df-c2d7d8e5-b8cf-4fd4-ad27-615bebfe9b46');\n",
              "          const dataTable =\n",
              "            await google.colab.kernel.invokeFunction('convertToInteractive',\n",
              "                                                     [key], {});\n",
              "          if (!dataTable) return;\n",
              "\n",
              "          const docLinkHtml = 'Like what you see? Visit the ' +\n",
              "            '<a target=\"_blank\" href=https://colab.research.google.com/notebooks/data_table.ipynb>data table notebook</a>'\n",
              "            + ' to learn more about interactive tables.';\n",
              "          element.innerHTML = '';\n",
              "          dataTable['output_type'] = 'display_data';\n",
              "          await google.colab.output.renderOutput(dataTable, element);\n",
              "          const docLink = document.createElement('div');\n",
              "          docLink.innerHTML = docLinkHtml;\n",
              "          element.appendChild(docLink);\n",
              "        }\n",
              "      </script>\n",
              "    </div>\n",
              "  </div>\n",
              "  "
            ]
          },
          "metadata": {},
          "execution_count": 12
        }
      ]
    },
    {
      "cell_type": "markdown",
      "source": [
        "Доктор Пилюлькин решил вооружиться статистикой, чтобы сравнить эффективность трех лекарств! Давайте поможем ему и напишем функцию max_resid, которая получает на вход dataframe с двумя переменными: типом лекарства и результатом его применения. \n",
        "\n",
        "Drugs - фактор с тремя градациями: drug_1, drug_2, drug_3.     \n",
        "\n",
        "Result - фактор с двумя градациями: positive, negative.\n",
        "\n",
        "Функция должна находить ячейку таблицы сопряженности с максимальным  значением стандартизированного остатка и возвращать вектор из двух элементов: название строчки и столбца этой ячейки.\n",
        "\n",
        "Для расчета стандартизированных остатков вы можете воспользоваться уже знакомой вам функцией chisq.test(). Изучите справку по этой функции, чтобы найти, где хранятся стандартизированные остатки."
      ],
      "metadata": {
        "id": "rBgF2UJq46_I"
      }
    },
    {
      "cell_type": "markdown",
      "source": [
        "## Остатки Пирсона\n",
        "\n",
        "После подгонки линейной модели к данным проверяют адекватность соответствующей модели, для чего вычисляются различные остатки.\n",
        "\n",
        "<a href=\"http://statistica.ru/glossary/general/ostatki-pirsona/\">Остатки Пирсона</a> вычисляются как исходные остатки регрессии, деленные на корень из дисперсии.\n",
        "\n",
        "## Стандартизованные остатки\n",
        "\n",
        "<a href=\"http://statistica.ru/glossary/general/standartizovannye-ostatki/\">Стандартизованные остатки</a> вычисляются как остатки регрессии, деленные на оцененное стандартное отклонение остатков.\n",
        "\n",
        "\n",
        "Полезная статья: https://www.statology.org/standardized-residuals-python/\n",
        "\n",
        "Еще одна: https://www.codecamp.ru/blog/standardized-residuals-excel/\n",
        "\n",
        "И еще про statsmodels.api: https://runebook.dev/en/docs/statsmodels/contingency_tables\n"
      ],
      "metadata": {
        "id": "lFw_fktd48bX"
      }
    },
    {
      "cell_type": "code",
      "source": [
        "import pandas as pd\n",
        "import statsmodels.api as sm\n",
        "\n",
        "\n",
        "df = pd.read_csv('https://stepic.org/media/attachments/course/524/test_drugs.csv')\n",
        "print(df)\n",
        "# Посчитаем количество позитивных и негативных исходов в зависимости от типа лекарства\n",
        "df = df.value_counts().to_frame(name='Count')\n",
        "# Преобразуем таблицу в таблицу сопряженности, где колонки тип лекарства, строки исход\n",
        "df = df.pivot_table(values='Count', index='Result', columns='Drugs')\n",
        "print(df)\n",
        "# Преобразуем таблицу в массив, чтобы воспользоваться функцией sm.stats.Table\n",
        "df1 = df.to_numpy()\n",
        "table = sm.stats.Table(df1)\n",
        "# Посчитаем остатки\n",
        "residuals = table.standardized_resids\n",
        "# Преобразуем массив в таблицу сопряженности\n",
        "residuals = pd.DataFrame(residuals, index=['negative', 'positive'], columns=['drug_1', 'drug_2', 'drug_3'])\n",
        "\n",
        "x, y = 0, 0\n",
        "# С помощью цикла найдем максимальное значение в таблице.\n",
        "# Найдем название строки с макс. значением.\n",
        "# Найдем индекс колонки с макс. значением.\n",
        "max_value = residuals.min().min()\n",
        "for row_name, row_data in residuals.iterrows():\n",
        "    for i in range(len(row_data)):\n",
        "        if row_data[i] > max_value:\n",
        "            max_value = row_data[i]\n",
        "            x = row_name\n",
        "            y = i\n",
        "print(residuals.columns[y], x, round(max_value, 2))\n"
      ],
      "metadata": {
        "colab": {
          "base_uri": "https://localhost:8080/"
        },
        "id": "RWH3cLuS5lk0",
        "outputId": "38806e96-d75b-48d8-b3da-a5d833823c1c"
      },
      "execution_count": 13,
      "outputs": [
        {
          "output_type": "stream",
          "name": "stdout",
          "text": [
            "      Drugs    Result\n",
            "0    drug_3  positive\n",
            "1    drug_1  negative\n",
            "2    drug_1  negative\n",
            "3    drug_2  positive\n",
            "4    drug_1  negative\n",
            "..      ...       ...\n",
            "390  drug_3  positive\n",
            "391  drug_3  positive\n",
            "392  drug_2  negative\n",
            "393  drug_1  negative\n",
            "394  drug_2  negative\n",
            "\n",
            "[395 rows x 2 columns]\n",
            "Drugs     drug_1  drug_2  drug_3\n",
            "Result                          \n",
            "negative      31      84      55\n",
            "positive      61      98      66\n",
            "drug_1 positive 2.07\n"
          ]
        }
      ]
    },
    {
      "cell_type": "code",
      "source": [
        "import pandas as pd\n",
        "import statsmodels.api as sm\n",
        "df_read = pd.read_csv(\"https://stepic.org/media/attachments/course/524/test_drugs.csv\")\n",
        "\n",
        "\n",
        "def max_resid(df):\n",
        "    # Что происходит пошагово:\n",
        "    # from_data(df[['Result', 'Drugs']]) создает таблицу сопряженности из dataframe, где колонки это Drugs,\n",
        "    # а строки Result (исход)\n",
        "    # standardized_resids считает стандартные остатки\n",
        "    # В итоге мы получаем таблицу с остатками, сохранив название колонок и строк\n",
        "    residuals = sm.stats.Table.from_data(df[['Result', 'Drugs']]).standardized_resids\n",
        "    # Находим максимальное значение в таблице\n",
        "    max_val = residuals.max().max()\n",
        "    # Удаляем значения в таблице, которые не равны max_val, в результате получаем таблицу 1 x 1\n",
        "    max_res = residuals[residuals == max_val].dropna(axis=1, how=\"all\").dropna()\n",
        "    return max_res.index[0], max_res.columns[0], round(max_val, 2)\n",
        "\n",
        "\n",
        "max_resid(df_read)"
      ],
      "metadata": {
        "colab": {
          "base_uri": "https://localhost:8080/"
        },
        "id": "S0eO6Q0N97kp",
        "outputId": "f2e09348-118d-411f-d47f-69787ceba2fa"
      },
      "execution_count": 2,
      "outputs": [
        {
          "output_type": "execute_result",
          "data": {
            "text/plain": [
              "('positive', 'drug_1', 2.07)"
            ]
          },
          "metadata": {},
          "execution_count": 2
        }
      ]
    },
    {
      "cell_type": "markdown",
      "metadata": {
        "id": "Tj72AZvP_1jf"
      },
      "source": [
        "<hr>\n",
        "\n",
        "# Часть 2 Логистическая регрессия и непараметрические методы "
      ]
    },
    {
      "cell_type": "markdown",
      "metadata": {
        "id": "J6s6DRm2_1jg"
      },
      "source": [
        "## Логистическая регрессия"
      ]
    },
    {
      "cell_type": "code",
      "source": [
        "# Логистическая регрессия - метод, который позволяет исследовать взаимосвязи между\n",
        "# номинативной зависимой переменной (ЗП) и различными предикторами.\n",
        "\n",
        "# Уравнение логистической регрессии:"
      ],
      "metadata": {
        "id": "sbZNc0WiUZv1"
      },
      "execution_count": 3,
      "outputs": []
    },
    {
      "cell_type": "markdown",
      "source": [
        "\\begin{equation}\n",
        "log(odds) = B_0 + B_1 x_1 + B_2 x_2 + ... + B_k x_k\n",
        "\\end{equation}"
      ],
      "metadata": {
        "id": "ktI_zvc3Uev2"
      }
    },
    {
      "cell_type": "code",
      "source": [
        "# log - натуральный логарифм.\n",
        "# odds - шансы положительного исхода (далее просто \"шансы\")."
      ],
      "metadata": {
        "id": "hqkQ0x_MUqqt"
      },
      "execution_count": null,
      "outputs": []
    },
    {
      "cell_type": "markdown",
      "source": [
        "\\begin{equation}\n",
        "p = \\frac{e^{log(odds)}}{1 + e^{log(odds)}} = \\frac{exp(log(odds))}{1 + exp(log(odds))}\n",
        "\\end{equation}"
      ],
      "metadata": {
        "id": "TFwgM0joUtMo"
      }
    },
    {
      "cell_type": "code",
      "source": [
        "# p - вероятность положительного исхода (далее просто \"вероятность\")."
      ],
      "metadata": {
        "id": "JefHmzbdUzbb"
      },
      "execution_count": 4,
      "outputs": []
    },
    {
      "cell_type": "markdown",
      "source": [
        "**Есть нюанс!** Номинативная переменная принимает значение 0 и 1, как же нам использовать формулу линейной регрессии\n",
        "\\begin{equation}\n",
        "p_i = B_0 + B_1 x_1 + B_2 x_2 + ... + B_i x_i\n",
        "\\end{equation}\n",
        "\n",
        "Давайте решим эту проблему, на примере монетки"
      ],
      "metadata": {
        "id": "4GuvwB9jWegQ"
      }
    },
    {
      "cell_type": "markdown",
      "source": [
        "## Шансы и вероятность"
      ],
      "metadata": {
        "id": "D9qUyeUHU4Dn"
      }
    },
    {
      "cell_type": "code",
      "source": [
        "import pandas as pd\n",
        "import numpy as np\n",
        "import matplotlib.pyplot as plt\n",
        "import seaborn as sns\n",
        "import statsmodels.api as sm\n",
        "import statsmodels.formula.api as smf"
      ],
      "metadata": {
        "id": "gHMSxE3-U5D8"
      },
      "execution_count": 5,
      "outputs": []
    },
    {
      "cell_type": "code",
      "source": [
        "# Разберем на примере подбрасывания монетки. Пусть у нас было 10 бросков и мы получили следующие результаты:\n",
        "# 1 - орел (в примере мы хотим, чтобы выпадали орлы, это будет положительный исход)\n",
        "# 0 - решка (отрицательный исход)\n",
        "\n",
        "df = pd.DataFrame({'coin_state': [0, 0, 1, 0, 0, 0, 1, 0, 0, 0]})\n",
        "df"
      ],
      "metadata": {
        "colab": {
          "base_uri": "https://localhost:8080/",
          "height": 359
        },
        "id": "YrgHdZ1EU9c6",
        "outputId": "29696dd1-e5e1-4fd3-d821-834af9dc6a2f"
      },
      "execution_count": 6,
      "outputs": [
        {
          "output_type": "execute_result",
          "data": {
            "text/plain": [
              "   coin_state\n",
              "0           0\n",
              "1           0\n",
              "2           1\n",
              "3           0\n",
              "4           0\n",
              "5           0\n",
              "6           1\n",
              "7           0\n",
              "8           0\n",
              "9           0"
            ],
            "text/html": [
              "\n",
              "  <div id=\"df-7274f745-5323-4b26-96f4-10ad5bbd179d\">\n",
              "    <div class=\"colab-df-container\">\n",
              "      <div>\n",
              "<style scoped>\n",
              "    .dataframe tbody tr th:only-of-type {\n",
              "        vertical-align: middle;\n",
              "    }\n",
              "\n",
              "    .dataframe tbody tr th {\n",
              "        vertical-align: top;\n",
              "    }\n",
              "\n",
              "    .dataframe thead th {\n",
              "        text-align: right;\n",
              "    }\n",
              "</style>\n",
              "<table border=\"1\" class=\"dataframe\">\n",
              "  <thead>\n",
              "    <tr style=\"text-align: right;\">\n",
              "      <th></th>\n",
              "      <th>coin_state</th>\n",
              "    </tr>\n",
              "  </thead>\n",
              "  <tbody>\n",
              "    <tr>\n",
              "      <th>0</th>\n",
              "      <td>0</td>\n",
              "    </tr>\n",
              "    <tr>\n",
              "      <th>1</th>\n",
              "      <td>0</td>\n",
              "    </tr>\n",
              "    <tr>\n",
              "      <th>2</th>\n",
              "      <td>1</td>\n",
              "    </tr>\n",
              "    <tr>\n",
              "      <th>3</th>\n",
              "      <td>0</td>\n",
              "    </tr>\n",
              "    <tr>\n",
              "      <th>4</th>\n",
              "      <td>0</td>\n",
              "    </tr>\n",
              "    <tr>\n",
              "      <th>5</th>\n",
              "      <td>0</td>\n",
              "    </tr>\n",
              "    <tr>\n",
              "      <th>6</th>\n",
              "      <td>1</td>\n",
              "    </tr>\n",
              "    <tr>\n",
              "      <th>7</th>\n",
              "      <td>0</td>\n",
              "    </tr>\n",
              "    <tr>\n",
              "      <th>8</th>\n",
              "      <td>0</td>\n",
              "    </tr>\n",
              "    <tr>\n",
              "      <th>9</th>\n",
              "      <td>0</td>\n",
              "    </tr>\n",
              "  </tbody>\n",
              "</table>\n",
              "</div>\n",
              "      <button class=\"colab-df-convert\" onclick=\"convertToInteractive('df-7274f745-5323-4b26-96f4-10ad5bbd179d')\"\n",
              "              title=\"Convert this dataframe to an interactive table.\"\n",
              "              style=\"display:none;\">\n",
              "        \n",
              "  <svg xmlns=\"http://www.w3.org/2000/svg\" height=\"24px\"viewBox=\"0 0 24 24\"\n",
              "       width=\"24px\">\n",
              "    <path d=\"M0 0h24v24H0V0z\" fill=\"none\"/>\n",
              "    <path d=\"M18.56 5.44l.94 2.06.94-2.06 2.06-.94-2.06-.94-.94-2.06-.94 2.06-2.06.94zm-11 1L8.5 8.5l.94-2.06 2.06-.94-2.06-.94L8.5 2.5l-.94 2.06-2.06.94zm10 10l.94 2.06.94-2.06 2.06-.94-2.06-.94-.94-2.06-.94 2.06-2.06.94z\"/><path d=\"M17.41 7.96l-1.37-1.37c-.4-.4-.92-.59-1.43-.59-.52 0-1.04.2-1.43.59L10.3 9.45l-7.72 7.72c-.78.78-.78 2.05 0 2.83L4 21.41c.39.39.9.59 1.41.59.51 0 1.02-.2 1.41-.59l7.78-7.78 2.81-2.81c.8-.78.8-2.07 0-2.86zM5.41 20L4 18.59l7.72-7.72 1.47 1.35L5.41 20z\"/>\n",
              "  </svg>\n",
              "      </button>\n",
              "      \n",
              "  <style>\n",
              "    .colab-df-container {\n",
              "      display:flex;\n",
              "      flex-wrap:wrap;\n",
              "      gap: 12px;\n",
              "    }\n",
              "\n",
              "    .colab-df-convert {\n",
              "      background-color: #E8F0FE;\n",
              "      border: none;\n",
              "      border-radius: 50%;\n",
              "      cursor: pointer;\n",
              "      display: none;\n",
              "      fill: #1967D2;\n",
              "      height: 32px;\n",
              "      padding: 0 0 0 0;\n",
              "      width: 32px;\n",
              "    }\n",
              "\n",
              "    .colab-df-convert:hover {\n",
              "      background-color: #E2EBFA;\n",
              "      box-shadow: 0px 1px 2px rgba(60, 64, 67, 0.3), 0px 1px 3px 1px rgba(60, 64, 67, 0.15);\n",
              "      fill: #174EA6;\n",
              "    }\n",
              "\n",
              "    [theme=dark] .colab-df-convert {\n",
              "      background-color: #3B4455;\n",
              "      fill: #D2E3FC;\n",
              "    }\n",
              "\n",
              "    [theme=dark] .colab-df-convert:hover {\n",
              "      background-color: #434B5C;\n",
              "      box-shadow: 0px 1px 3px 1px rgba(0, 0, 0, 0.15);\n",
              "      filter: drop-shadow(0px 1px 2px rgba(0, 0, 0, 0.3));\n",
              "      fill: #FFFFFF;\n",
              "    }\n",
              "  </style>\n",
              "\n",
              "      <script>\n",
              "        const buttonEl =\n",
              "          document.querySelector('#df-7274f745-5323-4b26-96f4-10ad5bbd179d button.colab-df-convert');\n",
              "        buttonEl.style.display =\n",
              "          google.colab.kernel.accessAllowed ? 'block' : 'none';\n",
              "\n",
              "        async function convertToInteractive(key) {\n",
              "          const element = document.querySelector('#df-7274f745-5323-4b26-96f4-10ad5bbd179d');\n",
              "          const dataTable =\n",
              "            await google.colab.kernel.invokeFunction('convertToInteractive',\n",
              "                                                     [key], {});\n",
              "          if (!dataTable) return;\n",
              "\n",
              "          const docLinkHtml = 'Like what you see? Visit the ' +\n",
              "            '<a target=\"_blank\" href=https://colab.research.google.com/notebooks/data_table.ipynb>data table notebook</a>'\n",
              "            + ' to learn more about interactive tables.';\n",
              "          element.innerHTML = '';\n",
              "          dataTable['output_type'] = 'display_data';\n",
              "          await google.colab.output.renderOutput(dataTable, element);\n",
              "          const docLink = document.createElement('div');\n",
              "          docLink.innerHTML = docLinkHtml;\n",
              "          element.appendChild(docLink);\n",
              "        }\n",
              "      </script>\n",
              "    </div>\n",
              "  </div>\n",
              "  "
            ]
          },
          "metadata": {},
          "execution_count": 6
        }
      ]
    },
    {
      "cell_type": "code",
      "source": [
        "# 2 орла, 8 решек\n",
        "df.coin_state.value_counts()"
      ],
      "metadata": {
        "colab": {
          "base_uri": "https://localhost:8080/"
        },
        "id": "YtF7W9_-VB2_",
        "outputId": "bf0ec8b0-a32d-4934-f162-0fd502180a21"
      },
      "execution_count": 7,
      "outputs": [
        {
          "output_type": "execute_result",
          "data": {
            "text/plain": [
              "0    8\n",
              "1    2\n",
              "Name: coin_state, dtype: int64"
            ]
          },
          "metadata": {},
          "execution_count": 7
        }
      ]
    },
    {
      "cell_type": "code",
      "source": [
        "# Рассчитаем вероятность:"
      ],
      "metadata": {
        "id": "8d2qfy1xVE7q"
      },
      "execution_count": 8,
      "outputs": []
    },
    {
      "cell_type": "markdown",
      "source": [
        "\\begin{equation}\n",
        "p = \\frac{pos}{pos + neg}\n",
        "\\end{equation}  "
      ],
      "metadata": {
        "id": "Cj0z2jyYVRWV"
      }
    },
    {
      "cell_type": "code",
      "source": [
        "pos = df.coin_state.value_counts()[1]   # количество положительных исходов\n",
        "neg = df.coin_state.value_counts()[0]   # количество отрицательных исходов\n",
        "\n",
        "p = pos / (pos + neg)\n",
        "p"
      ],
      "metadata": {
        "colab": {
          "base_uri": "https://localhost:8080/"
        },
        "id": "_TORJABbVXx5",
        "outputId": "dad4880d-352f-4343-dd57-ea5c32617201"
      },
      "execution_count": 9,
      "outputs": [
        {
          "output_type": "execute_result",
          "data": {
            "text/plain": [
              "0.2"
            ]
          },
          "metadata": {},
          "execution_count": 9
        }
      ]
    },
    {
      "cell_type": "code",
      "source": [
        "# Рассчитаем шансы:"
      ],
      "metadata": {
        "id": "UvHXUL8cVcFd"
      },
      "execution_count": 10,
      "outputs": []
    },
    {
      "cell_type": "markdown",
      "source": [
        "\\begin{equation}\n",
        "odds = \\frac{pos}{neg}\n",
        "\\end{equation}"
      ],
      "metadata": {
        "id": "VOLvaowkVeu8"
      }
    },
    {
      "cell_type": "code",
      "source": [
        "odds = pos / neg\n",
        "odds"
      ],
      "metadata": {
        "colab": {
          "base_uri": "https://localhost:8080/"
        },
        "id": "IMTcatxCVieB",
        "outputId": "063599ae-471f-4fb4-fe30-3b5399abff48"
      },
      "execution_count": 11,
      "outputs": [
        {
          "output_type": "execute_result",
          "data": {
            "text/plain": [
              "0.25"
            ]
          },
          "metadata": {},
          "execution_count": 11
        }
      ]
    },
    {
      "cell_type": "code",
      "source": [
        "# Шансы можно посчитать, зная вероятность:"
      ],
      "metadata": {
        "id": "N8X_jgoEVlxC"
      },
      "execution_count": 12,
      "outputs": []
    },
    {
      "cell_type": "markdown",
      "source": [
        "\\begin{equation}\n",
        "odds = \\frac{p}{1 - p}\n",
        "\\end{equation}"
      ],
      "metadata": {
        "id": "aZK7x_iUVpU8"
      }
    },
    {
      "cell_type": "code",
      "source": [
        "p / (1 - p)"
      ],
      "metadata": {
        "colab": {
          "base_uri": "https://localhost:8080/"
        },
        "id": "YUP4oHyFVsei",
        "outputId": "ee8d9477-2e93-4736-a207-3253ed76d742"
      },
      "execution_count": 13,
      "outputs": [
        {
          "output_type": "execute_result",
          "data": {
            "text/plain": [
              "0.25"
            ]
          },
          "metadata": {},
          "execution_count": 13
        }
      ]
    },
    {
      "cell_type": "code",
      "source": [
        "# Вероятность можно посчитать, зная шансы:"
      ],
      "metadata": {
        "id": "qHd_-F3sVxEb"
      },
      "execution_count": 14,
      "outputs": []
    },
    {
      "cell_type": "markdown",
      "source": [
        "\\begin{equation}\n",
        "p = \\frac{odds}{1 + odds}\n",
        "\\end{equation}"
      ],
      "metadata": {
        "id": "MVORB3KmVz6t"
      }
    },
    {
      "cell_type": "code",
      "source": [
        "odds / (1 + odds)"
      ],
      "metadata": {
        "colab": {
          "base_uri": "https://localhost:8080/"
        },
        "id": "043sBgDdV26l",
        "outputId": "ceed4227-29ba-4c02-c560-dfe2842d5c69"
      },
      "execution_count": 15,
      "outputs": [
        {
          "output_type": "execute_result",
          "data": {
            "text/plain": [
              "0.2"
            ]
          },
          "metadata": {},
          "execution_count": 15
        }
      ]
    },
    {
      "cell_type": "markdown",
      "source": [
        "## При чем тут натуральный логарифм?"
      ],
      "metadata": {
        "id": "VZ_ASGnAV8Mh"
      }
    },
    {
      "cell_type": "code",
      "execution_count": null,
      "metadata": {
        "id": "-buMUaqpVMwg"
      },
      "outputs": [],
      "source": [
        "# Проследим за различным соотношением положительных и отрицательных исходов\n",
        "# и рассчитанными на их основе вероятностью, шансами и натуральным логарифмом шансов (далее просто \"логарифм шансов\").\n",
        "\n",
        "# Вероятность     - число от нуля до единицы\n",
        "# Шансы           - число от нуля до плюс бесконечности\n",
        "# Логарифм шансов - число от минус бесконечности до плюс бесконечности"
      ]
    },
    {
      "cell_type": "code",
      "execution_count": null,
      "metadata": {
        "id": "uOAQQxVZVMwg",
        "outputId": "5661a480-775b-458f-e5d0-c23dd6fe7d7a"
      },
      "outputs": [
        {
          "data": {
            "text/html": [
              "<div>\n",
              "<style scoped>\n",
              "    .dataframe tbody tr th:only-of-type {\n",
              "        vertical-align: middle;\n",
              "    }\n",
              "\n",
              "    .dataframe tbody tr th {\n",
              "        vertical-align: top;\n",
              "    }\n",
              "\n",
              "    .dataframe thead th {\n",
              "        text-align: right;\n",
              "    }\n",
              "</style>\n",
              "<table border=\"1\" class=\"dataframe\">\n",
              "  <thead>\n",
              "    <tr style=\"text-align: right;\">\n",
              "      <th></th>\n",
              "      <th>pos</th>\n",
              "      <th>neg</th>\n",
              "      <th>p</th>\n",
              "      <th>odds</th>\n",
              "      <th>log(odds)</th>\n",
              "    </tr>\n",
              "  </thead>\n",
              "  <tbody>\n",
              "    <tr>\n",
              "      <td>0</td>\n",
              "      <td>0</td>\n",
              "      <td>10</td>\n",
              "      <td>0.0</td>\n",
              "      <td>0.00</td>\n",
              "      <td>NaN</td>\n",
              "    </tr>\n",
              "    <tr>\n",
              "      <td>1</td>\n",
              "      <td>1</td>\n",
              "      <td>0</td>\n",
              "      <td>0.1</td>\n",
              "      <td>0.11</td>\n",
              "      <td>-2.20</td>\n",
              "    </tr>\n",
              "    <tr>\n",
              "      <td>2</td>\n",
              "      <td>2</td>\n",
              "      <td>8</td>\n",
              "      <td>0.2</td>\n",
              "      <td>0.25</td>\n",
              "      <td>-1.39</td>\n",
              "    </tr>\n",
              "    <tr>\n",
              "      <td>3</td>\n",
              "      <td>3</td>\n",
              "      <td>7</td>\n",
              "      <td>0.3</td>\n",
              "      <td>0.43</td>\n",
              "      <td>-0.85</td>\n",
              "    </tr>\n",
              "    <tr>\n",
              "      <td>4</td>\n",
              "      <td>4</td>\n",
              "      <td>6</td>\n",
              "      <td>0.4</td>\n",
              "      <td>0.66</td>\n",
              "      <td>-0.41</td>\n",
              "    </tr>\n",
              "    <tr>\n",
              "      <td>5</td>\n",
              "      <td>5</td>\n",
              "      <td>5</td>\n",
              "      <td>0.5</td>\n",
              "      <td>1.00</td>\n",
              "      <td>0.00</td>\n",
              "    </tr>\n",
              "    <tr>\n",
              "      <td>6</td>\n",
              "      <td>6</td>\n",
              "      <td>4</td>\n",
              "      <td>0.6</td>\n",
              "      <td>1.50</td>\n",
              "      <td>0.41</td>\n",
              "    </tr>\n",
              "    <tr>\n",
              "      <td>7</td>\n",
              "      <td>7</td>\n",
              "      <td>3</td>\n",
              "      <td>0.7</td>\n",
              "      <td>2.33</td>\n",
              "      <td>0.85</td>\n",
              "    </tr>\n",
              "    <tr>\n",
              "      <td>8</td>\n",
              "      <td>8</td>\n",
              "      <td>2</td>\n",
              "      <td>0.8</td>\n",
              "      <td>4.00</td>\n",
              "      <td>1.39</td>\n",
              "    </tr>\n",
              "    <tr>\n",
              "      <td>9</td>\n",
              "      <td>9</td>\n",
              "      <td>1</td>\n",
              "      <td>0.9</td>\n",
              "      <td>9.00</td>\n",
              "      <td>2.20</td>\n",
              "    </tr>\n",
              "    <tr>\n",
              "      <td>10</td>\n",
              "      <td>10</td>\n",
              "      <td>0</td>\n",
              "      <td>1.0</td>\n",
              "      <td>NaN</td>\n",
              "      <td>NaN</td>\n",
              "    </tr>\n",
              "  </tbody>\n",
              "</table>\n",
              "</div>"
            ],
            "text/plain": [
              "    pos  neg    p  odds  log(odds)\n",
              "0     0   10  0.0  0.00        NaN\n",
              "1     1    0  0.1  0.11      -2.20\n",
              "2     2    8  0.2  0.25      -1.39\n",
              "3     3    7  0.3  0.43      -0.85\n",
              "4     4    6  0.4  0.66      -0.41\n",
              "5     5    5  0.5  1.00       0.00\n",
              "6     6    4  0.6  1.50       0.41\n",
              "7     7    3  0.7  2.33       0.85\n",
              "8     8    2  0.8  4.00       1.39\n",
              "9     9    1  0.9  9.00       2.20\n",
              "10   10    0  1.0   NaN        NaN"
            ]
          },
          "execution_count": 16,
          "metadata": {},
          "output_type": "execute_result"
        }
      ],
      "source": [
        "pd.DataFrame({\n",
        "    'pos': [0, 1, 2, 3, 4, 5, 6, 7, 8, 9, 10],\n",
        "    'neg': [10, 0, 8, 7, 6, 5, 4, 3, 2, 1, 0],\n",
        "    'p': [0, 0.1, 0.2, 0.3, 0.4, 0.5, 0.6, 0.7, 0.8, 0.9, 1],\n",
        "    'odds': [0, 0.11, 0.25, 0.43, 0.66, 1, 1.5, 2.33, 4, 9, np.nan],\n",
        "    'log(odds)': [np.nan, -2.2, -1.39, -0.85, -0.41, 0, 0.41, 0.85, 1.39, 2.2, np.nan],\n",
        "})"
      ]
    },
    {
      "cell_type": "code",
      "execution_count": null,
      "metadata": {
        "id": "gjCnlTcHVMwh",
        "outputId": "291d88c0-75f4-469e-9f1d-4c522e3c4883"
      },
      "outputs": [
        {
          "data": {
            "image/png": "[encoded data removed]",
            "text/plain": [
              "<Figure size 432x288 with 1 Axes>"
            ]
          },
          "metadata": {
            "needs_background": "light"
          },
          "output_type": "display_data"
        }
      ],
      "source": [
        "# Вспомним уравнение логистической регрессии - в правой части число от минус бесконечности до плюс бесконечности,\n",
        "# в левой - логарифм шансов, зная который, мы можем рассчитать вероятность.\n",
        "\n",
        "# Визуализируем зависимость вероятности от логарифма шансов:\n",
        "\n",
        "log_odds = np.arange(-6, 6, 0.1)\n",
        "p = np.exp(log_odds) / (1 + np.exp(log_odds))\n",
        "\n",
        "plt.plot(log_odds, p)\n",
        "plt.grid()\n",
        "plt.xlim(-6, 6)\n",
        "plt.ylim(-0.1, 1.1)\n",
        "plt.title('Зависимость вероятности от логарифма шансов', fontsize=12)\n",
        "plt.xlabel('log(odds)', fontsize=12)\n",
        "plt.ylabel('p', fontsize=12)\n",
        "\n",
        "plt.show()\n",
        "plt.close()"
      ]
    },
    {
      "cell_type": "markdown",
      "source": [
        "## Практические задачи"
      ],
      "metadata": {
        "id": "PYJZ1Z2pi2LP"
      }
    },
    {
      "cell_type": "markdown",
      "source": [
        "Предположим, мы подбросили монетку 100 раз, и 70 раз выпал орел. Чему равняется натуральный логарифм шансов выпадения решки?\n",
        "\n",
        "Чтобы не запутаться, давайте в этом задании рассматривать как \"успех\" - выпадение решки."
      ],
      "metadata": {
        "id": "C19CLibNjD7L"
      }
    },
    {
      "cell_type": "code",
      "source": [
        "from math import log"
      ],
      "metadata": {
        "id": "7oBqy_SljGlF"
      },
      "execution_count": 16,
      "outputs": []
    },
    {
      "cell_type": "code",
      "source": [
        "positive = 30\n",
        "negative = 70\n",
        "p = positive / (positive + negative)\n",
        "p"
      ],
      "metadata": {
        "colab": {
          "base_uri": "https://localhost:8080/"
        },
        "id": "bChFM28vjIj_",
        "outputId": "c0733ab1-d3d2-4efb-d253-207e6bac40aa"
      },
      "execution_count": 17,
      "outputs": [
        {
          "output_type": "execute_result",
          "data": {
            "text/plain": [
              "0.3"
            ]
          },
          "metadata": {},
          "execution_count": 17
        }
      ]
    },
    {
      "cell_type": "code",
      "source": [
        "odds = p / (1 - p)\n",
        "odds"
      ],
      "metadata": {
        "colab": {
          "base_uri": "https://localhost:8080/"
        },
        "id": "9Wfql4q1jKjG",
        "outputId": "633bb28d-ac3f-4b57-e509-008d93ec5941"
      },
      "execution_count": 18,
      "outputs": [
        {
          "output_type": "execute_result",
          "data": {
            "text/plain": [
              "0.4285714285714286"
            ]
          },
          "metadata": {},
          "execution_count": 18
        }
      ]
    },
    {
      "cell_type": "code",
      "source": [
        "log_odds = log(odds)\n",
        "log_odds"
      ],
      "metadata": {
        "colab": {
          "base_uri": "https://localhost:8080/"
        },
        "id": "G0eEofEtjNi4",
        "outputId": "ac0ae305-67e8-4100-f85d-583c96569590"
      },
      "execution_count": 19,
      "outputs": [
        {
          "output_type": "execute_result",
          "data": {
            "text/plain": [
              "-0.8472978603872036"
            ]
          },
          "metadata": {},
          "execution_count": 19
        }
      ]
    },
    {
      "cell_type": "markdown",
      "source": [
        "Предположим, что мы получили логарифм шансов выпадения решки, равный -1. Тогда вероятность выпадения решки равняется:\n",
        "\n",
        "Укажите число с точностью хотя бы до двух значащих цифр."
      ],
      "metadata": {
        "id": "W5C9PjkulrAb"
      }
    },
    {
      "cell_type": "code",
      "source": [
        "import numpy as np"
      ],
      "metadata": {
        "id": "Ga_b0Ovcltzm"
      },
      "execution_count": 20,
      "outputs": []
    },
    {
      "cell_type": "code",
      "source": [
        "log_odds = -1\n",
        "odds = np.exp(log_odds)\n",
        "p = odds / (1 + odds)\n",
        "p"
      ],
      "metadata": {
        "colab": {
          "base_uri": "https://localhost:8080/"
        },
        "id": "q-0UkFnZlxBZ",
        "outputId": "c99098b4-b501-4b01-eede-3dda379c5a7e"
      },
      "execution_count": 22,
      "outputs": [
        {
          "output_type": "execute_result",
          "data": {
            "text/plain": [
              "0.2689414213699951"
            ]
          },
          "metadata": {},
          "execution_count": 22
        }
      ]
    },
    {
      "cell_type": "markdown",
      "source": [
        "Вернемся к уже знакомым нам данным.\n",
        "\n",
        "<img src='https://ucarecdn.com/37e900e5-2477-4354-b877-ceba2b088562/' />\n",
        "\n",
        "Рассчитайте логарифм шанса, того что случайно выбранный человек из нашей выборки окажется биологом.\n",
        "\n",
        "\n"
      ],
      "metadata": {
        "id": "L9bEXyRAnpRO"
      }
    },
    {
      "cell_type": "code",
      "source": [
        "positive = 24\n",
        "negative = 17\n",
        "p = positive / (positive + negative)\n",
        "odds = p / (1 - p)\n",
        "log_odds = log(odds)\n",
        "log_odds"
      ],
      "metadata": {
        "colab": {
          "base_uri": "https://localhost:8080/"
        },
        "id": "tEy4yH42n1Ob",
        "outputId": "0ab8af57-5f61-4611-cdb7-2ed956843904"
      },
      "execution_count": 23,
      "outputs": [
        {
          "output_type": "execute_result",
          "data": {
            "text/plain": [
              "0.3448404862917294"
            ]
          },
          "metadata": {},
          "execution_count": 23
        }
      ]
    },
    {
      "cell_type": "markdown",
      "metadata": {
        "id": "5eHycv3I_1jh"
      },
      "source": [
        "## Модель без предикторов. Intercept only model"
      ]
    },
    {
      "cell_type": "code",
      "execution_count": 24,
      "metadata": {
        "id": "otiAi2BtVMwi",
        "outputId": "0609eb37-7737-4ecc-869b-68d51f419e26",
        "colab": {
          "base_uri": "https://localhost:8080/",
          "height": 204
        }
      },
      "outputs": [
        {
          "output_type": "execute_result",
          "data": {
            "text/plain": [
              "   PassengerId  Survived  Pclass  \\\n",
              "0            1         0       3   \n",
              "1            2         1       1   \n",
              "2            3         1       3   \n",
              "3            4         1       1   \n",
              "4            5         0       3   \n",
              "\n",
              "                                                Name     Sex   Age  SibSp  \\\n",
              "0                            Braund, Mr. Owen Harris    male  22.0      1   \n",
              "1  Cumings, Mrs. John Bradley (Florence Briggs Th...  female  38.0      1   \n",
              "2                             Heikkinen, Miss. Laina  female  26.0      0   \n",
              "3       Futrelle, Mrs. Jacques Heath (Lily May Peel)  female  35.0      1   \n",
              "4                           Allen, Mr. William Henry    male  35.0      0   \n",
              "\n",
              "   Parch            Ticket     Fare Cabin Embarked  \n",
              "0      0         A/5 21171   7.2500   NaN        S  \n",
              "1      0          PC 17599  71.2833   C85        C  \n",
              "2      0  STON/O2. 3101282   7.9250   NaN        S  \n",
              "3      0            113803  53.1000  C123        S  \n",
              "4      0            373450   8.0500   NaN        S  "
            ],
            "text/html": [
              "\n",
              "  <div id=\"df-e2e12dd9-c8de-4cd7-8e0d-8a8597011d9b\">\n",
              "    <div class=\"colab-df-container\">\n",
              "      <div>\n",
              "<style scoped>\n",
              "    .dataframe tbody tr th:only-of-type {\n",
              "        vertical-align: middle;\n",
              "    }\n",
              "\n",
              "    .dataframe tbody tr th {\n",
              "        vertical-align: top;\n",
              "    }\n",
              "\n",
              "    .dataframe thead th {\n",
              "        text-align: right;\n",
              "    }\n",
              "</style>\n",
              "<table border=\"1\" class=\"dataframe\">\n",
              "  <thead>\n",
              "    <tr style=\"text-align: right;\">\n",
              "      <th></th>\n",
              "      <th>PassengerId</th>\n",
              "      <th>Survived</th>\n",
              "      <th>Pclass</th>\n",
              "      <th>Name</th>\n",
              "      <th>Sex</th>\n",
              "      <th>Age</th>\n",
              "      <th>SibSp</th>\n",
              "      <th>Parch</th>\n",
              "      <th>Ticket</th>\n",
              "      <th>Fare</th>\n",
              "      <th>Cabin</th>\n",
              "      <th>Embarked</th>\n",
              "    </tr>\n",
              "  </thead>\n",
              "  <tbody>\n",
              "    <tr>\n",
              "      <th>0</th>\n",
              "      <td>1</td>\n",
              "      <td>0</td>\n",
              "      <td>3</td>\n",
              "      <td>Braund, Mr. Owen Harris</td>\n",
              "      <td>male</td>\n",
              "      <td>22.0</td>\n",
              "      <td>1</td>\n",
              "      <td>0</td>\n",
              "      <td>A/5 21171</td>\n",
              "      <td>7.2500</td>\n",
              "      <td>NaN</td>\n",
              "      <td>S</td>\n",
              "    </tr>\n",
              "    <tr>\n",
              "      <th>1</th>\n",
              "      <td>2</td>\n",
              "      <td>1</td>\n",
              "      <td>1</td>\n",
              "      <td>Cumings, Mrs. John Bradley (Florence Briggs Th...</td>\n",
              "      <td>female</td>\n",
              "      <td>38.0</td>\n",
              "      <td>1</td>\n",
              "      <td>0</td>\n",
              "      <td>PC 17599</td>\n",
              "      <td>71.2833</td>\n",
              "      <td>C85</td>\n",
              "      <td>C</td>\n",
              "    </tr>\n",
              "    <tr>\n",
              "      <th>2</th>\n",
              "      <td>3</td>\n",
              "      <td>1</td>\n",
              "      <td>3</td>\n",
              "      <td>Heikkinen, Miss. Laina</td>\n",
              "      <td>female</td>\n",
              "      <td>26.0</td>\n",
              "      <td>0</td>\n",
              "      <td>0</td>\n",
              "      <td>STON/O2. 3101282</td>\n",
              "      <td>7.9250</td>\n",
              "      <td>NaN</td>\n",
              "      <td>S</td>\n",
              "    </tr>\n",
              "    <tr>\n",
              "      <th>3</th>\n",
              "      <td>4</td>\n",
              "      <td>1</td>\n",
              "      <td>1</td>\n",
              "      <td>Futrelle, Mrs. Jacques Heath (Lily May Peel)</td>\n",
              "      <td>female</td>\n",
              "      <td>35.0</td>\n",
              "      <td>1</td>\n",
              "      <td>0</td>\n",
              "      <td>113803</td>\n",
              "      <td>53.1000</td>\n",
              "      <td>C123</td>\n",
              "      <td>S</td>\n",
              "    </tr>\n",
              "    <tr>\n",
              "      <th>4</th>\n",
              "      <td>5</td>\n",
              "      <td>0</td>\n",
              "      <td>3</td>\n",
              "      <td>Allen, Mr. William Henry</td>\n",
              "      <td>male</td>\n",
              "      <td>35.0</td>\n",
              "      <td>0</td>\n",
              "      <td>0</td>\n",
              "      <td>373450</td>\n",
              "      <td>8.0500</td>\n",
              "      <td>NaN</td>\n",
              "      <td>S</td>\n",
              "    </tr>\n",
              "  </tbody>\n",
              "</table>\n",
              "</div>\n",
              "      <button class=\"colab-df-convert\" onclick=\"convertToInteractive('df-e2e12dd9-c8de-4cd7-8e0d-8a8597011d9b')\"\n",
              "              title=\"Convert this dataframe to an interactive table.\"\n",
              "              style=\"display:none;\">\n",
              "        \n",
              "  <svg xmlns=\"http://www.w3.org/2000/svg\" height=\"24px\"viewBox=\"0 0 24 24\"\n",
              "       width=\"24px\">\n",
              "    <path d=\"M0 0h24v24H0V0z\" fill=\"none\"/>\n",
              "    <path d=\"M18.56 5.44l.94 2.06.94-2.06 2.06-.94-2.06-.94-.94-2.06-.94 2.06-2.06.94zm-11 1L8.5 8.5l.94-2.06 2.06-.94-2.06-.94L8.5 2.5l-.94 2.06-2.06.94zm10 10l.94 2.06.94-2.06 2.06-.94-2.06-.94-.94-2.06-.94 2.06-2.06.94z\"/><path d=\"M17.41 7.96l-1.37-1.37c-.4-.4-.92-.59-1.43-.59-.52 0-1.04.2-1.43.59L10.3 9.45l-7.72 7.72c-.78.78-.78 2.05 0 2.83L4 21.41c.39.39.9.59 1.41.59.51 0 1.02-.2 1.41-.59l7.78-7.78 2.81-2.81c.8-.78.8-2.07 0-2.86zM5.41 20L4 18.59l7.72-7.72 1.47 1.35L5.41 20z\"/>\n",
              "  </svg>\n",
              "      </button>\n",
              "      \n",
              "  <style>\n",
              "    .colab-df-container {\n",
              "      display:flex;\n",
              "      flex-wrap:wrap;\n",
              "      gap: 12px;\n",
              "    }\n",
              "\n",
              "    .colab-df-convert {\n",
              "      background-color: #E8F0FE;\n",
              "      border: none;\n",
              "      border-radius: 50%;\n",
              "      cursor: pointer;\n",
              "      display: none;\n",
              "      fill: #1967D2;\n",
              "      height: 32px;\n",
              "      padding: 0 0 0 0;\n",
              "      width: 32px;\n",
              "    }\n",
              "\n",
              "    .colab-df-convert:hover {\n",
              "      background-color: #E2EBFA;\n",
              "      box-shadow: 0px 1px 2px rgba(60, 64, 67, 0.3), 0px 1px 3px 1px rgba(60, 64, 67, 0.15);\n",
              "      fill: #174EA6;\n",
              "    }\n",
              "\n",
              "    [theme=dark] .colab-df-convert {\n",
              "      background-color: #3B4455;\n",
              "      fill: #D2E3FC;\n",
              "    }\n",
              "\n",
              "    [theme=dark] .colab-df-convert:hover {\n",
              "      background-color: #434B5C;\n",
              "      box-shadow: 0px 1px 3px 1px rgba(0, 0, 0, 0.15);\n",
              "      filter: drop-shadow(0px 1px 2px rgba(0, 0, 0, 0.3));\n",
              "      fill: #FFFFFF;\n",
              "    }\n",
              "  </style>\n",
              "\n",
              "      <script>\n",
              "        const buttonEl =\n",
              "          document.querySelector('#df-e2e12dd9-c8de-4cd7-8e0d-8a8597011d9b button.colab-df-convert');\n",
              "        buttonEl.style.display =\n",
              "          google.colab.kernel.accessAllowed ? 'block' : 'none';\n",
              "\n",
              "        async function convertToInteractive(key) {\n",
              "          const element = document.querySelector('#df-e2e12dd9-c8de-4cd7-8e0d-8a8597011d9b');\n",
              "          const dataTable =\n",
              "            await google.colab.kernel.invokeFunction('convertToInteractive',\n",
              "                                                     [key], {});\n",
              "          if (!dataTable) return;\n",
              "\n",
              "          const docLinkHtml = 'Like what you see? Visit the ' +\n",
              "            '<a target=\"_blank\" href=https://colab.research.google.com/notebooks/data_table.ipynb>data table notebook</a>'\n",
              "            + ' to learn more about interactive tables.';\n",
              "          element.innerHTML = '';\n",
              "          dataTable['output_type'] = 'display_data';\n",
              "          await google.colab.output.renderOutput(dataTable, element);\n",
              "          const docLink = document.createElement('div');\n",
              "          docLink.innerHTML = docLinkHtml;\n",
              "          element.appendChild(docLink);\n",
              "        }\n",
              "      </script>\n",
              "    </div>\n",
              "  </div>\n",
              "  "
            ]
          },
          "metadata": {},
          "execution_count": 24
        }
      ],
      "source": [
        "# Датасет Титаника\n",
        "\n",
        "df = pd.read_csv('https://stepic.org/media/attachments/course/524/train.csv')\n",
        "df = df[df.Age.notnull()]\n",
        "df.head()"
      ]
    },
    {
      "cell_type": "code",
      "execution_count": null,
      "metadata": {
        "id": "7Ot-gmadVMwi",
        "outputId": "112fed44-3536-4723-f965-1cfecb534a6c"
      },
      "outputs": [
        {
          "data": {
            "text/html": [
              "<table class=\"simpletable\">\n",
              "<caption>Generalized Linear Model Regression Results</caption>\n",
              "<tr>\n",
              "  <th>Dep. Variable:</th>       <td>Survived</td>     <th>  No. Observations:  </th>  <td>   714</td> \n",
              "</tr>\n",
              "<tr>\n",
              "  <th>Model:</th>                  <td>GLM</td>       <th>  Df Residuals:      </th>  <td>   713</td> \n",
              "</tr>\n",
              "<tr>\n",
              "  <th>Model Family:</th>        <td>Binomial</td>     <th>  Df Model:          </th>  <td>     0</td> \n",
              "</tr>\n",
              "<tr>\n",
              "  <th>Link Function:</th>         <td>logit</td>      <th>  Scale:             </th> <td>  1.0000</td>\n",
              "</tr>\n",
              "<tr>\n",
              "  <th>Method:</th>                <td>IRLS</td>       <th>  Log-Likelihood:    </th> <td> -482.26</td>\n",
              "</tr>\n",
              "<tr>\n",
              "  <th>Date:</th>            <td>Tue, 08 Jun 2021</td> <th>  Deviance:          </th> <td>  964.52</td>\n",
              "</tr>\n",
              "<tr>\n",
              "  <th>Time:</th>                <td>20:53:33</td>     <th>  Pearson chi2:      </th>  <td>  714.</td> \n",
              "</tr>\n",
              "<tr>\n",
              "  <th>No. Iterations:</th>          <td>4</td>        <th>                     </th>     <td> </td>   \n",
              "</tr>\n",
              "<tr>\n",
              "  <th>Covariance Type:</th>     <td>nonrobust</td>    <th>                     </th>     <td> </td>   \n",
              "</tr>\n",
              "</table>\n",
              "<table class=\"simpletable\">\n",
              "<tr>\n",
              "      <td></td>         <th>coef</th>     <th>std err</th>      <th>z</th>      <th>P>|z|</th>  <th>[0.025</th>    <th>0.975]</th>  \n",
              "</tr>\n",
              "<tr>\n",
              "  <th>Intercept</th> <td>   -0.3799</td> <td>    0.076</td> <td>   -4.985</td> <td> 0.000</td> <td>   -0.529</td> <td>   -0.230</td>\n",
              "</tr>\n",
              "</table>"
            ],
            "text/plain": [
              "<class 'statsmodels.iolib.summary.Summary'>\n",
              "\"\"\"\n",
              "                 Generalized Linear Model Regression Results                  \n",
              "==============================================================================\n",
              "Dep. Variable:               Survived   No. Observations:                  714\n",
              "Model:                            GLM   Df Residuals:                      713\n",
              "Model Family:                Binomial   Df Model:                            0\n",
              "Link Function:                  logit   Scale:                          1.0000\n",
              "Method:                          IRLS   Log-Likelihood:                -482.26\n",
              "Date:                Tue, 08 Jun 2021   Deviance:                       964.52\n",
              "Time:                        20:53:33   Pearson chi2:                     714.\n",
              "No. Iterations:                     4                                         \n",
              "Covariance Type:            nonrobust                                         \n",
              "==============================================================================\n",
              "                 coef    std err          z      P>|z|      [0.025      0.975]\n",
              "------------------------------------------------------------------------------\n",
              "Intercept     -0.3799      0.076     -4.985      0.000      -0.529      -0.230\n",
              "==============================================================================\n",
              "\"\"\""
            ]
          },
          "execution_count": 19,
          "metadata": {},
          "output_type": "execute_result"
        }
      ],
      "source": [
        "glm_binomial = smf.glm(formula='Survived ~ 1', data=df, family=sm.families.Binomial()).fit()\n",
        "glm_binomial.summary()\n",
        "\n",
        "# Intercept - логарифм шансов (шансов выжить)"
      ]
    },
    {
      "cell_type": "markdown",
      "source": [
        "<img src=\"https://raw.githubusercontent.com/betelgeus/fundamentals_of_statistics_notes/main/img/Снимок%20экрана%202022-10-03%20в%2015.35.41.png\" width=\"800px\"/>"
      ],
      "metadata": {
        "id": "DjAlPAxq2X0h"
      }
    },
    {
      "cell_type": "code",
      "execution_count": null,
      "metadata": {
        "id": "Bx1Ji2xoVMwj"
      },
      "outputs": [],
      "source": [
        "# Получаем модель:\n",
        "# log(odds) = -0.3799"
      ]
    },
    {
      "cell_type": "code",
      "execution_count": null,
      "metadata": {
        "id": "QuEWVl4vVMwj",
        "outputId": "ca2fd026-5b00-47b8-8942-25e36c2769b1"
      },
      "outputs": [
        {
          "data": {
            "text/plain": [
              "0    424\n",
              "1    290\n",
              "Name: Survived, dtype: int64"
            ]
          },
          "execution_count": 21,
          "metadata": {},
          "output_type": "execute_result"
        }
      ],
      "source": [
        "# Распределение частот ЗП\n",
        "df.Survived.value_counts()"
      ]
    },
    {
      "cell_type": "code",
      "execution_count": null,
      "metadata": {
        "id": "1hGI8qPoVMwj",
        "outputId": "832013ce-f6b9-482b-e1f3-eff24c364fa6"
      },
      "outputs": [
        {
          "data": {
            "text/plain": [
              "<matplotlib.axes._subplots.AxesSubplot at 0x135ae516908>"
            ]
          },
          "execution_count": 22,
          "metadata": {},
          "output_type": "execute_result"
        },
        {
          "data": {
            "image/png": "[encoded data removed]",
            "text/plain": [
              "<Figure size 432x288 with 1 Axes>"
            ]
          },
          "metadata": {
            "needs_background": "light"
          },
          "output_type": "display_data"
        }
      ],
      "source": [
        "sns.countplot(x='Survived', data=df, palette='hls')"
      ]
    },
    {
      "cell_type": "code",
      "execution_count": null,
      "metadata": {
        "id": "nPC13MzlVMwk",
        "outputId": "bac2fcab-8feb-44ce-ebcf-b1610fb15dad"
      },
      "outputs": [
        {
          "data": {
            "text/plain": [
              "0.6839622641509434"
            ]
          },
          "execution_count": 23,
          "metadata": {},
          "output_type": "execute_result"
        }
      ],
      "source": [
        "# df.Survived.value_counts()[1] - количество выживших 290\n",
        "# df.Survived.value_counts()[0] - количество погибших 424\n",
        "odds = df.Survived.value_counts()[1] / df.Survived.value_counts()[0]\n",
        "odds"
      ]
    },
    {
      "cell_type": "code",
      "execution_count": null,
      "metadata": {
        "id": "lVgYtxzJVMwm",
        "outputId": "f042d3ae-12c3-4f7a-8d28-bab062db890e"
      },
      "outputs": [
        {
          "data": {
            "text/plain": [
              "-0.37985253225143806"
            ]
          },
          "execution_count": 24,
          "metadata": {},
          "output_type": "execute_result"
        }
      ],
      "source": [
        "# Логарифм шансов - это и есть Intercept.\n",
        "log_odds = np.log(odds)\n",
        "log_odds"
      ]
    },
    {
      "cell_type": "code",
      "execution_count": null,
      "metadata": {
        "id": "GnuctIPiVMwn",
        "outputId": "af0f74ce-671f-4fb8-87ad-7f617ff31e23"
      },
      "outputs": [
        {
          "data": {
            "text/plain": [
              "0.6839622641509434"
            ]
          },
          "execution_count": 25,
          "metadata": {},
          "output_type": "execute_result"
        }
      ],
      "source": [
        "# Рассчитаем шансы:\n",
        "odds = np.exp(log_odds)\n",
        "odds"
      ]
    },
    {
      "cell_type": "code",
      "execution_count": null,
      "metadata": {
        "id": "AZP2y60ZVMwp",
        "outputId": "a023f6fe-06fd-4ff7-c107-e91734d9ef84"
      },
      "outputs": [
        {
          "data": {
            "text/plain": [
              "0.4061624649859944"
            ]
          },
          "execution_count": 26,
          "metadata": {},
          "output_type": "execute_result"
        }
      ],
      "source": [
        "# Рассчитаем вероятность:\n",
        "p = odds / (1 + odds)\n",
        "p"
      ]
    },
    {
      "cell_type": "code",
      "execution_count": null,
      "metadata": {
        "id": "rSO8LY7kVMwq",
        "outputId": "31577dad-a339-4b2b-9145-15e36a583251"
      },
      "outputs": [
        {
          "data": {
            "text/plain": [
              "966.5159648555248"
            ]
          },
          "execution_count": 27,
          "metadata": {},
          "output_type": "execute_result"
        }
      ],
      "source": [
        "# aic - показатель остатков модели.\n",
        "# Чем он ниже, тем лучше модель (по аналогии с суммой квадратов остатков в линейной регрессии).\n",
        "glm_binomial.aic"
      ]
    },
    {
      "cell_type": "markdown",
      "metadata": {
        "id": "W7R7E8E9_1jj"
      },
      "source": [
        "## Модель с одним номинативным предиктором"
      ]
    },
    {
      "cell_type": "code",
      "execution_count": null,
      "metadata": {
        "id": "47qePqeJVMwr",
        "outputId": "0c15dec5-5062-4eef-f5ef-d64d46cba869"
      },
      "outputs": [
        {
          "data": {
            "text/html": [
              "<table class=\"simpletable\">\n",
              "<caption>Generalized Linear Model Regression Results</caption>\n",
              "<tr>\n",
              "  <th>Dep. Variable:</th>       <td>Survived</td>     <th>  No. Observations:  </th>  <td>   714</td> \n",
              "</tr>\n",
              "<tr>\n",
              "  <th>Model:</th>                  <td>GLM</td>       <th>  Df Residuals:      </th>  <td>   712</td> \n",
              "</tr>\n",
              "<tr>\n",
              "  <th>Model Family:</th>        <td>Binomial</td>     <th>  Df Model:          </th>  <td>     1</td> \n",
              "</tr>\n",
              "<tr>\n",
              "  <th>Link Function:</th>         <td>logit</td>      <th>  Scale:             </th> <td>  1.0000</td>\n",
              "</tr>\n",
              "<tr>\n",
              "  <th>Method:</th>                <td>IRLS</td>       <th>  Log-Likelihood:    </th> <td> -375.35</td>\n",
              "</tr>\n",
              "<tr>\n",
              "  <th>Date:</th>            <td>Tue, 08 Jun 2021</td> <th>  Deviance:          </th> <td>  750.70</td>\n",
              "</tr>\n",
              "<tr>\n",
              "  <th>Time:</th>                <td>20:53:34</td>     <th>  Pearson chi2:      </th>  <td>  714.</td> \n",
              "</tr>\n",
              "<tr>\n",
              "  <th>No. Iterations:</th>          <td>4</td>        <th>                     </th>     <td> </td>   \n",
              "</tr>\n",
              "<tr>\n",
              "  <th>Covariance Type:</th>     <td>nonrobust</td>    <th>                     </th>     <td> </td>   \n",
              "</tr>\n",
              "</table>\n",
              "<table class=\"simpletable\">\n",
              "<tr>\n",
              "         <td></td>           <th>coef</th>     <th>std err</th>      <th>z</th>      <th>P>|z|</th>  <th>[0.025</th>    <th>0.975]</th>  \n",
              "</tr>\n",
              "<tr>\n",
              "  <th>Intercept</th>      <td>    1.1243</td> <td>    0.144</td> <td>    7.814</td> <td> 0.000</td> <td>    0.842</td> <td>    1.406</td>\n",
              "</tr>\n",
              "<tr>\n",
              "  <th>C(Sex)[T.male]</th> <td>   -2.4778</td> <td>    0.185</td> <td>  -13.392</td> <td> 0.000</td> <td>   -2.840</td> <td>   -2.115</td>\n",
              "</tr>\n",
              "</table>"
            ],
            "text/plain": [
              "<class 'statsmodels.iolib.summary.Summary'>\n",
              "\"\"\"\n",
              "                 Generalized Linear Model Regression Results                  \n",
              "==============================================================================\n",
              "Dep. Variable:               Survived   No. Observations:                  714\n",
              "Model:                            GLM   Df Residuals:                      712\n",
              "Model Family:                Binomial   Df Model:                            1\n",
              "Link Function:                  logit   Scale:                          1.0000\n",
              "Method:                          IRLS   Log-Likelihood:                -375.35\n",
              "Date:                Tue, 08 Jun 2021   Deviance:                       750.70\n",
              "Time:                        20:53:34   Pearson chi2:                     714.\n",
              "No. Iterations:                     4                                         \n",
              "Covariance Type:            nonrobust                                         \n",
              "==================================================================================\n",
              "                     coef    std err          z      P>|z|      [0.025      0.975]\n",
              "----------------------------------------------------------------------------------\n",
              "Intercept          1.1243      0.144      7.814      0.000       0.842       1.406\n",
              "C(Sex)[T.male]    -2.4778      0.185    -13.392      0.000      -2.840      -2.115\n",
              "==================================================================================\n",
              "\"\"\""
            ]
          },
          "execution_count": 28,
          "metadata": {},
          "output_type": "execute_result"
        }
      ],
      "source": [
        "glm_binomial = smf.glm(formula='Survived ~ C(Sex)', data=df, family=sm.families.Binomial()).fit()\n",
        "glm_binomial.summary()\n",
        "\n",
        "# Intercept      - логарифм шансов для женщин\n",
        "# C(Sex)[T.male] - логарифм отношения шансов для мужчин к шансам для женщин. Иными словами это цена перехода с одной градации нашего признака на другую.\n",
        "# Шансы для мужчин Intercept + C(Sex)[T.male]"
      ]
    },
    {
      "cell_type": "code",
      "execution_count": null,
      "metadata": {
        "id": "Md5BuNy1VMwr",
        "outputId": "b7faa98d-3644-4c9f-d306-af63883faf69"
      },
      "outputs": [
        {
          "data": {
            "text/html": [
              "<div>\n",
              "<style scoped>\n",
              "    .dataframe tbody tr th:only-of-type {\n",
              "        vertical-align: middle;\n",
              "    }\n",
              "\n",
              "    .dataframe tbody tr th {\n",
              "        vertical-align: top;\n",
              "    }\n",
              "\n",
              "    .dataframe thead th {\n",
              "        text-align: right;\n",
              "    }\n",
              "</style>\n",
              "<table border=\"1\" class=\"dataframe\">\n",
              "  <thead>\n",
              "    <tr style=\"text-align: right;\">\n",
              "      <th>Sex</th>\n",
              "      <th>female</th>\n",
              "      <th>male</th>\n",
              "    </tr>\n",
              "    <tr>\n",
              "      <th>Survived</th>\n",
              "      <th></th>\n",
              "      <th></th>\n",
              "    </tr>\n",
              "  </thead>\n",
              "  <tbody>\n",
              "    <tr>\n",
              "      <td>0</td>\n",
              "      <td>64</td>\n",
              "      <td>360</td>\n",
              "    </tr>\n",
              "    <tr>\n",
              "      <td>1</td>\n",
              "      <td>197</td>\n",
              "      <td>93</td>\n",
              "    </tr>\n",
              "  </tbody>\n",
              "</table>\n",
              "</div>"
            ],
            "text/plain": [
              "Sex       female  male\n",
              "Survived              \n",
              "0             64   360\n",
              "1            197    93"
            ]
          },
          "execution_count": 29,
          "metadata": {},
          "output_type": "execute_result"
        }
      ],
      "source": [
        "# Таблица сопряженности между переменными выжил/не выжил и пол\n",
        "cross_table = pd.crosstab(df.Survived, df.Sex)\n",
        "cross_table"
      ]
    },
    {
      "cell_type": "code",
      "execution_count": null,
      "metadata": {
        "id": "4K_2GRltVMws",
        "outputId": "df48138f-fa00-425e-9bc2-9cc0aef449a3"
      },
      "outputs": [
        {
          "data": {
            "text/plain": [
              "Text(0, 0.5, 'Количество')"
            ]
          },
          "execution_count": 30,
          "metadata": {},
          "output_type": "execute_result"
        },
        {
          "data": {
            "image/png": "[encoded data removed]",
            "text/plain": [
              "<Figure size 432x288 with 1 Axes>"
            ]
          },
          "metadata": {
            "needs_background": "light"
          },
          "output_type": "display_data"
        }
      ],
      "source": [
        "# Визуализировать таблицу сопряженности можно так:\n",
        "pd.crosstab(df.Sex, df.Survived).plot(kind='bar')\n",
        "plt.title('Количество мужчин и женщин на Титанике')\n",
        "plt.xlabel('Пол')\n",
        "plt.ylabel('Количество')"
      ]
    },
    {
      "cell_type": "code",
      "execution_count": null,
      "metadata": {
        "id": "qVahkbIAVMws",
        "outputId": "5b17f044-3bc0-47af-b3f6-713edaedc33e"
      },
      "outputs": [
        {
          "data": {
            "text/plain": [
              "3.078125"
            ]
          },
          "execution_count": 31,
          "metadata": {},
          "output_type": "execute_result"
        }
      ],
      "source": [
        "# cross_table.female[0] - количество погибших женщин\n",
        "# cross_table.female[1] - количество выживших женщин\n",
        "odds_female = cross_table.female[1] / cross_table.female[0]\n",
        "odds_female"
      ]
    },
    {
      "cell_type": "code",
      "execution_count": null,
      "metadata": {
        "id": "_roI4G-rVMwt",
        "outputId": "22969ff8-1368-4cd9-ea79-1d9f2966f9b0"
      },
      "outputs": [
        {
          "data": {
            "text/plain": [
              "1.1243206453783166"
            ]
          },
          "execution_count": 32,
          "metadata": {},
          "output_type": "execute_result"
        }
      ],
      "source": [
        "# Логарифм шансов для женщин - это и есть Intercept\n",
        "np.log(odds_female)"
      ]
    },
    {
      "cell_type": "code",
      "execution_count": null,
      "metadata": {
        "id": "GnDIULAxVMwu",
        "outputId": "295ae0d4-94df-4c86-e7fa-408204d422e7"
      },
      "outputs": [
        {
          "data": {
            "text/plain": [
              "0.25833333333333336"
            ]
          },
          "execution_count": 33,
          "metadata": {},
          "output_type": "execute_result"
        }
      ],
      "source": [
        "# cross_table.male[0] - количество погибших мужчин\n",
        "# cross_table.male[1] - количество выживших мужчин\n",
        "odds_male = cross_table.male[1] / cross_table.male[0]\n",
        "odds_male"
      ]
    },
    {
      "cell_type": "code",
      "execution_count": null,
      "metadata": {
        "id": "CP284aSmVMwv",
        "outputId": "4006d64d-972d-4bf3-a037-c02d566d418f"
      },
      "outputs": [
        {
          "data": {
            "text/plain": [
              "0.08392554991539763"
            ]
          },
          "execution_count": 34,
          "metadata": {},
          "output_type": "execute_result"
        }
      ],
      "source": [
        "odds_ratio = odds_male / odds_female\n",
        "odds_ratio"
      ]
    },
    {
      "cell_type": "code",
      "execution_count": null,
      "metadata": {
        "id": "3Q3x88DVVMwv",
        "outputId": "83a79634-6e35-4305-9420-0627d748cf60"
      },
      "outputs": [
        {
          "data": {
            "text/plain": [
              "-2.4778251836752165"
            ]
          },
          "execution_count": 35,
          "metadata": {},
          "output_type": "execute_result"
        }
      ],
      "source": [
        "np.log(odds_ratio)\n",
        "# Логарифм отношения шансов для мужчин к шансам для женщин - это и есть значение C(Sex)[T.male]"
      ]
    },
    {
      "cell_type": "code",
      "execution_count": null,
      "metadata": {
        "id": "xbZ-BrwYVMww",
        "outputId": "98256ac7-e777-45b0-917e-c91afa677137"
      },
      "outputs": [
        {
          "data": {
            "text/plain": [
              "-1.3534999999999997"
            ]
          },
          "execution_count": 36,
          "metadata": {},
          "output_type": "execute_result"
        }
      ],
      "source": [
        "# Получаем модель:\n",
        "# log(odds) = 1.1243 + (-2.4778 * Sex_male)\n",
        "\n",
        "# Если предсказываем логарифм шансов для женщин (Sex_male = 0):\n",
        "# log(odds) = 1.1243 + (-2.4778 * 0)\n",
        "# log(odds) = 1.1243\n",
        "\n",
        "# Если предсказываем логарифм шансов для мужчин (Sex_male = 1):\n",
        "# log(odds) = 1.1243 + (-2.4778 * 1)\n",
        "# log(odds) = 1.1243 - 2.4778\n",
        "# log(odds) -1.3535\n",
        "\n",
        "log_odds_male = 1.1243 - 2.4778\n",
        "log_odds_male"
      ]
    },
    {
      "cell_type": "code",
      "execution_count": null,
      "metadata": {
        "id": "VbplNx8VVMwx",
        "outputId": "550fa79b-f812-4b2b-e0e3-d8a903ef3194"
      },
      "outputs": [
        {
          "data": {
            "text/plain": [
              "754.7002061466517"
            ]
          },
          "execution_count": 37,
          "metadata": {},
          "output_type": "execute_result"
        }
      ],
      "source": [
        "# aic у этой модели ниже, чем у предыдущей, значит эта модель лучше.\n",
        "glm_binomial.aic"
      ]
    },
    {
      "cell_type": "markdown",
      "source": [
        "## Практические задачи"
      ],
      "metadata": {
        "id": "Fj382Kt9MkzP"
      }
    },
    {
      "cell_type": "markdown",
      "source": [
        "Каждый из аспирантов проводил исследование взаимосвязи результатов лечение (положительные или отрицательные) и типа лекарства (лекарство_1 и лекарство_2). \n",
        "\n",
        "Каждый аспирант прислал мозаичный график и значения экспоненты коэффициентов регрессии, которая предсказывала исход лечения, основываясь на типе лекарства (Result ~ Drugs). Соотнесите графики и значения экспоненты коэффициентов логистической регрессии. \n"
      ],
      "metadata": {
        "id": "xF1RpfIhM65A"
      }
    },
    {
      "cell_type": "markdown",
      "source": [
        "<img src=\"https://raw.githubusercontent.com/betelgeus/fundamentals_of_statistics_notes/main/img/Снимок%20экрана%202022-10-03%20в%2017.14.56.png\" width=\"600px\"/>\n",
        "\n",
        "Intercept - это шансы (**не логарифм шансов**) положительного исхода Drug1, то есть Positive/Negative для Drug1. \n",
        "Когда Positive < Negative  эти шансы  <1 , когда Positive = Negative  интерсепт =1 .\n",
        "\n",
        "DrugDrug2 - это отношение шансов oddsDrug1/oddsDrug2. \n",
        "\n",
        "Для  PositiveDrug1 = PositiveDrug2, отношение шансов =1, PositiveDrug1 > PositiveDrug2, отношение шансов >1, PositiveDrug1 < PositiveDrug2, отношение шансов <1\n",
        "\n"
      ],
      "metadata": {
        "id": "QACN9c09M8ub"
      }
    },
    {
      "cell_type": "markdown",
      "metadata": {
        "id": "4GKo7IsD_1jq"
      },
      "source": [
        "## Модель с двумя номинативными предикторами"
      ]
    },
    {
      "cell_type": "code",
      "execution_count": null,
      "metadata": {
        "id": "76Ei5AqDVMwx",
        "outputId": "b3589ec9-fa78-4152-adf0-2e049f397a01"
      },
      "outputs": [
        {
          "data": {
            "text/html": [
              "<table class=\"simpletable\">\n",
              "<caption>Generalized Linear Model Regression Results</caption>\n",
              "<tr>\n",
              "  <th>Dep. Variable:</th>       <td>Survived</td>     <th>  No. Observations:  </th>  <td>   714</td> \n",
              "</tr>\n",
              "<tr>\n",
              "  <th>Model:</th>                  <td>GLM</td>       <th>  Df Residuals:      </th>  <td>   708</td> \n",
              "</tr>\n",
              "<tr>\n",
              "  <th>Model Family:</th>        <td>Binomial</td>     <th>  Df Model:          </th>  <td>     5</td> \n",
              "</tr>\n",
              "<tr>\n",
              "  <th>Link Function:</th>         <td>logit</td>      <th>  Scale:             </th> <td>  1.0000</td>\n",
              "</tr>\n",
              "<tr>\n",
              "  <th>Method:</th>                <td>IRLS</td>       <th>  Log-Likelihood:    </th> <td> -321.14</td>\n",
              "</tr>\n",
              "<tr>\n",
              "  <th>Date:</th>            <td>Tue, 08 Jun 2021</td> <th>  Deviance:          </th> <td>  642.28</td>\n",
              "</tr>\n",
              "<tr>\n",
              "  <th>Time:</th>                <td>20:53:34</td>     <th>  Pearson chi2:      </th>  <td>  714.</td> \n",
              "</tr>\n",
              "<tr>\n",
              "  <th>No. Iterations:</th>          <td>6</td>        <th>                     </th>     <td> </td>   \n",
              "</tr>\n",
              "<tr>\n",
              "  <th>Covariance Type:</th>     <td>nonrobust</td>    <th>                     </th>     <td> </td>   \n",
              "</tr>\n",
              "</table>\n",
              "<table class=\"simpletable\">\n",
              "<tr>\n",
              "                <td></td>                   <th>coef</th>     <th>std err</th>      <th>z</th>      <th>P>|z|</th>  <th>[0.025</th>    <th>0.975]</th>  \n",
              "</tr>\n",
              "<tr>\n",
              "  <th>Intercept</th>                     <td>    3.3081</td> <td>    0.588</td> <td>    5.628</td> <td> 0.000</td> <td>    2.156</td> <td>    4.460</td>\n",
              "</tr>\n",
              "<tr>\n",
              "  <th>C(Sex)[T.male]</th>                <td>   -3.7301</td> <td>    0.622</td> <td>   -5.997</td> <td> 0.000</td> <td>   -4.949</td> <td>   -2.511</td>\n",
              "</tr>\n",
              "<tr>\n",
              "  <th>C(Pclass)[T.2]</th>                <td>   -0.8804</td> <td>    0.726</td> <td>   -1.213</td> <td> 0.225</td> <td>   -2.303</td> <td>    0.542</td>\n",
              "</tr>\n",
              "<tr>\n",
              "  <th>C(Pclass)[T.3]</th>                <td>   -3.4653</td> <td>    0.620</td> <td>   -5.585</td> <td> 0.000</td> <td>   -4.681</td> <td>   -2.249</td>\n",
              "</tr>\n",
              "<tr>\n",
              "  <th>C(Sex)[T.male]:C(Pclass)[T.2]</th> <td>   -0.4204</td> <td>    0.804</td> <td>   -0.523</td> <td> 0.601</td> <td>   -1.997</td> <td>    1.156</td>\n",
              "</tr>\n",
              "<tr>\n",
              "  <th>C(Sex)[T.male]:C(Pclass)[T.3]</th> <td>    2.1542</td> <td>    0.676</td> <td>    3.185</td> <td> 0.001</td> <td>    0.829</td> <td>    3.480</td>\n",
              "</tr>\n",
              "</table>"
            ],
            "text/plain": [
              "<class 'statsmodels.iolib.summary.Summary'>\n",
              "\"\"\"\n",
              "                 Generalized Linear Model Regression Results                  \n",
              "==============================================================================\n",
              "Dep. Variable:               Survived   No. Observations:                  714\n",
              "Model:                            GLM   Df Residuals:                      708\n",
              "Model Family:                Binomial   Df Model:                            5\n",
              "Link Function:                  logit   Scale:                          1.0000\n",
              "Method:                          IRLS   Log-Likelihood:                -321.14\n",
              "Date:                Tue, 08 Jun 2021   Deviance:                       642.28\n",
              "Time:                        20:53:34   Pearson chi2:                     714.\n",
              "No. Iterations:                     6                                         \n",
              "Covariance Type:            nonrobust                                         \n",
              "=================================================================================================\n",
              "                                    coef    std err          z      P>|z|      [0.025      0.975]\n",
              "-------------------------------------------------------------------------------------------------\n",
              "Intercept                         3.3081      0.588      5.628      0.000       2.156       4.460\n",
              "C(Sex)[T.male]                   -3.7301      0.622     -5.997      0.000      -4.949      -2.511\n",
              "C(Pclass)[T.2]                   -0.8804      0.726     -1.213      0.225      -2.303       0.542\n",
              "C(Pclass)[T.3]                   -3.4653      0.620     -5.585      0.000      -4.681      -2.249\n",
              "C(Sex)[T.male]:C(Pclass)[T.2]    -0.4204      0.804     -0.523      0.601      -1.997       1.156\n",
              "C(Sex)[T.male]:C(Pclass)[T.3]     2.1542      0.676      3.185      0.001       0.829       3.480\n",
              "=================================================================================================\n",
              "\"\"\""
            ]
          },
          "execution_count": 38,
          "metadata": {},
          "output_type": "execute_result"
        }
      ],
      "source": [
        "glm_binomial = smf.glm(formula='Survived ~ C(Sex) * C(Pclass)', data=df, family=sm.families.Binomial()).fit()\n",
        "glm_binomial.summary()\n",
        "\n",
        "# Intercept      - логарифм шансов для Ж в 1кл\n",
        "# C(Sex)[T.male] - логарифм отношения шансов для М в 1кл к шансам Ж в 1кл\n",
        "# C(Pclass)[T.2] - логарифм отношения шансов для Ж во 2кл к шансам Ж в 1кл\n",
        "# C(Pclass)[T.3] - логарифм отношения шансов для Ж в 3кл к шансам Ж в 1кл\n",
        "# C(Sex)[T.male]:C(Pclass)[T.2] - разность логарифмов отношения шансов, рассчитанных для М/Ж во 2кл и М/Ж в 1кл\n",
        "# C(Sex)[T.male]:C(Pclass)[T.3] - разность логарифмов отношения шансов, рассчитанных для М/Ж во 3кл и М/Ж в 1кл"
      ]
    },
    {
      "cell_type": "code",
      "execution_count": null,
      "metadata": {
        "id": "scB3p8O3VMwy",
        "outputId": "e9bdfc04-765a-4800-a469-31dbff71bf37"
      },
      "outputs": [
        {
          "data": {
            "text/html": [
              "<div>\n",
              "<style scoped>\n",
              "    .dataframe tbody tr th:only-of-type {\n",
              "        vertical-align: middle;\n",
              "    }\n",
              "\n",
              "    .dataframe tbody tr th {\n",
              "        vertical-align: top;\n",
              "    }\n",
              "\n",
              "    .dataframe thead th {\n",
              "        text-align: right;\n",
              "    }\n",
              "</style>\n",
              "<table border=\"1\" class=\"dataframe\">\n",
              "  <thead>\n",
              "    <tr style=\"text-align: right;\">\n",
              "      <th>Pclass</th>\n",
              "      <th>1</th>\n",
              "      <th>2</th>\n",
              "      <th>3</th>\n",
              "    </tr>\n",
              "    <tr>\n",
              "      <th>Survived</th>\n",
              "      <th></th>\n",
              "      <th></th>\n",
              "      <th></th>\n",
              "    </tr>\n",
              "  </thead>\n",
              "  <tbody>\n",
              "    <tr>\n",
              "      <td>0</td>\n",
              "      <td>3</td>\n",
              "      <td>6</td>\n",
              "      <td>55</td>\n",
              "    </tr>\n",
              "    <tr>\n",
              "      <td>1</td>\n",
              "      <td>82</td>\n",
              "      <td>68</td>\n",
              "      <td>47</td>\n",
              "    </tr>\n",
              "  </tbody>\n",
              "</table>\n",
              "</div>"
            ],
            "text/plain": [
              "Pclass     1   2   3\n",
              "Survived            \n",
              "0          3   6  55\n",
              "1         82  68  47"
            ]
          },
          "execution_count": 39,
          "metadata": {},
          "output_type": "execute_result"
        }
      ],
      "source": [
        "# Таблица сопряженности между переменными выжил/не выжил и классом пассажира для женщин.\n",
        "cross_table_female = pd.crosstab(df[df.Sex == 'female'].Survived, df.Pclass)\n",
        "cross_table_female"
      ]
    },
    {
      "cell_type": "code",
      "execution_count": null,
      "metadata": {
        "id": "x42wiRfdVMwy",
        "outputId": "1068e736-bd23-48b8-e77c-5d5fde0d7c67"
      },
      "outputs": [
        {
          "data": {
            "text/plain": [
              "Text(0, 0.5, 'Количество')"
            ]
          },
          "execution_count": 40,
          "metadata": {},
          "output_type": "execute_result"
        },
        {
          "data": {
            "image/png": "[encoded data removed]",
            "text/plain": [
              "<Figure size 432x288 with 1 Axes>"
            ]
          },
          "metadata": {
            "needs_background": "light"
          },
          "output_type": "display_data"
        }
      ],
      "source": [
        "pd.crosstab(df.Pclass[df.Sex == 'female'], df.Survived).plot(kind='bar')\n",
        "plt.title('Выживаемость женщин в разных классах')\n",
        "plt.xlabel('Класс пассажира')\n",
        "plt.ylabel('Количество')"
      ]
    },
    {
      "cell_type": "code",
      "execution_count": null,
      "metadata": {
        "id": "tU2c9NeUVMwz",
        "outputId": "1679f5aa-af6b-415f-dacc-12169c596e6c"
      },
      "outputs": [
        {
          "data": {
            "text/html": [
              "<div>\n",
              "<style scoped>\n",
              "    .dataframe tbody tr th:only-of-type {\n",
              "        vertical-align: middle;\n",
              "    }\n",
              "\n",
              "    .dataframe tbody tr th {\n",
              "        vertical-align: top;\n",
              "    }\n",
              "\n",
              "    .dataframe thead th {\n",
              "        text-align: right;\n",
              "    }\n",
              "</style>\n",
              "<table border=\"1\" class=\"dataframe\">\n",
              "  <thead>\n",
              "    <tr style=\"text-align: right;\">\n",
              "      <th>Pclass</th>\n",
              "      <th>1</th>\n",
              "      <th>2</th>\n",
              "      <th>3</th>\n",
              "    </tr>\n",
              "    <tr>\n",
              "      <th>Survived</th>\n",
              "      <th></th>\n",
              "      <th></th>\n",
              "      <th></th>\n",
              "    </tr>\n",
              "  </thead>\n",
              "  <tbody>\n",
              "    <tr>\n",
              "      <td>0</td>\n",
              "      <td>61</td>\n",
              "      <td>84</td>\n",
              "      <td>215</td>\n",
              "    </tr>\n",
              "    <tr>\n",
              "      <td>1</td>\n",
              "      <td>40</td>\n",
              "      <td>15</td>\n",
              "      <td>38</td>\n",
              "    </tr>\n",
              "  </tbody>\n",
              "</table>\n",
              "</div>"
            ],
            "text/plain": [
              "Pclass     1   2    3\n",
              "Survived             \n",
              "0         61  84  215\n",
              "1         40  15   38"
            ]
          },
          "execution_count": 41,
          "metadata": {},
          "output_type": "execute_result"
        }
      ],
      "source": [
        "# Таблица сопряженности между переменными выжил/не выжил и классом пассажира для мужчин.\n",
        "cross_table_male = pd.crosstab(df[df.Sex == 'male'].Survived, df.Pclass)\n",
        "cross_table_male"
      ]
    },
    {
      "cell_type": "code",
      "execution_count": null,
      "metadata": {
        "id": "l3gsh90KVMwz",
        "outputId": "b7883919-fdc0-4c88-a514-44fb613b888b"
      },
      "outputs": [
        {
          "data": {
            "text/plain": [
              "Text(0, 0.5, 'Количество')"
            ]
          },
          "execution_count": 42,
          "metadata": {},
          "output_type": "execute_result"
        },
        {
          "data": {
            "image/png": "[encoded data removed]",
            "text/plain": [
              "<Figure size 432x288 with 1 Axes>"
            ]
          },
          "metadata": {
            "needs_background": "light"
          },
          "output_type": "display_data"
        }
      ],
      "source": [
        "pd.crosstab(df.Pclass[df.Sex == 'male'], df.Survived).plot(kind='bar')\n",
        "plt.title('Выживаемость мужчин в разных классах')\n",
        "plt.xlabel('Класс пассажира')\n",
        "plt.ylabel('Количество')"
      ]
    },
    {
      "cell_type": "code",
      "execution_count": null,
      "metadata": {
        "id": "RL6iOTtQVMwz",
        "outputId": "06010910-0827-4799-e68b-58dadbed199f"
      },
      "outputs": [
        {
          "data": {
            "image/png": "[encoded data removed]",
            "text/plain": [
              "<Figure size 432x288 with 3 Axes>"
            ]
          },
          "metadata": {
            "needs_background": "light"
          },
          "output_type": "display_data"
        }
      ],
      "source": [
        "# График сопряженности между классом пассажира, полом и переменной выжил/не выжил.\n",
        "\n",
        "from statsmodels.graphics.mosaicplot import mosaic\n",
        "\n",
        "mosaic(df, ['Pclass', 'Sex', 'Survived'], title='Мозаичный график', horizontal=0, gap=0.03)\n",
        "plt.show()"
      ]
    },
    {
      "cell_type": "code",
      "execution_count": null,
      "metadata": {
        "id": "VBAPMgBCVMwz",
        "outputId": "ec31d1e6-f3b3-4747-df33-4d2dc2c3de5f"
      },
      "outputs": [
        {
          "data": {
            "text/plain": [
              "27.333333333333332"
            ]
          },
          "execution_count": 44,
          "metadata": {},
          "output_type": "execute_result"
        }
      ],
      "source": [
        "odds_female_pc1 = cross_table_female[1][1] / cross_table_female[1][0]\n",
        "odds_female_pc1"
      ]
    },
    {
      "cell_type": "code",
      "execution_count": null,
      "metadata": {
        "id": "Th54FqE4VMw0",
        "outputId": "2072e12d-d1b7-44c2-eff2-d73b3fa14af6"
      },
      "outputs": [
        {
          "data": {
            "text/plain": [
              "3.3081069585961433"
            ]
          },
          "execution_count": 45,
          "metadata": {},
          "output_type": "execute_result"
        }
      ],
      "source": [
        "np.log(odds_female_pc1)\n",
        "# Это значение Intercept"
      ]
    },
    {
      "cell_type": "code",
      "execution_count": null,
      "metadata": {
        "id": "X4Vg6L1TVMw1",
        "outputId": "3cdda69b-a5df-4f77-d17a-337ee51da8cf"
      },
      "outputs": [
        {
          "data": {
            "text/plain": [
              "0.6557377049180327"
            ]
          },
          "execution_count": 46,
          "metadata": {},
          "output_type": "execute_result"
        }
      ],
      "source": [
        "odds_male_pc1 = cross_table_male[1][1] / cross_table_male[1][0]\n",
        "odds_male_pc1"
      ]
    },
    {
      "cell_type": "code",
      "execution_count": null,
      "metadata": {
        "id": "79YiQtWyVMw1",
        "outputId": "be03cf73-41ae-4d61-f94a-aa9107436b53"
      },
      "outputs": [
        {
          "data": {
            "text/plain": [
              "-3.7301013686555184"
            ]
          },
          "execution_count": 47,
          "metadata": {},
          "output_type": "execute_result"
        }
      ],
      "source": [
        "np.log(odds_male_pc1 / odds_female_pc1)\n",
        "# Это значение C(Sex)[T.male]"
      ]
    },
    {
      "cell_type": "code",
      "execution_count": null,
      "metadata": {
        "id": "yBQTG66mVMw1",
        "outputId": "ae819f56-2eb1-44ac-8482-c0eff16ab352"
      },
      "outputs": [
        {
          "data": {
            "text/plain": [
              "11.333333333333334"
            ]
          },
          "execution_count": 48,
          "metadata": {},
          "output_type": "execute_result"
        }
      ],
      "source": [
        "odds_female_pc2 = cross_table_female[2][1] / cross_table_female[2][0]\n",
        "odds_female_pc2"
      ]
    },
    {
      "cell_type": "code",
      "execution_count": null,
      "metadata": {
        "id": "0_azQe2DVMw2",
        "outputId": "0825ba2a-f7d3-48ae-dae7-afb2ec59682a"
      },
      "outputs": [
        {
          "data": {
            "text/plain": [
              "-0.8803587226480917"
            ]
          },
          "execution_count": 49,
          "metadata": {},
          "output_type": "execute_result"
        }
      ],
      "source": [
        "np.log(odds_female_pc2 / odds_female_pc1)\n",
        "# Это значение C(Pclass)[T.2]"
      ]
    },
    {
      "cell_type": "code",
      "execution_count": null,
      "metadata": {
        "id": "kxSJyMppVMw2",
        "outputId": "1b9908f7-e4ff-4abb-f3dd-22d52ec41c21"
      },
      "outputs": [
        {
          "data": {
            "text/plain": [
              "0.8545454545454545"
            ]
          },
          "execution_count": 50,
          "metadata": {},
          "output_type": "execute_result"
        }
      ],
      "source": [
        "odds_female_pc3 = cross_table_female[3][1] / cross_table_female[3][0]\n",
        "odds_female_pc3"
      ]
    },
    {
      "cell_type": "code",
      "execution_count": null,
      "metadata": {
        "id": "TQ-unVTWVMw2",
        "outputId": "d2ae8907-789b-45dd-9a3d-ff9e572c339a"
      },
      "outputs": [
        {
          "data": {
            "text/plain": [
              "-3.4652925421185556"
            ]
          },
          "execution_count": 51,
          "metadata": {},
          "output_type": "execute_result"
        }
      ],
      "source": [
        "np.log(odds_female_pc3 / odds_female_pc1)\n",
        "# Это значение C(Pclass)[T.3]"
      ]
    },
    {
      "cell_type": "markdown",
      "metadata": {
        "id": "SSueZ5Sa_1jq"
      },
      "source": [
        "## Взаимодействие номинативных предикторов"
      ]
    },
    {
      "cell_type": "code",
      "execution_count": null,
      "metadata": {
        "id": "Ll3VLesWVMw2",
        "outputId": "dc18f640-4954-495a-c924-501d6a48afa6"
      },
      "outputs": [
        {
          "data": {
            "text/plain": [
              "0.17857142857142858"
            ]
          },
          "execution_count": 52,
          "metadata": {},
          "output_type": "execute_result"
        }
      ],
      "source": [
        "odds_male_pc2 = cross_table_male[2][1] / cross_table_male[2][0]\n",
        "odds_male_pc2"
      ]
    },
    {
      "cell_type": "code",
      "execution_count": null,
      "metadata": {
        "id": "-GRt2Jc7VMw2",
        "outputId": "2cd63567-5c8e-4b03-f53e-8e3a7f0ecef8"
      },
      "outputs": [
        {
          "data": {
            "text/plain": [
              "-0.42041346503363686"
            ]
          },
          "execution_count": 53,
          "metadata": {},
          "output_type": "execute_result"
        }
      ],
      "source": [
        "np.log(odds_male_pc2 / odds_female_pc2) - np.log(odds_male_pc1 / odds_female_pc1)\n",
        "# Это значение C(Sex)[T.male]:C(Pclass)[T.2]"
      ]
    },
    {
      "cell_type": "code",
      "execution_count": null,
      "metadata": {
        "id": "TJnDMp54VMw3",
        "outputId": "2ef3dd67-0e45-4f7f-d795-db1f13ac15c9"
      },
      "outputs": [
        {
          "data": {
            "text/plain": [
              "0.17674418604651163"
            ]
          },
          "execution_count": 54,
          "metadata": {},
          "output_type": "execute_result"
        }
      ],
      "source": [
        "odds_male_pc3 = cross_table_male[3][1] / cross_table_male[3][0]\n",
        "odds_male_pc3"
      ]
    },
    {
      "cell_type": "code",
      "execution_count": null,
      "metadata": {
        "id": "o59LoMbBVMw3",
        "outputId": "1b8e099d-10e4-4f27-bd0b-f8b4b6a8dcb2"
      },
      "outputs": [
        {
          "data": {
            "text/plain": [
              "2.154235083776654"
            ]
          },
          "execution_count": 55,
          "metadata": {},
          "output_type": "execute_result"
        }
      ],
      "source": [
        "np.log(odds_male_pc3 / odds_female_pc3) - np.log(odds_male_pc1 / odds_female_pc1)\n",
        "# Это значение C(Sex)[T.male]:C(Pclass)[T.3]"
      ]
    },
    {
      "cell_type": "code",
      "execution_count": null,
      "metadata": {
        "id": "i-sThjzyVMw3",
        "outputId": "55f90fd7-a228-4d01-f4d4-e84917473a2c"
      },
      "outputs": [
        {
          "data": {
            "text/plain": [
              "-0.42200000000000015"
            ]
          },
          "execution_count": 56,
          "metadata": {},
          "output_type": "execute_result"
        }
      ],
      "source": [
        "# Получаем модель:\n",
        "# log(odds) = 3.3081 + (-3.7301 * Sex_male) + (-0.8804 * Pclass2) + (-3.4653 * Pclass3) + (-0.4204 * Sex_male * Pclass2) + (2.1542 * Sex_male * Pclass3)\n",
        "\n",
        "# Если предсказываем логарифм шансов для Ж в 1кл (Sex_male = 0, Pclass2 = 0, Pclass3 = 0):\n",
        "# log(odds) = 3.3081 - (3.7301 * 0) - (0.8804 * 0) - (3.4653 * 0) - (0.4204 * 0 * 0) + (2.1542 * 0 * 0)\n",
        "# log(odds) = 3.3081\n",
        "\n",
        "# Если предсказываем логарифм шансов для М в 1кл (Sex_male = 1, Pclass2 = 0, Pclass3 = 0):\n",
        "# log(odds) = 3.3081 - (3.7301 * 1) - (0.8804 * 0) - (3.4653 * 0) - (0.4204 * 1 * 0) + (2.1542 * 1 * 0)\n",
        "# log(odds) = 3.3081 - 3.7301\n",
        "# log(odds) = -0.422\n",
        "\n",
        "log_odds_male = 3.3081 - 3.7301\n",
        "log_odds_male"
      ]
    },
    {
      "cell_type": "code",
      "execution_count": null,
      "metadata": {
        "id": "NVGlMjz5VMw4",
        "outputId": "c73fbf74-8260-492a-d06a-d26836348571"
      },
      "outputs": [
        {
          "data": {
            "text/plain": [
              "2.4277"
            ]
          },
          "execution_count": 57,
          "metadata": {},
          "output_type": "execute_result"
        }
      ],
      "source": [
        "# Если предсказываем логарифм шансов для Ж во 2кл (Sex_male = 0, Pclass2 = 1, Pclass3 = 0):\n",
        "# log(odds) = 3.3081 - (3.7301 * 0) - (0.8804 * 1) - (3.4653 * 0) - (0.4204 * 0 * 1) + (2.1542 * 0 * 0)\n",
        "# log(odds) = 3.3081 - 0.8804\n",
        "# log(odds) = 2.4277\n",
        "\n",
        "log_odds_female_pc2 = 3.3081 - 0.8804\n",
        "log_odds_female_pc2"
      ]
    },
    {
      "cell_type": "code",
      "execution_count": null,
      "metadata": {
        "id": "7_JCb8nFVMw4",
        "outputId": "f1b40124-48a6-4548-e7a6-640676b2c7ca"
      },
      "outputs": [
        {
          "data": {
            "text/plain": [
              "-0.1572"
            ]
          },
          "execution_count": 58,
          "metadata": {},
          "output_type": "execute_result"
        }
      ],
      "source": [
        "# Если предсказываем логарифм шансов для Ж в 3кл (Sex_male = 0, Pclass2 = 0, Pclass3 = 1):\n",
        "# log(odds) = 3.3081 - (3.7301 * 0) - (0.8804 * 0) - (3.4653 * 1) - (0.4204 * 0 * 0) + (2.1542 * 0 * 1)\n",
        "# log(odds) = 3.3081 - 3.4653\n",
        "# log(odds) = -0.1572\n",
        "\n",
        "log_odds_female_pc3 = 3.3081 - 3.4653\n",
        "log_odds_female_pc3"
      ]
    },
    {
      "cell_type": "code",
      "execution_count": null,
      "metadata": {
        "id": "uyiHqoO7VMw4",
        "outputId": "486fa3b3-347b-43f7-e321-2f028d89d388"
      },
      "outputs": [
        {
          "data": {
            "text/plain": [
              "-1.7227999999999999"
            ]
          },
          "execution_count": 59,
          "metadata": {},
          "output_type": "execute_result"
        }
      ],
      "source": [
        "# Если предсказываем логарифм шансов для М во 2кл (Sex_male = 1, Pclass2 = 1, Pclass3 = 0):\n",
        "# log(odds) = 3.3081 - (3.7301 * 1) - (0.8804 * 1) - (3.4653 * 0) - (0.4204 * 1 * 1) + (2.1542 * 1 * 0)\n",
        "# log(odds) = 3.3081 - 3.7301 - 0.8804 - 0.4204\n",
        "# log(odds) = -1.7228\n",
        "\n",
        "log_odds_male_pc2 = 3.3081 - 3.7301 - 0.8804 - 0.4204\n",
        "log_odds_male_pc2"
      ]
    },
    {
      "cell_type": "code",
      "execution_count": null,
      "metadata": {
        "id": "KE1kNJDJVMw4",
        "outputId": "cf0773a3-3631-4422-9bad-e7f3380c8f79"
      },
      "outputs": [
        {
          "data": {
            "text/plain": [
              "-1.7331000000000003"
            ]
          },
          "execution_count": 60,
          "metadata": {},
          "output_type": "execute_result"
        }
      ],
      "source": [
        "# Если предсказываем логарифм шансов для М в 3кл (Sex_male = 1, Pclass2 = 0, Pclass3 = 1):\n",
        "# log(odds) = 3.3081 - (3.7301 * 1) - (0.8804 * 0) - (3.4653 * 1) - (0.4204 * 1 * 0) + (2.1542 * 1 * 1)\n",
        "# log(odds) = 3.3081 - 3.7301 - 3.4653 + 2.1542\n",
        "# log(odds) = -1.7331\n",
        "\n",
        "log_odds_male_pc3 = 3.3081 - 3.7301 - 3.4653 + 2.1542\n",
        "log_odds_male_pc3"
      ]
    },
    {
      "cell_type": "code",
      "execution_count": null,
      "metadata": {
        "id": "MeENS4FhVMw5",
        "outputId": "1d507225-6895-4259-c1f7-6d9420791b8a"
      },
      "outputs": [
        {
          "data": {
            "text/plain": [
              "654.2750443468178"
            ]
          },
          "execution_count": 61,
          "metadata": {},
          "output_type": "execute_result"
        }
      ],
      "source": [
        "# aic у этой модели ниже, чем у двух предыдущих, значит эта модель лучше.\n",
        "glm_binomial.aic"
      ]
    },
    {
      "cell_type": "markdown",
      "source": [
        "## Практическая задача\n",
        "<img src=\"https://ucarecdn.com/c52675f3-79b6-44b6-a51e-a3fbd9f8683f/\"/>"
      ],
      "metadata": {
        "id": "gVuYOMwulaKq"
      }
    },
    {
      "cell_type": "markdown",
      "source": [
        "Female(1, 0), Male(1, 0), None(1, 0), Placebo(1, 0), Treatment(1, 0)\n",
        "\n",
        "Intercept + 0.80 * SexMale + B2 * ConditionPlacebo + B3 * ConditionTreatment + B4 * SexMale:ConditionPlacebo + B5 * SexMale:ConditionTreatment\n",
        "\n",
        "- Intercept — шанс вылечится женщинам, которые ничего не принимали.\n",
        "- SexMale — отношение шансов вылечится мужчине к шансам женщине, которые ничего не принимали.\n",
        "- ConditionPlacebo — отношение шансов вылечится у женщин, которые ничего не принимали к шансам женщин, которые принимали плацебо.\n",
        "- ConditionTreatment — отношение шансов вылечится у женщин, которые ничего не принимали к шансам женщин, которые принимали лекарство.\n",
        "- SexMale:ConditionPlacebo — разность отношения шансов, рассчитанных для отношения мужчин/женщин, которые принимали плацебо к м/ж,\n",
        "которые ничего не принимали.\n",
        "- SexMale:ConditionTreatment — разность отношения шансов, рассчитанных для отношения мужчин/женщин, которые принимали лекарство к м/ж,\n",
        "которые ничего не принимали.\n",
        "\n",
        "(Intercept), ConditionPlacebo, ConditionTreatment, SexMale:ConditionPlacebo, SexMale:ConditionTreatment\n",
        "\n",
        "0.82, 2.13, -1.15, -0.17, 16.11"
      ],
      "metadata": {
        "id": "KG4oSZakl1Tr"
      }
    },
    {
      "cell_type": "markdown",
      "source": [
        "SexMale = 0.80\n",
        "\n",
        "\n",
        "Intercept = -1.15\n",
        "\n",
        "ConditionPlacebo = 0.82\n",
        "\n",
        "ConditionTreatment = 2.13\n",
        "\n",
        "SexMale_ConditionPlacebo = 16.11\n",
        "\n",
        "SexMale_ConditionTreatment = -0.17"
      ],
      "metadata": {
        "id": "Z-y-CAmpmBcv"
      }
    },
    {
      "cell_type": "markdown",
      "source": [
        "## Логика решения\n",
        "Intercept. Вероятность вылечится примерно 20%,  что равно логарифму -1.15\n",
        "\n",
        "ConditionPlacebo. Судя по площади вероятность ~ 30%, считаем odds_female_placebo, дальше log, дальше  exp(-1.15) / exp(-0.95).\n",
        "Получается 0.82\n",
        "\n",
        "ConditionTreatment. Вероятность ~ 80%. Значит соотношение должно принимать положительное значение. Из положительных значений остались:\n",
        "2.13 и с. Второе слишком большое, значит ConditionTreatment = 2.13\n",
        "\n",
        "SexMale_ConditionPlacebo. Очень значительная степень положительных исходов в группе с плацебо. Значит разность будет существенной и положительной:\n",
        "\n",
        "SexMale_ConditionPlacebo = 16.11\n",
        "\n",
        "SexMale_ConditionTreatment. По остаточному принципу = -0.17"
      ],
      "metadata": {
        "id": "XCfRmnTBmGu8"
      }
    },
    {
      "cell_type": "code",
      "source": [
        "# После того как вы восстановили формулу регрессии в предыдущем примере, рассчитайте с её помощью вероятность снять головную боль\n",
        "# после приёма настоящего лекарства мужчиной.\n",
        "\n",
        "# Получаем модель\n",
        "# log(odds) = -1.15 + (0.80 * SexMale) + (0.82 * ConditionPlacebo) + (2.13 * ConditionTreatment) + (16.11 * SexMale * ConditionPlacebo) + (-0.17 * SexMale * ConditionTreatment)"
      ],
      "metadata": {
        "id": "nS5gDyO0sjJF"
      },
      "execution_count": 1,
      "outputs": []
    },
    {
      "cell_type": "code",
      "source": [
        "import numpy as np\n",
        "log_odds = -1.15 + (0.80 * 1) + (0.82 * 0) + (2.13 * 1) + (16.11 * 1 * 0) + (-0.17 * 1 * 1)\n",
        "print(log_odds)\n",
        "odds = np.exp(log_odds)\n",
        "print(odds)\n",
        "p = odds / (1 + odds)\n",
        "print(p)"
      ],
      "metadata": {
        "colab": {
          "base_uri": "https://localhost:8080/"
        },
        "id": "SE712eLAsuKS",
        "outputId": "7645004b-b8cc-4df5-f2d4-ee650c65b574"
      },
      "execution_count": 2,
      "outputs": [
        {
          "output_type": "stream",
          "name": "stdout",
          "text": [
            "1.61\n",
            "5.002811227833588\n",
            "0.8334113864245404\n"
          ]
        }
      ]
    },
    {
      "cell_type": "markdown",
      "metadata": {
        "id": "04ZLP7WAVMw5"
      },
      "source": [
        "## Комбинация предикторов разного типа"
      ]
    },
    {
      "cell_type": "code",
      "execution_count": null,
      "metadata": {
        "id": "weNsasPGVMw5",
        "outputId": "e5e2f1f0-2f03-4fff-fcfc-84aefadd8d38"
      },
      "outputs": [
        {
          "data": {
            "text/html": [
              "<table class=\"simpletable\">\n",
              "<caption>Generalized Linear Model Regression Results</caption>\n",
              "<tr>\n",
              "  <th>Dep. Variable:</th>       <td>Survived</td>     <th>  No. Observations:  </th>  <td>   714</td> \n",
              "</tr>\n",
              "<tr>\n",
              "  <th>Model:</th>                  <td>GLM</td>       <th>  Df Residuals:      </th>  <td>   709</td> \n",
              "</tr>\n",
              "<tr>\n",
              "  <th>Model Family:</th>        <td>Binomial</td>     <th>  Df Model:          </th>  <td>     4</td> \n",
              "</tr>\n",
              "<tr>\n",
              "  <th>Link Function:</th>         <td>logit</td>      <th>  Scale:             </th> <td>  1.0000</td>\n",
              "</tr>\n",
              "<tr>\n",
              "  <th>Method:</th>                <td>IRLS</td>       <th>  Log-Likelihood:    </th> <td> -323.64</td>\n",
              "</tr>\n",
              "<tr>\n",
              "  <th>Date:</th>            <td>Tue, 08 Jun 2021</td> <th>  Deviance:          </th> <td>  647.28</td>\n",
              "</tr>\n",
              "<tr>\n",
              "  <th>Time:</th>                <td>20:53:35</td>     <th>  Pearson chi2:      </th>  <td>  767.</td> \n",
              "</tr>\n",
              "<tr>\n",
              "  <th>No. Iterations:</th>          <td>5</td>        <th>                     </th>     <td> </td>   \n",
              "</tr>\n",
              "<tr>\n",
              "  <th>Covariance Type:</th>     <td>nonrobust</td>    <th>                     </th>     <td> </td>   \n",
              "</tr>\n",
              "</table>\n",
              "<table class=\"simpletable\">\n",
              "<tr>\n",
              "         <td></td>           <th>coef</th>     <th>std err</th>      <th>z</th>      <th>P>|z|</th>  <th>[0.025</th>    <th>0.975]</th>  \n",
              "</tr>\n",
              "<tr>\n",
              "  <th>Intercept</th>      <td>    3.7770</td> <td>    0.401</td> <td>    9.416</td> <td> 0.000</td> <td>    2.991</td> <td>    4.563</td>\n",
              "</tr>\n",
              "<tr>\n",
              "  <th>C(Sex)[T.male]</th> <td>   -2.5228</td> <td>    0.207</td> <td>  -12.164</td> <td> 0.000</td> <td>   -2.929</td> <td>   -2.116</td>\n",
              "</tr>\n",
              "<tr>\n",
              "  <th>C(Pclass)[T.2]</th> <td>   -1.3098</td> <td>    0.278</td> <td>   -4.710</td> <td> 0.000</td> <td>   -1.855</td> <td>   -0.765</td>\n",
              "</tr>\n",
              "<tr>\n",
              "  <th>C(Pclass)[T.3]</th> <td>   -2.5806</td> <td>    0.281</td> <td>   -9.169</td> <td> 0.000</td> <td>   -3.132</td> <td>   -2.029</td>\n",
              "</tr>\n",
              "<tr>\n",
              "  <th>Age</th>            <td>   -0.0370</td> <td>    0.008</td> <td>   -4.831</td> <td> 0.000</td> <td>   -0.052</td> <td>   -0.022</td>\n",
              "</tr>\n",
              "</table>"
            ],
            "text/plain": [
              "<class 'statsmodels.iolib.summary.Summary'>\n",
              "\"\"\"\n",
              "                 Generalized Linear Model Regression Results                  \n",
              "==============================================================================\n",
              "Dep. Variable:               Survived   No. Observations:                  714\n",
              "Model:                            GLM   Df Residuals:                      709\n",
              "Model Family:                Binomial   Df Model:                            4\n",
              "Link Function:                  logit   Scale:                          1.0000\n",
              "Method:                          IRLS   Log-Likelihood:                -323.64\n",
              "Date:                Tue, 08 Jun 2021   Deviance:                       647.28\n",
              "Time:                        20:53:35   Pearson chi2:                     767.\n",
              "No. Iterations:                     5                                         \n",
              "Covariance Type:            nonrobust                                         \n",
              "==================================================================================\n",
              "                     coef    std err          z      P>|z|      [0.025      0.975]\n",
              "----------------------------------------------------------------------------------\n",
              "Intercept          3.7770      0.401      9.416      0.000       2.991       4.563\n",
              "C(Sex)[T.male]    -2.5228      0.207    -12.164      0.000      -2.929      -2.116\n",
              "C(Pclass)[T.2]    -1.3098      0.278     -4.710      0.000      -1.855      -0.765\n",
              "C(Pclass)[T.3]    -2.5806      0.281     -9.169      0.000      -3.132      -2.029\n",
              "Age               -0.0370      0.008     -4.831      0.000      -0.052      -0.022\n",
              "==================================================================================\n",
              "\"\"\""
            ]
          },
          "execution_count": 62,
          "metadata": {},
          "output_type": "execute_result"
        }
      ],
      "source": [
        "glm_binomial = smf.glm(formula='Survived ~ C(Sex) + C(Pclass) + Age', data=df, family=sm.families.Binomial()).fit()\n",
        "glm_binomial.summary()\n",
        "\n",
        "# Intercept - логарифм шансов для Ж в 1кл при условии, что их возраст равен нулю.\n",
        "# Age - коэффициент при возрасте показывает,\n",
        "# на сколько изменяется логарифм шансов для базового уровня при единичном изменении возраста."
      ]
    },
    {
      "cell_type": "code",
      "execution_count": null,
      "metadata": {
        "id": "qoffvBUcVMw5",
        "outputId": "c509e94f-4e82-4c31-b634-2e4f01364902"
      },
      "outputs": [
        {
          "data": {
            "text/plain": [
              "3.037"
            ]
          },
          "execution_count": 63,
          "metadata": {},
          "output_type": "execute_result"
        }
      ],
      "source": [
        "# Получаем модель:\n",
        "# log(odds) = 3.7770 - (2.5228 * Sex_male) - (1.3098 * Pclass2) - (2.5806 * Pclass3) - (0.0370 * Age)\n",
        "\n",
        "# Если предсказываем логарифм шансов для Ж в 1кл в возрасте 20 лет:\n",
        "# log(odds) = 3.7770 - (2.5228 * 0) - (1.3098 * 0) - (2.5806 * 0) - (0.0370 * 20)\n",
        "# log(odds) = 3.7770 - (0.0370 * 20)\n",
        "# log(odds) = 3.037\n",
        "\n",
        "3.7770 - (0.0370 * 20)"
      ]
    },
    {
      "cell_type": "code",
      "execution_count": null,
      "metadata": {
        "id": "o1IwDFXrVMw6",
        "outputId": "c91f1283-2ec6-48fd-af47-e87282e84c80"
      },
      "outputs": [
        {
          "data": {
            "text/plain": [
              "657.2831255018241"
            ]
          },
          "execution_count": 64,
          "metadata": {},
          "output_type": "execute_result"
        }
      ],
      "source": [
        "# Кстати, модель без учета возраста была лучше.\n",
        "glm_binomial.aic"
      ]
    },
    {
      "cell_type": "markdown",
      "source": [
        "## Практическая задача\n",
        "\n",
        "Говорят, эту задачу может решить только Чак Норрис, но попытка не пытка! На графиках изображены предсказания разных логистических моделей. По оси Y - предсказания модели, по оси X - номера наблюдений, для которых были сделаны предсказания. Определите, какой модели соответствует каждый из графиков.\n",
        "<img src=\"https://ucarecdn.com/918d7413-28c9-48b2-91f6-c0144952c4ae/\"/>\n",
        "A - Один номинативный и один количественный предиктор\n",
        "\n",
        "B - Два номинативных предиктора с взаимодействием\n",
        "\n",
        "C - Один количественный предиктор\n",
        "\n",
        "D - Два номинативных предиктора без взаимодействия\n",
        "\n",
        "E - Intercept-only модель\n",
        "\n",
        "F - Один номинативный предиктор\n",
        "\n",
        "**Логика решения**\n",
        "\n",
        "Красные точки это пешеходы(30 человек) прошедшие через дорогу за 2 часа .\n",
        "Делал методом исключения:\n",
        "- Intercept-only модель: зависимая переменная имеющая 2 градации(Пример: только Мужчина \"ИЛИ\" только Женщина) ==> Прошли только женщины(30 чел.) за 2 часа.\n",
        "- 1 ном. пред.: имеет 2-е градации (Пример: М. или Ж.) ==> 15 Муж. прошли за 1-й час, 15 Жен.  прошли за 2-й час;\n",
        "- 1 коли. пред.: это Муж. Жен. Дети и т.д. ==> Через дорогу за 2 часа прошло 30 чел. все кому не попадя - сплошной хаус  :); \n",
        "- 1 номин. 1 колич. пред.: Остался только 3 графика  ==> 15 чел. хаоса 1-й час и 15 чел хаоса 2-й час.   \n",
        "Когда 4 известно ==>  дальше можно поиграться :)\n",
        "- 2 номин. пред. с взаимодействием: Идут 15 Муж. и  15 Жен. ==> У мужчин шаг широкий 1-й час и женщин узкий 2-й час.\n",
        "- 2 номин. пред. без взаимодействия: Идут 15 Муж. и 15 Жен.==> У мужчин 1-й час и женщин 2- й час шаг одинаковый.\n",
        "\n",
        "\n",
        "\n"
      ],
      "metadata": {
        "id": "kgwUlLOrzo9K"
      }
    },
    {
      "cell_type": "markdown",
      "metadata": {
        "id": "pweDoND9_1jq"
      },
      "source": [
        "## Когда нужно использовать непараметрические методы и почему?"
      ]
    },
    {
      "cell_type": "code",
      "source": [
        "import numpy as np\n",
        "import scipy.stats as ss\n",
        "import matplotlib.pyplot as plt\n",
        "\n",
        "\n",
        "def get_gaussian_density(dataset):\n",
        "\n",
        "    density = ss.gaussian_kde(dataset)\n",
        "    density.covariance_factor = lambda : 0.25\n",
        "    density._compute_covariance()\n",
        "\n",
        "    min_x, max_x = np.percentile(dataset, [0, 100])\n",
        "\n",
        "    return np.linspace(min_x, max_x, 200), density\n",
        "\n",
        "\n",
        "mu, sigma = 0, 1 # Среднее и стандартное отклонение\n",
        "rnd = np.random.normal(mu, sigma, 10000)  # Выборка случайно распределенной величины\n",
        "\n",
        "# Случайно выбираем по 3 пробы, сортируем их\n",
        "random_samples = (\n",
        "  sorted(np.random.choice(rnd, 3))\n",
        "  for i in range(10000)\n",
        ")\n",
        "\n",
        "# Zip функция - без комментариев (функциональное программирование, есть на Вики)\n",
        "# на выходе получаем массивы минимальных, средних и максимальных значений\n",
        "rnd1, rnd2, rnd3 = zip(*random_samples)\n",
        "\n",
        "# Гистограмма частот распределения случайной величины (опционально)\n",
        "counts_1, x_range_1, ignored = plt.hist(rnd1, 30, density=True, histtype='barstacked')\n",
        "counts_2, x_range_2, ignored = plt.hist(rnd2, 30, density=True, histtype='barstacked')\n",
        "counts_3, x_range_3, ignored = plt.hist(rnd3, 30, density=True, histtype='barstacked')\n",
        "\n",
        "# Гауссова оценка плотности ядра (приближение к гладкой функции)\n",
        "x1, linear_1 = get_gaussian_density(rnd1)\n",
        "x2, linear_2 = get_gaussian_density(rnd2)\n",
        "x3, linear_3 = get_gaussian_density(rnd3)\n",
        "\n",
        "plt.plot(x1, linear_1(x1))\n",
        "plt.plot(x2, linear_2(x2))\n",
        "plt.plot(x3, linear_3(x3))\n",
        "\n",
        "plt.show()"
      ],
      "metadata": {
        "colab": {
          "base_uri": "https://localhost:8080/",
          "height": 265
        },
        "id": "fR8yHGtF-g7s",
        "outputId": "655ae794-f2d5-4205-c0d6-4f1e577b1957"
      },
      "execution_count": 3,
      "outputs": [
        {
          "output_type": "display_data",
          "data": {
            "text/plain": [
              "<Figure size 432x288 with 1 Axes>"
            ],
            "image/png": "[encoded data removed]"
          },
          "metadata": {
            "needs_background": "light"
          }
        }
      ]
    },
    {
      "cell_type": "markdown",
      "metadata": {
        "id": "LZWXTFER_1jr"
      },
      "source": [
        "## Непараметрические методы. Продолжение.\n",
        "**Манн-Уитни**\n",
        "\n",
        "Самым популярным непараметрическим критерием для сравнения двух групп является U-критерий Манна — Уитни. Логика данного критерия заключается в том, что вместо сравнения средних значений в двух выборках критерий сравнивает сумму рангов (не медианы, как многие думают). Мы сначала упорядочиваем все данные, затем рассчитываем сумму рангов в каждой из групп.\n",
        "\n",
        "Затем для каждой из выборок рассчитывается показатель:\n",
        "\n",
        "$$U_1 = R_1-\\frac{n_1*(n_1+1)}{2}$$\n",
        "$$U_2 = R_2-\\frac{n_2*(n_2+1)}{2}$$\n",
        "\n",
        "Где R1 и R2 - это сумма рангов в двух группах, а n1 и n2 - число наблюдений.\n",
        "\n",
        "Наименьшее из полученных значений и выступает в качестве статистики теста. Легко показать, что при условии верности нулевой гипотезы распределение этой статистики подчиняется нормальному распределению, где \n",
        "$$μ = \\frac{n_1 * n_2}{2}$$\n",
        "\n",
        "\n",
        "$$σ = \\sqrt{\\frac{n_1*n_2*(n_1 + n_2 + 1)}{12}}$$\n",
        "  \n",
        "\n",
        "что и позволяет нам рассчитать вероятность получить наблюдаемые или еще более выраженные различия суммы рангов.\n",
        "\n",
        "Разумно применять вместо t - теста: \n",
        "\n",
        "- Распределения хотя бы в одной из выборок значительно отличается от нормального. \n",
        "- Есть заметные выбросы в данных. \n",
        "- В некоторых задачах мощность теста даже выше, чем t критерия (например, когда обеих выборках наблюдается заметная асимметрия в одинаковом направлении). \n",
        "\n",
        "Неразумно применять: \n",
        "\n",
        "Выборки разного размера, с различным направлением асимметрии.  \n",
        "\n",
        "**Краскел-Уоллис**\n",
        "\n",
        "https://baguzin.ru/wp/rangovyj-kriterij-kruskala-uollisa/"
      ]
    },
    {
      "cell_type": "markdown",
      "source": [
        "# Практические задачи"
      ],
      "metadata": {
        "id": "km0YwrO6WMZJ"
      }
    },
    {
      "cell_type": "markdown",
      "source": [
        "Напишите функцию get_coefficients, которая получает на вход dataframe с двумя переменными x ( фактор с произвольным числом градаций) и y ( фактор с двумя градациями). Функция строит логистическую модель, где y — зависимая переменная, а x — независимая, и возвращает вектор со значением экспоненты коэффициентов модели. "
      ],
      "metadata": {
        "id": "O-C_Y8CbWQC4"
      }
    },
    {
      "cell_type": "code",
      "source": [
        "import pandas as pd\n",
        "import numpy as np\n",
        "import statsmodels.formula.api as sf\n",
        "import statsmodels.api as sm\n",
        "# Импортируем данные. Посмотрим, что они представляют\n",
        "df = pd.read_csv('https://stepik.org/media/attachments/course/524/test_data_01.csv')\n",
        "print(df.head())\n",
        "\n",
        "# Пусть 1 — это отрицательный исход, а 2 положительный\n",
        "# Выполним замену, чтобы формула в модели корректно рассчитала коэффициенты\n",
        "df['y'] = np.where((df.y == 1), 0, df.y)\n",
        "df['y'] = np.where((df.y == 2), 1, df.y)\n",
        "print(df.head())\n",
        "\n",
        "\n",
        "def get_coefficients(df):\n",
        "    # Посчитаем коэффициенты, обрати внимание на формулу 'y ~ C(x)'\n",
        "    logit_res = sf.glm('y ~ C(x)', df, family=sm.families.Binomial()).fit()\n",
        "    logit_res.summary()\n",
        "    #%%\n",
        "    # Найдем экспоненты и преобразуем в список\n",
        "    return np.exp(logit_res.params).to_list()\n",
        "\n",
        "\n",
        "print(get_coefficients(df))"
      ],
      "metadata": {
        "id": "FnlEImElWhtw",
        "outputId": "f2c025f6-1b32-469f-add7-05ddff8208d8",
        "colab": {
          "base_uri": "https://localhost:8080/"
        }
      },
      "execution_count": 4,
      "outputs": [
        {
          "output_type": "stream",
          "name": "stdout",
          "text": [
            "   x  y\n",
            "0  1  1\n",
            "1  3  1\n",
            "2  1  1\n",
            "3  1  2\n",
            "4  2  2\n",
            "   x  y\n",
            "0  1  0\n",
            "1  3  0\n",
            "2  1  0\n",
            "3  1  1\n",
            "4  2  1\n",
            "[0.9000000000000002, 2.5396825396800584, 0.6666666666666711]\n"
          ]
        }
      ]
    },
    {
      "cell_type": "markdown",
      "source": [
        "Если в нашей модели есть количественные предикторы, то в интерцепте мы будем иметь значение, соответствующее базовому уровню категориальных предикторов и нулевому уровню количественных. Это не всегда осмысленно. \n",
        "\n",
        "Например, нам не интересен прогноз для людей нулевого возраста или роста. В таких ситуациях количественную переменную имеет смысл предварительно центрировать так, чтобы ноль являлся средним значением переменной. Самый простой способ центрировать переменную — отнять от каждого наблюдения среднее значение всех наблюдений.\n",
        "\n",
        "\n",
        "В этом задании вашей задачей будет  написать функцию centered, которая получает на вход датафрейм и имена переменных, которые необходимо центрировать так, как это описано выше. Функция должна возвращать этот же датафрейм, только с центрированными указанными переменными."
      ],
      "metadata": {
        "id": "v2bSxOTgZyko"
      }
    },
    {
      "cell_type": "code",
      "source": [
        "import pandas as pd\n",
        "df_r = pd.read_csv('https://stepic.org/media/attachments/course/524/cen_data.csv')\n",
        "\n",
        "\n",
        "def centered(df):\n",
        "    df = df - df.mean()\n",
        "    return df\n",
        "\n",
        "\n",
        "print(centered(df_r))"
      ],
      "metadata": {
        "id": "ypacu9iEZ5eQ",
        "outputId": "58b21bfb-2fb6-4494-9375-9a66f86c1945",
        "colab": {
          "base_uri": "https://localhost:8080/"
        }
      },
      "execution_count": 5,
      "outputs": [
        {
          "output_type": "stream",
          "name": "stdout",
          "text": [
            "     X1   X2    X3    X4\n",
            "0 -1.04 -1.2  0.94 -0.62\n",
            "1 -1.44  1.9 -0.06  1.68\n",
            "2  0.06 -3.5 -1.36  1.78\n",
            "3  0.06  0.0 -2.06 -2.92\n",
            "4  2.36  2.8  2.54  0.08\n"
          ]
        }
      ]
    },
    {
      "cell_type": "markdown",
      "source": [
        "Представьте, что мы работаем в аэропорту в службе безопасности и сканируем багаж пассажиров. В нашем распоряжении есть информация о результатах проверки багажа за предыдущие месяцы. Про каждую вещь мы знаем:\n",
        "\n",
        "являлся ли багаж запрещенным - is_prohibited (No - разрешенный, Yes - запрещенный) \n",
        "его массу (кг) - weight\n",
        "длину (см) - length \n",
        "ширину (см) - width \n",
        "тип багажа (сумка или чемодан) - type.\n",
        "\n",
        "Напишите функцию get_features , которая получает на вход набор данных о багаже. Строит логистическую регрессию, где зависимая переменная являлся ли багаж запрещенным, а предикторы - остальные переменные, и возвращает вектор с названиями статистически значимых переменных (p < 0.05) (в модели без взаимодействия). Если в данных нет значимых предикторов, функция возвращает строку с сообщением  \"Prediction makes no sense\"."
      ],
      "metadata": {
        "id": "i3vfZRRIhuck"
      }
    },
    {
      "cell_type": "code",
      "source": [
        "import pandas as pd\n",
        "import numpy as np\n",
        "import statsmodels.formula.api as sf\n",
        "import statsmodels.api as sm\n",
        "\n",
        "df_r = pd.read_csv('https://stepic.org/media/attachments/course/524/test_luggage_2.csv')\n",
        "# Меняем значение No, Yes на 0, 1 в колонке is_prohibited\n",
        "df_r['is_prohibited'] = np.where((df_r.is_prohibited == 'No'), 0, df_r.is_prohibited)\n",
        "df_r['is_prohibited'] = np.where((df_r.is_prohibited == 'Yes'), 1, df_r.is_prohibited)\n",
        "\n",
        "\n",
        "def get_features(df):\n",
        "    # Извлекаем P-values из функции логистической регрессии. Пошагово, что происходит:\n",
        "    # sf.glm() — создает модель логистической регрессии с биномиальным распределением,\n",
        "    # без взаимодействия между факторами (формула: 'is_prohibited ~ type + weight + length + width')\n",
        "    # .fit() модель ищет коэффициенты, которые минимизируют различия между предсказанием и реальными значениями\n",
        "    # .pvalues извлекаем P-values из таблицы с результатами. Получаем Series.\n",
        "    p_val = sf.glm('is_prohibited ~ type + weight + length + width', df, family=sm.families.Binomial()).fit().pvalues\n",
        "    # Удаляем строку с Intercept\n",
        "    p_val = p_val.drop(labels='Intercept')\n",
        "    # Переименовываем остальные строки\n",
        "    p_val.index = ['type', 'weight', 'length', 'width']\n",
        "\n",
        "    row_names = []\n",
        "    row_names += [row_name for row_name, row_data in p_val.iteritems() if row_data < 0.05]\n",
        "    return row_names if len(row_names) else 'Prediction makes no sense'\n",
        "\n",
        "\n",
        "print(get_features(df_r))"
      ],
      "metadata": {
        "id": "ZMXyGj4thzZQ",
        "outputId": "5dfd0eee-3ec2-497a-bfc3-832fc14e37e8",
        "colab": {
          "base_uri": "https://localhost:8080/"
        }
      },
      "execution_count": 2,
      "outputs": [
        {
          "output_type": "stream",
          "name": "stdout",
          "text": [
            "['type', 'weight']\n"
          ]
        }
      ]
    },
    {
      "cell_type": "markdown",
      "source": [
        "### Постановка задачи\n",
        "Продолжим нашу работу в службе безопасности. Разобравшись с тем, какие предикторы могут помогать нам предсказывать запрещенный багаж, давайте применим наши знания для повышения безопасности в аэропорту. Обучим наш алгоритм различать запрещенный и разрешенный багаж на уже имеющихся данных и применим его для сканирования нового багажа.\n",
        "\n",
        "Напишите функцию, которая принимает на вход два набора данных. Первый dataframe содержит информацию об уже осмотренном багаже (запрещенный или нет, вес, длина, ширина, тип сумки).\n",
        "\n",
        "Второй набор данных — это информация о новом багаже, который сканируется прямо сейчас. В данных также есть информация: вес, длина, ширина, тип сумки и имя пассажира (смотри описание переменных в примере).\n",
        "\n",
        "Используя первый набор данных, обучите регрессионную модель различать запрещенный и разрешенный багаж. При помощи полученной модели для каждого наблюдения в новых данных предскажите вероятность того, что багаж является запрещенным. Пассажиров, чей багаж получил максимальное значение вероятности, мы попросим пройти дополнительную проверку.\n",
        "\n",
        "Итого, ваша функция принимает два набора данных и возвращает имя пассажира с наиболее подозрительным багажом. Если несколько пассажиров получили максимальное значение вероятности, то верните вектор с несколькими именами.\n",
        "\n",
        "В этой задаче для предсказания будем использовать все предикторы, даже если некоторые из них оказались незначимыми. Для предсказания стройте модель без взаимодействия предикторов.\n",
        "\n",
        "\n",
        "**Данные** \n",
        "\n",
        "Обучающий датасет: https://stepic.org/media/attachments/course/524/test_data_passangers.csv \n",
        "\n",
        "Датасет для предсказания: https://stepic.org/media/attachments/course/524/predict_passangers.csv"
      ],
      "metadata": {
        "id": "Jwj_nvxmXVDG"
      }
    },
    {
      "cell_type": "code",
      "source": [
        "import pandas as pd\n",
        "import numpy as np\n",
        "import statsmodels.formula.api as sf\n",
        "import statsmodels.api as sm\n",
        "\n",
        "training_data_r = pd.read_csv('https://stepic.org/media/attachments/course/524/test_data_passangers.csv')\n",
        "training_data_r.is_prohibited = training_data_r.is_prohibited.map({'Yes': 1, 'No': 0})\n",
        "\n",
        "predict_data = pd.read_csv('https://stepic.org/media/attachments/course/524/predict_passangers.csv')\n",
        "predict_data.type = predict_data.type.map({'Suitcase': 1, 'Bag': 0})\n",
        "\n",
        "\n",
        "def most_suspicious(training_data, df_predict):\n",
        "    # Извлекаем коэффициенты с помощью params\n",
        "    coef = sf.glm('is_prohibited ~ type + weight + length + width', training_data,\n",
        "                  family=sm.families.Binomial()).fit().params\n",
        "    # Получаем модель:\n",
        "    # log(odds) = -2.848451 + (-2.476006 * T.Suitcase) + (-0.057797 * weight) + (0.125409 * length) + (0.103319 * width)\n",
        "    # Добавляем в таблицу колонку log_odds, которая заполнена значениями log(odds) по формуле выше\n",
        "    df_predict['log_odds'] = coef[0] + (coef[1] * df_predict['type']) + (coef[2] * df_predict['weight']) + (coef[3]\n",
        "                  * df_predict['length']) + (coef[4] * df_predict['width'])\n",
        "    # Считаем шансы\n",
        "    df_predict['odds'] = [np.exp(i) for i in df_predict['log_odds']]\n",
        "    # Считаем вероятность\n",
        "    df_predict['probability'] = df_predict['odds'] / (1 + df_predict['odds'])\n",
        "    # Находим пассажиров\n",
        "    passengers = [df_predict['passangers'][i] for i in range(len(df_predict['passangers']))\n",
        "                  if df_predict['probability'][i] == df_predict['probability'].max()]\n",
        "    return len(passengers) == 1 and passengers[0] or passengers\n",
        "\n",
        "\n",
        "print(most_suspicious(training_data_r, predict_data))"
      ],
      "metadata": {
        "id": "lZQrbZMzXrDs",
        "outputId": "20091bed-1dae-445b-b20b-6b048e1f3dfc",
        "colab": {
          "base_uri": "https://localhost:8080/"
        }
      },
      "execution_count": 1,
      "outputs": [
        {
          "output_type": "stream",
          "name": "stdout",
          "text": [
            "Svetozar\n"
          ]
        }
      ]
    },
    {
      "cell_type": "code",
      "source": [
        "import statsmodels.formula.api as sf\n",
        "import statsmodels.api as sm\n",
        "import pandas as pd\n",
        "import numpy as np\n",
        "\n",
        "data = pd.read_csv(r'https://stepic.org/media/attachments/course/524/test_data_passangers.csv')\n",
        "data_for_predict = pd.read_csv(r'https://stepic.org/media/attachments/course/524/predict_passangers.csv')\n",
        "\n",
        "\n",
        "def most_suspicious(test_data, data_for_predict):\n",
        "    fit = sf.glm('is_prohibited ~ weight + width + length + type', test_data, family=sm.families.Binomial()).fit()\n",
        "    # Как я понял, есть некий баг с statsmodels.formula, который меняет вероятность на противоположную\n",
        "    # https://github.com/statsmodels/statsmodels/issues/2181\n",
        "    # Поэтому инвертируем вероятности (либо можно вручную задать y перед fit)\n",
        "    pred = 1 - fit.predict(data_for_predict)  # сразу возвращает вероятности.\n",
        "    print(pred)\n",
        "    passangers = data_for_predict.iloc[np.where(pred == pred.max())].passangers.to_list()\n",
        "    return len(passangers) == 1 and passangers[0] or passangers\n",
        "\n",
        "\n",
        "print(most_suspicious(data, data_for_predict))\n"
      ],
      "metadata": {
        "id": "LVeIONSKXx82",
        "outputId": "4c6de806-7b0f-4909-b655-8bee929f611a",
        "colab": {
          "base_uri": "https://localhost:8080/"
        }
      },
      "execution_count": 2,
      "outputs": [
        {
          "output_type": "stream",
          "name": "stdout",
          "text": [
            "0    0.376741\n",
            "1    0.569988\n",
            "2    0.831668\n",
            "3    0.815395\n",
            "4    0.357560\n",
            "5    0.872381\n",
            "6    0.111059\n",
            "7    0.125034\n",
            "8    0.178895\n",
            "9    0.682180\n",
            "dtype: float64\n",
            "Svetozar\n"
          ]
        }
      ]
    },
    {
      "cell_type": "markdown",
      "source": [
        "Напишите функцию normality_test, которая получает на вход dataframe с произвольным количеством переменных разных типов (количественные, строки, факторы) и проверяет нормальность распределения количественных переменных. Функция должна возвращать вектор значений p-уровней значимости теста shapiro.test для каждой количественной переменной.\n",
        "\n",
        "Вот такая задача уж точно встретится вам в реальной практике не один раз!"
      ],
      "metadata": {
        "id": "5mlakfKNo9um"
      }
    },
    {
      "cell_type": "code",
      "source": [
        "import pandas as pd\n",
        "from scipy import stats\n",
        "import numpy as np\n",
        "\n",
        "df_r = pd.read_csv('https://stepic.org/media/attachments/course/524/test.csv')\n",
        "\n",
        "\n",
        "def norm_test(df):\n",
        "    df = df.select_dtypes(include=np.number)\n",
        "    p_val = pd.DataFrame()\n",
        "    for col_name, col_data in df.iteritems():\n",
        "        p_val[col_name] = [stats.shapiro(col_data)[1]]\n",
        "    return p_val\n",
        "\n",
        "\n",
        "print(norm_test(df_r))"
      ],
      "metadata": {
        "id": "seBdOaNdo_IH",
        "outputId": "6372a5dc-6c20-408f-e3a4-70ebe484071b",
        "colab": {
          "base_uri": "https://localhost:8080/"
        }
      },
      "execution_count": 3,
      "outputs": [
        {
          "output_type": "stream",
          "name": "stdout",
          "text": [
            "         V1        V3       V5        V6\n",
            "0  0.568211  0.245834  0.31419  0.009374\n"
          ]
        }
      ]
    },
    {
      "cell_type": "code",
      "source": [
        "def norm_test(df):\n",
        "  df_n = df.select_dtypes(include=np.number)\n",
        "  df_s = df_n.apply(stats.shapiro, axis=0) #.map(lambda x: round(x[1],3))\n",
        "  return  df_s.iloc[1]\n",
        "\n",
        "\n",
        "print(norm_test(df_r))"
      ],
      "metadata": {
        "id": "5CpreG06XxW4",
        "outputId": "a98792e4-f2e1-4595-95fd-844f14b78306",
        "colab": {
          "base_uri": "https://localhost:8080/"
        }
      },
      "execution_count": 6,
      "outputs": [
        {
          "output_type": "stream",
          "name": "stdout",
          "text": [
            "V1    0.568211\n",
            "V3    0.245834\n",
            "V5    0.314190\n",
            "V6    0.009374\n",
            "Name: 1, dtype: float64\n"
          ]
        }
      ]
    },
    {
      "cell_type": "markdown",
      "source": [
        "Напишите функцию smart_anova, которая получает на вход dataframe с двумя переменными x и y. Переменная x — это количественная переменная, переменная y - фактор, ﻿разбивает наблюдения на три группы.\n",
        "\n",
        "Если распределения во всех группах значимо не отличаются от нормального, а дисперсии в группах гомогенны, функция должна сравнить три группы при помощи дисперсионного анализа и вернуть ﻿именованный вектор со значением p-value, имя элемента — \"ANOVA\".\n",
        "\n",
        "Если хотя ﻿бы в одной группе распределение значимо отличается от нормального или дисперсии негомогенны, функция сравнивает группы при помощи критерия Краскела — Уоллиса и возвращает именованный вектор со значением p-value, имя вектора  — \"KW\".\n",
        "\n",
        "Распределение будем считать значимо отклонившимся от нормального, если в тесте shapiro.test() p < 0.05.\n",
        "\n",
        "Дисперсии будем считать не гомогенными, если в тесте bartlett.test() p < 0.05."
      ],
      "metadata": {
        "id": "sdsXrxGU0_VL"
      }
    },
    {
      "cell_type": "code",
      "source": [
        "import pandas as pd\n",
        "import numpy as np\n",
        "from scipy.stats import bartlett\n",
        "from scipy.stats import shapiro\n",
        "from scipy.stats import kruskal\n",
        "from scipy.stats import f_oneway\n",
        "\n",
        "# На вход мы получаем таблицу вида [[1.08, 'A'],[0.07, 'B'], [0.81, 'C']], которая требует преобразования\n",
        "df_r = pd.read_csv('https://stepic.org/media/attachments/course/524/s_anova_test.csv')\n",
        "print(df_r.head())\n",
        "\n",
        "\n",
        "def norm_test(df):\n",
        "    df_s = np.apply_along_axis(shapiro, 0, df)[1]\n",
        "    return df_s\n",
        "\n",
        "\n",
        "def homog_test(df):\n",
        "    ps = bartlett(*df.T)\n",
        "    return round(ps[1], 3)\n",
        "\n",
        "\n",
        "def kruskal_test(df):\n",
        "    ps = kruskal(*df.T)\n",
        "    return round(ps[1], 3)\n",
        "\n",
        "\n",
        "def anova_test(df):\n",
        "    ps = f_oneway(*df.T)\n",
        "    return round(ps[1], 3)\n",
        "\n",
        "\n",
        "def smart_anova(df):\n",
        "    # Добавим колонку count, чтобы таблица приобрела вид\n",
        "    # [[1.08, 'A', 0],[0.07, 'B', 0], [0.81, 'C', 0], [1.08, 'A', 1],[0.07, 'B', 1], [0.81, 'C', 1]]\n",
        "    # cumcount накопительный счетчик\n",
        "    df[\"count\"] = df.groupby('y').cumcount()\n",
        "    # преобразуем таблицу, а затем превратим ее в многомерный массив, чтобы с ней могли работать функции с тестами\n",
        "    df = np.array(df.pivot(columns=\"y\", values=\"x\", index=\"count\"))\n",
        "    if ((norm_test(df) < 0.05).any()) or (homog_test(df) < 0.05):\n",
        "        print(\"non-parametric\")\n",
        "        return {\"KW\": kruskal_test(df)}\n",
        "    print(\"parametric\")\n",
        "    return {\"ANOVA\": anova_test(df)}\n",
        "\n",
        "\n",
        "print(smart_anova(df_r))\n"
      ],
      "metadata": {
        "id": "YW30P2jl1Bb_",
        "outputId": "e4b8ce79-657f-4e2f-b7e8-195b64576863",
        "colab": {
          "base_uri": "https://localhost:8080/"
        }
      },
      "execution_count": 7,
      "outputs": [
        {
          "output_type": "stream",
          "name": "stdout",
          "text": [
            "      x  y\n",
            "0  1.08  A\n",
            "1  0.07  A\n",
            "2 -1.02  A\n",
            "3 -0.45  A\n",
            "4  0.81  A\n",
            "parametric\n",
            "{'ANOVA': 0.265}\n"
          ]
        }
      ]
    },
    {
      "cell_type": "markdown",
      "source": [
        "Напишите функцию normality_by, которая принимает на вход dataframe c тремя переменными. Первая переменная количественная, вторая и третья имеют две градации и разбивают наши наблюдения на группы. Функция должна проверять распределение на нормальность в каждой получившейся группе и возвращать dataframe с результатами применения теста ﻿ shapiro.test ﻿﻿(формат вывода смотри ниже).\n",
        "\n",
        "Рассмотрим пример работы функции. В данных mtcars есть две группирующие переменные am и vs, и обе переменные имеют две градации 0 и 1. В результате получаем 4 группы:\n",
        "\n",
        "```\n",
        "am vs\n",
        "1 1\n",
        "1 0\n",
        "0 1\n",
        "0 0\n",
        "\n",
        "```\n",
        "\n",
        "\n",
        "Теперь для переменной mpg ﻿в каждой из четырех групп можно проверить распределение на нормальность при помощи функции shapiro.test﻿  и вывести получившийся ﻿p-value:\n",
        "```\n",
        "> normality_by(mtcars[, c(\"mpg\", \"am\", \"vs\")])\n",
        "  am vs   p_value\n",
        "1  0  0 0.5041144\n",
        "2  0  1 0.6181271\n",
        "3  1  0 0.5841903\n",
        "4  1  1 0.4168822\n",
        "\n",
        "> test_data <- read.csv(\"https://stepic.org/media/attachments/course/524/test_for_norm.csv\")\n",
        "> str(test_data)\n",
        "'data.frame':\t40 obs. of  3 variables:\n",
        " $ x: num  10.9 14 8.1 11 9.5 11 8.5 11.7 5.4 6.8 ...\n",
        " $ y: int  1 1 0 1 1 0 0 0 0 1 ...\n",
        " $ z: int  2 2 2 3 3 3 3 3 2 3 ...\n",
        "> normality_by(test_data)\n",
        "  y z    p_value\n",
        "1 0 2 0.21976723\n",
        "2 0 3 0.62381802\n",
        "3 1 2 0.19603547\n",
        "4 1 3 0.04782269\n",
        "```\n",
        "\n",
        "Итого: функция должна возвращать dataframe размером 4 на 3. \n",
        "\n",
        "\n",
        "Название столбцов: \n",
        "\n",
        "1 — ﻿имя первой группирующей переменной\n",
        "\n",
        "2 — имя второй группирующей переменной\n",
        "\n",
        "3 — p_value ﻿"
      ],
      "metadata": {
        "id": "PXll1dxByv8a"
      }
    },
    {
      "cell_type": "code",
      "source": [
        "import pandas as pd\n",
        "import numpy as np\n",
        "from scipy.stats import shapiro\n",
        "df_r = pd.read_csv('https://stepic.org/media/attachments/course/524/test_for_norm.csv')\n",
        "\n",
        "\n",
        "def normality_by(df):\n",
        "    df['yz'] = df['y'].astype('str') + df['z'].astype('str')\n",
        "    df['count'] = df.groupby(['y', 'z']).cumcount()\n",
        "    df = df.pivot(index='count', columns='yz', values='x')\n",
        "    print(df)\n",
        "    p_val = {}\n",
        "    for col_name, col_data in df.iteritems():\n",
        "        p_val[col_name] = shapiro(col_data[~np.isnan(col_data)])[1]\n",
        "    return pd.Series(p_val)\n",
        "\n",
        "\n",
        "print(normality_by(df_r))\n"
      ],
      "metadata": {
        "id": "wiMV4PB0zDP0",
        "outputId": "b61f479f-0899-4b3f-a494-06c74e32503d",
        "colab": {
          "base_uri": "https://localhost:8080/"
        }
      },
      "execution_count": 1,
      "outputs": [
        {
          "output_type": "stream",
          "name": "stdout",
          "text": [
            "yz       02    03    12    13\n",
            "count                        \n",
            "0       8.1  11.0  10.9  11.0\n",
            "1       5.4   8.5  14.0   9.5\n",
            "2       8.0  11.7   7.0   6.8\n",
            "3      12.4   7.9  13.2  10.8\n",
            "4       5.6   9.6  10.0  11.5\n",
            "5      12.5  11.4   8.6  12.1\n",
            "6       9.8  13.3   8.5  11.2\n",
            "7      11.2  10.5   8.4   9.1\n",
            "8       5.8   8.0   8.1  11.4\n",
            "9       9.6   NaN   NaN  10.4\n",
            "10     11.4   NaN   NaN   6.6\n",
            "02    0.219766\n",
            "03    0.623818\n",
            "12    0.196036\n",
            "13    0.047823\n",
            "dtype: float64\n"
          ]
        }
      ]
    },
    {
      "cell_type": "code",
      "source": [
        "import pandas as pd\n",
        "import numpy as np\n",
        "from scipy.stats import shapiro\n",
        "\n",
        "df_r = pd.read_csv('https://stepic.org/media/attachments/course/524/test_for_norm.csv')\n",
        "\n",
        "\n",
        "def normality_by(df):\n",
        "    # pivoting\n",
        "    df[\"yz\"] = df[\"y\"].astype(\"str\") + df[\"z\"].astype(\"str\")\n",
        "    df[\"count\"] = df.groupby(\"yz\").cumcount()\n",
        "    df = df.pivot(columns=\"yz\", values=\"x\", index=\"count\")\n",
        "    print(df)\n",
        "    # easier with numpy\n",
        "    arr = np.array(df)\n",
        "    result = {}\n",
        "    for column, group in zip(arr.T, df.columns):\n",
        "        # for correct shapiro test have to remove None values from pivoting\n",
        "        result[group] = shapiro(column[~np.isnan(column)])[1]\n",
        "    return pd.Series(result)\n",
        "\n",
        "\n",
        "print(normality_by(df_r))"
      ],
      "metadata": {
        "id": "oii7qewazPSp",
        "outputId": "7f95ee68-d051-4de4-ae20-4e527e6b23a1",
        "colab": {
          "base_uri": "https://localhost:8080/"
        }
      },
      "execution_count": 2,
      "outputs": [
        {
          "output_type": "stream",
          "name": "stdout",
          "text": [
            "yz       02    03    12    13\n",
            "count                        \n",
            "0       8.1  11.0  10.9  11.0\n",
            "1       5.4   8.5  14.0   9.5\n",
            "2       8.0  11.7   7.0   6.8\n",
            "3      12.4   7.9  13.2  10.8\n",
            "4       5.6   9.6  10.0  11.5\n",
            "5      12.5  11.4   8.6  12.1\n",
            "6       9.8  13.3   8.5  11.2\n",
            "7      11.2  10.5   8.4   9.1\n",
            "8       5.8   8.0   8.1  11.4\n",
            "9       9.6   NaN   NaN  10.4\n",
            "10     11.4   NaN   NaN   6.6\n",
            "02    0.219766\n",
            "03    0.623818\n",
            "12    0.196036\n",
            "13    0.047823\n",
            "dtype: float64\n"
          ]
        }
      ]
    },
    {
      "cell_type": "code",
      "source": [
        "import pandas as pd\n",
        "from scipy.stats import shapiro\n",
        "\n",
        "df_r = pd.read_csv('https://stepic.org/media/attachments/course/524/test_for_norm.csv')\n",
        "\n",
        "\n",
        "def normality_by(df):\n",
        "    # .groupby(['y', 'z'], as_index=False) группирует таблицу по колонкам 'y', 'z'. Следующий метод должен определять,\n",
        "    # какие действия необходимо сделать с колонкой 'x'. Например, .sum() посчитает сумму значений.\n",
        "    # as_index=False значения колонок 'y', 'z' не будут использоваться как индексы\n",
        "    # .agg(lambda x: shapiro(x)[1]) агрегирует данные и применяет к ним операцию(ии). В нашем примере функция считает \n",
        "    # p-value по колонке 'x'\n",
        "    # .rename(columns={'x': 'p-value'}) переименовывает колонку X на P-value\n",
        "    df = df.groupby(['y', 'z'], as_index=False).agg(lambda x: shapiro(x)[1]).rename(columns={'x': 'p-value'})\n",
        "    return df\n",
        "\n",
        "\n",
        "print(normality_by(df_r))"
      ],
      "metadata": {
        "id": "69FHBxn68M67",
        "outputId": "925f25ba-68f1-419f-840c-52f1e2f50250",
        "colab": {
          "base_uri": "https://localhost:8080/"
        }
      },
      "execution_count": 3,
      "outputs": [
        {
          "output_type": "stream",
          "name": "stdout",
          "text": [
            "   y  z   p-value\n",
            "0  0  2  0.219766\n",
            "1  0  3  0.623818\n",
            "2  1  2  0.196036\n",
            "3  1  3  0.047823\n"
          ]
        }
      ]
    },
    {
      "cell_type": "markdown",
      "source": [
        "есты тестами, а графики никто не отменял! Мой вам совет: всегда визуализируйте ваши переменные и их взаимосвязи. Иногда то, что сразу становится видным на графике (например, выброс или очевидно странная форма распределения), может ускользнуть от внимания во время статистического анализа. \n",
        "\n",
        "При помощи библиотеки ggplot2 визуализируйте распределение переменной Sepal.Length в трех группах в данных Iris. Сохраните график в переменную obj, но не выводите график на печать.\n",
        "\n",
        "Должно получиться:\n",
        "\n",
        "<img src=\"https://ucarecdn.com/eac34dba-774d-4e90-9e97-e6c053b7dd97/\">\n",
        "\n"
      ],
      "metadata": {
        "id": "HY8z5XoX9h2-"
      }
    },
    {
      "cell_type": "code",
      "source": [
        "from sklearn import datasets\n",
        "import matplotlib.pyplot as plt\n",
        "import seaborn as sns\n",
        "\n",
        "iris = datasets.load_iris()\n",
        "X = iris.data[:, :1]  # sepal length\n",
        "y = iris.target\n",
        "labels = [\"Setosa\", \"Versicolour\", \"Virginica\"]\n",
        "\n",
        "for i in range(3):\n",
        "  sns.distplot(X[y==i], hist = False, kde = True,\n",
        "                 kde_kws = {'shade': True, 'linewidth': 3},\n",
        "                 label=labels[i])\n",
        "plt.xlabel(\"Sepal length\")\n",
        "plt.ylabel(\"Density\")\n",
        "plt.title(\"Distributions of sepal length\")\n",
        "plt.legend(title=\"Species\");"
      ],
      "metadata": {
        "id": "-ogh4Fti95Y3",
        "outputId": "e7f3d220-5403-4487-a874-14e32c5d1922",
        "colab": {
          "base_uri": "https://localhost:8080/",
          "height": 417
        }
      },
      "execution_count": 4,
      "outputs": [
        {
          "output_type": "stream",
          "name": "stderr",
          "text": [
            "/usr/local/lib/python3.7/dist-packages/seaborn/distributions.py:2619: FutureWarning: `distplot` is a deprecated function and will be removed in a future version. Please adapt your code to use either `displot` (a figure-level function with similar flexibility) or `kdeplot` (an axes-level function for kernel density plots).\n",
            "  warnings.warn(msg, FutureWarning)\n",
            "/usr/local/lib/python3.7/dist-packages/seaborn/distributions.py:2619: FutureWarning: `distplot` is a deprecated function and will be removed in a future version. Please adapt your code to use either `displot` (a figure-level function with similar flexibility) or `kdeplot` (an axes-level function for kernel density plots).\n",
            "  warnings.warn(msg, FutureWarning)\n",
            "/usr/local/lib/python3.7/dist-packages/seaborn/distributions.py:2619: FutureWarning: `distplot` is a deprecated function and will be removed in a future version. Please adapt your code to use either `displot` (a figure-level function with similar flexibility) or `kdeplot` (an axes-level function for kernel density plots).\n",
            "  warnings.warn(msg, FutureWarning)\n"
          ]
        },
        {
          "output_type": "display_data",
          "data": {
            "text/plain": [
              "<Figure size 432x288 with 1 Axes>"
            ],
            "image/png": "[encoded data removed]"
          },
          "metadata": {
            "needs_background": "light"
          }
        }
      ]
    },
    {
      "cell_type": "code",
      "source": [
        "import seaborn as sns\n",
        "import matplotlib.pyplot as plt\n",
        "\n",
        "data = sns.load_dataset(\"iris\")\n",
        "sns.displot(x='sepal_length', data=data, hue=\"species\", kind=\"kde\")\n",
        "plt.show()"
      ],
      "metadata": {
        "id": "X993sTCf-C6Y",
        "outputId": "70560189-6c0f-4c69-9424-e20e1a3c9e8c",
        "colab": {
          "base_uri": "https://localhost:8080/",
          "height": 369
        }
      },
      "execution_count": 5,
      "outputs": [
        {
          "output_type": "display_data",
          "data": {
            "text/plain": [
              "<Figure size 444.75x360 with 1 Axes>"
            ],
            "image/png": "[encoded data removed]"
          },
          "metadata": {
            "needs_background": "light"
          }
        }
      ]
    },
    {
      "cell_type": "markdown",
      "metadata": {
        "id": "cukcKmU3_1jr"
      },
      "source": [
        "<hr>\n",
        "\n",
        "# Часть 3 Кластерный анализ и метод главных компонент"
      ]
    },
    {
      "cell_type": "markdown",
      "metadata": {
        "id": "Y6e1psvC_1js"
      },
      "source": [
        "## Кластерный анализ методом k-средних\n",
        "\n",
        "[Сайт для визуализации k-means](https://www.naftaliharris.com/blog/visualizing-k-means-clustering/)\n",
        "\n",
        "**кратко о k-means**\n",
        " - кластерный анализ это метод обучения **без учителя**, в отличие от регрессии\n",
        " - количество кластеров задаётся исследователем\n",
        " - кластеры задаются с помощью центроидов, которые стремяться в центр каждого кластера, и каждая точка кластера находится наиболее близко к своему центроиду.\n",
        " - центроид кластера - аналог центра масс в физике. Или же по аналогии, можно сказать, что центроиды это геометрический центр кластера.\n",
        "\n",
        "**идея метода**\n",
        " - решаем на сколько кластеров будем делить наблюдения\n",
        " - случайно выбираем начальные позиции центроидов классов\n",
        " - выводим центроиды на наилучшие позиции\n",
        " - **Profit**\n",
        " \n",
        " <img src='https://github.com/KlukvaMors/basic_stat/blob/main/img/k-means.gif?raw=1' width=300/>\n",
        " "
      ]
    },
    {
      "cell_type": "code",
      "execution_count": null,
      "metadata": {
        "id": "68ZnYF12_1jt",
        "outputId": "bc66dd78-dcb8-42cf-c269-efd4425851c1"
      },
      "outputs": [
        {
          "data": {
            "text/html": [
              "<div>\n",
              "<style scoped>\n",
              "    .dataframe tbody tr th:only-of-type {\n",
              "        vertical-align: middle;\n",
              "    }\n",
              "\n",
              "    .dataframe tbody tr th {\n",
              "        vertical-align: top;\n",
              "    }\n",
              "\n",
              "    .dataframe thead th {\n",
              "        text-align: right;\n",
              "    }\n",
              "</style>\n",
              "<table border=\"1\" class=\"dataframe\">\n",
              "  <thead>\n",
              "    <tr style=\"text-align: right;\">\n",
              "      <th></th>\n",
              "      <th>sepal length (cm)</th>\n",
              "      <th>sepal width (cm)</th>\n",
              "      <th>petal length (cm)</th>\n",
              "      <th>petal width (cm)</th>\n",
              "      <th>target</th>\n",
              "    </tr>\n",
              "  </thead>\n",
              "  <tbody>\n",
              "    <tr>\n",
              "      <th>0</th>\n",
              "      <td>5.1</td>\n",
              "      <td>3.5</td>\n",
              "      <td>1.4</td>\n",
              "      <td>0.2</td>\n",
              "      <td>0</td>\n",
              "    </tr>\n",
              "    <tr>\n",
              "      <th>1</th>\n",
              "      <td>4.9</td>\n",
              "      <td>3.0</td>\n",
              "      <td>1.4</td>\n",
              "      <td>0.2</td>\n",
              "      <td>0</td>\n",
              "    </tr>\n",
              "    <tr>\n",
              "      <th>2</th>\n",
              "      <td>4.7</td>\n",
              "      <td>3.2</td>\n",
              "      <td>1.3</td>\n",
              "      <td>0.2</td>\n",
              "      <td>0</td>\n",
              "    </tr>\n",
              "  </tbody>\n",
              "</table>\n",
              "</div>"
            ],
            "text/plain": [
              "   sepal length (cm)  sepal width (cm)  petal length (cm)  petal width (cm)  \\\n",
              "0                5.1               3.5                1.4               0.2   \n",
              "1                4.9               3.0                1.4               0.2   \n",
              "2                4.7               3.2                1.3               0.2   \n",
              "\n",
              "   target  \n",
              "0       0  \n",
              "1       0  \n",
              "2       0  "
            ]
          },
          "execution_count": 33,
          "metadata": {},
          "output_type": "execute_result"
        }
      ],
      "source": [
        "from sklearn.datasets import load_iris\n",
        "import pandas as pd\n",
        "\n",
        "iris = load_iris()\n",
        "df = pd.DataFrame(iris.data, columns=iris.feature_names)\n",
        "df['target'] = iris.target\n",
        "df.head(3)"
      ]
    },
    {
      "cell_type": "markdown",
      "metadata": {
        "id": "4qs51qzj_1ju"
      },
      "source": [
        " - petal - лепесток\n",
        " - sepal - чашелистик (один из зеленых листочков, образующих чашечку цветка)"
      ]
    },
    {
      "cell_type": "code",
      "execution_count": null,
      "metadata": {
        "id": "VTixQbBo_1ju",
        "outputId": "286f3468-84ca-43d6-9645-28c35caee807"
      },
      "outputs": [
        {
          "data": {
            "text/plain": [
              "<AxesSubplot:xlabel='sepal length (cm)', ylabel='petal width (cm)'>"
            ]
          },
          "execution_count": 7,
          "metadata": {},
          "output_type": "execute_result"
        },
        {
          "data": {
            "image/png": "[encoded data removed]",
            "text/plain": [
              "<Figure size 432x288 with 1 Axes>"
            ]
          },
          "metadata": {
            "needs_background": "light"
          },
          "output_type": "display_data"
        }
      ],
      "source": [
        "df.plot(kind='scatter', x='sepal length (cm)', y='petal width (cm)')"
      ]
    },
    {
      "cell_type": "markdown",
      "metadata": {
        "id": "sPBfg6kR_1jv"
      },
      "source": [
        "Можно предположить, о наличие трёх кластеров тут, попробуем определить их методом k-means."
      ]
    },
    {
      "cell_type": "code",
      "execution_count": null,
      "metadata": {
        "id": "TmhXZTWe_1jv",
        "outputId": "7a14d5c5-df6e-4e63-abfa-0ec83079e1c5"
      },
      "outputs": [
        {
          "data": {
            "text/html": [
              "<div>\n",
              "<style scoped>\n",
              "    .dataframe tbody tr th:only-of-type {\n",
              "        vertical-align: middle;\n",
              "    }\n",
              "\n",
              "    .dataframe tbody tr th {\n",
              "        vertical-align: top;\n",
              "    }\n",
              "\n",
              "    .dataframe thead th {\n",
              "        text-align: right;\n",
              "    }\n",
              "</style>\n",
              "<table border=\"1\" class=\"dataframe\">\n",
              "  <thead>\n",
              "    <tr style=\"text-align: right;\">\n",
              "      <th></th>\n",
              "      <th>sepal length (cm)</th>\n",
              "      <th>petal width (cm)</th>\n",
              "      <th>cluster</th>\n",
              "    </tr>\n",
              "  </thead>\n",
              "  <tbody>\n",
              "    <tr>\n",
              "      <th>0</th>\n",
              "      <td>5.1</td>\n",
              "      <td>0.2</td>\n",
              "      <td>1</td>\n",
              "    </tr>\n",
              "    <tr>\n",
              "      <th>1</th>\n",
              "      <td>4.9</td>\n",
              "      <td>0.2</td>\n",
              "      <td>1</td>\n",
              "    </tr>\n",
              "    <tr>\n",
              "      <th>2</th>\n",
              "      <td>4.7</td>\n",
              "      <td>0.2</td>\n",
              "      <td>1</td>\n",
              "    </tr>\n",
              "    <tr>\n",
              "      <th>3</th>\n",
              "      <td>4.6</td>\n",
              "      <td>0.2</td>\n",
              "      <td>1</td>\n",
              "    </tr>\n",
              "    <tr>\n",
              "      <th>4</th>\n",
              "      <td>5.0</td>\n",
              "      <td>0.2</td>\n",
              "      <td>1</td>\n",
              "    </tr>\n",
              "  </tbody>\n",
              "</table>\n",
              "</div>"
            ],
            "text/plain": [
              "   sepal length (cm)  petal width (cm)  cluster\n",
              "0                5.1               0.2        1\n",
              "1                4.9               0.2        1\n",
              "2                4.7               0.2        1\n",
              "3                4.6               0.2        1\n",
              "4                5.0               0.2        1"
            ]
          },
          "execution_count": 21,
          "metadata": {},
          "output_type": "execute_result"
        }
      ],
      "source": [
        "from sklearn.cluster import KMeans\n",
        "\n",
        "# определим метод\n",
        "kmeans = KMeans(n_clusters=3)\n",
        "# вырежем данные, которые нам нужны\n",
        "data = df.loc[:, ['sepal length (cm)','petal width (cm)']]\n",
        "# построим модель\n",
        "model = kmeans.fit(data)\n",
        "# получим кластеры\n",
        "data['cluster'] = model.labels_\n",
        "data.head()"
      ]
    },
    {
      "cell_type": "code",
      "execution_count": null,
      "metadata": {
        "id": "XYEUiWUA_1jv",
        "outputId": "bf7711c2-b9bf-4afc-eae8-32bdbf0cfa37"
      },
      "outputs": [
        {
          "data": {
            "text/plain": [
              "<AxesSubplot:xlabel='sepal length (cm)', ylabel='petal width (cm)'>"
            ]
          },
          "execution_count": 31,
          "metadata": {},
          "output_type": "execute_result"
        },
        {
          "data": {
            "image/png": "[encoded data removed]",
            "text/plain": [
              "<Figure size 432x288 with 2 Axes>"
            ]
          },
          "metadata": {
            "needs_background": "light"
          },
          "output_type": "display_data"
        }
      ],
      "source": [
        "data.plot(kind='scatter', x='sepal length (cm)', y='petal width (cm)', c='cluster', colormap='jet')"
      ]
    },
    {
      "cell_type": "markdown",
      "metadata": {
        "id": "9qvUj_DU_1jv"
      },
      "source": [
        "Теперь сравним с реальными видами ирисами, и увидем, что кластеры были разделенны довольно корректно."
      ]
    },
    {
      "cell_type": "code",
      "execution_count": null,
      "metadata": {
        "id": "78tWMpZY_1jw",
        "outputId": "a2a59bf2-1a0e-49f3-8bac-c97c11f9f24c"
      },
      "outputs": [
        {
          "data": {
            "text/plain": [
              "<AxesSubplot:xlabel='sepal length (cm)', ylabel='petal width (cm)'>"
            ]
          },
          "execution_count": 34,
          "metadata": {},
          "output_type": "execute_result"
        },
        {
          "data": {
            "image/png": "[encoded data removed]",
            "text/plain": [
              "<Figure size 432x288 with 2 Axes>"
            ]
          },
          "metadata": {
            "needs_background": "light"
          },
          "output_type": "display_data"
        }
      ],
      "source": [
        "df.plot(kind='scatter', x='sepal length (cm)', y='petal width (cm)', c='target', colormap='jet')"
      ]
    },
    {
      "cell_type": "markdown",
      "metadata": {
        "id": "4WEflPh3_1jw"
      },
      "source": [
        "## Может-ли-кластерный-анализ-ошибаться?"
      ]
    },
    {
      "cell_type": "markdown",
      "metadata": {
        "id": "TfZ3m0ew_1jw"
      },
      "source": [
        "## Как определить оптимальное число кластеров?"
      ]
    },
    {
      "cell_type": "code",
      "execution_count": null,
      "metadata": {
        "id": "Buy1eELf_1jw",
        "outputId": "9b88211d-e9cc-4516-fa77-213ef34d06bb"
      },
      "outputs": [
        {
          "name": "stdout",
          "output_type": "stream",
          "text": [
            "146.0\n"
          ]
        }
      ],
      "source": [
        "from pandas import DataFrame\n",
        "from sklearn.cluster import KMeans\n",
        "\n",
        "Data = {'x': [-3,1,2,3,5,6,7],\n",
        "        'y': [3,4,6,8,2,11,1]\n",
        "       }\n",
        "  \n",
        "df = DataFrame(Data,columns=['x','y'])\n",
        "  \n",
        "kmeans = KMeans(1)\n",
        "kmeans.fit(df)\n",
        "print(kmeans.inertia_)"
      ]
    },
    {
      "cell_type": "markdown",
      "metadata": {
        "id": "8VxM6FzO_1jx"
      },
      "source": [
        "## Иерархическая кластеризация"
      ]
    },
    {
      "cell_type": "markdown",
      "metadata": {
        "id": "Dq5k2i86_1jx"
      },
      "source": [
        "## Введение в метод анализа главных компонент"
      ]
    },
    {
      "cell_type": "markdown",
      "source": [
        "# Как выбрать метод\n",
        "\n",
        "<img src=\"https://raw.githubusercontent.com/betelgeus/fundamentals_of_statistics_notes/main/img/Untitled%20Diagram.jpg\"/>\n",
        "\n",
        "Таблица: https://yatani.jp/teaching/doku.php?id=hcistats:start\n"
      ],
      "metadata": {
        "id": "mxZSByFKt5Sm"
      }
    }
  ],
  "metadata": {
    "kernelspec": {
      "display_name": "Python 3",
      "language": "python",
      "name": "python3"
    },
    "language_info": {
      "codemirror_mode": {
        "name": "ipython",
        "version": 3
      },
      "file_extension": ".py",
      "mimetype": "text/x-python",
      "name": "python",
      "nbconvert_exporter": "python",
      "pygments_lexer": "ipython3",
      "version": "3.8.5"
    },
    "colab": {
      "provenance": [],
      "include_colab_link": true
    }
  },
  "nbformat": 4,
  "nbformat_minor": 0
}