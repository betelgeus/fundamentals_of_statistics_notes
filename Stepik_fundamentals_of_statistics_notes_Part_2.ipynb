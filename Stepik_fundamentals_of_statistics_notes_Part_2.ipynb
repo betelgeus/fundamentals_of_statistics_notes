{
 "cells": [
  {
   "cell_type": "markdown",
   "source": [
    "<a href=\"https://colab.research.google.com/github/betelgeus/fundamentals_of_statistics_notes/blob/main/Stepik_fundamentals_of_statistics_notes_Part_2.ipynb\" target=\"_parent\">Colab</a>"
   ],
   "metadata": {
    "collapsed": false
   }
  },
  {
   "cell_type": "markdown",
   "source": [
    "# Основы статистики. Часть II\n",
    "\n",
    "#### конспект лекций\n",
    "\n",
    "Автор лекций: **Анатолий Карпов**\n",
    "\n",
    "\n",
    "\n"
   ],
   "metadata": {
    "collapsed": false
   }
  },
  {
   "cell_type": "markdown",
   "source": [
    "<hr>\n",
    "\n",
    "## Содержание\n"
   ],
   "metadata": {
    "collapsed": false
   }
  },
  {
   "cell_type": "markdown",
   "source": [
    "### Часть 1 Анализ номинативных данных\n",
    "\n",
    " - [Расстояние Пирсона](#Расстояние-Пирсона)\n",
    " - [Распределение Хи-квадрат Пирсона](#Распределение-Хи-квадрат-Пирсона)\n",
    " - [Расчет p-уровня значимости](#Расчет-p-уровня-значимости)\n",
    " - [Анализ таблиц сопряженности](#Анализ-таблиц-сопряженности)\n",
    " - [Точный критерий Фишера](#Точный-критерий-Фишера)\n"
   ],
   "metadata": {
    "collapsed": false
   }
  },
  {
   "cell_type": "markdown",
   "source": [
    "### Часть 2 Логистическая регрессия и непараметрические методы\n",
    "\n",
    " - [Номинативная зависимая переменная](#Номинативная-зависимая-переменная)\n",
    " - [Модель без предикторов. Intercept only model](#Модель-без-предикторов.-Intercept-only-model)\n",
    " - [Модель с одним номинативным предиктором](#Модель-с-одним-номинативным-предиктором)\n",
    " - [Модель с двумя номинативными предикторами](#Модель-с-двумя-номинативными-предикторами)\n",
    " - [Взаимодействие номинативных предикторов](#Взаимодействие-номинативных-предикторов)\n",
    " - [Когда нужно использовать непараметрические методы и почему?](#Когда-нужно-использовать-непараметрические-методы-и-почему?)\n",
    " - [Непараметрические методы. Продолжение.](#Непараметрические-методы.-Продолжение.)"
   ],
   "metadata": {
    "collapsed": false
   }
  },
  {
   "cell_type": "markdown",
   "source": [
    "### Часть 3 Кластерный анализ и метод главных компонент\n",
    "\n",
    " - [Кластерный анализ методом **k-средних**](#Кластерный-анализ-методом-k-средних)\n",
    " - [Может ли кластерный анализ \"ошибаться\"?](#Может-ли-кластерный-анализ-ошибаться?)\n",
    " - [Как определить оптимальное число кластеров?](#Как-определить-оптимальное-число-кластеров?)\n",
    " - [**Иерархическая кластеризация**](#Иерархическая-кластеризация)\n",
    " - [Введение в метод анализа главных компонент](#Введение-в-метод-анализа-главных-компонент)"
   ],
   "metadata": {
    "collapsed": false
   }
  },
  {
   "cell_type": "code",
   "execution_count": 1,
   "outputs": [],
   "source": [
    "import warnings\n",
    "warnings.filterwarnings('ignore')"
   ],
   "metadata": {
    "collapsed": false
   }
  },
  {
   "cell_type": "markdown",
   "source": [
    "# Часть 1 Анализ номинативных данных"
   ],
   "metadata": {
    "collapsed": false
   }
  },
  {
   "cell_type": "markdown",
   "source": [
    "## Расстояние Пирсона\n",
    "<img src=\"https://raw.githubusercontent.com/betelgeus/fundamentals_of_statistics_notes/main/img/Снимок%20экрана%202022-09-28%20в%2017.06.04.png\" width=\"1000px\"/>"
   ],
   "metadata": {
    "collapsed": false
   }
  },
  {
   "cell_type": "code",
   "execution_count": null,
   "outputs": [],
   "source": [],
   "metadata": {
    "collapsed": false
   }
  }
 ],
 "metadata": {
  "kernelspec": {
   "display_name": "Python 3",
   "language": "python",
   "name": "python3"
  },
  "language_info": {
   "codemirror_mode": {
    "name": "ipython",
    "version": 3
   },
   "file_extension": ".py",
   "mimetype": "text/x-python",
   "name": "python",
   "nbconvert_exporter": "python",
   "pygments_lexer": "ipython3",
   "version": "3.8.5"
  },
  "colab": {
   "provenance": [],
   "include_colab_link": true
  }
 },
 "nbformat": 4,
 "nbformat_minor": 0
}
